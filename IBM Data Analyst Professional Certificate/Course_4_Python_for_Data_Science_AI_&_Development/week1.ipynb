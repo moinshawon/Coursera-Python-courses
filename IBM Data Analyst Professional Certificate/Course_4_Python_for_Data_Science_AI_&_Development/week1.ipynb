{
 "cells": [
  {
   "cell_type": "markdown",
   "metadata": {},
   "source": [
    "<details><summary>Click here for the version</summary>\n",
    "\n",
    "```python\n",
    "3.8.5\n",
    "```\n",
    "</details>\n"
   ]
  },
  {
   "cell_type": "code",
   "execution_count": 7,
   "metadata": {},
   "outputs": [
    {
     "name": "stdout",
     "output_type": "stream",
     "text": [
      "3.9.7 (default, Sep 16 2021, 16:59:28) [MSC v.1916 64 bit (AMD64)]\n"
     ]
    }
   ],
   "source": [
    "import sys\n",
    "print(sys.version)"
   ]
  },
  {
   "cell_type": "code",
   "execution_count": 8,
   "metadata": {},
   "outputs": [
    {
     "name": "stdout",
     "output_type": "stream",
     "text": [
      "2\n",
      "<class 'int'>\n"
     ]
    }
   ],
   "source": [
    "a = 2.334\n",
    "b = int(a)\n",
    "\n",
    "print(b)\n",
    "print(type(b))"
   ]
  },
  {
   "cell_type": "code",
   "execution_count": 9,
   "metadata": {},
   "outputs": [
    {
     "name": "stdout",
     "output_type": "stream",
     "text": [
      "true is: 1 and false is: 0\n"
     ]
    }
   ],
   "source": [
    "a = int(True)\n",
    "b = int(False)\n",
    "\n",
    "print(\"true is:\", a, \"and\", \"false is:\", b)"
   ]
  },
  {
   "cell_type": "code",
   "execution_count": 10,
   "metadata": {},
   "outputs": [
    {
     "name": "stdout",
     "output_type": "stream",
     "text": [
      "True False\n"
     ]
    }
   ],
   "source": [
    "a = bool(1)\n",
    "b = bool(0)\n",
    "\n",
    "print(a,b)"
   ]
  },
  {
   "cell_type": "code",
   "execution_count": 11,
   "metadata": {},
   "outputs": [
    {
     "name": "stdout",
     "output_type": "stream",
     "text": [
      "lu\n",
      "moin is a \\ hardworking \\t person\n"
     ]
    }
   ],
   "source": [
    "n = \"moinul\"\n",
    "print(n[:-3:-1])\n",
    "\n",
    "print(r\"moin is a \\ hardworking \\t person\")"
   ]
  },
  {
   "cell_type": "code",
   "execution_count": 12,
   "metadata": {},
   "outputs": [
    {
     "name": "stdout",
     "output_type": "stream",
     "text": [
      "<class 'float'>\n"
     ]
    }
   ],
   "source": [
    "x=1/1\n",
    "print(type(x))"
   ]
  },
  {
   "cell_type": "code",
   "execution_count": 13,
   "metadata": {},
   "outputs": [
    {
     "name": "stdout",
     "output_type": "stream",
     "text": [
      "(234, 12, 212)\n"
     ]
    },
    {
     "data": {
      "text/plain": [
       "(2, 3, 4)"
      ]
     },
     "execution_count": 13,
     "metadata": {},
     "output_type": "execute_result"
    }
   ],
   "source": [
    "t = (32,234,12,212,213,1)\n",
    "\n",
    "print(t[1:4])\n",
    "\n",
    "A=(1,2,3,4,5)\n",
    "A[1:4]"
   ]
  },
  {
   "cell_type": "code",
   "execution_count": 14,
   "metadata": {},
   "outputs": [
    {
     "name": "stdout",
     "output_type": "stream",
     "text": [
      "[12, 231, 2, 2]\n",
      "[2, 4, [3, 5]]\n"
     ]
    }
   ],
   "source": [
    "a = [12,231]\n",
    "a.extend([2,2])\n",
    "print(a)\n",
    "\n",
    "b = [2, 4]\n",
    "b.append([3,5])\n",
    "print(b)"
   ]
  },
  {
   "cell_type": "code",
   "execution_count": 15,
   "metadata": {},
   "outputs": [
    {
     "name": "stdout",
     "output_type": "stream",
     "text": [
      "[1, 2]\n"
     ]
    }
   ],
   "source": [
    "a = [1, 2]\n",
    "set(a)\n",
    "print(a)"
   ]
  },
  {
   "cell_type": "code",
   "execution_count": 16,
   "metadata": {},
   "outputs": [
    {
     "name": "stdout",
     "output_type": "stream",
     "text": [
      "<class 'dict'>\n",
      "<class 'set'>\n"
     ]
    }
   ],
   "source": [
    "d = {'messi': '7', 'ronaldo': '5'}\n",
    "s = {'messi', 'ronaldo'}\n",
    "\n",
    "print(type(d))\n",
    "print(type(s))"
   ]
  },
  {
   "cell_type": "code",
   "execution_count": 17,
   "metadata": {},
   "outputs": [
    {
     "data": {
      "text/plain": [
       "{'jb'}"
      ]
     },
     "execution_count": 17,
     "metadata": {},
     "output_type": "execute_result"
    }
   ],
   "source": [
    "a = {'jb', 'what do you mean'}\n",
    "b = {'jb', 'hold on'}\n",
    "\n",
    "c = a&b\n",
    "c"
   ]
  },
  {
   "cell_type": "code",
   "execution_count": 18,
   "metadata": {},
   "outputs": [
    {
     "data": {
      "text/plain": [
       "5"
      ]
     },
     "execution_count": 18,
     "metadata": {},
     "output_type": "execute_result"
    }
   ],
   "source": [
    "len((\"disco\",10,1.2, \"hard rock\",10))"
   ]
  },
  {
   "cell_type": "code",
   "execution_count": 19,
   "metadata": {},
   "outputs": [
    {
     "name": "stdout",
     "output_type": "stream",
     "text": [
      "yoo y\n"
     ]
    }
   ],
   "source": [
    "with open(\"python for everybody.txt\", \"r\") as file1:\n",
    "    file_stuff = file1.readline(5)\n",
    "    print(file_stuff)"
   ]
  },
  {
   "cell_type": "code",
   "execution_count": 20,
   "metadata": {},
   "outputs": [
    {
     "name": "stdout",
     "output_type": "stream",
     "text": [
      "yoo yoo check\n",
      "\n",
      "let's fight\n",
      "\n",
      "we are gonna win this match\n",
      "\n"
     ]
    }
   ],
   "source": [
    "lines = [\"yoo yoo check\\n\", \"let's fight\\n\", \"we are gonna win this match\\n\"]\n",
    "with open(\"python for everybody.txt\", \"w\") as file1:\n",
    "    for i in lines:\n",
    "        file1.write(i)\n",
    "        \n",
    "with open(\"python for everybody.txt\", \"r\") as file1:\n",
    "    for i in file1:\n",
    "        print(i)"
   ]
  },
  {
   "cell_type": "code",
   "execution_count": 21,
   "metadata": {},
   "outputs": [
    {
     "name": "stdout",
     "output_type": "stream",
     "text": [
      "check.txt\n"
     ]
    }
   ],
   "source": [
    "with open(\"python for everybody.txt\", \"r\") as readFile:\n",
    "    with open(\"check.txt\", \"w\") as writeFile:\n",
    "        for i in readFile:\n",
    "            writeFile.write(i)\n",
    "            \n",
    "with open(\"check.txt\", \"r\") as file1:\n",
    "    print(file1.name)"
   ]
  },
  {
   "cell_type": "code",
   "execution_count": 22,
   "metadata": {},
   "outputs": [],
   "source": [
    "import pandas as pd"
   ]
  },
  {
   "cell_type": "code",
   "execution_count": 23,
   "metadata": {},
   "outputs": [
    {
     "data": {
      "text/html": [
       "<div>\n",
       "<style scoped>\n",
       "    .dataframe tbody tr th:only-of-type {\n",
       "        vertical-align: middle;\n",
       "    }\n",
       "\n",
       "    .dataframe tbody tr th {\n",
       "        vertical-align: top;\n",
       "    }\n",
       "\n",
       "    .dataframe thead th {\n",
       "        text-align: right;\n",
       "    }\n",
       "</style>\n",
       "<table border=\"1\" class=\"dataframe\">\n",
       "  <thead>\n",
       "    <tr style=\"text-align: right;\">\n",
       "      <th></th>\n",
       "      <th>Serial No.</th>\n",
       "      <th>GRE Score</th>\n",
       "      <th>TOEFL Score</th>\n",
       "      <th>University Rating</th>\n",
       "      <th>SOP</th>\n",
       "      <th>LOR</th>\n",
       "      <th>CGPA</th>\n",
       "      <th>Research</th>\n",
       "      <th>Chance of Admit</th>\n",
       "    </tr>\n",
       "  </thead>\n",
       "  <tbody>\n",
       "    <tr>\n",
       "      <th>0</th>\n",
       "      <td>1</td>\n",
       "      <td>337</td>\n",
       "      <td>118</td>\n",
       "      <td>4</td>\n",
       "      <td>4.5</td>\n",
       "      <td>4.5</td>\n",
       "      <td>9.65</td>\n",
       "      <td>1</td>\n",
       "      <td>0.92</td>\n",
       "    </tr>\n",
       "    <tr>\n",
       "      <th>1</th>\n",
       "      <td>2</td>\n",
       "      <td>324</td>\n",
       "      <td>107</td>\n",
       "      <td>4</td>\n",
       "      <td>4.0</td>\n",
       "      <td>4.5</td>\n",
       "      <td>8.87</td>\n",
       "      <td>1</td>\n",
       "      <td>0.76</td>\n",
       "    </tr>\n",
       "    <tr>\n",
       "      <th>2</th>\n",
       "      <td>3</td>\n",
       "      <td>316</td>\n",
       "      <td>104</td>\n",
       "      <td>3</td>\n",
       "      <td>3.0</td>\n",
       "      <td>3.5</td>\n",
       "      <td>8.00</td>\n",
       "      <td>1</td>\n",
       "      <td>0.72</td>\n",
       "    </tr>\n",
       "    <tr>\n",
       "      <th>3</th>\n",
       "      <td>4</td>\n",
       "      <td>322</td>\n",
       "      <td>110</td>\n",
       "      <td>3</td>\n",
       "      <td>3.5</td>\n",
       "      <td>2.5</td>\n",
       "      <td>8.67</td>\n",
       "      <td>1</td>\n",
       "      <td>0.80</td>\n",
       "    </tr>\n",
       "    <tr>\n",
       "      <th>4</th>\n",
       "      <td>5</td>\n",
       "      <td>314</td>\n",
       "      <td>103</td>\n",
       "      <td>2</td>\n",
       "      <td>2.0</td>\n",
       "      <td>3.0</td>\n",
       "      <td>8.21</td>\n",
       "      <td>0</td>\n",
       "      <td>0.65</td>\n",
       "    </tr>\n",
       "  </tbody>\n",
       "</table>\n",
       "</div>"
      ],
      "text/plain": [
       "   Serial No.  GRE Score  TOEFL Score  University Rating  SOP  LOR   CGPA  \\\n",
       "0           1        337          118                  4  4.5   4.5  9.65   \n",
       "1           2        324          107                  4  4.0   4.5  8.87   \n",
       "2           3        316          104                  3  3.0   3.5  8.00   \n",
       "3           4        322          110                  3  3.5   2.5  8.67   \n",
       "4           5        314          103                  2  2.0   3.0  8.21   \n",
       "\n",
       "   Research  Chance of Admit   \n",
       "0         1              0.92  \n",
       "1         1              0.76  \n",
       "2         1              0.72  \n",
       "3         1              0.80  \n",
       "4         0              0.65  "
      ]
     },
     "execution_count": 23,
     "metadata": {},
     "output_type": "execute_result"
    }
   ],
   "source": [
    "path = \"Admission_Predict.csv\"\n",
    "df = pd.read_csv(path)\n",
    "df.head()"
   ]
  },
  {
   "cell_type": "code",
   "execution_count": 24,
   "metadata": {},
   "outputs": [
    {
     "data": {
      "text/html": [
       "<div>\n",
       "<style scoped>\n",
       "    .dataframe tbody tr th:only-of-type {\n",
       "        vertical-align: middle;\n",
       "    }\n",
       "\n",
       "    .dataframe tbody tr th {\n",
       "        vertical-align: top;\n",
       "    }\n",
       "\n",
       "    .dataframe thead th {\n",
       "        text-align: right;\n",
       "    }\n",
       "</style>\n",
       "<table border=\"1\" class=\"dataframe\">\n",
       "  <thead>\n",
       "    <tr style=\"text-align: right;\">\n",
       "      <th></th>\n",
       "      <th>rifat</th>\n",
       "      <th>raihan</th>\n",
       "      <th>arnob</th>\n",
       "      <th>zarif</th>\n",
       "    </tr>\n",
       "  </thead>\n",
       "  <tbody>\n",
       "    <tr>\n",
       "      <th>0</th>\n",
       "      <td>dihan</td>\n",
       "      <td>unknown</td>\n",
       "      <td>ava</td>\n",
       "      <td>navid</td>\n",
       "    </tr>\n",
       "    <tr>\n",
       "      <th>1</th>\n",
       "      <td>milisha</td>\n",
       "      <td>shusmita</td>\n",
       "      <td>mouri</td>\n",
       "      <td>rifat</td>\n",
       "    </tr>\n",
       "    <tr>\n",
       "      <th>2</th>\n",
       "      <td>sanam</td>\n",
       "      <td>arna</td>\n",
       "      <td>dima</td>\n",
       "      <td>bracu</td>\n",
       "    </tr>\n",
       "  </tbody>\n",
       "</table>\n",
       "</div>"
      ],
      "text/plain": [
       "     rifat    raihan  arnob  zarif\n",
       "0    dihan   unknown    ava  navid\n",
       "1  milisha  shusmita  mouri  rifat\n",
       "2    sanam      arna   dima  bracu"
      ]
     },
     "execution_count": 24,
     "metadata": {},
     "output_type": "execute_result"
    }
   ],
   "source": [
    "dic = {'rifat': ['dihan', 'milisha', 'sanam'],\n",
    "        'raihan': ['unknown', 'shusmita', 'arna'],\n",
    "        'arnob': ['ava', 'mouri', 'dima'],\n",
    "        'zarif': ['navid', 'rifat', 'bracu']}\n",
    "df = pd.DataFrame(dic)\n",
    "df.head()"
   ]
  },
  {
   "cell_type": "code",
   "execution_count": 25,
   "metadata": {},
   "outputs": [
    {
     "data": {
      "text/html": [
       "<div>\n",
       "<style scoped>\n",
       "    .dataframe tbody tr th:only-of-type {\n",
       "        vertical-align: middle;\n",
       "    }\n",
       "\n",
       "    .dataframe tbody tr th {\n",
       "        vertical-align: top;\n",
       "    }\n",
       "\n",
       "    .dataframe thead th {\n",
       "        text-align: right;\n",
       "    }\n",
       "</style>\n",
       "<table border=\"1\" class=\"dataframe\">\n",
       "  <thead>\n",
       "    <tr style=\"text-align: right;\">\n",
       "      <th></th>\n",
       "      <th>zarif</th>\n",
       "    </tr>\n",
       "  </thead>\n",
       "  <tbody>\n",
       "    <tr>\n",
       "      <th>0</th>\n",
       "      <td>navid</td>\n",
       "    </tr>\n",
       "    <tr>\n",
       "      <th>1</th>\n",
       "      <td>rifat</td>\n",
       "    </tr>\n",
       "    <tr>\n",
       "      <th>2</th>\n",
       "      <td>bracu</td>\n",
       "    </tr>\n",
       "  </tbody>\n",
       "</table>\n",
       "</div>"
      ],
      "text/plain": [
       "   zarif\n",
       "0  navid\n",
       "1  rifat\n",
       "2  bracu"
      ]
     },
     "execution_count": 25,
     "metadata": {},
     "output_type": "execute_result"
    }
   ],
   "source": [
    "z = df[['zarif']] \n",
    "z"
   ]
  },
  {
   "cell_type": "code",
   "execution_count": 13,
   "metadata": {},
   "outputs": [],
   "source": [
    "import numpy as np"
   ]
  },
  {
   "cell_type": "code",
   "execution_count": 27,
   "metadata": {},
   "outputs": [
    {
     "name": "stdout",
     "output_type": "stream",
     "text": [
      "[  0   1  12 323   3]\n",
      "5\n",
      "1\n"
     ]
    }
   ],
   "source": [
    "a = np.array([0, 1, 12,323, 3])\n",
    "print(a)\n",
    "print(a.size)\n",
    "print(a.ndim)"
   ]
  },
  {
   "cell_type": "code",
   "execution_count": 28,
   "metadata": {},
   "outputs": [
    {
     "name": "stdout",
     "output_type": "stream",
     "text": [
      "[  1  12 323]\n"
     ]
    }
   ],
   "source": [
    "d = a[1:4]\n",
    "print(d)"
   ]
  },
  {
   "cell_type": "code",
   "execution_count": 29,
   "metadata": {},
   "outputs": [],
   "source": [
    "import matplotlib.pyplot as plt"
   ]
  },
  {
   "cell_type": "code",
   "execution_count": 30,
   "metadata": {},
   "outputs": [
    {
     "data": {
      "text/plain": [
       "[<matplotlib.lines.Line2D at 0x263c6c86a90>]"
      ]
     },
     "execution_count": 30,
     "metadata": {},
     "output_type": "execute_result"
    },
    {
     "data": {
      "image/png": "[encoded data removed]",
      "text/plain": [
       "<Figure size 432x288 with 1 Axes>"
      ]
     },
     "metadata": {
      "needs_background": "light"
     },
     "output_type": "display_data"
    }
   ],
   "source": [
    "x = np.linspace(0,2*np.pi, 100)\n",
    "y = np.sin(x)\n",
    "\n",
    "plt.plot(x, y)"
   ]
  },
  {
   "cell_type": "code",
   "execution_count": 31,
   "metadata": {},
   "outputs": [
    {
     "name": "stdout",
     "output_type": "stream",
     "text": [
      "2\n",
      "(3, 4)\n",
      "12\n"
     ]
    }
   ],
   "source": [
    "a = np.array([[23,6,543,2], [1,312,4,3], [2,4,3,3]])\n",
    "\n",
    "print(a.ndim)\n",
    "print(a.shape)\n",
    "print(a.size)"
   ]
  },
  {
   "cell_type": "code",
   "execution_count": 32,
   "metadata": {},
   "outputs": [
    {
     "name": "stdout",
     "output_type": "stream",
     "text": [
      "[543   4]\n"
     ]
    }
   ],
   "source": [
    "print(a[0:2, 2])"
   ]
  },
  {
   "cell_type": "code",
   "execution_count": 33,
   "metadata": {},
   "outputs": [
    {
     "name": "stdout",
     "output_type": "stream",
     "text": [
      "[[ 1667  4184]\n",
      " [  412 97369]\n",
      " [  125  1275]]\n"
     ]
    }
   ],
   "source": [
    "b = np.array([[23,6], [1,312], [2,4], [23,1]])\n",
    "c = np.dot(a,b)\n",
    "print(c)"
   ]
  },
  {
   "cell_type": "code",
   "execution_count": 34,
   "metadata": {},
   "outputs": [
    {
     "data": {
      "text/plain": [
       "array([[23,  6,  4,  2],\n",
       "       [ 1,  3,  4,  2],\n",
       "       [ 2,  4,  3,  2]])"
      ]
     },
     "execution_count": 34,
     "metadata": {},
     "output_type": "execute_result"
    }
   ],
   "source": [
    "a = np.array([[23,6,4, 2], [1,3,4, 2], [2,4,3, 2]])\n",
    "a"
   ]
  },
  {
   "cell_type": "code",
   "execution_count": 35,
   "metadata": {},
   "outputs": [
    {
     "name": "stdout",
     "output_type": "stream",
     "text": [
      "35\n"
     ]
    }
   ],
   "source": [
    "colSum = np.sum(a,axis=0)\n",
    "rowSum = np.sum(a, axis=1)\n",
    "bigColSum = colSum[0]\n",
    "bigRowSum = rowSum[0]\n",
    "for i in colSum:\n",
    "    if i > bigColSum:\n",
    "        bigColSum = i\n",
    "for i in rowSum:\n",
    "    if i > bigRowSum:\n",
    "        bigRowSum = i\n",
    "\n",
    "if bigColSum > bigRowSum:\n",
    "    print(bigColSum)\n",
    "else:\n",
    "    print(bigRowSum)"
   ]
  },
  {
   "cell_type": "code",
   "execution_count": 36,
   "metadata": {},
   "outputs": [
    {
     "name": "stdout",
     "output_type": "stream",
     "text": [
      "[[ 1  2  3]\n",
      " [ 4  5  6]\n",
      " [ 7  8  9]\n",
      " [10 11 12]]\n",
      "2\n"
     ]
    }
   ],
   "source": [
    "TwoDList = [[1, 2, 3], [4, 5, 6],\n",
    "            [7, 8, 9], [10, 11, 12]]\n",
    "TwoDArray = np.array(TwoDList)\n",
    "print(TwoDArray)\n",
    "print(TwoDArray[0][1])"
   ]
  },
  {
   "cell_type": "code",
   "execution_count": 37,
   "metadata": {},
   "outputs": [
    {
     "name": "stdout",
     "output_type": "stream",
     "text": [
      "2D Array:\n",
      "[[ 1  2  3]\n",
      " [ 4  5  6]\n",
      " [ 7  8  9]\n",
      " [10 11 12]]\n",
      "\n",
      "Column-wise Sum:\n",
      "[22, 26, 30]\n",
      "\\Row-wise Sum:\n",
      "[6, 15, 24, 33]\n",
      "33\n"
     ]
    }
   ],
   "source": [
    "# explicit function to compute column wise sum\n",
    "sumColList = []\n",
    "def colsum(arr, n, m):\n",
    "    for i in range(n):\n",
    "        su = 0\n",
    "        for j in range(m):\n",
    "            su += arr[j][i]\n",
    "        sumColList.append(su)\n",
    "    print(sumColList)\n",
    "    bigColSum = sumColList[0]\n",
    "    for i in range(len(sumColList)):\n",
    "        if sumColList[i] > bigColSum:\n",
    "            bigColSum = sumColList[i]\n",
    "    return(bigColSum)\n",
    "    \n",
    "sumRowList = []\n",
    "def rowsum(arr, n, m):\n",
    "    for i in range(m):\n",
    "        su = 0\n",
    "        for j in range(n):\n",
    "            su += arr[i][j]\n",
    "        sumRowList.append(su)\n",
    "    print(sumRowList)\n",
    "    bigRowSum = sumRowList[0]\n",
    "    for i in range(len(sumRowList)):\n",
    "        if sumRowList[i] > bigRowSum:\n",
    "            bigRowSum = sumRowList[i]\n",
    "    return(bigRowSum)\n",
    "\n",
    "# creating the 2D Array\n",
    "TwoDList = [[1, 2, 3], [4, 5, 6], [7, 8, 9], [10, 11, 12]]\n",
    "TwoDArray = np.array(TwoDList)\n",
    "\n",
    "# displaying the 2D Array\n",
    "print(\"2D Array:\")\n",
    "print(TwoDArray)\n",
    "\n",
    "# printing the sum of each column\n",
    "print(\"\\nColumn-wise Sum:\")\n",
    "bigColSum = colsum(TwoDArray, len(TwoDArray[0]), len(TwoDArray))\n",
    "# printing the sum of each row\n",
    "print(\"\\Row-wise Sum:\")\n",
    "bigRowSum = rowsum(TwoDArray, len(TwoDArray[0]), len(TwoDArray))\n",
    "\n",
    "if bigColSum > bigRowSum:\n",
    "    print(bigColSum)\n",
    "else:\n",
    "    print(bigRowSum)\n"
   ]
  },
  {
   "cell_type": "code",
   "execution_count": 38,
   "metadata": {},
   "outputs": [
    {
     "name": "stdout",
     "output_type": "stream",
     "text": [
      "33\n"
     ]
    }
   ],
   "source": [
    "TwoDList = [[1, 2, 3], [4, 5, 6], [7, 8, 9], [10, 11, 12]]\n",
    "arr = np.array(TwoDList)\n",
    "colNum = len(TwoDArray[0])\n",
    "rowNum = len(TwoDArray)\n",
    "colSumList = []\n",
    "rowSumList = []\n",
    "\n",
    "for i in range(colNum):\n",
    "    su = 0\n",
    "    for j in range(rowNum):\n",
    "        su += arr[j][i]\n",
    "    colSumList.append(su)\n",
    "    bigColSum = colSumList[0]\n",
    "    for i in range(len(colSumList)):\n",
    "        if colSumList[i] > bigColSum:\n",
    "            bigColSum = colSumList[i]\n",
    "\n",
    "for i in range(rowNum):\n",
    "    su = 0\n",
    "    for j in range(colNum):\n",
    "        su += arr[i][j]\n",
    "    rowSumList.append(su)\n",
    "    bigRowSum = rowSumList[0]\n",
    "    for i in range(len(rowSumList)):\n",
    "        if rowSumList[i] > bigRowSum:\n",
    "            bigRowSum = rowSumList[i]\n",
    "if bigColSum > bigRowSum:\n",
    "    print(bigColSum)\n",
    "else:\n",
    "    print(bigRowSum)\n"
   ]
  },
  {
   "cell_type": "code",
   "execution_count": 39,
   "metadata": {},
   "outputs": [
    {
     "name": "stdout",
     "output_type": "stream",
     "text": [
      "33\n"
     ]
    }
   ],
   "source": [
    "arr = [ [1, 2, 3], \n",
    "        [4, 5, 6], \n",
    "        [7, 8, 9], \n",
    "        [10, 11, 12]]\n",
    "colNum = len(arr[0])\n",
    "rowNum = len(arr)\n",
    "bigColSum = 0\n",
    "bigRowSum = 0\n",
    "\n",
    "for i in range(colNum):\n",
    "    su = 0\n",
    "    for j in range(rowNum):\n",
    "        su += arr[j][i]\n",
    "    if su > bigColSum:\n",
    "        bigColSum = su\n",
    "\n",
    "for i in range(rowNum):\n",
    "    su = 0\n",
    "    for j in range(colNum):\n",
    "        su += arr[i][j]\n",
    "    if su > bigRowSum:\n",
    "        bigRowSum = su\n",
    "if bigColSum > bigRowSum:\n",
    "    print(bigColSum)\n",
    "else:\n",
    "    print(bigRowSum)\n"
   ]
  },
  {
   "cell_type": "code",
   "execution_count": 40,
   "metadata": {},
   "outputs": [],
   "source": [
    "import requests\n",
    "import os \n",
    "from PIL import Image\n",
    "from IPython.display import IFrame"
   ]
  },
  {
   "cell_type": "code",
   "execution_count": 41,
   "metadata": {},
   "outputs": [],
   "source": [
    "url='https://moinshawon.ml/'\n",
    "r=requests.get(url)"
   ]
  },
  {
   "cell_type": "code",
   "execution_count": 42,
   "metadata": {},
   "outputs": [
    {
     "data": {
      "text/plain": [
       "200"
      ]
     },
     "execution_count": 42,
     "metadata": {},
     "output_type": "execute_result"
    }
   ],
   "source": [
    "r.status_code"
   ]
  },
  {
   "cell_type": "code",
   "execution_count": 43,
   "metadata": {},
   "outputs": [
    {
     "name": "stdout",
     "output_type": "stream",
     "text": [
      "{'User-Agent': 'python-requests/2.26.0', 'Accept-Encoding': 'gzip, deflate, br', 'Accept': '*/*', 'Connection': 'keep-alive'}\n"
     ]
    }
   ],
   "source": [
    "print(r.request.headers)"
   ]
  },
  {
   "cell_type": "code",
   "execution_count": 44,
   "metadata": {},
   "outputs": [
    {
     "name": "stdout",
     "output_type": "stream",
     "text": [
      "request body: None\n"
     ]
    }
   ],
   "source": [
    "print(\"request body:\", r.request.body)"
   ]
  },
  {
   "cell_type": "code",
   "execution_count": 45,
   "metadata": {},
   "outputs": [
    {
     "name": "stdout",
     "output_type": "stream",
     "text": [
      "{'Connection': 'keep-alive', 'Content-Length': '6345', 'Server': 'GitHub.com', 'Content-Type': 'text/html; charset=utf-8', 'Last-Modified': 'Thu, 17 Mar 2022 11:36:22 GMT', 'Access-Control-Allow-Origin': '*', 'Strict-Transport-Security': 'max-age=31556952', 'ETag': 'W/\"62331d36-58e2\"', 'expires': 'Fri, 08 Apr 2022 17:53:30 GMT', 'Cache-Control': 'max-age=600', 'Content-Encoding': 'gzip', 'x-proxy-cache': 'MISS', 'X-GitHub-Request-Id': '5386:575F:682C81:9C6485:62507442', 'Fastly-Original-Body-Size': '6345', 'Accept-Ranges': 'bytes', 'Date': 'Fri, 08 Apr 2022 17:43:30 GMT', 'Via': '1.1 varnish', 'Age': '0', 'X-Served-By': 'cache-maa10249-MAA', 'X-Cache': 'MISS', 'X-Cache-Hits': '0', 'X-Timer': 'S1649439810.412965,VS0,VE249', 'Vary': 'Accept-Encoding', 'X-Fastly-Request-ID': 'f8334d804c9ab478bccb8a17fa57a0cb88b54ad5'}\n"
     ]
    }
   ],
   "source": [
    "header=r.headers\n",
    "print(r.headers)"
   ]
  },
  {
   "cell_type": "code",
   "execution_count": 46,
   "metadata": {},
   "outputs": [
    {
     "data": {
      "text/plain": [
       "'Fri, 08 Apr 2022 17:43:30 GMT'"
      ]
     },
     "execution_count": 46,
     "metadata": {},
     "output_type": "execute_result"
    }
   ],
   "source": [
    "header['date']"
   ]
  },
  {
   "cell_type": "code",
   "execution_count": 47,
   "metadata": {},
   "outputs": [
    {
     "data": {
      "text/plain": [
       "'text/html; charset=utf-8'"
      ]
     },
     "execution_count": 47,
     "metadata": {},
     "output_type": "execute_result"
    }
   ],
   "source": [
    "header['Content-Type']"
   ]
  },
  {
   "cell_type": "code",
   "execution_count": 48,
   "metadata": {},
   "outputs": [
    {
     "data": {
      "text/plain": [
       "'utf-8'"
      ]
     },
     "execution_count": 48,
     "metadata": {},
     "output_type": "execute_result"
    }
   ],
   "source": [
    "r.encoding"
   ]
  },
  {
   "cell_type": "code",
   "execution_count": 49,
   "metadata": {},
   "outputs": [
    {
     "data": {
      "text/plain": [
       "'<!DOCTYPE html>\\r\\n<html lang=\"en\">\\r\\n<head>\\r\\n    <meta charset=\"UTF-8\">\\r\\n    <meta name=\"viewport\" content=\"width=device-width, initial-scale=1.0\">\\r\\n    <meta name=\"description\" content=\"Moinul Islam\" >'"
      ]
     },
     "execution_count": 49,
     "metadata": {},
     "output_type": "execute_result"
    }
   ],
   "source": [
    "r.text[0:200]"
   ]
  },
  {
   "cell_type": "code",
   "execution_count": 50,
   "metadata": {},
   "outputs": [
    {
     "name": "stdout",
     "output_type": "stream",
     "text": [
      "https://moinshawon.ml/\n"
     ]
    }
   ],
   "source": [
    "print(r.url)"
   ]
  },
  {
   "cell_type": "code",
   "execution_count": 2,
   "metadata": {},
   "outputs": [
    {
     "data": {
      "text/plain": [
       "[1, 2, 3]"
      ]
     },
     "execution_count": 2,
     "metadata": {},
     "output_type": "execute_result"
    }
   ],
   "source": [
    "L=[1,3,2]\n",
    "sorted(L)"
   ]
  },
  {
   "cell_type": "code",
   "execution_count": 1,
   "metadata": {},
   "outputs": [
    {
     "name": "stdout",
     "output_type": "stream",
     "text": [
      "x= A  y= B\n"
     ]
    }
   ],
   "source": [
    "class Points(object):\n",
    "  def __init__(self,x,y):\n",
    "\n",
    "    self.x=x\n",
    "    self.y=y\n",
    "\n",
    "  def print_point(self):\n",
    "\n",
    "    print('x=',self.x,' y=',self.y)\n",
    "\n",
    "p1=Points(\"A\",\"B\")\n",
    "p1.print_point()"
   ]
  }
 ],
 "metadata": {
  "interpreter": {
   "hash": "b3ba2566441a7c06988d0923437866b63cedc61552a5af99d1f4fb67d367b25f"
  },
  "kernelspec": {
   "display_name": "Python 3.8.5 64-bit ('base': conda)",
   "language": "python",
   "name": "python3"
  },
  "language_info": {
   "codemirror_mode": {
    "name": "ipython",
    "version": 3
   },
   "file_extension": ".py",
   "mimetype": "text/x-python",
   "name": "python",
   "nbconvert_exporter": "python",
   "pygments_lexer": "ipython3",
   "version": "3.9.7"
  },
  "orig_nbformat": 4
 },
 "nbformat": 4,
 "nbformat_minor": 2
}
