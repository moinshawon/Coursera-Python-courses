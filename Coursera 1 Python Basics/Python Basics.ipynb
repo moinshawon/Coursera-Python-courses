{
 "cells": [
  {
   "cell_type": "code",
   "execution_count": 5,
   "metadata": {},
   "outputs": [
    {
     "name": "stdout",
     "output_type": "stream",
     "text": [
      "9\n"
     ]
    }
   ],
   "source": [
    "def square(x):\n",
    "    return x*x\n",
    "\n",
    "print(square(3))"
   ]
  },
  {
   "cell_type": "code",
   "execution_count": 7,
   "metadata": {},
   "outputs": [
    {
     "name": "stdout",
     "output_type": "stream",
     "text": [
      "69 69\n",
      "69 dj baba 69\n"
     ]
    }
   ],
   "source": [
    "print(69, 69)\n",
    "print(69, 'dj baba', 69)"
   ]
  },
  {
   "cell_type": "code",
   "execution_count": 10,
   "metadata": {},
   "outputs": [
    {
     "name": "stdout",
     "output_type": "stream",
     "text": [
      "value is 169\n"
     ]
    }
   ],
   "source": [
    "val = 69 + 100\n",
    "print('value is ' + str(val))"
   ]
  },
  {
   "cell_type": "code",
   "execution_count": 11,
   "metadata": {},
   "outputs": [
    {
     "name": "stdout",
     "output_type": "stream",
     "text": [
      "14\n"
     ]
    }
   ],
   "source": [
    "print(16 - 2 * 5 // 3 + 1)"
   ]
  },
  {
   "cell_type": "code",
   "execution_count": 14,
   "metadata": {},
   "outputs": [
    {
     "name": "stdout",
     "output_type": "stream",
     "text": [
      "give numbers3600\n",
      "1 0 0\n"
     ]
    }
   ],
   "source": [
    "sec = int(input('give time'))\n",
    "\n",
    "hour = sec // 3600\n",
    "sec_remains = sec % 3600\n",
    "\n",
    "minute = sec_remains // 60\n",
    "sec_still_remains = minute % 60\n",
    "\n",
    "print(hour, minute, sec_still_remains)"
   ]
  },
  {
   "cell_type": "code",
   "execution_count": 15,
   "metadata": {},
   "outputs": [
    {
     "name": "stdout",
     "output_type": "stream",
     "text": [
      "give time3600\n",
      "0 60\n"
     ]
    }
   ],
   "source": [
    "sec = int(input('give time'))\n",
    "\n",
    "minute = sec // 60\n",
    "sec_remains = minute % 60\n",
    "\n",
    "hour = sec_remains // 60\n",
    "\n",
    "print(hour, minute)"
   ]
  },
  {
   "cell_type": "code",
   "execution_count": 1,
   "metadata": {},
   "outputs": [],
   "source": [
    "import turtle\n",
    "wn = turtle.Screen() \n",
    "wn.bgcolor(\"green\")\n",
    "\n",
    "alex = turtle.Turtle() \n",
    "alex.hideturtle()           \n",
    "alex.penup()                \n",
    "alex.goto(-200, -200)       \n",
    "\n",
    "alex.pendown()              \n",
    "alex.goto(-180,0)   \n",
    "alex.showturtle()\n",
    "\n",
    "alex.left(90)\n",
    "alex.forward(60)\n",
    "alex.right(90)\n",
    "alex.forward(50)\n",
    "alex.backward(50)\n",
    "alex.left(90)\n",
    "alex.forward(50)\n",
    "alex.right(90)\n",
    "alex.forward(90)\n",
    "alex.backward(90)\n",
    "alex.right(90)\n",
    "alex.forward(110)\n",
    "\n",
    "alex.left(90)\n",
    "alex.forward(70)\n",
    "alex.left(90)\n",
    "alex.forward(60)\n",
    "alex.backward(60)\n",
    "alex.right(90)\n",
    "alex.forward(50)\n",
    "alex.left(90)\n",
    "alex.forward(60)\n",
    "alex.backward(60)\n",
    "alex.right(90)\n",
    "\n",
    "alex.forward(50)\n",
    "alex.left(120)\n",
    "alex.forward(45)\n",
    "alex.right(90)\n",
    "alex.forward(45)\n",
    "alex.backward(45)\n",
    "alex.right(90)\n",
    "alex.forward(45)\n",
    "alex.left(60)\n",
    "\n",
    "alex.forward(50)\n",
    "alex.left(90)\n",
    "alex.forward(70)\n",
    "alex.backward(35)\n",
    "alex.right(45)\n",
    "alex.forward(45)\n",
    "alex.backward(45)\n",
    "alex.right(90)\n",
    "alex.forward(45)\n",
    "alex.backward(45)\n",
    "alex.right(45)\n",
    "alex.forward(35)\n",
    "alex.left(90)\n",
    "alex.forward(80)\n",
    "\n",
    "wn.exitonclick()"
   ]
  },
  {
   "cell_type": "code",
   "execution_count": 5,
   "metadata": {},
   "outputs": [],
   "source": [
    "\n",
    "# Import turtle package \n",
    "import turtle \n",
    "  \n",
    "# Creating a turtle object(pen) \n",
    "pen = turtle.Turtle() \n",
    "  \n",
    "# Defining a method to draw curve \n",
    "def curve(): \n",
    "    for i in range(200): \n",
    "  \n",
    "        # Defining step by step curve motion \n",
    "        pen.right(1) \n",
    "        pen.forward(1) \n",
    "  \n",
    "# Defining method to draw a full heart \n",
    "def heart(): \n",
    "  \n",
    "    # Set the fill color to red \n",
    "    pen.fillcolor('red') \n",
    "  \n",
    "    # Start filling the color \n",
    "    pen.begin_fill() \n",
    "  \n",
    "    # Draw the left line \n",
    "    pen.left(140) \n",
    "    pen.forward(113) \n",
    "  \n",
    "    # Draw the left curve \n",
    "    curve() \n",
    "    pen.left(120) \n",
    "  \n",
    "    # Draw the right curve \n",
    "    curve() \n",
    "  \n",
    "    # Draw the right line \n",
    "    pen.forward(112) \n",
    "  \n",
    "    # Ending the filling of the color \n",
    "    pen.end_fill() \n",
    "  \n",
    "# Defining method to write text \n",
    "def txt(): \n",
    "  \n",
    "    # Move turtle to air \n",
    "    pen.up() \n",
    "  \n",
    "    # Move turtle to a given position \n",
    "    pen.setpos(-68, 95) \n",
    "  \n",
    "    # Move the turtle to the ground \n",
    "    pen.down() \n",
    "  \n",
    "    # Set the text color to lightgreen \n",
    "    pen.color('black') \n",
    "  \n",
    "    # Write the specified text in  \n",
    "    # specified font style and size \n",
    "    pen.write(\"I love you Sanam\", font=( \n",
    "      \"Verdana\", 12, \"bold\")) \n",
    "  \n",
    "  \n",
    "# Draw a heart \n",
    "heart() \n",
    "  \n",
    "# Write text \n",
    "txt() \n",
    "  \n",
    "# To hide turtle \n",
    "pen.ht() "
   ]
  },
  {
   "cell_type": "code",
   "execution_count": 5,
   "metadata": {},
   "outputs": [],
   "source": [
    "\n",
    "# Import turtle package \n",
    "import turtle \n",
    "wn = turtle.Screen()\n",
    "\n",
    "wn.bgcolor(\"green\")\n",
    "\n",
    "z = turtle.Turtle() \n",
    "z.hideturtle()           \n",
    "z.penup()                \n",
    "z.goto(-200, -200)       \n",
    "\n",
    "z.pendown()              \n",
    "z.goto(-380,0)   \n",
    "z.showturtle()\n",
    "\n",
    "\n",
    "\n",
    "z.left(90)\n",
    "z.forward(100)\n",
    "z.back(100)\n",
    "z.right(90)\n",
    "z.color(\"white\")\n",
    "z.forward(100)\n",
    "z.left(90)\n",
    "z.color(\"red\")\n",
    "z.forward(100)\n",
    "z.back(100)\n",
    "z.right(90)\n",
    "z.color(\"red\")\n",
    "z.forward(50)\n",
    "z.color(\"white\")\n",
    "z.forward(50)\n",
    "z.color(\"red\")\n",
    "z.forward(50)\n",
    "z.back(50)\n",
    "z.left(90)\n",
    "z.forward(100)\n",
    "z.right(90)\n",
    "z.forward(50)\n",
    "z.right(90)\n",
    "z.forward(100)\n",
    "z.left(90)\n",
    "z.color(\"white\")\n",
    "z.forward(100)\n",
    "z.color(\"red\")\n",
    "z.left(120)\n",
    "z.forward(110)\n",
    "z.back(110)\n",
    "z.right(60)\n",
    "z.forward(110)\n",
    "z.back(110)\n",
    "z.right(60)\n",
    "z.color(\"white\")\n",
    "z.forward(100)\n",
    "z.color(\"red\")\n",
    "z.forward(50)\n",
    "z.back(50)\n",
    "z.left(90)\n",
    "z.forward(100)\n",
    "z.right(90)\n",
    "z.forward(50)\n",
    "z.back(50)\n",
    "z.right(90)\n",
    "z.forward(50)\n",
    "z.left(90)\n",
    "z.forward(50)\n",
    "z.back(50)\n",
    "z.right(90)\n",
    "z.forward(50)\n",
    "z.left(90)\n",
    "z.forward(50)\n",
    "z.color(\"white\")\n",
    "z.forward(150)\n",
    "z.color(\"red\")\n",
    "z.left(90)\n",
    "z.forward(50)\n",
    "z.left(45)\n",
    "z.forward(75)\n",
    "z.back(75)\n",
    "z.right(90)\n",
    "z.forward(75)\n",
    "z.back(75)\n",
    "z.left(45)\n",
    "z.back(50)\n",
    "z.right(90)\n",
    "z.color(\"white\")\n",
    "z.forward(100)\n",
    "z.color(\"red\")\n",
    "z.forward(50)\n",
    "z.back(50)\n",
    "z.left(90)\n",
    "z.forward(100)\n",
    "z.right(90)\n",
    "z.forward(50)\n",
    "z.right(90)\n",
    "z.forward(100)\n",
    "z.left(90)\n",
    "z.color(\"white\")\n",
    "z.forward(100)\n",
    "z.color(\"red\")\n",
    "z.back(50)\n",
    "z.left(90)\n",
    "z.forward(100)\n",
    "z.back(100)\n",
    "z.right(90)\n",
    "z.forward(50)\n",
    "z.left(90)\n",
    "z.forward(107)\n",
    "z.color(\"white\")\n"
   ]
  },
  {
   "cell_type": "code",
   "execution_count": null,
   "metadata": {},
   "outputs": [],
   "source": [
    "\n",
    "wn = turtle.Screen()\n",
    "wn.bgcolor(\"lightgreen\")\n",
    "tess = turtle.Turtle()\n",
    "tess.color(\"blue\")\n",
    "tess.shape(\"turtle\")\n",
    "\n",
    "dist = 5\n",
    "tess.up()                     # lift the pen so no make line behind \n",
    "for _ in range(30):    # start with size = 5 and grow by 2\n",
    "    tess.stamp()                # leave an shadow on the canvas\n",
    "    tess.forward(dist)          # move tess along\n",
    "    tess.right(24)              # and turn her\n",
    "    dist = dist + 2\n",
    "wn.exitonclick()\n"
   ]
  },
  {
   "cell_type": "code",
   "execution_count": 1,
   "metadata": {},
   "outputs": [
    {
     "name": "stdout",
     "output_type": "stream",
     "text": [
      "0.3031655953958602\n",
      "5\n"
     ]
    }
   ],
   "source": [
    "import random\n",
    "\n",
    "prob = random.random()\n",
    "print(prob)\n",
    "\n",
    "diceThrow = random.randrange(1,7)       # return an int, one of 1,2,3,4,5,6\n",
    "print(diceThrow)"
   ]
  },
  {
   "cell_type": "code",
   "execution_count": 2,
   "metadata": {},
   "outputs": [],
   "source": [
    "import turtle\n",
    "wn = turtle.Screen()\n",
    "\n",
    "a = turtle.Turtle()\n",
    "dist = 50\n",
    "angle = 72\n",
    "for _ in range(5):                 \n",
    "    a.forward(dist)          \n",
    "    a.right(angle)           \n",
    "    "
   ]
  },
  {
   "cell_type": "code",
   "execution_count": 2,
   "metadata": {},
   "outputs": [
    {
     "name": "stdout",
     "output_type": "stream",
     "text": [
      "5\n"
     ]
    }
   ],
   "source": [
    "qu = \"wow, welcome week!\"\n",
    "ty = qu.index(\"we\") # find the left most only \n",
    "print(ty)"
   ]
  },
  {
   "cell_type": "code",
   "execution_count": 3,
   "metadata": {},
   "outputs": [
    {
     "name": "stdout",
     "output_type": "stream",
     "text": [
      "2\n"
     ]
    }
   ],
   "source": [
    "qu = \"wow, welcome week! Were you wanting to go?\"\n",
    "ty = qu.count(\"we\") # find and count the we \n",
    "print(ty)"
   ]
  },
  {
   "cell_type": "code",
   "execution_count": 4,
   "metadata": {},
   "outputs": [
    {
     "name": "stdout",
     "output_type": "stream",
     "text": [
      "['The', 'rain', 'in', 'Spain...']\n"
     ]
    }
   ],
   "source": [
    "song = \"The rain in Spain...\"\n",
    "wds = song.split()\n",
    "print(wds)"
   ]
  },
  {
   "cell_type": "code",
   "execution_count": 5,
   "metadata": {},
   "outputs": [
    {
     "name": "stdout",
     "output_type": "stream",
     "text": [
      "['The r', 'n in Sp', 'n...']\n"
     ]
    }
   ],
   "source": [
    "song = \"The rain in Spain...\"\n",
    "wds = song.split('ai')\n",
    "print(wds)"
   ]
  },
  {
   "cell_type": "code",
   "execution_count": 7,
   "metadata": {},
   "outputs": [
    {
     "name": "stdout",
     "output_type": "stream",
     "text": [
      "raihan dj moin dj rifat\n"
     ]
    }
   ],
   "source": [
    "w = ['raihan','moin','rifat']\n",
    "z= ' dj '.join(w)\n",
    "\n",
    "print(z)"
   ]
  },
  {
   "cell_type": "code",
   "execution_count": 9,
   "metadata": {},
   "outputs": [
    {
     "name": "stdout",
     "output_type": "stream",
     "text": [
      "raihanmoinrifat\n"
     ]
    }
   ],
   "source": [
    "z = ''.join(w)\n",
    "print(z)"
   ]
  },
  {
   "cell_type": "code",
   "execution_count": 1,
   "metadata": {},
   "outputs": [
    {
     "name": "stdout",
     "output_type": "stream",
     "text": [
      "pzpzpzpzpz\n"
     ]
    }
   ],
   "source": [
    "let = \"z\"\n",
    "let_two = \"p\"\n",
    "c = let_two + let\n",
    "m = c*5\n",
    "print(m)"
   ]
  },
  {
   "cell_type": "code",
   "execution_count": 7,
   "metadata": {},
   "outputs": [
    {
     "name": "stdout",
     "output_type": "stream",
     "text": [
      "['curling', 'ping pong', 'hockey']\n"
     ]
    }
   ],
   "source": [
    "sports = ['cricket', 'football', 'volleyball', 'baseball', 'softball', 'track and field', 'curling', 'ping pong', 'hockey']\n",
    "\n",
    "last = sports[-3:]\n",
    "print(last)"
   ]
  },
  {
   "cell_type": "code",
   "execution_count": 22,
   "metadata": {},
   "outputs": [
    {
     "name": "stdout",
     "output_type": "stream",
     "text": [
      "You are doing a great job, keep it up!\n"
     ]
    }
   ],
   "source": [
    "by = \"You are\"\n",
    "az = \"doing a great \"\n",
    "io = \"job\"\n",
    "qy = \"keep it up!\"\n",
    "\n",
    "message = by + ' ' + az+io+',' + \" \" + qy\n",
    "print(message)"
   ]
  },
  {
   "cell_type": "code",
   "execution_count": 31,
   "metadata": {},
   "outputs": [
    {
     "name": "stdout",
     "output_type": "stream",
     "text": [
      "0 raihan\n",
      "1 moin\n",
      "2 rifat\n"
     ]
    }
   ],
   "source": [
    "fruit = ['raihan','moin','rifat']\n",
    "\n",
    "for i in range(3):\n",
    "    print(i, fruit[i])"
   ]
  },
  {
   "cell_type": "code",
   "execution_count": 34,
   "metadata": {},
   "outputs": [
    {
     "name": "stdout",
     "output_type": "stream",
     "text": [
      "0\n",
      "1\n",
      "0\n",
      "1\n",
      "0\n",
      "1\n"
     ]
    }
   ],
   "source": [
    "s = \"python\"\n",
    "for idx in range(len(s)):\n",
    "    print(idx % 2)"
   ]
  },
  {
   "cell_type": "code",
   "execution_count": 9,
   "metadata": {},
   "outputs": [
    {
     "ename": "TypeError",
     "evalue": "__init__() takes 1 positional argument but 2 were given",
     "output_type": "error",
     "traceback": [
      "\u001b[1;31m---------------------------------------------------------------------------\u001b[0m",
      "\u001b[1;31mTypeError\u001b[0m                                 Traceback (most recent call last)",
      "\u001b[1;32m<ipython-input-9-6c8c4635fad4>\u001b[0m in \u001b[0;36m<module>\u001b[1;34m\u001b[0m\n\u001b[0;32m      1\u001b[0m \u001b[1;32mfrom\u001b[0m \u001b[0mPIL\u001b[0m \u001b[1;32mimport\u001b[0m \u001b[0mImage\u001b[0m\u001b[1;33m,\u001b[0m \u001b[0mImageDraw\u001b[0m\u001b[1;33m\u001b[0m\u001b[1;33m\u001b[0m\u001b[0m\n\u001b[0;32m      2\u001b[0m \u001b[1;33m\u001b[0m\u001b[0m\n\u001b[1;32m----> 3\u001b[1;33m \u001b[0mimg\u001b[0m \u001b[1;33m=\u001b[0m \u001b[0mImage\u001b[0m\u001b[1;33m.\u001b[0m\u001b[0mImage\u001b[0m\u001b[1;33m(\u001b[0m\u001b[1;34m\"moin.png\"\u001b[0m\u001b[1;33m)\u001b[0m\u001b[1;33m\u001b[0m\u001b[1;33m\u001b[0m\u001b[0m\n\u001b[0m\u001b[0;32m      4\u001b[0m \u001b[1;33m\u001b[0m\u001b[0m\n\u001b[0;32m      5\u001b[0m \u001b[0mprint\u001b[0m\u001b[1;33m(\u001b[0m\u001b[0mimg\u001b[0m\u001b[1;33m.\u001b[0m\u001b[0mgetWidth\u001b[0m\u001b[1;33m(\u001b[0m\u001b[1;33m)\u001b[0m\u001b[1;33m)\u001b[0m\u001b[1;33m\u001b[0m\u001b[1;33m\u001b[0m\u001b[0m\n",
      "\u001b[1;31mTypeError\u001b[0m: __init__() takes 1 positional argument but 2 were given"
     ]
    }
   ],
   "source": [
    "from PIL import Image, ImageDraw\n",
    "\n",
    "img = Image.Image(\"moin.png\")\n",
    "\n",
    "print(img.getWidth())\n",
    "print(img.getHeight())\n",
    "\n",
    "p = img.getPixel(45, 55)\n",
    "print(p.getRed(), p.getGreen(), p.getBlue())\n"
   ]
  },
  {
   "cell_type": "code",
   "execution_count": 1,
   "metadata": {},
   "outputs": [
    {
     "name": "stdout",
     "output_type": "stream",
     "text": [
      "['M', 'I', 'C', 'H', 'I', 'G', 'A', 'N']\n"
     ]
    }
   ],
   "source": [
    "my_str = \"MICHIGAN\"\n",
    "\n",
    "z = list([i for i in my_str])\n",
    "print(z)"
   ]
  },
  {
   "cell_type": "code",
   "execution_count": 9,
   "metadata": {},
   "outputs": [
    {
     "name": "stdout",
     "output_type": "stream",
     "text": [
      "hello\n",
      "2\n",
      "4\n",
      "6.0\n",
      "7.5\n",
      "234352354\n",
      "the end\n",
      "\n",
      "99\n",
      "<class 'str'>\n",
      "<class 'int'>\n",
      "<class 'int'>\n",
      "<class 'float'>\n",
      "<class 'float'>\n",
      "<class 'int'>\n",
      "<class 'str'>\n",
      "<class 'str'>\n",
      "<class 'int'>\n"
     ]
    }
   ],
   "source": [
    "several_things = [\"hello\", 2, 4, 6.0, 7.5, 234352354, \"the end\", \"\", 99]\n",
    "\n",
    "for i in several_things:\n",
    "    print(i)\n",
    "    \n",
    "for i in several_things:\n",
    "    print(type(i))"
   ]
  },
  {
   "cell_type": "code",
   "execution_count": 12,
   "metadata": {},
   "outputs": [
    {
     "name": "stdout",
     "output_type": "stream",
     "text": [
      "5\n",
      "0\n",
      "7\n",
      "9\n",
      "13\n"
     ]
    }
   ],
   "source": [
    "str_list = [\"hello\", \"\", \"goodbye\", \"wonderful\", \"I love Python\"]\n",
    "\n",
    "# Write your code here.\n",
    "\n",
    "for i in str_list:\n",
    "    print(len(i))"
   ]
  },
  {
   "cell_type": "code",
   "execution_count": 13,
   "metadata": {},
   "outputs": [
    {
     "name": "stdout",
     "output_type": "stream",
     "text": [
      "57\n"
     ]
    }
   ],
   "source": [
    "original_str = \"The quick brown rhino jumped over the extremely lazy fox.\"\n",
    "\n",
    "num_chars = 0\n",
    "\n",
    "for i in original_str:\n",
    "    num_chars = num_chars + 1\n",
    "print(num_chars)"
   ]
  },
  {
   "cell_type": "code",
   "execution_count": 27,
   "metadata": {},
   "outputs": [
    {
     "name": "stdout",
     "output_type": "stream",
     "text": [
      "37\n"
     ]
    }
   ],
   "source": [
    "addition_str = \"2+5+10+20\"\n",
    "\n",
    "sum_val = 0\n",
    "z = addition_str.split('+')\n",
    "\n",
    "for i in z:\n",
    "    k = int(i)\n",
    "    sum_val = sum_val + k\n",
    "    \n",
    "print(sum_val)"
   ]
  },
  {
   "cell_type": "code",
   "execution_count": 32,
   "metadata": {},
   "outputs": [
    {
     "name": "stdout",
     "output_type": "stream",
     "text": [
      "80.67142857142858\n"
     ]
    }
   ],
   "source": [
    "week_temps_f = \"75.1,77.7,83.2,82.5,81.0,79.5,85.7\"\n",
    "\n",
    "sum = 0\n",
    "z = week_temps_f.split(',')\n",
    "\n",
    "for i in z:\n",
    "    k = float(i)\n",
    "    sum = k + sum\n",
    "    avg_temp = sum/len(z)\n",
    "print(avg_temp)"
   ]
  },
  {
   "cell_type": "code",
   "execution_count": 43,
   "metadata": {},
   "outputs": [
    {
     "name": "stdout",
     "output_type": "stream",
     "text": [
      "[3, 5, 5, 5, 6, 4, 3, 9, 4, 3]\n"
     ]
    }
   ],
   "source": [
    "original_str = \"The quick brown rhino jumped over the extremely lazy fox\"\n",
    "\n",
    "z = original_str.split()\n",
    "num_words_list = []\n",
    "\n",
    "for i in z:\n",
    "    num_words_list.append(len(i))\n",
    "    \n",
    "print(num_words_list)"
   ]
  },
  {
   "cell_type": "code",
   "execution_count": 45,
   "metadata": {},
   "outputs": [
    {
     "name": "stdout",
     "output_type": "stream",
     "text": [
      "bbbbbbb\n"
     ]
    }
   ],
   "source": [
    "left = \"\"\n",
    "for i in range(7):\n",
    "    left = left + 'b'\n",
    "print(left)"
   ]
  },
  {
   "cell_type": "code",
   "execution_count": 53,
   "metadata": {},
   "outputs": [
    {
     "name": "stdout",
     "output_type": "stream",
     "text": [
      "['Bring an umbrella.', 'Nice day!', 'Bring an umbrella.', 'Watch out for clouds!', 'Nice day!', 'Nice day!', 'Watch out for clouds!', 'Good for the flowers?']\n"
     ]
    }
   ],
   "source": [
    "percent_rain = [94.3, 45, 100, 78, 16, 5.3, 79, 86]\n",
    "resps = []\n",
    "\n",
    "for i in percent_rain:\n",
    "    if i > 90:\n",
    "        resps.append(\"Bring an umbrella.\")\n",
    "        \n",
    "    elif i >80:\n",
    "        resps.append(\"Good for the flowers?\")   \n",
    "        \n",
    "    elif i > 50:\n",
    "        resps.append(\"Watch out for clouds!\")\n",
    "        \n",
    "    else:\n",
    "        resps.append(\"Nice day!\")\n",
    "        \n",
    "print(resps)"
   ]
  },
  {
   "cell_type": "code",
   "execution_count": 54,
   "metadata": {},
   "outputs": [
    {
     "name": "stdout",
     "output_type": "stream",
     "text": [
      "8\n"
     ]
    }
   ],
   "source": [
    "s = \"what if we went to the zoo\"\n",
    "x = 0\n",
    "for i in s:\n",
    "    if i in ['a', 'e', 'i', 'o', 'u']:\n",
    "        x += 1\n",
    "print(x)"
   ]
  },
  {
   "cell_type": "code",
   "execution_count": 58,
   "metadata": {},
   "outputs": [
    {
     "name": "stdout",
     "output_type": "stream",
     "text": [
      "3\n"
     ]
    }
   ],
   "source": [
    "words = [\"water\", \"chair\", \"pen\", \"basket\", \"hi\", \"car\"]\n",
    "num_words = 0\n",
    "\n",
    "for i in words:\n",
    "    if len(i)>3:\n",
    "        num_words +=1\n",
    "print(num_words)"
   ]
  },
  {
   "cell_type": "markdown",
   "metadata": {},
   "source": [
    "## WEEK 3 ASSIGNMENTS"
   ]
  },
  {
   "cell_type": "markdown",
   "metadata": {},
   "source": [
    "rainfall_mi is a string that contains the average number of inches of rainfall in Michigan for every month (in inches) with every month separated by a comma. Write code to compute the number of months that have more than 3 inches of rainfall. Store the result in the variable num_rainy_months. In other words, count the number of items with values > 3.0.\n",
    "\n"
   ]
  },
  {
   "cell_type": "code",
   "execution_count": 68,
   "metadata": {},
   "outputs": [
    {
     "name": "stdout",
     "output_type": "stream",
     "text": [
      "5\n"
     ]
    }
   ],
   "source": [
    "rainfall_mi = \"1.65, 1.46, 2.05, 3.03, 3.35, 3.46, 2.83, 3.23, 3.5, 2.52, 2.8, 1.85\"\n",
    "z = rainfall_mi.split(',')\n",
    "num_rainy_months = 0\n",
    "\n",
    "for i in z:\n",
    "    if float(i) > 3.0:\n",
    "        num_rainy_months += 1\n",
    "        \n",
    "print(num_rainy_months)"
   ]
  },
  {
   "cell_type": "markdown",
   "metadata": {},
   "source": [
    "Challenge For each word in words, add ‘d’ to the end of the word if the word ends in “e” to make it past tense. Otherwise, add ‘ed’ to make it past tense. Save these past tense words to a list called past_tense.\n",
    "\n"
   ]
  },
  {
   "cell_type": "code",
   "execution_count": 62,
   "metadata": {},
   "outputs": [
    {
     "name": "stdout",
     "output_type": "stream",
     "text": [
      "['adopted', 'baked', 'beamed', 'confided', 'grilled', 'planted', 'timed', 'waved', 'wished']\n"
     ]
    }
   ],
   "source": [
    "words = [\"adopt\", \"bake\", \"beam\", \"confide\", \"grill\", \"plant\", \"time\", \"wave\", \"wish\"]\n",
    "past_tense = []\n",
    "\n",
    "for i in words:\n",
    "    if (i[len(i)-1] == 'e'):\n",
    "        i = i + 'd'\n",
    "        past_tense.append(i)\n",
    "        \n",
    "    else:\n",
    "        i = i + 'ed'\n",
    "        past_tense.append(i)\n",
    "        \n",
    "print(past_tense)"
   ]
  },
  {
   "cell_type": "markdown",
   "metadata": {},
   "source": [
    "The variable sentence stores a string. Write code to determine how many words in sentence start and end with the same letter, including one-letter words. Store the result in the variable same_letter_count.\n",
    "\n"
   ]
  },
  {
   "cell_type": "code",
   "execution_count": 72,
   "metadata": {},
   "outputs": [
    {
     "name": "stdout",
     "output_type": "stream",
     "text": [
      "2\n"
     ]
    }
   ],
   "source": [
    "sentence = \"students flock to the arb for a variety of outdoor activities such as jogging and picnicking\"\n",
    "\n",
    "# Write your code here.\n",
    "same_letter_count = 0\n",
    "\n",
    "z = sentence.split()\n",
    "for i in z:\n",
    "    if i[0]== i[-1]:\n",
    "        same_letter_count += 1\n",
    "print(same_letter_count)"
   ]
  },
  {
   "cell_type": "markdown",
   "metadata": {},
   "source": [
    "Write code to count the number of strings in list items that have the character w in it. Assign that number to the variable acc_num.\n",
    "\n",
    "HINT 1: Use the accumulation pattern!\n",
    "\n",
    "HINT 2: the in operator checks whether a substring is present in a string.\n",
    "\n"
   ]
  },
  {
   "cell_type": "code",
   "execution_count": 75,
   "metadata": {},
   "outputs": [
    {
     "name": "stdout",
     "output_type": "stream",
     "text": [
      "4\n"
     ]
    }
   ],
   "source": [
    "items = [\"whirring\", \"wow!\", \"calendar\", \"wry\", \"glass\", \"\", \"llama\",\"tumultuous\",\"owing\"]\n",
    "acc_num = 0\n",
    "\n",
    "for i in items:\n",
    "    if 'w' in i:\n",
    "        acc_num += 1\n",
    "print(acc_num)"
   ]
  },
  {
   "cell_type": "markdown",
   "metadata": {},
   "source": [
    "Write code that counts the number of words in sentence that contain either an “a” or an “e”. Store the result in the variable num_a_or_e.\n",
    "\n",
    "Note 1: be sure to not double-count words that contain both an a and an e.\n",
    "\n",
    "HINT 1: Use the in operator.\n",
    "\n",
    "HINT 2: You can either use or or elif.\n",
    "\n"
   ]
  },
  {
   "cell_type": "code",
   "execution_count": 79,
   "metadata": {},
   "outputs": [
    {
     "name": "stdout",
     "output_type": "stream",
     "text": [
      "14\n"
     ]
    }
   ],
   "source": [
    "sentence = \"python is a high level general purpose programming language that can be applied to many different classes of problems.\"\n",
    "\n",
    "z = sentence.split()\n",
    "num_a_or_e = 0\n",
    "\n",
    "for i in z:\n",
    "    if 'a' in i:\n",
    "        num_a_or_e +=1\n",
    "    elif 'e' in i:\n",
    "        num_a_or_e +=1\n",
    "print(num_a_or_e)"
   ]
  },
  {
   "cell_type": "markdown",
   "metadata": {},
   "source": [
    "Write code that will count the number of vowels in the sentence s and assign the result to the variable num_vowels. For this problem, vowels are only a, e, i, o, and u. Hint: use the in operator with vowels.\n",
    "\n"
   ]
  },
  {
   "cell_type": "code",
   "execution_count": null,
   "metadata": {},
   "outputs": [],
   "source": [
    "s = \"singing in the rain and playing in the rain are two entirely different situations but both can be fun\"\n",
    "vowels = ['a','e','i','o','u']\n",
    "num_vowels = 0\n",
    "\n",
    "# Write your code here.\n",
    "\n",
    "for i in s:\n",
    "    if i in vowels:\n",
    "        num_vowels +=1\n",
    "        \n",
    "print(num_vowels)"
   ]
  },
  {
   "cell_type": "code",
   "execution_count": 2,
   "metadata": {},
   "outputs": [
    {
     "name": "stdout",
     "output_type": "stream",
     "text": [
      "Many moons and many stars litter the night sky.\n",
      "Many moons and many stars litter the night sky!\n"
     ]
    }
   ],
   "source": [
    "phrase = \"many moons\"\n",
    "phrase_expanded = phrase + \" and many stars\"\n",
    "phrase_larger = phrase_expanded + \" litter\"\n",
    "\n",
    "phrase_complete = \"M\" + phrase_larger[1:] + \" the night sky.\"\n",
    "print(phrase_complete)\n",
    "\n",
    "excited_phrase_complete = phrase_complete[:-1] + \"!\"\n",
    "print(excited_phrase_complete)"
   ]
  },
  {
   "cell_type": "code",
   "execution_count": 26,
   "metadata": {},
   "outputs": [
    {
     "name": "stdout",
     "output_type": "stream",
     "text": [
      "many moon\n"
     ]
    }
   ],
   "source": [
    "print(phrase[:-1])"
   ]
  },
  {
   "cell_type": "code",
   "execution_count": 28,
   "metadata": {},
   "outputs": [],
   "source": [
    "x = [1,2,344,34]\n",
    "y = x"
   ]
  },
  {
   "cell_type": "code",
   "execution_count": 30,
   "metadata": {},
   "outputs": [
    {
     "name": "stdout",
     "output_type": "stream",
     "text": [
      "[1, 2, 344, 34]\n"
     ]
    }
   ],
   "source": [
    "print(y)"
   ]
  },
  {
   "cell_type": "code",
   "execution_count": 31,
   "metadata": {},
   "outputs": [],
   "source": [
    "x.append(0)"
   ]
  },
  {
   "cell_type": "code",
   "execution_count": 32,
   "metadata": {},
   "outputs": [
    {
     "name": "stdout",
     "output_type": "stream",
     "text": [
      "[1, 2, 344, 34, 0]\n"
     ]
    }
   ],
   "source": [
    "print(y)"
   ]
  },
  {
   "cell_type": "code",
   "execution_count": 33,
   "metadata": {},
   "outputs": [],
   "source": [
    "x = x.append(69) # append returns none. so x is now pointing out none"
   ]
  },
  {
   "cell_type": "code",
   "execution_count": 35,
   "metadata": {},
   "outputs": [
    {
     "name": "stdout",
     "output_type": "stream",
     "text": [
      "None\n",
      "[1, 2, 344, 34, 0, 69]\n"
     ]
    }
   ],
   "source": [
    "print(x) \n",
    "print(y)"
   ]
  },
  {
   "cell_type": "code",
   "execution_count": 36,
   "metadata": {},
   "outputs": [],
   "source": [
    "a = 'bonjour'"
   ]
  },
  {
   "cell_type": "code",
   "execution_count": 37,
   "metadata": {},
   "outputs": [
    {
     "data": {
      "text/plain": [
       "'borjour'"
      ]
     },
     "execution_count": 37,
     "metadata": {},
     "output_type": "execute_result"
    }
   ],
   "source": [
    "a.replace('n','r') # strings are immutable. so here its is just giving a copy"
   ]
  },
  {
   "cell_type": "code",
   "execution_count": 38,
   "metadata": {},
   "outputs": [
    {
     "name": "stdout",
     "output_type": "stream",
     "text": [
      "bonjour\n"
     ]
    }
   ],
   "source": [
    "print(a)"
   ]
  },
  {
   "cell_type": "code",
   "execution_count": 39,
   "metadata": {},
   "outputs": [
    {
     "name": "stdout",
     "output_type": "stream",
     "text": [
      "borjour\n"
     ]
    }
   ],
   "source": [
    "a = a.replace('n','r') # now here we are assinging it to a var. now we will get the updated result\n",
    "print(a)"
   ]
  },
  {
   "cell_type": "code",
   "execution_count": 40,
   "metadata": {},
   "outputs": [
    {
     "name": "stdout",
     "output_type": "stream",
     "text": [
      "borjour\n"
     ]
    }
   ],
   "source": [
    "b = a\n",
    "print(b)"
   ]
  },
  {
   "cell_type": "code",
   "execution_count": 41,
   "metadata": {},
   "outputs": [
    {
     "ename": "SyntaxError",
     "evalue": "EOL while scanning string literal (<ipython-input-41-efdacb8b3c0f>, line 1)",
     "output_type": "error",
     "traceback": [
      "\u001b[1;36m  File \u001b[1;32m\"<ipython-input-41-efdacb8b3c0f>\"\u001b[1;36m, line \u001b[1;32m1\u001b[0m\n\u001b[1;33m    b[0] = 'c\u001b[0m\n\u001b[1;37m             ^\u001b[0m\n\u001b[1;31mSyntaxError\u001b[0m\u001b[1;31m:\u001b[0m EOL while scanning string literal\n"
     ]
    }
   ],
   "source": [
    "b[0] = 'c # str can not mutable"
   ]
  },
  {
   "cell_type": "code",
   "execution_count": 32,
   "metadata": {},
   "outputs": [
    {
     "name": "stdout",
     "output_type": "stream",
     "text": [
      "['a', 'x', 'y', 'c', 'd', 'e', 'f']\n"
     ]
    }
   ],
   "source": [
    "alist = ['a', 'b', 'c', 'd', 'e', 'f']\n",
    "alist[1:2] = ['x', 'y'] # x , y will be added. nothing will be removed\n",
    "print(alist)"
   ]
  },
  {
   "cell_type": "code",
   "execution_count": 27,
   "metadata": {},
   "outputs": [
    {
     "name": "stdout",
     "output_type": "stream",
     "text": [
      "7\n",
      "[]\n"
     ]
    }
   ],
   "source": [
    "print(len(alist))\n",
    "print(alist[1:1])"
   ]
  },
  {
   "cell_type": "code",
   "execution_count": 33,
   "metadata": {},
   "outputs": [
    {
     "name": "stdout",
     "output_type": "stream",
     "text": [
      "['a', 'x', 'c', [], 'e', 'f']\n"
     ]
    }
   ],
   "source": [
    "alist[1:1] = [] # wont effect any. \n",
    "alist[4] = [] # empty list added in 4 th place. d will be removed \n",
    "alist[2:3] = [] # item[2] will be removed\n",
    "print(alist)"
   ]
  },
  {
   "cell_type": "code",
   "execution_count": 34,
   "metadata": {},
   "outputs": [
    {
     "name": "stdout",
     "output_type": "stream",
     "text": [
      "['a', 'd', 'j', 'b', 'x', 'c', [], 'e', 'f']\n"
     ]
    }
   ],
   "source": [
    "alist[1:1] = 'djb' # d, and j is added in item[1] and item[2. nothing will be removed\n",
    "print(alist)"
   ]
  },
  {
   "cell_type": "code",
   "execution_count": 89,
   "metadata": {},
   "outputs": [
    {
     "name": "stdout",
     "output_type": "stream",
     "text": [
      "d\n"
     ]
    }
   ],
   "source": [
    "print(alist[1])"
   ]
  },
  {
   "cell_type": "code",
   "execution_count": 35,
   "metadata": {},
   "outputs": [
    {
     "name": "stdout",
     "output_type": "stream",
     "text": [
      "['kkk', 'd', 'j', 'b', 'x', 'c', [], 'e', 'f']\n"
     ]
    }
   ],
   "source": [
    "alist[0] = 'kkk'\n",
    "print(alist)"
   ]
  },
  {
   "cell_type": "code",
   "execution_count": 36,
   "metadata": {},
   "outputs": [
    {
     "name": "stdout",
     "output_type": "stream",
     "text": [
      "['one', 'three']\n",
      "['a', 'f']\n"
     ]
    }
   ],
   "source": [
    "a = ['one', 'two', 'three']\n",
    "del a[1]\n",
    "print(a)\n",
    "\n",
    "alist = ['a', 'b', 'c', 'd', 'e', 'f']\n",
    "del alist[1:5]\n",
    "print(alist)\n"
   ]
  },
  {
   "cell_type": "code",
   "execution_count": 38,
   "metadata": {},
   "outputs": [
    {
     "name": "stdout",
     "output_type": "stream",
     "text": [
      "True\n",
      "2487330903792\n",
      "2487330903792\n"
     ]
    }
   ],
   "source": [
    "a = \"banana\"\n",
    "b = \"banana\"\n",
    "\n",
    "print(a is b)\n",
    "\n",
    "\n",
    "print(id(a))\n",
    "print(id(b))"
   ]
  },
  {
   "cell_type": "code",
   "execution_count": 39,
   "metadata": {},
   "outputs": [
    {
     "name": "stdout",
     "output_type": "stream",
     "text": [
      "False\n",
      "True\n",
      "2487330854088\n",
      "2487330856072\n"
     ]
    }
   ],
   "source": [
    "a = [81,82,83]\n",
    "b = [81,82,83]\n",
    "\n",
    "print(a is b)\n",
    "\n",
    "print(a == b)\n",
    "\n",
    "print(id(a))\n",
    "print(id(b))\n"
   ]
  },
  {
   "cell_type": "code",
   "execution_count": 41,
   "metadata": {},
   "outputs": [
    {
     "name": "stdout",
     "output_type": "stream",
     "text": [
      "False\n",
      "True\n",
      "True\n",
      "True\n",
      "[5, 53, 34]\n"
     ]
    }
   ],
   "source": [
    "a = [83,53,34]\n",
    "b = [83,53,34]\n",
    "\n",
    "print(a is b) # obj is different\n",
    "print(a == b) # obj's value is same\n",
    "\n",
    "b = a # now b and a are referred to same obj\n",
    "print(a is b)\n",
    "print(a == b)\n",
    "\n",
    "b[0] = 5 # when b changes, a will be changed also\n",
    "print(a)"
   ]
  },
  {
   "cell_type": "code",
   "execution_count": 42,
   "metadata": {},
   "outputs": [
    {
     "name": "stdout",
     "output_type": "stream",
     "text": [
      "True\n",
      "False\n",
      "[81, 82, 83]\n",
      "[5, 82, 83]\n"
     ]
    }
   ],
   "source": [
    "a = [81,82,83]\n",
    "\n",
    "b = a[:]       # make a clone using slice\n",
    "print(a == b) # checking either both are same obj or not\n",
    "print(a is b)\n",
    "\n",
    "b[0] = 5\n",
    "\n",
    "print(a)\n",
    "print(b)"
   ]
  },
  {
   "cell_type": "code",
   "execution_count": 43,
   "metadata": {},
   "outputs": [
    {
     "name": "stdout",
     "output_type": "stream",
     "text": [
      "[4, 2, 8, 6, 5]\n"
     ]
    }
   ],
   "source": [
    "alist = [4,2,8,6,5]\n",
    "blist = alist * 2\n",
    "blist[3] = 999\n",
    "print(alist)"
   ]
  },
  {
   "cell_type": "code",
   "execution_count": 48,
   "metadata": {},
   "outputs": [
    {
     "name": "stdout",
     "output_type": "stream",
     "text": [
      "True\n",
      "True\n"
     ]
    }
   ],
   "source": [
    "x = [\"dogs\", \"cats\", \"birds\", \"reptiles\"]\n",
    "y = x\n",
    "\n",
    "print(y is x)\n",
    "print(y==x)\n",
    "\n",
    "x += ['fish', 'horses'] # original object so that the contents of object_two are added to the end of the first.\n",
    "\n",
    "y = y + ['sheep']"
   ]
  },
  {
   "cell_type": "code",
   "execution_count": 45,
   "metadata": {},
   "outputs": [
    {
     "name": "stdout",
     "output_type": "stream",
     "text": [
      "['dogs', 'cats', 'birds', 'reptiles', 'fish', 'horses']\n"
     ]
    }
   ],
   "source": [
    "print(x)"
   ]
  },
  {
   "cell_type": "code",
   "execution_count": 52,
   "metadata": {},
   "outputs": [
    {
     "name": "stdout",
     "output_type": "stream",
     "text": [
      "['The', 'mall', 'has', 'excellent', 'sales', 'right', 'now.']\n",
      "['The', 'store', 'has', 'excellent', 'sales', 'right', 'now.']\n",
      "The store has excellent sales right now.\n"
     ]
    }
   ],
   "source": [
    "sent = \"The mall has excellent sales right now.\"\n",
    "wrds = sent.split()\n",
    "print(wrds)\n",
    "\n",
    "wrds[1] = 'store'\n",
    "print(wrds)\n",
    "\n",
    "new_sent = \" \".join(wrds)\n",
    "print(new_sent)"
   ]
  },
  {
   "cell_type": "code",
   "execution_count": 55,
   "metadata": {},
   "outputs": [
    {
     "name": "stdout",
     "output_type": "stream",
     "text": [
      "origlist: [45, 32, 88]\n",
      "the identifier: 2487330794568\n",
      "newlist: [45, 32, 88, 'cat']\n",
      "the identifier: 2487330794568\n",
      "origlist: [45, 32, 88, 'cat', 'cat']\n",
      "the identifier: 2487330794568\n"
     ]
    }
   ],
   "source": [
    "origlist = [45,32,88]\n",
    "print(\"origlist:\", origlist)\n",
    "print(\"the identifier:\", id(origlist)) #id of the list before changes\n",
    "\n",
    "origlist += ['cat']\n",
    "print(\"newlist:\", origlist)\n",
    "print(\"the identifier:\", id(origlist))              #id of the list after concatentation\n",
    "\n",
    "origlist.append('cat')\n",
    "print(\"origlist:\", origlist)\n",
    "print(\"the identifier:\", id(origlist))  \n",
    "\n"
   ]
  },
  {
   "cell_type": "code",
   "execution_count": 57,
   "metadata": {},
   "outputs": [
    {
     "name": "stdout",
     "output_type": "stream",
     "text": [
      "['jb', 'ed', 'bruno', 'shawn']\n",
      "['jb', 'ed', 'bruno']\n"
     ]
    }
   ],
   "source": [
    "a = ['jb','ed','bruno']\n",
    "\n",
    "b = a\n",
    "\n",
    "a += ['shawn'] # the orginal list will be updated\n",
    "a = a + ['shawn'] # a refering to a new list now. b is reffereing to his past list\n",
    "\n",
    "print(a)\n",
    "print(b)"
   ]
  },
  {
   "cell_type": "code",
   "execution_count": 64,
   "metadata": {},
   "outputs": [
    {
     "name": "stdout",
     "output_type": "stream",
     "text": [
      "hello jb. your score is 2.\n",
      "hello ed. your score is -1.\n",
      "hello bruno. your score is -2.\n"
     ]
    }
   ],
   "source": [
    "z = [('jb', 2),('ed', -1),('bruno', -2)]\n",
    "\n",
    "for i in z:\n",
    "    k = i[0]\n",
    "    s = i[1]\n",
    "    print(\"hello {}. your score is {}.\".format(k, s))"
   ]
  },
  {
   "cell_type": "code",
   "execution_count": 2,
   "metadata": {},
   "outputs": [
    {
     "name": "stdout",
     "output_type": "stream",
     "text": [
      "dj baba\n"
     ]
    }
   ],
   "source": [
    "s = ' dj baba  '\n",
    "z = s.strip()\n",
    "print(z)\n"
   ]
  },
  {
   "cell_type": "code",
   "execution_count": 8,
   "metadata": {},
   "outputs": [
    {
     "name": "stdout",
     "output_type": "stream",
     "text": [
      "['Youyou Tu', 'Rainer Weiss', 'Malala Yousafzai', 'Kazuo Ishiguro', 'Alvin E. Roth', 'Alice Munro']\n"
     ]
    }
   ],
   "source": [
    "winners = ['Alice Munro', 'Alvin E. Roth', 'Kazuo Ishiguro', 'Malala Yousafzai', 'Rainer Weiss', 'Youyou Tu']\n",
    "\n",
    "z_winners = winners\n",
    "z_winners.reverse()\n",
    "print(z_winners)"
   ]
  },
  {
   "cell_type": "code",
   "execution_count": 11,
   "metadata": {},
   "outputs": [
    {
     "name": "stdout",
     "output_type": "stream",
     "text": [
      "['kayaking', 'crying', 'walking', 'eating', 'drinking', 'flying']\n"
     ]
    }
   ],
   "source": [
    "verbs = [\"kayak\", \"cry\", \"walk\", \"eat\", \"drink\", \"fly\"]\n",
    "ing = []\n",
    "\n",
    "for i in verbs:\n",
    "    z = i + 'ing'\n",
    "    ing.append(z)\n",
    "print(ing)"
   ]
  },
  {
   "cell_type": "code",
   "execution_count": 12,
   "metadata": {},
   "outputs": [
    {
     "name": "stdout",
     "output_type": "stream",
     "text": [
      "[10, 15, 20, 25, 30]\n"
     ]
    }
   ],
   "source": [
    "numbs = [5, 10, 15, 20, 25]\n",
    "\n",
    "for i in range(len(numbs)):\n",
    "    numbs[i] = numbs[i] + 5\n",
    "print(numbs)"
   ]
  },
  {
   "cell_type": "code",
   "execution_count": 3,
   "metadata": {},
   "outputs": [
    {
     "name": "stdout",
     "output_type": "stream",
     "text": [
      "B\n",
      "AB\n",
      "LAB\n",
      "LLAB\n"
     ]
    }
   ],
   "source": [
    "s = 'ball'\n",
    "r = \"\"\n",
    "for item in s:\n",
    "    r = item.upper() + r # will add from left side. not like list\n",
    "    print(r)"
   ]
  },
  {
   "cell_type": "code",
   "execution_count": 18,
   "metadata": {},
   "outputs": [
    {
     "name": "stdout",
     "output_type": "stream",
     "text": [
      "['I', ' ', 'l', 'o', 'v', 'e', ' ', 'p', 'y', 't', 'h', 'o', 'n']\n"
     ]
    }
   ],
   "source": [
    "str1 = \"I love python\"\n",
    "char = []\n",
    "\n",
    "for i in str1:\n",
    "    char.append(i)\n",
    "    \n",
    "print(char)"
   ]
  },
  {
   "cell_type": "code",
   "execution_count": 2,
   "metadata": {},
   "outputs": [
    {
     "name": "stdout",
     "output_type": "stream",
     "text": [
      "aaaaaaaaaaaaaaaaaaaaaaaaaaaaaaaaaaa\n"
     ]
    }
   ],
   "source": [
    "output = \"\"\n",
    "for i in range(35):\n",
    "    output = \"a\" + output\n",
    "    \n",
    "print(output)"
   ]
  },
  {
   "cell_type": "code",
   "execution_count": null,
   "metadata": {},
   "outputs": [],
   "source": [
    "colors = [\"Red\", \"Orange\", \"Yellow\", \"Green\", \"Blue\", \"Indigo\", \"Violet\", \"Purple\", \"Pink\", \"Brown\", \"Teal\", \"Turquois\", \"Peach\", \"Beige\"]\n",
    "\n",
    "for i in colors:\n",
    "    if i[0] == 'P':\n",
    "        colors.remove(i)\n",
    "    elif i[0] == 'B':\n",
    "        colors.remove(i)\n",
    "    else:\n",
    "        colors.append(i)\n",
    "print(colors)"
   ]
  },
  {
   "cell_type": "code",
   "execution_count": null,
   "metadata": {},
   "outputs": [],
   "source": [
    "colors = [\"Red\", \"Orange\", \"Yellow\", \"Green\", \"Blue\", \"Indigo\", \"Violet\"]\n",
    "\n",
    "for color in colors:\n",
    "    if color[0] in [\"A\", \"E\", \"I\", \"O\", \"U\"]:\n",
    "        colors.append(color)\n",
    "\n",
    "print(colors)"
   ]
  },
  {
   "cell_type": "code",
   "execution_count": 1,
   "metadata": {},
   "outputs": [
    {
     "name": "stdout",
     "output_type": "stream",
     "text": [
      "['ended', 'worked', 'played', 'started', 'walked', 'looked', 'opened', 'rained', 'learned', 'cleaned']\n"
     ]
    }
   ],
   "source": [
    "wrds = [\"end\", 'work', \"play\", \"start\", \"walk\", \"look\", \"open\", \"rain\", \"learn\", \"clean\"]\n",
    "\n",
    "past_wrds = []\n",
    "\n",
    "for i in wrds:\n",
    "    z = i + \"ed\"\n",
    "    past_wrds.append(z)\n",
    "print(past_wrds)"
   ]
  },
  {
   "cell_type": "markdown",
   "metadata": {},
   "source": [
    "# FINAL ASSIGNMENT"
   ]
  },
  {
   "cell_type": "markdown",
   "metadata": {},
   "source": [
    "Below are a set of scores that students have received in the past semester. Write code to determine how many are 90 or above and assign that result to the value a_scores.\n",
    "\n"
   ]
  },
  {
   "cell_type": "code",
   "execution_count": 13,
   "metadata": {},
   "outputs": [
    {
     "name": "stdout",
     "output_type": "stream",
     "text": [
      "10\n"
     ]
    }
   ],
   "source": [
    "scores = \"67 80 90 78 93 20 79 89 96 97 92 88 79 68 58 90 98 100 79 74 83 88 80 86 85 70 90 100\"\n",
    "a_scores = 0\n",
    "\n",
    "for i in scores.split():\n",
    "    if int(i) >= 90:\n",
    "        a_scores = a_scores + 1\n",
    "        \n",
    "print(a_scores)"
   ]
  },
  {
   "cell_type": "markdown",
   "metadata": {},
   "source": [
    "Write code that uses the string stored in org and creates an acronym which is assigned to the variable acro. Only the first letter of each word should be used, each letter in the acronym should be a capital letter, and there should be nothing to separate the letters of the acronym. Words that should not be included in the acronym are stored in the list stopwords. For example, if org was assigned the string “hello to world” then the resulting acronym should be “HW”.\n",
    "\n"
   ]
  },
  {
   "cell_type": "code",
   "execution_count": 22,
   "metadata": {},
   "outputs": [
    {
     "name": "stdout",
     "output_type": "stream",
     "text": [
      "OHSE\n"
     ]
    }
   ],
   "source": [
    "stopwords = ['to', 'a', 'for', 'by', 'an', 'am', 'the', 'so', 'it', 'and', \"The\"]\n",
    "org = \"The organization for health, safety, and education\"\n",
    "acro = ''\n",
    "\n",
    "z = org.split()\n",
    "\n",
    "\n",
    "for i in z:\n",
    "    if i not in stopwords:\n",
    "        acro = acro + i[0].upper()\n",
    "print(acro)"
   ]
  },
  {
   "cell_type": "code",
   "execution_count": 41,
   "metadata": {},
   "outputs": [
    {
     "name": "stdout",
     "output_type": "stream",
     "text": [
      ".OR.HE.SA.ED\n"
     ]
    }
   ],
   "source": [
    "stopwords = ['to', 'a', 'for', 'by', 'an', 'am', 'the', 'so', 'it', 'and', 'The']\n",
    "sent = \"The water earth and air are vital\"\n",
    "\n",
    "acro = ''\n",
    "\n",
    "z = org.split()\n",
    "\n",
    "for i in z:\n",
    "    if i not in stopwords:\n",
    "        if j != i\n",
    "        acro = acro + '.' + i[0].upper() + i[1].upper()\n",
    "print(acro)"
   ]
  },
  {
   "cell_type": "markdown",
   "metadata": {},
   "source": [
    "Write code that uses the string stored in sent and creates an acronym which is assigned to the variable acro. The first two letters of each word should be used, each letter in the acronym should be a capital letter, and each element of the acronym should be separated by a “. ” (dot and space). Words that should not be included in the acronym are stored in the list stopwords. For example, if sent was assigned the string “height and ewok wonder” then the resulting acronym should be “HE. EW. WO”.\n",
    "\n"
   ]
  },
  {
   "cell_type": "code",
   "execution_count": 52,
   "metadata": {},
   "outputs": [
    {
     "name": "stdout",
     "output_type": "stream",
     "text": [
      "WA. EA. AI. AR. VI\n"
     ]
    }
   ],
   "source": [
    "stopwords = ['to', 'a', 'for', 'by', 'an', 'am', 'the', 'so', 'it', 'and', 'The']\n",
    "sent = \"The water earth and air are vital\"\n",
    "acro = \"\"\n",
    "lst = sent.split()\n",
    "\n",
    "for i in lst:\n",
    "    if i in stopwords:\n",
    "        lst.remove(i)\n",
    "\n",
    "for j in lst:\n",
    "    acro = acro + j[0].upper() + j[1].upper()\n",
    "    if j != lst[-1]:\n",
    "        acro += \". \"\n",
    "        \n",
    "print(acro)"
   ]
  },
  {
   "cell_type": "markdown",
   "metadata": {},
   "source": [
    "A palindrome is a phrase that, if reversed, would read the exact same. Write code that checks if p_phrase is a palindrome by reversing it and then checking if the reversed version is equal to the original. Assign the reversed version of p_phrase to the variable r_phrase so that we can check your work.\n",
    "\n"
   ]
  },
  {
   "cell_type": "code",
   "execution_count": 67,
   "metadata": {},
   "outputs": [
    {
     "name": "stdout",
     "output_type": "stream",
     "text": [
      "was I tac a ro rac a ti saw\n"
     ]
    }
   ],
   "source": [
    "p_phrase = \"was it a car or a cat I saw\"\n",
    "r_phrase = p_phrase[::-1]\n",
    "\n",
    "print(r_phrase)\n",
    "    \n",
    "            "
   ]
  },
  {
   "cell_type": "markdown",
   "metadata": {},
   "source": [
    "Provided is a list of data about a store’s inventory where each item in the list represents the name of an item, how much is in stock, and how much it costs. Print out each item in the list with the same formatting, using the .format method (not string concatenation). For example, the first print statment should read The store has 12 shoes, each for 29.99 USD.\n",
    "\n"
   ]
  },
  {
   "cell_type": "code",
   "execution_count": 84,
   "metadata": {},
   "outputs": [
    {
     "name": "stdout",
     "output_type": "stream",
     "text": [
      "The store has 12 shoes, each for 29.99 USD.\n",
      "The store has 20 shirts, each for 9.99 USD.\n",
      "The store has 25 sweatpants, each for 15.00 USD.\n",
      "The store has 13 scarves, each for 7.75 USD.\n"
     ]
    }
   ],
   "source": [
    "inventory = [\"shoes, 12, 29.99\", \"shirts, 20, 9.99\", \"sweatpants, 25, 15.00\", \"scarves, 13, 7.75\"]\n",
    "\n",
    "for i in inventory:\n",
    "    z = i.split(\",\")\n",
    "    print(\"The store has{} {}, each for{} USD.\".format(z[1],z[0],z[2]))"
   ]
  }
 ],
 "metadata": {
  "kernelspec": {
   "display_name": "Python 3",
   "language": "python",
   "name": "python3"
  },
  "language_info": {
   "codemirror_mode": {
    "name": "ipython",
    "version": 3
   },
   "file_extension": ".py",
   "mimetype": "text/x-python",
   "name": "python",
   "nbconvert_exporter": "python",
   "pygments_lexer": "ipython3",
   "version": "3.7.6"
  }
 },
 "nbformat": 4,
 "nbformat_minor": 4
}
