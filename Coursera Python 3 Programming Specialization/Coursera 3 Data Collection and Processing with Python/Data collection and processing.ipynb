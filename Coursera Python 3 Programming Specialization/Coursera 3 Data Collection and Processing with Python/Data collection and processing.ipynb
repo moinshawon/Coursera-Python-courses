{
 "cells": [
  {
   "cell_type": "code",
   "execution_count": 51,
   "metadata": {},
   "outputs": [
    {
     "name": "stdout",
     "output_type": "stream",
     "text": [
      "[34, 1, 4]\n",
      "34\n",
      "[[0, 1, 2, 3], [34, 4, 2], [34, 1, 4], [69, 169, 269], [2, 2]]\n",
      "[[0, 1, 2, 3], [34, 4, 2], [34, 1, 4], [69, 6969, 269], [2, 2]]\n",
      "[[0, 1, 2, 3], [34, 4, 2], [34, 1, 4], [69, 6969, 269], [2, 2], [0, 1, 2, 3]]\n",
      "[[0, 1, 2, 3], [34, 4, 2], [34, 1, 4], [69, 6969, 269], [2, 2], [0, 1, 2, 3], 34]\n",
      "[[0, 1, 2, 3, 'dj'], [34, 4, 2], [34, 1, 4], [69, 6969, 269], [2, 2], [0, 1, 2, 3, 'dj'], 34]\n",
      "[[0, 1, 2, 3, 'dj'], [34, 4, 2], [34, 1, 4], [69, 6969, 269], [2, 2], [0, 1, 2, 3, 'dj']]\n",
      "[[0, 1, 2, 3, 'dj'], [34, 4, 2], [34, 1, 4], [69, 6969, 269], [0, 1, 2, 3, 'dj']]\n",
      "raihan\n"
     ]
    }
   ],
   "source": [
    "nested1=[[0,1,2,3],[34,4,2],[34,1,4],[2,2],[2,2]]\n",
    "print(nested1[2])\n",
    "print(nested1[2][0])\n",
    "\n",
    "nested1[3]= [69,169,269]\n",
    "print(nested1)\n",
    "\n",
    "nested1[3][1]= 6969\n",
    "print(nested1)\n",
    "\n",
    "#   ' 0th index e jei value oita list er sesh e add hobe '\n",
    "nested1.append(nested1[0])\n",
    "print(nested1)\n",
    "\n",
    "#    '2 no index er 1st position er value add hobe list er sesh e'\n",
    "nested1.append(nested1[2][0])\n",
    "print(nested1)\n",
    "\n",
    "#   ' nested1 er 0th index e je value oita 2 bar ache list e. so, 2 jaigai dj add hobe'\n",
    "nested1[0].append('dj')\n",
    "print(nested1)\n",
    "\n",
    "#  '34 khuje ber kore remove korbe'\n",
    "nested1.remove(nested1[1][0])\n",
    "print(nested1)\n",
    "\n",
    "# 2ta [2,2] thakle prothom ta remove korbe\n",
    "nested1.remove([2,2])\n",
    "print(nested1)\n",
    "\n",
    "#   new list likhe oitar theke 1 number position er value ke print kortesi\n",
    "print(['moin','raihan','bruno','rifat'][1])"
   ]
  },
  {
   "cell_type": "code",
   "execution_count": 1,
   "metadata": {
    "scrolled": true
   },
   "outputs": [
    {
     "name": "stdout",
     "output_type": "stream",
     "text": [
      "[{'jon': 5, 'arya': 2, 'tyrion': 4, 'hodor': 1}]\n",
      "<class 'list'>\n",
      "{'jon': 5, 'arya': 2, 'tyrion': 4, 'hodor': 1}\n",
      "dict_keys(['jon', 'arya', 'tyrion', 'hodor'])\n",
      "dict_values([5, 2, 4, 1])\n",
      "dict_items([('jon', 5), ('arya', 2), ('tyrion', 4), ('hodor', 1)])\n"
     ]
    }
   ],
   "source": [
    "nested2 = [{'jon':5, 'arya':2, 'tyrion':4, 'hodor':1}]\n",
    "print(nested2)\n",
    "print(type(nested2))\n",
    "\n",
    "x=nested2[0]\n",
    "print(x)\n",
    "type(x)\n",
    "\n",
    "print(x.keys())\n",
    "print(x.values())\n",
    "print(x.items())"
   ]
  },
  {
   "cell_type": "code",
   "execution_count": 50,
   "metadata": {},
   "outputs": [
    {
     "name": "stdout",
     "output_type": "stream",
     "text": [
      "1\n",
      "32\n",
      "3\n",
      "[]\n",
      "['window', 'dj', 'baba']\n",
      "ultimate result: window\n",
      "32\n",
      "34\n",
      "23\n",
      "1\n"
     ]
    }
   ],
   "source": [
    "x = [1,2,3,21,3,13,32,13,3, [1,32,3,[]], [['window','dj','baba'],32,34,23,1],'apple','banana']\n",
    "\n",
    "for i in x:\n",
    "    #print('first nested list',i)\n",
    "    if type(i) == list:\n",
    "        for y in i:\n",
    "            print(y)\n",
    "            \n",
    "            if type(y) == list:\n",
    "                for z in y:\n",
    "                    if z == 'window':\n",
    "                        print('ultimate result:',z)\n",
    "\n"
   ]
  },
  {
   "cell_type": "code",
   "execution_count": 88,
   "metadata": {},
   "outputs": [
    {
     "name": "stdout",
     "output_type": "stream",
     "text": [
      "****names****\n",
      "<function square at 0x0000028557799828>\n",
      "<built-in function abs>\n",
      "<function <lambda> at 0x0000028557799CA8>\n",
      "****call each of them****\n",
      "4\n",
      "2\n",
      "-1\n",
      "****just the first one in the list****\n",
      "<function square at 0x0000028557799828>\n",
      "9\n"
     ]
    }
   ],
   "source": [
    "def square(x):\n",
    "    return x*x\n",
    "\n",
    "L = [square, abs, lambda x: x+1]\n",
    "\n",
    "print(\"****names****\")\n",
    "for f in L:\n",
    "    print(f)\n",
    "\n",
    "print(\"****call each of them****\")\n",
    "for f in L:\n",
    "    print(f(-2))\n",
    "\n",
    "print(\"****just the first one in the list****\")\n",
    "print(L[0])\n",
    "print(L[0](3))\n"
   ]
  },
  {
   "cell_type": "code",
   "execution_count": 90,
   "metadata": {},
   "outputs": [
    {
     "name": "stdout",
     "output_type": "stream",
     "text": [
      "horse\n"
     ]
    }
   ],
   "source": [
    "\n",
    "animals = [['cat', 'dog', 'mouse'], ['horse', 'cow', 'goat'], ['cheetah', 'giraffe', 'rhino']]\n",
    "idx1 = animals[1][0]\n",
    "print(idx1)\n"
   ]
  },
  {
   "cell_type": "code",
   "execution_count": 103,
   "metadata": {},
   "outputs": [
    {
     "name": "stdout",
     "output_type": "stream",
     "text": [
      "willow\n"
     ]
    }
   ],
   "source": [
    "\n",
    "data = ['bagel', 'cream cheese', 'breakfast', 'grits', 'eggs', 'bacon', [34, 9, 73, []], [['willow', 'birch', 'elm'], 'apple', 'peach', 'cherry']]\n",
    "plant = data[7][0][0]\n",
    "print(plant)\n"
   ]
  },
  {
   "cell_type": "code",
   "execution_count": 115,
   "metadata": {},
   "outputs": [
    {
     "name": "stdout",
     "output_type": "stream",
     "text": [
      "{'eye': 'blue', 'hair': 'brown'}\n"
     ]
    },
    {
     "data": {
      "text/plain": [
       "dict"
      ]
     },
     "execution_count": 115,
     "metadata": {},
     "output_type": "execute_result"
    }
   ],
   "source": [
    "\n",
    "info = {'personal_data':\n",
    "         {'name': 'Lauren',\n",
    "          'age': 20,\n",
    "          'major': 'Information Science',\n",
    "          'physical_features':\n",
    "             {'color': {'eye': 'blue',\n",
    "                        'hair': 'brown'},\n",
    "              'height': \"5'8\"}\n",
    "         },\n",
    "       'other':\n",
    "         {'favorite_colors': ['purple', 'green', 'blue'],\n",
    "          'interested_in': ['social media', 'intellectual property', 'copyright', 'music', 'books']\n",
    "         }\n",
    "      }\n",
    "\n",
    "color = info['personal_data']['physical_features']['color']\n",
    "print(color)\n",
    "type(color)"
   ]
  },
  {
   "cell_type": "code",
   "execution_count": 127,
   "metadata": {},
   "outputs": [
    {
     "name": "stdout",
     "output_type": "stream",
     "text": [
      "{'key1': {'a': 5, 'c': 90, 5: 50, 'd': {'b': 3, 'c': 'yes'}}, 'key2': {'b': 3, 'c': 'yes'}, 5: {1: 2, 3: 4}}\n"
     ]
    }
   ],
   "source": [
    "d = {'key1': {'a': 5, 'c': 90, 5: 50}, 'key2':{'b': 3, 'c': \"yes\"}}\n",
    "d[5] = {1: 2, 3: 4}\n",
    "d['key1']['d'] = d['key2']\n",
    "print(d)"
   ]
  },
  {
   "cell_type": "code",
   "execution_count": 135,
   "metadata": {},
   "outputs": [
    {
     "name": "stdout",
     "output_type": "stream",
     "text": [
      "\n",
      "\n",
      "\n",
      "{\n",
      " \"resultCount\":25,\n",
      " \"results\": [\n",
      "{\"wrapperType\":\"track\", \"kind\":\"podcast\", \"collectionId\":10892}]}\n",
      "------\n",
      "$$$ <class 'dict'>\n",
      "{'resultCount': 25, 'results': [{'wrapperType': 'track', 'kind': 'podcast', 'collectionId': 10892}]}\n",
      "dict_keys(['resultCount', 'results'])\n",
      "25\n"
     ]
    }
   ],
   "source": [
    "# ///////////////////////////// ********************** /////////////////////////////////////////\n",
    "# ////////////////////////////        JSON             ////////////////////////////////////////\n",
    "# //////////////////////////// ********************** /////////////////////////////////////////\n",
    "\n",
    "# loads will take JSON string and convert it into dictionaries\n",
    "\n",
    "import json\n",
    "a_string = '\\n\\n\\n{\\n \"resultCount\":25,\\n \"results\": [\\n{\"wrapperType\":\"track\", \"kind\":\"podcast\", \"collectionId\":10892}]}'\n",
    "print(a_string)\n",
    "d = json.loads(a_string)\n",
    "\n",
    "print(\"------\")\n",
    "print('$$$',type(d))\n",
    "print(d)\n",
    "print(d.keys())\n",
    "print(d['resultCount'])\n",
    "# print(a_string['resultCount'])\n"
   ]
  },
  {
   "cell_type": "code",
   "execution_count": 166,
   "metadata": {},
   "outputs": [
    {
     "name": "stdout",
     "output_type": "stream",
     "text": [
      "{'key1': {'c': True, 'a': 90, '5': 50}, 'key2': {'b': 3, 'c': 'yes'}}\n",
      "--------\n",
      "{\n",
      "  \"key1\": {\n",
      "    \"5\": 50,\n",
      "    \"a\": 90,\n",
      "    \"c\": true\n",
      "  },\n",
      "  \"key2\": {\n",
      "    \"b\": 3,\n",
      "    \"c\": \"yes\"\n",
      "  }\n",
      "}\n",
      "<class 'str'>\n",
      "{\n"
     ]
    }
   ],
   "source": [
    "# dumps will take dictionaries and convert it into JASON format string\n",
    "\n",
    "import json\n",
    "def pretty(obj):\n",
    "    return json.dumps(obj, sort_keys=True, indent=2)\n",
    "\n",
    "d = {'key1': {'c': True, 'a': 90, '5': 50}, 'key2':{'b': 3, 'c': \"yes\"}}\n",
    "\n",
    "print(d)\n",
    "print('--------')\n",
    "z = pretty(d)\n",
    "print(z)\n",
    "print(type(z))\n",
    "print(z[0])\n"
   ]
  },
  {
   "cell_type": "code",
   "execution_count": 142,
   "metadata": {},
   "outputs": [
    {
     "name": "stdout",
     "output_type": "stream",
     "text": [
      "[{'Library Data': {'count': 3500, 'rows': 10, 'locations': 3}}, {'Movie Theater Data': {'count': 8, 'rows': 25, 'locations': 2}}]\n"
     ]
    },
    {
     "data": {
      "text/plain": [
       "list"
      ]
     },
     "execution_count": 142,
     "metadata": {},
     "output_type": "execute_result"
    }
   ],
   "source": [
    "import json\n",
    "entertainment = \"\"\"[{\"Library Data\": {\"count\": 3500, \"rows\": 10, \"locations\": 3}}, {\"Movie Theater Data\": {\"count\": 8, \"rows\": 25, \"locations\": 2}}]\"\"\"\n",
    "d = json.loads(entertainment)\n",
    "print(d)\n",
    "type(d)"
   ]
  },
  {
   "cell_type": "code",
   "execution_count": 20,
   "metadata": {},
   "outputs": [
    {
     "name": "stdout",
     "output_type": "stream",
     "text": [
      "lavel 1\n",
      "[0, 1, 2, 3]\n",
      "lavel 1\n",
      "34\n",
      "4\n",
      "2\n",
      "lavel 1\n",
      "34\n",
      "1\n",
      "4\n",
      "lavel 1\n",
      "2\n",
      "2\n",
      "lavel 1\n",
      "2\n",
      "2\n"
     ]
    }
   ],
   "source": [
    "x = [[[0,1,2,3]],[34,4,2],[34,1,4],[2,2],[2,2]]\n",
    "for i in x:\n",
    "    print('lavel 1')\n",
    "    for j in i:\n",
    "        print(j)\n",
    "        "
   ]
  },
  {
   "cell_type": "code",
   "execution_count": 37,
   "metadata": {},
   "outputs": [
    {
     "name": "stdout",
     "output_type": "stream",
     "text": [
      "['Turner', 'Damon', 'Wiig', 'Phelps', 'Obama']\n"
     ]
    }
   ],
   "source": [
    "info = [['Tina', 'Turner', 1939, 'singer'], ['Matt', 'Damon', 1970, 'actor'], ['Kristen', 'Wiig', 1973, 'comedian'], ['Michael', 'Phelps', 1985, 'swimmer'], ['Barack', 'Obama', 1961, 'president']]\n",
    "last_names = []\n",
    "\n",
    "for i in info:\n",
    "    last_names.append(i[1])\n",
    "print(last_names)"
   ]
  },
  {
   "cell_type": "code",
   "execution_count": 35,
   "metadata": {},
   "outputs": [
    {
     "name": "stdout",
     "output_type": "stream",
     "text": [
      "['bananas', 'blueberries', 'cucumbers', 'green beans', 'root beer', 'cranberry juice']\n",
      "['bananas', 'blueberries', 'cucumbers', 'green beans', 'root beer', 'cranberry juice', 'bananas', 'blueberries', 'cucumbers', 'green beans', 'root beer', 'cranberry juice']\n"
     ]
    }
   ],
   "source": [
    "\n",
    "L = [['apples', 'bananas', 'oranges', 'blueberries', 'lemons'], ['carrots', 'peas', 'cucumbers', 'green beans'], ['root beer', 'smoothies', 'cranberry juice']]\n",
    "b_string = []\n",
    "\n",
    "for lst in L:\n",
    "    for word in lst:\n",
    "        if 'b' in word:\n",
    "            b_string.append(word)\n",
    "print(b_string)\n",
    "\n",
    "for lst in L:\n",
    "    for word in lst:\n",
    "        for char in word:\n",
    "            if char == 'b':\n",
    "                b_string.append(word)\n",
    "                break\n",
    "print(b_string)\n"
   ]
  },
  {
   "cell_type": "code",
   "execution_count": 51,
   "metadata": {},
   "outputs": [
    {
     "name": "stdout",
     "output_type": "stream",
     "text": [
      "1\n",
      "2\n",
      "a\n",
      "b\n",
      "c\n",
      "d\n",
      "e\n",
      "f\n",
      "g\n",
      "h\n"
     ]
    }
   ],
   "source": [
    "nested1 = [1, 2, ['a', 'b', 'c'],['d', 'e'],['f', 'g', 'h']]\n",
    "\n",
    "for i in nested1:\n",
    "    if type(i) == list:\n",
    "        for y in i:\n",
    "            print(y)\n",
    "    else:\n",
    "        print(i)\n"
   ]
  },
  {
   "cell_type": "code",
   "execution_count": 57,
   "metadata": {},
   "outputs": [
    {
     "name": "stdout",
     "output_type": "stream",
     "text": [
      "[['dogs', 'puppies'], ['cats', 'kittens']]\n",
      "False\n",
      "True\n",
      "[['dogs', 'puppies', ['canines']], ['cats', 'kittens']]\n",
      "-------- Now look at the copied version -----------\n",
      "as both obj are pointing same list, if the list is changed then both obj value will be changed\n",
      "[['dogs', 'puppies', ['canines']], ['cats', 'kittens']]\n"
     ]
    }
   ],
   "source": [
    "# /////////////////////// ****************************** ///////////////////////////\n",
    "# //////////////////////          shallow copies        ///////////////////////////\n",
    "# /////////////////////// ****************************** ///////////////////////////\n",
    "\n",
    "\n",
    "original = [['dogs', 'puppies'], ['cats', \"kittens\"]]\n",
    "copied_version = original[:] # both obj pointing same elements\n",
    "print(copied_version)\n",
    "print(copied_version is original) # both var pointing different obj\n",
    "print(copied_version == original) # both var pointing same elements\n",
    "original[0].append([\"canines\"])\n",
    "print(original)\n",
    "print(\"-------- Now look at the copied version -----------\")\n",
    "print('as both obj are pointing same list, if the list is changed then both obj value will be changed')\n",
    "print(copied_version)\n"
   ]
  },
  {
   "cell_type": "code",
   "execution_count": 60,
   "metadata": {},
   "outputs": [
    {
     "name": "stdout",
     "output_type": "stream",
     "text": [
      "inner list ['dogs', 'puppies']\n",
      "copied inner list are: ['dogs']\n",
      "copied inner list are: ['dogs', 'puppies']\n",
      "inner list ['cats', 'kittens']\n",
      "copied inner list are: ['cats']\n",
      "copied inner list are: ['cats', 'kittens']\n",
      "[['dogs', 'puppies'], ['cats', 'kittens']]\n",
      "[['dogs', 'puppies', ['canines']], ['cats', 'kittens']]\n",
      "-------- Now look at the copied version -----------\n",
      "[['dogs', 'puppies'], ['cats', 'kittens']]\n"
     ]
    }
   ],
   "source": [
    "original = [['dogs', 'puppies'], ['cats', \"kittens\"]]\n",
    "copied_outer_list = [] # different var pointing different obj and differet obj pointing different elements\n",
    "\n",
    "for inner_list in original:\n",
    "    print('inner list',inner_list)\n",
    "    copied_inner_list = []\n",
    "    \n",
    "    for item in inner_list:\n",
    "        copied_inner_list.append(item)\n",
    "        print('copied inner list are:',copied_inner_list)\n",
    "        \n",
    "    copied_outer_list.append(copied_inner_list)\n",
    "    \n",
    "print(copied_outer_list)\n",
    "\n",
    "original[0].append([\"canines\"])\n",
    "print(original)\n",
    "print(\"-------- Now look at the copied version -----------\")\n",
    "print(copied_outer_list)\n"
   ]
  },
  {
   "cell_type": "code",
   "execution_count": 61,
   "metadata": {},
   "outputs": [
    {
     "name": "stdout",
     "output_type": "stream",
     "text": [
      "[['dogs', 'puppies'], ['cats', 'kittens']]\n",
      "[['dogs', 'puppies', ['canines']], ['cats', 'kittens']]\n",
      "-------- Now look at the copied version -----------\n",
      "[['dogs', 'puppies'], ['cats', 'kittens']]\n"
     ]
    }
   ],
   "source": [
    "original = [['dogs', 'puppies'], ['cats', \"kittens\"]]\n",
    "copied_outer_list = []\n",
    "for inner_list in original:\n",
    "    copied_inner_list = inner_list[:] # first bar change thake. jodi vitore ar ekta list thakto then oita same hoto\n",
    "    copied_outer_list.append(copied_inner_list)\n",
    "print(copied_outer_list)\n",
    "original[0].append([\"canines\"])\n",
    "print(original)\n",
    "print(\"-------- Now look at the copied version -----------\")\n",
    "print(copied_outer_list)\n"
   ]
  },
  {
   "cell_type": "code",
   "execution_count": 62,
   "metadata": {},
   "outputs": [
    {
     "name": "stdout",
     "output_type": "stream",
     "text": [
      "-------- Original -----------\n",
      "[['canines', ['dogs', 'puppies'], ['marsupials']], ['felines', ['cats', 'kittens']], 'Hi there']\n",
      "-------- deep copy -----------\n",
      "[['canines', ['dogs', 'puppies']], ['felines', ['cats', 'kittens']]]\n",
      "-------- shallow copy -----------\n",
      "[['canines', ['dogs', 'puppies'], ['marsupials']], ['felines', ['cats', 'kittens']]]\n"
     ]
    }
   ],
   "source": [
    "import copy\n",
    "original = [['canines', ['dogs', 'puppies']], ['felines', ['cats', 'kittens']]]\n",
    "shallow_copy_version = original[:]\n",
    "deeply_copied_version = copy.deepcopy(original)\n",
    "original.append(\"Hi there\")\n",
    "original[0].append([\"marsupials\"])\n",
    "print(\"-------- Original -----------\")\n",
    "print(original)\n",
    "print(\"-------- deep copy -----------\")\n",
    "print(deeply_copied_version)\n",
    "print(\"-------- shallow copy -----------\")\n",
    "print(shallow_copy_version)\n"
   ]
  },
  {
   "cell_type": "code",
   "execution_count": 2,
   "metadata": {},
   "outputs": [],
   "source": [
    "res = {\n",
    "  \"search_metadata\": {\n",
    "    \"count\": 3,\n",
    "    \"completed_in\": 0.015,\n",
    "    \"max_id_str\": \"536624519285583872\",\n",
    "    \"since_id_str\": \"0\",\n",
    "    \"next_results\": \"?max_id=536623674942439424&q=University%20of%20Michigan&count=3&include_entities=1\",\n",
    "    \"refresh_url\": \"?since_id=536624519285583872&q=University%20of%20Michigan&include_entities=1\",\n",
    "    \"since_id\": 0,\n",
    "    \"query\": \"University+of+Michigan\",\n",
    "    \"max_id\": 536624519285583872\n",
    "  },\n",
    "  \"statuses\": [\n",
    "    {\n",
    "      \"contributors\": None,\n",
    "      \"truncated\": False,\n",
    "      \"text\": \"RT @mikeweber25: I'm decommiting from the university of Michigan thank you Michigan for the love and support I'll remake my decision at the\\u2026\",\n",
    "      \"in_reply_to_status_id\": None,\n",
    "      \"id\": 536624519285583872,\n",
    "      \"favorite_count\": 0,\n",
    "      \"source\": \"<a href=\\\"http://twitter.com/download/iphone\\\" rel=\\\"nofollow\\\">Twitter for iPhone</a>\",\n",
    "      \"retweeted\": False,\n",
    "      \"coordinates\": None,\n",
    "      \"entities\": {\n",
    "        \"symbols\": [],\n",
    "        \"user_mentions\": [\n",
    "          {\n",
    "            \"id\": 1119996684,\n",
    "            \"indices\": [\n",
    "              3,\n",
    "              15\n",
    "            ],\n",
    "            \"id_str\": \"1119996684\",\n",
    "            \"screen_name\": \"mikeweber25\",\n",
    "            \"name\": \"Mikey\"\n",
    "          }\n",
    "        ],\n",
    "        \"hashtags\": [],\n",
    "        \"urls\": []\n",
    "      },\n",
    "      \"in_reply_to_screen_name\": None,\n",
    "      \"in_reply_to_user_id\": None,\n",
    "      \"retweet_count\": 2014,\n",
    "      \"id_str\": \"536624519285583872\",\n",
    "      \"favorited\": False,\n",
    "      \"retweeted_status\": {\n",
    "        \"contributors\": None,\n",
    "        \"truncated\": False,\n",
    "        \"text\": \"I'm decommiting from the university of Michigan thank you Michigan for the love and support I'll remake my decision at the army bowl\",\n",
    "        \"in_reply_to_status_id\": None,\n",
    "        \"id\": 536300265616322560,\n",
    "        \"favorite_count\": 1583,\n",
    "        \"source\": \"<a href=\\\"http://twitter.com/download/iphone\\\" rel=\\\"nofollow\\\">Twitter for iPhone</a>\",\n",
    "        \"retweeted\": False,\n",
    "        \"coordinates\": None,\n",
    "        \"entities\": {\n",
    "          \"symbols\": [],\n",
    "          \"user_mentions\": [],\n",
    "          \"hashtags\": [],\n",
    "          \"urls\": []\n",
    "        },\n",
    "        \"in_reply_to_screen_name\": None,\n",
    "        \"in_reply_to_user_id\": None,\n",
    "        \"retweet_count\": 2014,\n",
    "        \"id_str\": \"536300265616322560\",\n",
    "        \"favorited\": False,\n",
    "        \"user\": {\n",
    "          \"follow_request_sent\": False,\n",
    "          \"profile_use_background_image\": True,\n",
    "          \"profile_text_color\": \"666666\",\n",
    "          \"default_profile_image\": False,\n",
    "          \"id\": 1119996684,\n",
    "          \"profile_background_image_url_https\": \"https://abs.twimg.com/images/themes/theme9/bg.gif\",\n",
    "          \"verified\": False,\n",
    "          \"profile_location\": None,\n",
    "          \"profile_image_url_https\": \"https://pbs.twimg.com/profile_images/534465900343083008/A09dIq1d_normal.jpeg\",\n",
    "          \"profile_sidebar_fill_color\": \"252429\",\n",
    "          \"entities\": {\n",
    "            \"description\": {\n",
    "              \"urls\": []\n",
    "            }\n",
    "          },\n",
    "          \"followers_count\": 5444,\n",
    "          \"profile_sidebar_border_color\": \"FFFFFF\",\n",
    "          \"id_str\": \"1119996684\",\n",
    "          \"profile_background_color\": \"C0DEED\",\n",
    "          \"listed_count\": 36,\n",
    "          \"is_translation_enabled\": False,\n",
    "          \"utc_offset\": None,\n",
    "          \"statuses_count\": 6525,\n",
    "          \"description\": \"Mike Weber (U.S Army All American) DETROIT CTSENIOR State Champion\",\n",
    "          \"friends_count\": 693,\n",
    "          \"location\": \"\",\n",
    "          \"profile_link_color\": \"0084B4\",\n",
    "          \"profile_image_url\": \"http://pbs.twimg.com/profile_images/534465900343083008/A09dIq1d_normal.jpeg\",\n",
    "          \"following\": False,\n",
    "          \"geo_enabled\": False,\n",
    "          \"profile_banner_url\": \"https://pbs.twimg.com/profile_banners/1119996684/1416261575\",\n",
    "          \"profile_background_image_url\": \"http://abs.twimg.com/images/themes/theme9/bg.gif\",\n",
    "          \"name\": \"Mikey\",\n",
    "          \"lang\": \"en\",\n",
    "          \"profile_background_tile\": False,\n",
    "          \"favourites_count\": 1401,\n",
    "          \"screen_name\": \"mikeweber25\",\n",
    "          \"notifications\": False,\n",
    "          \"url\": None,\n",
    "          \"created_at\": \"Fri Jan 25 18:45:53 +0000 2013\",\n",
    "          \"contributors_enabled\": False,\n",
    "          \"time_zone\": None,\n",
    "          \"protected\": False,\n",
    "          \"default_profile\": False,\n",
    "          \"is_translator\": False\n",
    "        },\n",
    "        \"geo\": None,\n",
    "        \"in_reply_to_user_id_str\": None,\n",
    "        \"lang\": \"en\",\n",
    "        \"created_at\": \"Sat Nov 22 23:28:41 +0000 2014\",\n",
    "        \"in_reply_to_status_id_str\": None,\n",
    "        \"place\": None,\n",
    "        \"metadata\": {\n",
    "          \"iso_language_code\": \"en\",\n",
    "          \"result_type\": \"recent\"\n",
    "        }\n",
    "      },\n",
    "      \"user\": {\n",
    "        \"follow_request_sent\": False,\n",
    "        \"profile_use_background_image\": True,\n",
    "        \"profile_text_color\": \"333333\",\n",
    "        \"default_profile_image\": False,\n",
    "        \"id\": 2435537208,\n",
    "        \"profile_background_image_url_https\": \"https://abs.twimg.com/images/themes/theme1/bg.png\",\n",
    "        \"verified\": False,\n",
    "        \"profile_location\": None,\n",
    "        \"profile_image_url_https\": \"https://pbs.twimg.com/profile_images/532694075947110400/oZEP5XNQ_normal.jpeg\",\n",
    "        \"profile_sidebar_fill_color\": \"DDEEF6\",\n",
    "        \"entities\": {\n",
    "          \"description\": {\n",
    "            \"urls\": []\n",
    "          }\n",
    "        },\n",
    "        \"followers_count\": 161,\n",
    "        \"profile_sidebar_border_color\": \"C0DEED\",\n",
    "        \"id_str\": \"2435537208\",\n",
    "        \"profile_background_color\": \"C0DEED\",\n",
    "        \"listed_count\": 0,\n",
    "        \"is_translation_enabled\": False,\n",
    "        \"utc_offset\": None,\n",
    "        \"statuses_count\": 524,\n",
    "        \"description\": \"Delasalle '17 Baseball & Football.\",\n",
    "        \"friends_count\": 255,\n",
    "        \"location\": \"\",\n",
    "        \"profile_link_color\": \"0084B4\",\n",
    "        \"profile_image_url\": \"http://pbs.twimg.com/profile_images/532694075947110400/oZEP5XNQ_normal.jpeg\",\n",
    "        \"following\": False,\n",
    "        \"geo_enabled\": False,\n",
    "        \"profile_banner_url\": \"https://pbs.twimg.com/profile_banners/2435537208/1406779364\",\n",
    "        \"profile_background_image_url\": \"http://abs.twimg.com/images/themes/theme1/bg.png\",\n",
    "        \"name\": \"Andrew Brooks\",\n",
    "        \"lang\": \"en\",\n",
    "        \"profile_background_tile\": False,\n",
    "        \"favourites_count\": 555,\n",
    "        \"screen_name\": \"31brooks_\",\n",
    "        \"notifications\": False,\n",
    "        \"url\": None,\n",
    "        \"created_at\": \"Wed Apr 09 14:34:41 +0000 2014\",\n",
    "        \"contributors_enabled\": False,\n",
    "        \"time_zone\": None,\n",
    "        \"protected\": False,\n",
    "        \"default_profile\": True,\n",
    "        \"is_translator\": False\n",
    "      },\n",
    "      \"geo\": None,\n",
    "      \"in_reply_to_user_id_str\": None,\n",
    "      \"lang\": \"en\",\n",
    "      \"created_at\": \"Sun Nov 23 20:57:10 +0000 2014\",\n",
    "      \"in_reply_to_status_id_str\": None,\n",
    "      \"place\": None,\n",
    "      \"metadata\": {\n",
    "        \"iso_language_code\": \"en\",\n",
    "        \"result_type\": \"recent\"\n",
    "      }\n",
    "    },\n",
    "    {\n",
    "      \"contributors\": None,\n",
    "      \"truncated\": False,\n",
    "      \"text\": \"RT @Plantedd: The University of Michigan moved a big Bur Oak yesterday. 65ft tall. 350+ tons. http://t.co/v2Y6vl3f9e\",\n",
    "      \"in_reply_to_status_id\": None,\n",
    "      \"id\": 536624216305848320,\n",
    "      \"favorite_count\": 0,\n",
    "      \"source\": \"<a href=\\\"http://tapbots.com/tweetbot\\\" rel=\\\"nofollow\\\">Tweetbot for i\\u039fS</a>\",\n",
    "      \"retweeted\": False,\n",
    "      \"coordinates\": None,\n",
    "      \"entities\": {\n",
    "        \"symbols\": [],\n",
    "        \"user_mentions\": [\n",
    "          {\n",
    "            \"id\": 462890283,\n",
    "            \"indices\": [\n",
    "              3,\n",
    "              12\n",
    "            ],\n",
    "            \"id_str\": \"462890283\",\n",
    "            \"screen_name\": \"Plantedd\",\n",
    "            \"name\": \"David Wong\"\n",
    "          }\n",
    "        ],\n",
    "        \"hashtags\": [],\n",
    "        \"urls\": [],\n",
    "        \"media\": [\n",
    "          {\n",
    "            \"source_status_id_str\": \"526276522374889472\",\n",
    "            \"expanded_url\": \"http://twitter.com/Plantedd/status/526276522374889472/photo/1\",\n",
    "            \"display_url\": \"pic.twitter.com/v2Y6vl3f9e\",\n",
    "            \"url\": \"http://t.co/v2Y6vl3f9e\",\n",
    "            \"media_url_https\": \"https://pbs.twimg.com/media/B021tLsIYAADq21.jpg\",\n",
    "            \"source_status_id\": 526276522374889472,\n",
    "            \"id_str\": \"526276519308845056\",\n",
    "            \"sizes\": {\n",
    "              \"small\": {\n",
    "                \"h\": 191,\n",
    "                \"resize\": \"fit\",\n",
    "                \"w\": 340\n",
    "              },\n",
    "              \"large\": {\n",
    "                \"h\": 576,\n",
    "                \"resize\": \"fit\",\n",
    "                \"w\": 1024\n",
    "              },\n",
    "              \"medium\": {\n",
    "                \"h\": 337,\n",
    "                \"resize\": \"fit\",\n",
    "                \"w\": 600\n",
    "              },\n",
    "              \"thumb\": {\n",
    "                \"h\": 150,\n",
    "                \"resize\": \"crop\",\n",
    "                \"w\": 150\n",
    "              }\n",
    "            },\n",
    "            \"indices\": [\n",
    "              94,\n",
    "              116\n",
    "            ],\n",
    "            \"type\": \"photo\",\n",
    "            \"id\": 526276519308845056,\n",
    "            \"media_url\": \"http://pbs.twimg.com/media/B021tLsIYAADq21.jpg\"\n",
    "          }\n",
    "        ]\n",
    "      },\n",
    "      \"in_reply_to_screen_name\": None,\n",
    "      \"in_reply_to_user_id\": None,\n",
    "      \"retweet_count\": 27,\n",
    "      \"id_str\": \"536624216305848320\",\n",
    "      \"favorited\": False,\n",
    "      \"retweeted_status\": {\n",
    "        \"contributors\": None,\n",
    "        \"truncated\": False,\n",
    "        \"text\": \"The University of Michigan moved a big Bur Oak yesterday. 65ft tall. 350+ tons. http://t.co/v2Y6vl3f9e\",\n",
    "        \"in_reply_to_status_id\": None,\n",
    "        \"id\": 526276522374889472,\n",
    "        \"favorite_count\": 25,\n",
    "        \"source\": \"<a href=\\\"http://twitter.com/download/iphone\\\" rel=\\\"nofollow\\\">Twitter for iPhone</a>\",\n",
    "        \"retweeted\": False,\n",
    "        \"coordinates\": None,\n",
    "        \"entities\": {\n",
    "          \"symbols\": [],\n",
    "          \"user_mentions\": [],\n",
    "          \"hashtags\": [],\n",
    "          \"urls\": [],\n",
    "          \"media\": [\n",
    "            {\n",
    "              \"expanded_url\": \"http://twitter.com/Plantedd/status/526276522374889472/photo/1\",\n",
    "              \"display_url\": \"pic.twitter.com/v2Y6vl3f9e\",\n",
    "              \"url\": \"http://t.co/v2Y6vl3f9e\",\n",
    "              \"media_url_https\": \"https://pbs.twimg.com/media/B021tLsIYAADq21.jpg\",\n",
    "              \"id_str\": \"526276519308845056\",\n",
    "              \"sizes\": {\n",
    "                \"small\": {\n",
    "                  \"h\": 191,\n",
    "                  \"resize\": \"fit\",\n",
    "                  \"w\": 340\n",
    "                },\n",
    "                \"large\": {\n",
    "                  \"h\": 576,\n",
    "                  \"resize\": \"fit\",\n",
    "                  \"w\": 1024\n",
    "                },\n",
    "                \"medium\": {\n",
    "                  \"h\": 337,\n",
    "                  \"resize\": \"fit\",\n",
    "                  \"w\": 600\n",
    "                },\n",
    "                \"thumb\": {\n",
    "                  \"h\": 150,\n",
    "                  \"resize\": \"crop\",\n",
    "                  \"w\": 150\n",
    "                }\n",
    "              },\n",
    "              \"indices\": [\n",
    "                80,\n",
    "                102\n",
    "              ],\n",
    "              \"type\": \"photo\",\n",
    "              \"id\": 526276519308845056,\n",
    "              \"media_url\": \"http://pbs.twimg.com/media/B021tLsIYAADq21.jpg\"\n",
    "            }\n",
    "          ]\n",
    "        },\n",
    "        \"in_reply_to_screen_name\": None,\n",
    "        \"in_reply_to_user_id\": None,\n",
    "        \"retweet_count\": 27,\n",
    "        \"id_str\": \"526276522374889472\",\n",
    "        \"favorited\": False,\n",
    "        \"user\": {\n",
    "          \"follow_request_sent\": False,\n",
    "          \"profile_use_background_image\": True,\n",
    "          \"profile_text_color\": \"333333\",\n",
    "          \"default_profile_image\": False,\n",
    "          \"id\": 462890283,\n",
    "          \"profile_background_image_url_https\": \"https://abs.twimg.com/images/themes/theme1/bg.png\",\n",
    "          \"verified\": False,\n",
    "          \"profile_location\": None,\n",
    "          \"profile_image_url_https\": \"https://pbs.twimg.com/profile_images/1791926707/Plantedd_Logo__square__normal.jpg\",\n",
    "          \"profile_sidebar_fill_color\": \"DDEEF6\",\n",
    "          \"entities\": {\n",
    "            \"url\": {\n",
    "              \"urls\": [\n",
    "                {\n",
    "                  \"url\": \"http://t.co/ZOnsCHvoKt\",\n",
    "                  \"indices\": [\n",
    "                    0,\n",
    "                    22\n",
    "                  ],\n",
    "                  \"expanded_url\": \"http://www.plantedd.com\",\n",
    "                  \"display_url\": \"plantedd.com\"\n",
    "                }\n",
    "              ]\n",
    "            },\n",
    "            \"description\": {\n",
    "              \"urls\": []\n",
    "            }\n",
    "          },\n",
    "          \"followers_count\": 2598,\n",
    "          \"profile_sidebar_border_color\": \"C0DEED\",\n",
    "          \"id_str\": \"462890283\",\n",
    "          \"profile_background_color\": \"C0DEED\",\n",
    "          \"listed_count\": 61,\n",
    "          \"is_translation_enabled\": False,\n",
    "          \"utc_offset\": 0,\n",
    "          \"statuses_count\": 8157,\n",
    "          \"description\": \"Hello, I'm the supervillain behind Plantedd. We're an online market for plant lovers plotting to take over the world by making it simple to find and buy plants.\",\n",
    "          \"friends_count\": 2664,\n",
    "          \"location\": \"UK\",\n",
    "          \"profile_link_color\": \"0084B4\",\n",
    "          \"profile_image_url\": \"http://pbs.twimg.com/profile_images/1791926707/Plantedd_Logo__square__normal.jpg\",\n",
    "          \"following\": False,\n",
    "          \"geo_enabled\": False,\n",
    "          \"profile_banner_url\": \"https://pbs.twimg.com/profile_banners/462890283/1398254314\",\n",
    "          \"profile_background_image_url\": \"http://abs.twimg.com/images/themes/theme1/bg.png\",\n",
    "          \"name\": \"David Wong\",\n",
    "          \"lang\": \"en\",\n",
    "          \"profile_background_tile\": False,\n",
    "          \"favourites_count\": 371,\n",
    "          \"screen_name\": \"Plantedd\",\n",
    "          \"notifications\": False,\n",
    "          \"url\": \"http://t.co/ZOnsCHvoKt\",\n",
    "          \"created_at\": \"Fri Jan 13 13:46:46 +0000 2012\",\n",
    "          \"contributors_enabled\": False,\n",
    "          \"time_zone\": \"Edinburgh\",\n",
    "          \"protected\": False,\n",
    "          \"default_profile\": True,\n",
    "          \"is_translator\": False\n",
    "        },\n",
    "        \"geo\": None,\n",
    "        \"in_reply_to_user_id_str\": None,\n",
    "        \"possibly_sensitive\": False,\n",
    "        \"lang\": \"en\",\n",
    "        \"created_at\": \"Sun Oct 26 07:37:55 +0000 2014\",\n",
    "        \"in_reply_to_status_id_str\": None,\n",
    "        \"place\": None,\n",
    "        \"metadata\": {\n",
    "          \"iso_language_code\": \"en\",\n",
    "          \"result_type\": \"recent\"\n",
    "        }\n",
    "      },\n",
    "      \"user\": {\n",
    "        \"follow_request_sent\": False,\n",
    "        \"profile_use_background_image\": True,\n",
    "        \"profile_text_color\": \"2A48AE\",\n",
    "        \"default_profile_image\": False,\n",
    "        \"id\": 104940733,\n",
    "        \"profile_background_image_url_https\": \"https://abs.twimg.com/images/themes/theme17/bg.gif\",\n",
    "        \"verified\": False,\n",
    "        \"profile_location\": None,\n",
    "        \"profile_image_url_https\": \"https://pbs.twimg.com/profile_images/2878477539/78e20432088b5ee2addc9ce3362fd461_normal.jpeg\",\n",
    "        \"profile_sidebar_fill_color\": \"6378B1\",\n",
    "        \"entities\": {\n",
    "          \"description\": {\n",
    "            \"urls\": []\n",
    "          }\n",
    "        },\n",
    "        \"followers_count\": 149,\n",
    "        \"profile_sidebar_border_color\": \"FBD0C9\",\n",
    "        \"id_str\": \"104940733\",\n",
    "        \"profile_background_color\": \"0C003D\",\n",
    "        \"listed_count\": 18,\n",
    "        \"is_translation_enabled\": False,\n",
    "        \"utc_offset\": 0,\n",
    "        \"statuses_count\": 16031,\n",
    "        \"description\": \"Have you any dreams you'd like to sell?\",\n",
    "        \"friends_count\": 248,\n",
    "        \"location\": \"\",\n",
    "        \"profile_link_color\": \"0F1B7C\",\n",
    "        \"profile_image_url\": \"http://pbs.twimg.com/profile_images/2878477539/78e20432088b5ee2addc9ce3362fd461_normal.jpeg\",\n",
    "        \"following\": False,\n",
    "        \"geo_enabled\": False,\n",
    "        \"profile_banner_url\": \"https://pbs.twimg.com/profile_banners/104940733/1410032966\",\n",
    "        \"profile_background_image_url\": \"http://abs.twimg.com/images/themes/theme17/bg.gif\",\n",
    "        \"name\": \"Heather\",\n",
    "        \"lang\": \"en\",\n",
    "        \"profile_background_tile\": False,\n",
    "        \"favourites_count\": 777,\n",
    "        \"screen_name\": \"froyoho\",\n",
    "        \"notifications\": False,\n",
    "        \"url\": None,\n",
    "        \"created_at\": \"Thu Jan 14 21:37:54 +0000 2010\",\n",
    "        \"contributors_enabled\": False,\n",
    "        \"time_zone\": \"London\",\n",
    "        \"protected\": False,\n",
    "        \"default_profile\": False,\n",
    "        \"is_translator\": False\n",
    "      },\n",
    "      \"geo\": None,\n",
    "      \"in_reply_to_user_id_str\": None,\n",
    "      \"possibly_sensitive\": False,\n",
    "      \"lang\": \"en\",\n",
    "      \"created_at\": \"Sun Nov 23 20:55:57 +0000 2014\",\n",
    "      \"in_reply_to_status_id_str\": None,\n",
    "      \"place\": None,\n",
    "      \"metadata\": {\n",
    "        \"iso_language_code\": \"en\",\n",
    "        \"result_type\": \"recent\"\n",
    "      }\n",
    "    },\n",
    "    {\n",
    "      \"contributors\": None,\n",
    "      \"truncated\": False,\n",
    "      \"text\": \"RT @NotableHistory: Madonna, 18 year old freshman at the University of Michigan, 1976 http://t.co/x2dm1G67ea\",\n",
    "      \"in_reply_to_status_id\": None,\n",
    "      \"id\": 536623674942439425,\n",
    "      \"favorite_count\": 0,\n",
    "      \"source\": \"<a href=\\\"http://twitter.com/download/android\\\" rel=\\\"nofollow\\\">Twitter for Android</a>\",\n",
    "      \"retweeted\": False,\n",
    "      \"coordinates\": None,\n",
    "      \"entities\": {\n",
    "        \"symbols\": [],\n",
    "        \"user_mentions\": [\n",
    "          {\n",
    "            \"id\": 844766941,\n",
    "            \"indices\": [\n",
    "              3,\n",
    "              18\n",
    "            ],\n",
    "            \"id_str\": \"844766941\",\n",
    "            \"screen_name\": \"NotableHistory\",\n",
    "            \"name\": \"OnThisDay & Facts\"\n",
    "          }\n",
    "        ],\n",
    "        \"hashtags\": [],\n",
    "        \"urls\": [],\n",
    "        \"media\": [\n",
    "          {\n",
    "            \"source_status_id_str\": \"536610190334779392\",\n",
    "            \"expanded_url\": \"http://twitter.com/NotableHistory/status/536610190334779392/photo/1\",\n",
    "            \"display_url\": \"pic.twitter.com/x2dm1G67ea\",\n",
    "            \"url\": \"http://t.co/x2dm1G67ea\",\n",
    "            \"media_url_https\": \"https://pbs.twimg.com/media/B3EXbQkCMAEipwM.jpg\",\n",
    "            \"source_status_id\": 536610190334779392,\n",
    "            \"id_str\": \"536235587703812097\",\n",
    "            \"sizes\": {\n",
    "              \"small\": {\n",
    "                \"h\": 487,\n",
    "                \"resize\": \"fit\",\n",
    "                \"w\": 340\n",
    "              },\n",
    "              \"large\": {\n",
    "                \"h\": 918,\n",
    "                \"resize\": \"fit\",\n",
    "                \"w\": 640\n",
    "              },\n",
    "              \"medium\": {\n",
    "                \"h\": 860,\n",
    "                \"resize\": \"fit\",\n",
    "                \"w\": 600\n",
    "              },\n",
    "              \"thumb\": {\n",
    "                \"h\": 150,\n",
    "                \"resize\": \"crop\",\n",
    "                \"w\": 150\n",
    "              }\n",
    "            },\n",
    "            \"indices\": [\n",
    "              86,\n",
    "              108\n",
    "            ],\n",
    "            \"type\": \"photo\",\n",
    "            \"id\": 536235587703812097,\n",
    "            \"media_url\": \"http://pbs.twimg.com/media/B3EXbQkCMAEipwM.jpg\"\n",
    "          }\n",
    "        ]\n",
    "      },\n",
    "      \"in_reply_to_screen_name\": None,\n",
    "      \"in_reply_to_user_id\": None,\n",
    "      \"retweet_count\": 9,\n",
    "      \"id_str\": \"536623674942439425\",\n",
    "      \"favorited\": False,\n",
    "      \"retweeted_status\": {\n",
    "        \"contributors\": None,\n",
    "        \"truncated\": False,\n",
    "        \"text\": \"Madonna, 18 year old freshman at the University of Michigan, 1976 http://t.co/x2dm1G67ea\",\n",
    "        \"in_reply_to_status_id\": None,\n",
    "        \"id\": 536610190334779392,\n",
    "        \"favorite_count\": 13,\n",
    "        \"source\": \"<a href=\\\"https://ads.twitter.com\\\" rel=\\\"nofollow\\\">Twitter Ads</a>\",\n",
    "        \"retweeted\": False,\n",
    "        \"coordinates\": None,\n",
    "        \"entities\": {\n",
    "          \"symbols\": [],\n",
    "          \"user_mentions\": [],\n",
    "          \"hashtags\": [],\n",
    "          \"urls\": [],\n",
    "          \"media\": [\n",
    "            {\n",
    "              \"expanded_url\": \"http://twitter.com/NotableHistory/status/536610190334779392/photo/1\",\n",
    "              \"display_url\": \"pic.twitter.com/x2dm1G67ea\",\n",
    "              \"url\": \"http://t.co/x2dm1G67ea\",\n",
    "              \"media_url_https\": \"https://pbs.twimg.com/media/B3EXbQkCMAEipwM.jpg\",\n",
    "              \"id_str\": \"536235587703812097\",\n",
    "              \"sizes\": {\n",
    "                \"small\": {\n",
    "                  \"h\": 487,\n",
    "                  \"resize\": \"fit\",\n",
    "                  \"w\": 340\n",
    "                },\n",
    "                \"large\": {\n",
    "                  \"h\": 918,\n",
    "                  \"resize\": \"fit\",\n",
    "                  \"w\": 640\n",
    "                },\n",
    "                \"medium\": {\n",
    "                  \"h\": 860,\n",
    "                  \"resize\": \"fit\",\n",
    "                  \"w\": 600\n",
    "                },\n",
    "                \"thumb\": {\n",
    "                  \"h\": 150,\n",
    "                  \"resize\": \"crop\",\n",
    "                  \"w\": 150\n",
    "                }\n",
    "              },\n",
    "              \"indices\": [\n",
    "                66,\n",
    "                88\n",
    "              ],\n",
    "              \"type\": \"photo\",\n",
    "              \"id\": 536235587703812097,\n",
    "              \"media_url\": \"http://pbs.twimg.com/media/B3EXbQkCMAEipwM.jpg\"\n",
    "            }\n",
    "          ]\n",
    "        },\n",
    "        \"in_reply_to_screen_name\": None,\n",
    "        \"in_reply_to_user_id\": None,\n",
    "        \"retweet_count\": 9,\n",
    "        \"id_str\": \"536610190334779392\",\n",
    "        \"favorited\": False,\n",
    "        \"user\": {\n",
    "          \"follow_request_sent\": False,\n",
    "          \"profile_use_background_image\": True,\n",
    "          \"profile_text_color\": \"333333\",\n",
    "          \"default_profile_image\": False,\n",
    "          \"id\": 844766941,\n",
    "          \"profile_background_image_url_https\": \"https://pbs.twimg.com/profile_background_images/458461302696837121/rGlGdWsc.png\",\n",
    "          \"verified\": False,\n",
    "          \"profile_location\": None,\n",
    "          \"profile_image_url_https\": \"https://pbs.twimg.com/profile_images/481243404320251905/gCr1cVP2_normal.png\",\n",
    "          \"profile_sidebar_fill_color\": \"DDFFCC\",\n",
    "          \"entities\": {\n",
    "            \"url\": {\n",
    "              \"urls\": [\n",
    "                {\n",
    "                  \"url\": \"http://t.co/9fTPk5A4wh\",\n",
    "                  \"indices\": [\n",
    "                    0,\n",
    "                    22\n",
    "                  ],\n",
    "                  \"expanded_url\": \"http://notablefacts.com/\",\n",
    "                  \"display_url\": \"notablefacts.com\"\n",
    "                }\n",
    "              ]\n",
    "            },\n",
    "            \"description\": {\n",
    "              \"urls\": []\n",
    "            }\n",
    "          },\n",
    "          \"followers_count\": 73817,\n",
    "          \"profile_sidebar_border_color\": \"FFFFFF\",\n",
    "          \"id_str\": \"844766941\",\n",
    "          \"profile_background_color\": \"9AE4E8\",\n",
    "          \"listed_count\": 485,\n",
    "          \"is_translation_enabled\": False,\n",
    "          \"utc_offset\": -21600,\n",
    "          \"statuses_count\": 38841,\n",
    "          \"description\": \"On This Day in History, Historical Pictures & other Interesting Facts....Historyfollower@gmail.com\",\n",
    "          \"friends_count\": 43594,\n",
    "          \"location\": \"\",\n",
    "          \"profile_link_color\": \"0084B4\",\n",
    "          \"profile_image_url\": \"http://pbs.twimg.com/profile_images/481243404320251905/gCr1cVP2_normal.png\",\n",
    "          \"following\": False,\n",
    "          \"geo_enabled\": False,\n",
    "          \"profile_banner_url\": \"https://pbs.twimg.com/profile_banners/844766941/1411076349\",\n",
    "          \"profile_background_image_url\": \"http://pbs.twimg.com/profile_background_images/458461302696837121/rGlGdWsc.png\",\n",
    "          \"name\": \"OnThisDay & Facts\",\n",
    "          \"lang\": \"en\",\n",
    "          \"profile_background_tile\": True,\n",
    "          \"favourites_count\": 1383,\n",
    "          \"screen_name\": \"NotableHistory\",\n",
    "          \"notifications\": False,\n",
    "          \"url\": \"http://t.co/9fTPk5A4wh\",\n",
    "          \"created_at\": \"Tue Sep 25 03:08:59 +0000 2012\",\n",
    "          \"contributors_enabled\": False,\n",
    "          \"time_zone\": \"Central Time (US & Canada)\",\n",
    "          \"protected\": False,\n",
    "          \"default_profile\": False,\n",
    "          \"is_translator\": False\n",
    "        },\n",
    "        \"geo\": None,\n",
    "        \"in_reply_to_user_id_str\": None,\n",
    "        \"possibly_sensitive\": False,\n",
    "        \"lang\": \"en\",\n",
    "        \"created_at\": \"Sun Nov 23 20:00:13 +0000 2014\",\n",
    "        \"in_reply_to_status_id_str\": None,\n",
    "        \"place\": None,\n",
    "        \"metadata\": {\n",
    "          \"iso_language_code\": \"en\",\n",
    "          \"result_type\": \"recent\"\n",
    "        }\n",
    "      },\n",
    "      \"user\": {\n",
    "        \"follow_request_sent\": False,\n",
    "        \"profile_use_background_image\": True,\n",
    "        \"profile_text_color\": \"333333\",\n",
    "        \"default_profile_image\": False,\n",
    "        \"id\": 818185729,\n",
    "        \"profile_background_image_url_https\": \"https://abs.twimg.com/images/themes/theme1/bg.png\",\n",
    "        \"verified\": False,\n",
    "        \"profile_location\": None,\n",
    "        \"profile_image_url_https\": \"https://pbs.twimg.com/profile_images/486215801498640384/rz9o7LnF_normal.jpeg\",\n",
    "        \"profile_sidebar_fill_color\": \"DDEEF6\",\n",
    "        \"entities\": {\n",
    "          \"description\": {\n",
    "            \"urls\": []\n",
    "          }\n",
    "        },\n",
    "        \"followers_count\": 302,\n",
    "        \"profile_sidebar_border_color\": \"C0DEED\",\n",
    "        \"id_str\": \"818185729\",\n",
    "        \"profile_background_color\": \"C0DEED\",\n",
    "        \"listed_count\": 0,\n",
    "        \"is_translation_enabled\": False,\n",
    "        \"utc_offset\": None,\n",
    "        \"statuses_count\": 395,\n",
    "        \"description\": \"Formerly with California Dept of General Services, now freelancing around the Sacramento area...\",\n",
    "        \"friends_count\": 1521,\n",
    "        \"location\": \"Citrus Heights, CA\",\n",
    "        \"profile_link_color\": \"0084B4\",\n",
    "        \"profile_image_url\": \"http://pbs.twimg.com/profile_images/486215801498640384/rz9o7LnF_normal.jpeg\",\n",
    "        \"following\": False,\n",
    "        \"geo_enabled\": True,\n",
    "        \"profile_banner_url\": \"https://pbs.twimg.com/profile_banners/818185729/1383764759\",\n",
    "        \"profile_background_image_url\": \"http://abs.twimg.com/images/themes/theme1/bg.png\",\n",
    "        \"name\": \"M Duncan\",\n",
    "        \"lang\": \"en\",\n",
    "        \"profile_background_tile\": False,\n",
    "        \"favourites_count\": 6544,\n",
    "        \"screen_name\": \"MDuncan95814\",\n",
    "        \"notifications\": False,\n",
    "        \"url\": None,\n",
    "        \"created_at\": \"Tue Sep 11 21:02:09 +0000 2012\",\n",
    "        \"contributors_enabled\": False,\n",
    "        \"time_zone\": None,\n",
    "        \"protected\": False,\n",
    "        \"default_profile\": True,\n",
    "        \"is_translator\": False\n",
    "      },\n",
    "      \"geo\": None,\n",
    "      \"in_reply_to_user_id_str\": None,\n",
    "      \"possibly_sensitive\": False,\n",
    "      \"lang\": \"en\",\n",
    "      \"created_at\": \"Sun Nov 23 20:53:48 +0000 2014\",\n",
    "      \"in_reply_to_status_id_str\": None,\n",
    "      \"place\": None,\n",
    "      \"metadata\": {\n",
    "        \"iso_language_code\": \"en\",\n",
    "        \"result_type\": \"recent\"\n",
    "      }\n",
    "    }\n",
    "  ]\n",
    "}\n"
   ]
  },
  {
   "cell_type": "code",
   "execution_count": 4,
   "metadata": {},
   "outputs": [
    {
     "name": "stdout",
     "output_type": "stream",
     "text": [
      "---------------------\n",
      "<class 'dict'>\n",
      "dict_keys(['search_metadata', 'statuses'])\n",
      "<class 'list'>\n",
      "3\n",
      "('31brooks_', 'Wed Apr 09 14:34:41 +0000 2014')\n",
      "('froyoho', 'Thu Jan 14 21:37:54 +0000 2010')\n",
      "('MDuncan95814', 'Tue Sep 11 21:02:09 +0000 2012')\n"
     ]
    }
   ],
   "source": [
    "\n",
    "print(\"---------------------\")\n",
    "print(type(res))\n",
    "print(res.keys())\n",
    "\n",
    "res2 = res['statuses']\n",
    "print(type(res2))\n",
    "print(len(res2))\n",
    "\n",
    "for res3 in res2:\n",
    "    \n",
    "    #print(json.dumps(res3, indent=2)[:30])\n",
    "    #print(res3.keys())\n",
    "    \n",
    "    res4 = res3['user']\n",
    "    #print(res4)\n",
    "    #print(res4.keys())\n",
    "    \n",
    "    res5 = res4['screen_name'],res4['created_at']\n",
    "    print(res5)"
   ]
  },
  {
   "cell_type": "code",
   "execution_count": 103,
   "metadata": {},
   "outputs": [
    {
     "name": "stdout",
     "output_type": "stream",
     "text": [
      "31brooks_ Wed Apr 09 14:34:41 +0000 2014\n",
      "froyoho Thu Jan 14 21:37:54 +0000 2010\n",
      "MDuncan95814 Tue Sep 11 21:02:09 +0000 2012\n"
     ]
    }
   ],
   "source": [
    "for res3 in res2:\n",
    "    print(res3['user']['screen_name'], res3['user']['created_at'])"
   ]
  },
  {
   "cell_type": "code",
   "execution_count": 5,
   "metadata": {},
   "outputs": [
    {
     "name": "stdout",
     "output_type": "stream",
     "text": [
      "snake\n"
     ]
    }
   ],
   "source": [
    "nested = [['dog', 'cat', 'horse'], ['frog', 'turtle', 'snake', 'gecko'], ['hamster', 'gerbil', 'rat', 'ferret']]\n",
    "\n",
    "for inner_list1 in nested:\n",
    "    for word in inner_list1:\n",
    "        if word == 'snake':\n",
    "            print(word)\n",
    "        "
   ]
  },
  {
   "cell_type": "code",
   "execution_count": 19,
   "metadata": {},
   "outputs": [],
   "source": [
    "\n",
    "lst = [['apple', 'orange', 'banana'], [5, 6, 7, 8, 9.9, 10], ['green', 'yellow', 'purple', 'red']]\n",
    "\n",
    "#Test to see if 'yellow' is in the third list of lst. Save to variable ``yellow``\n",
    "\n",
    "yellow = 'yellow' in lst[2]\n",
    "\n",
    "#Test to see if 4 is in the second list of lst. Save to variable ``four``\n",
    "four = 4 in lst[1]\n",
    "\n",
    "#Test to see if 'orange' is in the first element of lst. Save to variable ``orange``\n",
    "orange = 'orange' in lst[0]\n"
   ]
  },
  {
   "cell_type": "code",
   "execution_count": 22,
   "metadata": {},
   "outputs": [],
   "source": [
    "\n",
    "L = [[5, 8, 7], ['hello', 'hi', 'hola'], [6.6, 1.54, 3.99], ['small', 'large']]\n",
    "\n",
    "# Test if 'hola' is in the list L. Save to variable name test1\n",
    "test1 = 'hola' in L\n",
    "\n",
    "# Test if [5, 8, 7] is in the list L. Save to variable name test2\n",
    "tes2 = [5, 8, 7] in L\n",
    "\n",
    "# Test if 6.6 is in the third element of list L. Save to variable name test3\n",
    "test3 = 6.6 in L[2]"
   ]
  },
  {
   "cell_type": "code",
   "execution_count": 34,
   "metadata": {},
   "outputs": [],
   "source": [
    "\n",
    "nested = {'data': ['finding', 23, ['exercises', 'hangout', 34]], 'window': ['part', 'whole', [], 'sum', ['math', 'calculus', 'algebra', 'geometry', 'statistics',['physics', 'chemistry', 'biology']]]}\n",
    "\n",
    "# Check to see if the string data is a key in nested, if it is, assign True to the variable data, otherwise assign False.\n",
    "if 'data' in nested:\n",
    "    data = True\n",
    "else:\n",
    "    data = False\n",
    "\n",
    "# Check to see if the integer 24 is in the value of the key data, if it is then assign to the variable twentyfour the value of True, otherwise False.\n",
    "if 24 in nested:\n",
    "    twentyfour = True\n",
    "else:\n",
    "    twentyfour = False\n",
    "\n",
    "# Check to see that the string 'whole' is not in the value of the key window. If it's not, then assign to the variable whole the value of True, otherwise False.\n",
    "# kk = nested['window']\n",
    "# for i in kk:\n",
    "#     if i == 'whole':\n",
    "#         print('got it')\n",
    "if 'whole' in nested:\n",
    "    whole = True\n",
    "else:\n",
    "    whole = False\n",
    "# Check to see if the string 'physics' is a key in the dictionary nested. If it is, assign to the variable physics, the value of True, otherwise False.\n",
    "if 'physics' in nested:\n",
    "    physics = True\n",
    "else:\n",
    "    physics = False\n"
   ]
  },
  {
   "cell_type": "code",
   "execution_count": 47,
   "metadata": {},
   "outputs": [
    {
     "name": "stdout",
     "output_type": "stream",
     "text": [
      "29\n"
     ]
    }
   ],
   "source": [
    "\n",
    "nested_d = {'Beijing':{'China':51, 'USA':36, 'Russia':22, 'Great Britain':19}, 'London':{'USA':46, 'China':38, 'Great Britain':29, 'Russia':22}, 'Rio':{'USA':35, 'Great Britain':22, 'China':20, 'Germany':13}}\n",
    "london_gold = nested_d['London']['Great Britain']\n",
    "print(london_gold)"
   ]
  },
  {
   "cell_type": "code",
   "execution_count": 57,
   "metadata": {},
   "outputs": [
    {
     "name": "stdout",
     "output_type": "stream",
     "text": [
      "backstroke\n",
      "platform\n",
      "['vault', 'floor', 'uneven bars', 'balance beam']\n",
      "rings\n"
     ]
    }
   ],
   "source": [
    "\n",
    "sports = {'swimming': ['butterfly', 'breaststroke', 'backstroke', 'freestyle'], 'diving': ['springboard', 'platform', 'synchronized'], 'track': ['sprint', 'distance', 'jumps', 'throws'], 'gymnastics': {'women':['vault', 'floor', 'uneven bars', 'balance beam'], 'men': ['vault', 'parallel bars', 'floor', 'rings']}}\n",
    "\n",
    "# Assign the string 'backstroke' to the name v1\n",
    "v1 = sports['swimming'][2]\n",
    "print(v1)\n",
    "# Assign the string 'platform' to the name v2\n",
    "v2 = sports['diving'][1]\n",
    "print(v2)\n",
    "# Assign the list ['vault', 'floor', 'uneven bars', 'balance beam'] to the name v3\n",
    "v3 = sports['gymnastics']['women']\n",
    "print(v3)\n",
    "\n",
    "\n",
    "# Assign the string 'rings' to the name v4\n",
    "v4 = sports['gymnastics']['men'][3]\n",
    "print(v4)\n"
   ]
  },
  {
   "cell_type": "code",
   "execution_count": 64,
   "metadata": {},
   "outputs": [
    {
     "name": "stdout",
     "output_type": "stream",
     "text": [
      "[36, 46, 35]\n"
     ]
    }
   ],
   "source": [
    "\n",
    "nested_d = {'Beijing':{'China':51, 'USA':36, 'Russia':22, 'Great Britain':19}, 'London':{'USA':46, 'China':38, 'Great Britain':29, 'Russia':22}, 'Rio':{'USA':35, 'Great Britain':22, 'China':20, 'Germany':13}}\n",
    "\n",
    "US_count = []\n",
    "US_count.append(nested_d['Beijing']['USA'])\n",
    "US_count.append(nested_d['London']['USA'])\n",
    "US_count.append(nested_d['Rio']['USA'])\n",
    "\n",
    "print(US_count)\n",
    "\n"
   ]
  },
  {
   "cell_type": "code",
   "execution_count": 83,
   "metadata": {},
   "outputs": [
    {
     "name": "stdout",
     "output_type": "stream",
     "text": [
      "['blue', 'blood orange', 'lavender', 'mac n cheese']\n",
      "['blue', 'blood orange', 'lavender', 'mac n cheese']\n"
     ]
    }
   ],
   "source": [
    "\n",
    "l_of_l = [['purple', 'mauve', 'blue'], ['red', 'maroon', 'blood orange', 'crimson'], ['sea green', 'cornflower', 'lavender', 'indigo'], ['yellow', 'amarillo', 'mac n cheese', 'golden rod']]\n",
    "\n",
    "third = []\n",
    "for il1 in l_of_l:\n",
    "    for word in il1[2:3]:\n",
    "        third.append(word)\n",
    "print(third)\n",
    "        \n",
    "# third = [i[2] for i in l_of_l]\n",
    "# print(third)\n",
    "\n"
   ]
  },
  {
   "cell_type": "code",
   "execution_count": 92,
   "metadata": {},
   "outputs": [
    {
     "name": "stdout",
     "output_type": "stream",
     "text": [
      "['Lochte', 'Bolt', 'Eaton', 'Dalton']\n",
      "['Phelps', 'Schooling', 'Ledecky', 'Franklin', 'Felix', 'Gardner', 'Biles', 'Douglas', 'Hamm', 'Raisman', 'Mikulak']\n"
     ]
    }
   ],
   "source": [
    "\n",
    "athletes = [['Phelps', 'Lochte', 'Schooling', 'Ledecky', 'Franklin'], ['Felix', 'Bolt', 'Gardner', 'Eaton'], ['Biles', 'Douglas', 'Hamm', 'Raisman', 'Mikulak', 'Dalton']]\n",
    "\n",
    "t = list()\n",
    "other = list()\n",
    "\n",
    "for i in athletes:\n",
    "    #print(i)\n",
    "    for j in i:\n",
    "        if 't' in j:\n",
    "            t.append(j)\n",
    "        else:\n",
    "            other.append(j)\n",
    "print(t)\n",
    "print(other)"
   ]
  },
  {
   "cell_type": "code",
   "execution_count": 28,
   "metadata": {},
   "outputs": [
    {
     "name": "stdout",
     "output_type": "stream",
     "text": [
      "[2, 5, 9]\n",
      "[4, 10, 18]\n"
     ]
    }
   ],
   "source": [
    "# ----------------------------------------------------------------------------------------------------\n",
    "# -------------------------------------- MAP  STARTDED------------------------------------------------\n",
    "# ----------------------------------------------------------------------------------------------------\n",
    "\n",
    "def doubleStuff(a_list):\n",
    "    \"\"\" Return a new list in which contains doubles of the elements in a_list. \"\"\"\n",
    "    new_list = []\n",
    "    for value in a_list:\n",
    "        new_elem = 2 * value\n",
    "        new_list.append(new_elem)\n",
    "    return new_list\n",
    "\n",
    "things = [2, 5, 9]\n",
    "print(things)\n",
    "things = doubleStuff(things)\n",
    "print(things)\n"
   ]
  },
  {
   "cell_type": "code",
   "execution_count": 2,
   "metadata": {},
   "outputs": [
    {
     "name": "stdout",
     "output_type": "stream",
     "text": [
      "[6, 15, 27]\n",
      "[8, 20, 36]\n"
     ]
    }
   ],
   "source": [
    "def triple(value):\n",
    "    return 3*value\n",
    "\n",
    "def tripleStuff(a_list):\n",
    "    new_seq = map(triple, a_list)\n",
    "    return list(new_seq)\n",
    "\n",
    "def quadrupleStuff(a_list):\n",
    "    new_seq = map(lambda value: 4*value, a_list)\n",
    "    return list(new_seq)\n",
    "\n",
    "things = [2, 5, 9]\n",
    "things3 = tripleStuff(things)\n",
    "print(things3)\n",
    "things4 = quadrupleStuff(things)\n",
    "print(things4)\n"
   ]
  },
  {
   "cell_type": "code",
   "execution_count": 34,
   "metadata": {},
   "outputs": [
    {
     "name": "stdout",
     "output_type": "stream",
     "text": [
      "['USA', 'ESP', 'CHN', 'JPN', 'MEX', 'CAN', 'RUS', 'RSA', 'JAM']\n"
     ]
    }
   ],
   "source": [
    "abbrevs = [\"usa\", \"esp\", \"chn\", \"jpn\", \"mex\", \"can\", \"rus\", \"rsa\", \"jam\"]\n",
    "\n",
    "def f(c):\n",
    "    return c.upper()\n",
    "\n",
    "abbrevs_upper = map(f,abbrevs)\n",
    "print(list(abbrevs_upper))"
   ]
  },
  {
   "cell_type": "code",
   "execution_count": 19,
   "metadata": {},
   "outputs": [
    {
     "name": "stdout",
     "output_type": "stream",
     "text": [
      "['a', 'a']\n"
     ]
    }
   ],
   "source": [
    "\n",
    "lst = [[\"hi\", \"bye\"], \"hello\", \"goodbye\", [9, 2], 4]\n",
    "\n",
    "def multiply_list(data, times):\n",
    "    multiplied = []\n",
    "    for item in data:\n",
    "        multiplied=multiplied+list(item)*times\n",
    "    return multiplied\n",
    "\n",
    "print (multiply_list(['a'], 2))"
   ]
  },
  {
   "cell_type": "code",
   "execution_count": 33,
   "metadata": {},
   "outputs": [
    {
     "name": "stdout",
     "output_type": "stream",
     "text": [
      "[['hi', 'bye', 'hi', 'bye'], 'hellohello', 'goodbyegoodbye', [9, 2, 9, 2], 8]\n"
     ]
    }
   ],
   "source": [
    "lst = [[\"hi\", \"bye\"], \"hello\", \"goodbye\", [9, 2], 4]\n",
    "def f(c):\n",
    "    return c*2\n",
    "\n",
    "mul = map(f,lst)\n",
    "print(list((mul)))"
   ]
  },
  {
   "cell_type": "code",
   "execution_count": 23,
   "metadata": {},
   "outputs": [
    {
     "name": "stdout",
     "output_type": "stream",
     "text": [
      "[4, 6, 0]\n"
     ]
    }
   ],
   "source": [
    "# ----------------------------------------------------------------------------------------------------\n",
    "# -------------------------------------- FUNCTIONS STARTDED------------------------------------------------\n",
    "# ----------------------------------------------------------------------------------------------------\n",
    "\n",
    "\n",
    "def keep_evens(nums):\n",
    "    new_list = []\n",
    "    for num in nums:\n",
    "        if num % 2 == 0:\n",
    "            new_list.append(num)\n",
    "    return new_list\n",
    "\n",
    "print(keep_evens([3, 4, 6, 7, 0, 1]))\n"
   ]
  },
  {
   "cell_type": "code",
   "execution_count": 24,
   "metadata": {},
   "outputs": [
    {
     "name": "stdout",
     "output_type": "stream",
     "text": [
      "[4, 6, 0]\n"
     ]
    }
   ],
   "source": [
    "def keep_evens(nums):\n",
    "    new_seq = filter(lambda num: num % 2 == 0, nums)\n",
    "    return list(new_seq)\n",
    "\n",
    "print(keep_evens([3, 4, 6, 7, 0, 1]))\n"
   ]
  },
  {
   "cell_type": "code",
   "execution_count": 39,
   "metadata": {},
   "outputs": [],
   "source": [
    "# def f(num):\n",
    "#     if num % 2==0:\n",
    "#         return num\n",
    "\n",
    "# def keep_evens(nums):\n",
    "#     new_seq = filter(f, nums)\n",
    "#     return list(new_seq)\n",
    "\n",
    "# print(keep_evens([3, 4, 6, 7, 0, 1]))\n"
   ]
  },
  {
   "cell_type": "code",
   "execution_count": 31,
   "metadata": {},
   "outputs": [
    {
     "name": "stdout",
     "output_type": "stream",
     "text": [
      "<filter object at 0x000002373D11E4C8>\n"
     ]
    }
   ],
   "source": [
    "lst_check = ['plums', 'watermelon', 'kiwi', 'strawberries', 'blueberries', 'peaches', 'apples', 'mangos', 'papaya']\n",
    "\n",
    "z = filter(lambda word: 'w' in word,lst_check)\n",
    "print(z)"
   ]
  },
  {
   "cell_type": "code",
   "execution_count": 41,
   "metadata": {},
   "outputs": [
    {
     "name": "stdout",
     "output_type": "stream",
     "text": [
      "[4, 10, 18]\n"
     ]
    }
   ],
   "source": [
    "# ----------------------------------------------------------------------------------------------------\n",
    "# -------------------------------------- LIST COMPREHENSIONS STARTDED------------------------------------------------\n",
    "# ----------------------------------------------------------------------------------------------------\n",
    "\n",
    "\n",
    "things = [2, 5, 9]\n",
    "\n",
    "yourlist = [value * 2 for value in things]\n",
    "\n",
    "print(list(yourlist))"
   ]
  },
  {
   "cell_type": "code",
   "execution_count": 42,
   "metadata": {},
   "outputs": [
    {
     "name": "stdout",
     "output_type": "stream",
     "text": [
      "[4, 6, 0]\n"
     ]
    }
   ],
   "source": [
    "def keep_evens(nums):\n",
    "    new_list = [num for num in nums if num % 2 == 0]\n",
    "    return new_list\n",
    "\n",
    "print(list(keep_evens([3, 4, 6, 7, 0, 1])))"
   ]
  },
  {
   "cell_type": "code",
   "execution_count": 45,
   "metadata": {},
   "outputs": [
    {
     "name": "stdout",
     "output_type": "stream",
     "text": [
      "[8, 12, 0]\n",
      "[8, 12, 0]\n"
     ]
    }
   ],
   "source": [
    "things = [3, 4, 6, 7, 0, 1]\n",
    "#chaining together filter and map:\n",
    "# first, filter to keep only the even numbers\n",
    "# double each of them\n",
    "z = map(lambda x: x*2, filter(lambda y: y % 2 == 0, things))\n",
    "print(list(z))\n",
    "\n",
    "# equivalent version using list comprehension\n",
    "print([x*2 for x in things if x % 2 == 0])\n"
   ]
  },
  {
   "cell_type": "code",
   "execution_count": 46,
   "metadata": {},
   "outputs": [
    {
     "name": "stdout",
     "output_type": "stream",
     "text": [
      "[10]\n"
     ]
    }
   ],
   "source": [
    "alist = [4,2,8,6,5]\n",
    "blist = [num*2 for num in alist if num%2==1]\n",
    "print(blist)"
   ]
  },
  {
   "cell_type": "code",
   "execution_count": 50,
   "metadata": {},
   "outputs": [
    {
     "name": "stdout",
     "output_type": "stream",
     "text": [
      "[12, 34, 21, 42]\n",
      "[12, 34, 21, 42]\n"
     ]
    }
   ],
   "source": [
    "L = [12, 34, 21, 4, 6, 9, 42]\n",
    "lst = []\n",
    "for x in L:\n",
    "    if x > 10:\n",
    "        lst.append(x)\n",
    "print(lst)\n",
    "\n",
    "z = [num for num in L if num > 10]\n",
    "print(list(z))\n"
   ]
  },
  {
   "cell_type": "code",
   "execution_count": 63,
   "metadata": {},
   "outputs": [
    {
     "name": "stdout",
     "output_type": "stream",
     "text": [
      "['Lauren', 'Ayo', 'Kathryn', 'Nick', 'Gladys', 'Adam']\n"
     ]
    }
   ],
   "source": [
    "tester = {'info': [{\"name\": \"Lauren\", 'class standing': 'Junior', 'major': \"Information Science\"},{'name': 'Ayo', 'class standing': \"Bachelor's\", 'major': 'Information Science'}, {'name': 'Kathryn', 'class standing': 'Senior', 'major': 'Sociology'}, {'name': 'Nick', 'class standing': 'Junior', 'major': 'Computer Science'}, {'name': 'Gladys', 'class standing': 'Sophomore', 'major': 'History'}, {'name': 'Adam', 'major': 'Violin Performance', 'class standing': 'Senior'}]}\n",
    "type(tester)\n",
    "tester.keys()\n",
    "tester.values()\n",
    "\n",
    "compri = [d['name'] for d in tester['info']]\n",
    "print(list(compri))\n"
   ]
  },
  {
   "cell_type": "code",
   "execution_count": 3,
   "metadata": {},
   "outputs": [
    {
     "name": "stdout",
     "output_type": "stream",
     "text": [
      "[4, 6, 8]\n"
     ]
    }
   ],
   "source": [
    "# ----------------------------------------------------------------------------------------------------\n",
    "# -------------------------------------- ZIP STARTDED------------------------------------------------\n",
    "# ----------------------------------------------------------------------------------------------------\n",
    "\n",
    "\n",
    "\n",
    "L1 = [3, 4, 5]\n",
    "L2 = [1, 2, 3]\n",
    "L3 = []\n",
    "\n",
    "for i in range(len(L1)):\n",
    "    L3.append(L1[i]+L2[i])\n",
    "print(L3)"
   ]
  },
  {
   "cell_type": "code",
   "execution_count": 28,
   "metadata": {},
   "outputs": [
    {
     "name": "stdout",
     "output_type": "stream",
     "text": [
      "[(3, 1), (4, 2), (5, 3)]\n",
      "[4, 6, 8]\n"
     ]
    }
   ],
   "source": [
    "L1 = [3, 4, 5, 6]\n",
    "L2 = [1, 2, 3]\n",
    "L4 = []\n",
    "L3 = list(zip(L1,L2))\n",
    "print(L3)\n",
    "for i,j in L3:\n",
    "    L4.append(i+j)\n",
    "print(L4)"
   ]
  },
  {
   "cell_type": "code",
   "execution_count": 7,
   "metadata": {},
   "outputs": [
    {
     "name": "stdout",
     "output_type": "stream",
     "text": [
      "[4, 6, 8]\n"
     ]
    }
   ],
   "source": [
    "L1 = [3, 4, 5]\n",
    "L2 = [1, 2, 3]\n",
    "\n",
    "L4 = [i+j for (i,j) in list(zip(L1,L2))]\n",
    "print(L4)"
   ]
  },
  {
   "cell_type": "code",
   "execution_count": 10,
   "metadata": {},
   "outputs": [
    {
     "name": "stdout",
     "output_type": "stream",
     "text": [
      "[4, 6, 8]\n"
     ]
    }
   ],
   "source": [
    "L1 = [3, 4, 5]\n",
    "L2 = [1, 2, 3]\n",
    "\n",
    "L4 = map(lambda x: x[0]+x[1],zip(L1,L2))\n",
    "print(list(L4))"
   ]
  },
  {
   "cell_type": "code",
   "execution_count": 2,
   "metadata": {},
   "outputs": [
    {
     "name": "stdout",
     "output_type": "stream",
     "text": [
      "True\n",
      "guess was right but did not put into the blank. so ans is:\n",
      "False\n",
      "guess was right but did not put into the blank. so ans is:\n",
      "False\n",
      "len is not same so ans is:\n",
      "False\n"
     ]
    }
   ],
   "source": [
    "def possible(word,blank,guess):\n",
    "    if len(blank) != len(word):\n",
    "        print('len is not same so ans is:')\n",
    "        return False\n",
    "    for i in range(len(word)):\n",
    "        wc = word[i]\n",
    "        bc = blank[i]\n",
    "        if bc == '_' and wc in guess:\n",
    "            print('guess was right but did not put into the blank. so ans is:')\n",
    "            return False\n",
    "        elif bc != '_' and bc != wc:\n",
    "            print('blank word has revealed but with worng word. so ans is:')\n",
    "            return False\n",
    "    return True\n",
    "\n",
    "print(possible(\"wonderwall\", \"_on__r__ll\", \"otnqurl\"))\n",
    "print(possible(\"wonderwall\", \"_on__r__ll\", \"wotnqurl\"))\n",
    "print(possible(\"wonderwall\", \"_zn__r__ll\", \"wotnqurl\"))\n",
    "print(possible(\"wonderwall\", \"wn__r__ll\", \"eotnqurl\"))"
   ]
  },
  {
   "cell_type": "code",
   "execution_count": 25,
   "metadata": {},
   "outputs": [
    {
     "name": "stdout",
     "output_type": "stream",
     "text": [
      "True\n",
      "guess was right but did not put into the blank. so ans is:\n",
      "False\n",
      "guess was right but did not put into the blank. so ans is:\n",
      "False\n",
      "len is not same so ans is:\n",
      "False\n"
     ]
    }
   ],
   "source": [
    "def compare_char(wc,bc,guess):\n",
    "    if bc == '_' and wc in guess:\n",
    "        print('guess was right but did not put into the blank. so ans is:')\n",
    "        return False\n",
    "    elif bc != '_' and bc != wc:\n",
    "        print('blank word has revealed but with worng word. so ans is:')\n",
    "        return False\n",
    "    return True\n",
    "\n",
    "def possible(word,blank,guess):\n",
    "    if len(blank) != len(word):\n",
    "        print('len is not same so ans is:')\n",
    "        return False\n",
    "    for i in range(len(word)):\n",
    "        wc = word[i]\n",
    "        bc = blank[i]\n",
    "    for (wc,bc) in zip(word,blank):\n",
    "        if not compare_char(wc,bc,guess):\n",
    "            return False\n",
    "    return True\n",
    "\n",
    "    \n",
    "\n",
    "print(possible(\"wonderwall\", \"_on__r__ll\", \"otnqurl\"))\n",
    "print(possible(\"wonderwall\", \"_on__r__ll\", \"wotnqurl\"))\n",
    "print(possible(\"wonderwall\", \"_en__r__ll\", \"wotnqurl\"))\n",
    "print(possible(\"wonderwall\", \"wn__r__ll\", \"eotnqurl\"))"
   ]
  },
  {
   "cell_type": "code",
   "execution_count": 61,
   "metadata": {},
   "outputs": [
    {
     "name": "stdout",
     "output_type": "stream",
     "text": [
      "[16, 32, 54, 100]\n",
      "[1, 3, 2, 2, 3, 4, 3]\n",
      "[(16, 1), (32, 3), (54, 2), (100, 2)]\n",
      "[17, 35, 56, 102]\n"
     ]
    }
   ],
   "source": [
    "L1 = [1, 5, 2, 16, 32, 3, 54, 8, 100]\n",
    "L2 = [1, 3, 10, 2, 42, 2, 3, 4, 3]\n",
    "L3 = []\n",
    "l5 = []\n",
    "L9 = []\n",
    "L10 = []\n",
    "for i in range(len(L1)):\n",
    "    if L1[i] > 10:\n",
    "        L9.append(L1[i])\n",
    "print(L9)\n",
    "\n",
    "\n",
    "for i in range(len(L2)):\n",
    "    if L2[i] < 5:\n",
    "        L10.append(L2[i])\n",
    "print(L10)\n",
    "\n",
    "L4 = list(zip(L9,L10))\n",
    "print(L4)\n",
    "# for (i,j) in L4:\n",
    "#     L3.append(L1[i]+L2[j])\n",
    "        \n",
    "L3 = [i+j for (i,j) in list(zip(L9,L10))]\n",
    "print(L3)\n",
    "    \n",
    "    "
   ]
  },
  {
   "cell_type": "code",
   "execution_count": 64,
   "metadata": {},
   "outputs": [
    {
     "name": "stdout",
     "output_type": "stream",
     "text": [
      "['Fruit: plums', 'Fruit: watermelon', 'Fruit: kiwi', 'Fruit: strawberries', 'Fruit: blueberries', 'Fruit: peaches', 'Fruit: apples', 'Fruit: mangos', 'Fruit: papaya']\n"
     ]
    }
   ],
   "source": [
    "# ----------------------------------------------------------------------------------------------------\n",
    "# -------------------------------------- ASSIGNMENTS STARTDED------------------------------------------------\n",
    "# ----------------------------------------------------------------------------------------------------\n",
    "\n",
    "\n",
    "lst_check = ['plums', 'watermelon', 'kiwi', 'strawberries', 'blueberries', 'peaches', 'apples', 'mangos', 'papaya']\n",
    "\n",
    "def f(c):\n",
    "    return 'Fruit: '+c \n",
    "\n",
    "map_testing = map(f,lst_check)\n",
    "print(list((map_testing)))"
   ]
  },
  {
   "cell_type": "code",
   "execution_count": 69,
   "metadata": {},
   "outputs": [
    {
     "name": "stdout",
     "output_type": "stream",
     "text": [
      "['Brazil', 'Botswana', 'Britain', 'Bangladesh', 'Belarus', 'Belgium']\n"
     ]
    }
   ],
   "source": [
    "countries = ['Canada', 'Mexico', 'Brazil', 'Chile', 'Denmark', 'Botswana', 'Spain', 'Britain', 'Portugal', 'Russia', 'Thailand', 'Bangladesh', 'Nigeria', 'Argentina', 'Belarus', 'Laos', 'Australia', 'Panama', 'Egypt', 'Morocco', 'Switzerland', 'Belgium']\n",
    "\n",
    "\n",
    "b_countries = filter(lambda word: word.startswith('B'), countries)\n",
    "print(list(b_countries ))"
   ]
  },
  {
   "cell_type": "code",
   "execution_count": 80,
   "metadata": {},
   "outputs": [
    {
     "name": "stdout",
     "output_type": "stream",
     "text": [
      "['Jon', 'Cersei', 'Arya', 'Robb', 'Jamie', 'Daenerys', 'Sansa', 'Margaery', 'Eddard', 'Tyrion', 'Joffrey', 'Ramsey', 'Peter']\n"
     ]
    }
   ],
   "source": [
    "people = [('Snow', 'Jon'), ('Lannister', 'Cersei'), ('Stark', 'Arya'), ('Stark', 'Robb'), ('Lannister', 'Jamie'), ('Targaryen', 'Daenerys'), ('Stark', 'Sansa'), ('Tyrell', 'Margaery'), ('Stark', 'Eddard'), ('Lannister', 'Tyrion'), ('Baratheon', 'Joffrey'), ('Bolton', 'Ramsey'), ('Baelish', 'Peter')]\n",
    "\n",
    "        \n",
    "#print(people[0][1])\n",
    "\n",
    "first_names = [name[1] for name in people]\n",
    "print(first_names)"
   ]
  },
  {
   "cell_type": "code",
   "execution_count": 81,
   "metadata": {},
   "outputs": [
    {
     "name": "stdout",
     "output_type": "stream",
     "text": [
      "[['hi', 'bye', 'hi', 'bye'], 'hellohello', 'goodbyegoodbye', [9, 2, 9, 2], 8]\n"
     ]
    }
   ],
   "source": [
    "lst = [[\"hi\", \"bye\"], \"hello\", \"goodbye\", [9, 2], 4]\n",
    "\n",
    "\n",
    "lst2 = [num*2 for num in lst]\n",
    "print(list((lst2)))"
   ]
  },
  {
   "cell_type": "code",
   "execution_count": 87,
   "metadata": {},
   "outputs": [
    {
     "name": "stdout",
     "output_type": "stream",
     "text": [
      "['Tommy', 'Bob', 'Sue']\n"
     ]
    }
   ],
   "source": [
    "\n",
    "students = [('Tommy', 95), ('Linda', 63), ('Carl', 70), ('Bob', 100), ('Raymond', 50), ('Sue', 75)]\n",
    "# for i in students:\n",
    "#     if i[1] > 70:\n",
    "#         print(i[0])\n",
    "\n",
    "blist = [num[0] for num in students if num[1]>=70]\n",
    "print(blist)"
   ]
  },
  {
   "cell_type": "code",
   "execution_count": 117,
   "metadata": {},
   "outputs": [
    {
     "name": "stdout",
     "output_type": "stream",
     "text": [
      "[('left', 'right'), ('up', 'down'), ('front', 'back')]\n",
      "[('left', 'right'), ('front', 'back')]\n"
     ]
    }
   ],
   "source": [
    "l1 = ['left', 'up', 'front']\n",
    "l2 = ['right', 'down', 'back']\n",
    "l3 = list(zip(l1,l2))\n",
    "print(l3)\n",
    "z = filter(lambda word: len(word[0])>3 and len(word[1])>3, l3)\n",
    "print(list(z))\n",
    "\n",
    "\n"
   ]
  },
  {
   "cell_type": "code",
   "execution_count": 126,
   "metadata": {},
   "outputs": [
    {
     "name": "stdout",
     "output_type": "stream",
     "text": [
      "[('golden retriever', 10000), ('white tailed deer', 90000), ('black rhino', 1000), ('brown squirrel', 2000000), ('field mouse', 500000), ('orangutan', 500), ('sumatran elephant', 1200), ('rainbow trout', 8000), ('black bear', 12000), ('blue whale', 2300), ('water moccasin', 7500), ('giant panda', 100), ('green turtle', 1800), ('blue jay', 9500), ('japanese beetle', 125000)]\n",
      "['black rhino', 'orangutan', 'sumatran elephant', 'blue whale', 'giant panda', 'green turtle']\n"
     ]
    }
   ],
   "source": [
    "species = ['golden retriever', 'white tailed deer', 'black rhino', 'brown squirrel', 'field mouse', 'orangutan', 'sumatran elephant', 'rainbow trout', 'black bear', 'blue whale', 'water moccasin', 'giant panda', 'green turtle', 'blue jay', 'japanese beetle']\n",
    "\n",
    "population = [10000, 90000, 1000, 2000000, 500000, 500, 1200, 8000, 12000, 2300, 7500, 100, 1800, 9500, 125000]\n",
    "\n",
    "pop_info = list(zip(species,population))\n",
    "print(pop_info)\n",
    "\n",
    "blist = [num[0] for num in pop_info if num[1]<=2500]\n",
    "print(blist)"
   ]
  },
  {
   "cell_type": "code",
   "execution_count": 1,
   "metadata": {},
   "outputs": [
    {
     "name": "stdout",
     "output_type": "stream",
     "text": [
      "[{\"word\":\"money\",\"score\":4415,\"numSyllables\":2},{\"word\":\"honey\",\"score\":1206,\"numSyllables\":2},{\"word\":\"sunny\",\"score\":717,\"numSyllables\":2},{\"word\":\"\n",
      "https://api.datamuse.com/words?rel_rhy=funny\n",
      "[{'word': 'money', 'score': 4415, 'numSyllables': 2}, {'word': 'honey', 'score': 1206, 'numSyllables': 2}]\n",
      "<class 'list'>\n",
      "{'word': 'money', 'score': 4415, 'numSyllables': 2}\n",
      "<class 'dict'>\n",
      "dict_keys(['word', 'score', 'numSyllables'])\n",
      "<class 'str'>\n",
      "[\n",
      "\n",
      "{'Cache-Control': 'no-transform, max-age=86400', 'Content-Encoding': 'gzip', 'Content-Type': 'application/json', 'Date': 'Mon, 09 Nov 2020 09:46:16 GMT', 'Vary': 'Accept-Encoding', 'Content-Length': '615', 'Connection': 'keep-alive'}\n",
      "200\n",
      "[]\n"
     ]
    }
   ],
   "source": [
    "# ----------------------------------------------------------------------------------------------------\n",
    "# -------------------------------------- REST API STARTDED------------------------------------------------\n",
    "# ----------------------------------------------------------------------------------------------------\n",
    "\n",
    "import requests\n",
    "import json\n",
    "\n",
    "page = requests.get('https://api.datamuse.com/words?rel_rhy=funny')\n",
    "type(page)\n",
    "print(page.text[:150])\n",
    "print(page.url)\n",
    "\n",
    "x = json.loads(page.text)\n",
    "print(x[0:2])\n",
    "print(type(x))\n",
    "print(x[0])\n",
    "print(type(x[0]))\n",
    "print(x[0].keys())\n",
    "\n",
    "z = json.dumps(x, indent=2)\n",
    "print(type(z))\n",
    "print(z[0:2])\n",
    "print(page.headers)\n",
    "print(page.status_code)\n",
    "print(page.history)"
   ]
  },
  {
   "cell_type": "code",
   "execution_count": 172,
   "metadata": {},
   "outputs": [
    {
     "name": "stdout",
     "output_type": "stream",
     "text": [
      "[{\"word\":\"money\",\"score\":4415,\"numSyllables\":2},{\"word\":\"honey\",\"score\":1206,\"numSyllables\":2},{\"word\":\"sunny\",\"score\":717,\"numSyllables\":2},{\"word\":\"\n",
      "https://api.datamuse.com/words?rel_rhy=funny\n",
      "{'Cache-Control': 'no-transform, max-age=86400', 'Content-Encoding': 'gzip', 'Content-Type': 'application/json', 'Date': 'Wed, 28 Oct 2020 06:29:31 GMT', 'Vary': 'Accept-Encoding', 'Content-Length': '615', 'Connection': 'keep-alive'}\n"
     ]
    }
   ],
   "source": [
    "import requests\n",
    "\n",
    "# page = requests.get(\"https://api.datamuse.com/words?rel_rhy=funny\")\n",
    "kval_pairs = {'rel_rhy': 'funny'}\n",
    "page = requests.get(\"https://api.datamuse.com/words\", params=kval_pairs)\n",
    "print(page.text[:150]) # print the first 150 characters\n",
    "print(page.url) # print the url that was fetched\n",
    "print(page.headers)"
   ]
  },
  {
   "cell_type": "code",
   "execution_count": 3,
   "metadata": {},
   "outputs": [
    {
     "name": "stdout",
     "output_type": "stream",
     "text": [
      "{'rel_rhy': 'funny', 'max': '3'}\n",
      "[{'word': 'money', 'score': 4415, 'numSyllables': 2}, {'word': 'honey', 'score': 1206, 'numSyllables': 2}, {'word': 'sunny', 'score': 717, 'numSyllables': 2}]\n",
      "key: {'word': 'honey', 'score': 1206, 'numSyllables': 2}\n",
      "dict_keys(['word', 'score', 'numSyllables'])\n",
      "dict_keys(['word', 'score', 'numSyllables'])\n",
      "dict_keys(['word', 'score', 'numSyllables'])\n",
      "['money', 'honey', 'sunny']\n"
     ]
    }
   ],
   "source": [
    "# import statements for necessary Python modules\n",
    "import requests\n",
    "\n",
    "def get_rhymes(word):\n",
    "    baseurl = \"https://api.datamuse.com/words\"\n",
    "    params_diction = {} # Set up an empty dictionary for query parameters\n",
    "    params_diction[\"rel_rhy\"] = word\n",
    "    params_diction[\"max\"] = \"3\" # get at most 3 results\n",
    "    print(params_diction)\n",
    "    resp = requests.get(baseurl, params=params_diction)\n",
    "    # return the top three words\n",
    "    word_ds = resp.json()\n",
    "    print(word_ds)\n",
    "    \n",
    "    print('key:', word_ds[1])\n",
    "    for i in word_ds:\n",
    "        print(i.keys())\n",
    "        \n",
    "    return [d['word'] for d in word_ds]\n",
    "    return resp.json() # Return a python object (a list of dictionaries in this case)\n",
    "\n",
    "print(get_rhymes(\"funny\"))\n"
   ]
  },
  {
   "cell_type": "code",
   "execution_count": 4,
   "metadata": {},
   "outputs": [
    {
     "name": "stdout",
     "output_type": "stream",
     "text": [
      "https://api.datamuse.com/words?rel_rhy=funny&max=3\n",
      "[{'word': 'money', 'score': 4415, 'numSyllables': 2}, {'word': 'honey', 'score': 1206, 'numSyllables': 2}, {'word': 'sunny', 'score': 717, 'numSyllables': 2}]\n"
     ]
    }
   ],
   "source": [
    "def get_rhymes(word):\n",
    "    base_url = \"https://api.datamuse.com/words\"\n",
    "    \n",
    "    para = {}\n",
    "    para['rel_rhy'] = word\n",
    "    para['max'] = '3'\n",
    "    \n",
    "    page = requests.get(base_url, params=para)\n",
    "    print(page.url)\n",
    "    word_ds = page.json()\n",
    "    return word_ds\n",
    "    return page.json()\n",
    "    \n",
    "print(get_rhymes('funny'))"
   ]
  },
  {
   "cell_type": "code",
   "execution_count": 189,
   "metadata": {
    "collapsed": true
   },
   "outputs": [
    {
     "ename": "ModuleNotFoundError",
     "evalue": "No module named 'requests_with_caching'",
     "output_type": "error",
     "traceback": [
      "\u001b[1;31m---------------------------------------------------------------------------\u001b[0m",
      "\u001b[1;31mModuleNotFoundError\u001b[0m                       Traceback (most recent call last)",
      "\u001b[1;32m<ipython-input-189-a57abd15a49d>\u001b[0m in \u001b[0;36m<module>\u001b[1;34m\u001b[0m\n\u001b[1;32m----> 1\u001b[1;33m \u001b[1;32mimport\u001b[0m \u001b[0mrequests_with_caching\u001b[0m\u001b[1;33m\u001b[0m\u001b[1;33m\u001b[0m\u001b[0m\n\u001b[0m\u001b[0;32m      2\u001b[0m \u001b[1;31m# it's not found in the permanent cache\u001b[0m\u001b[1;33m\u001b[0m\u001b[1;33m\u001b[0m\u001b[1;33m\u001b[0m\u001b[0m\n\u001b[0;32m      3\u001b[0m \u001b[0mres\u001b[0m \u001b[1;33m=\u001b[0m \u001b[0mrequests_with_caching\u001b[0m\u001b[1;33m.\u001b[0m\u001b[0mget\u001b[0m\u001b[1;33m(\u001b[0m\u001b[1;34m\"https://api.datamuse.com/words?rel_rhy=happy\"\u001b[0m\u001b[1;33m,\u001b[0m \u001b[0mpermanent_cache_file\u001b[0m\u001b[1;33m=\u001b[0m\u001b[1;34m\"datamuse_cache.txt\"\u001b[0m\u001b[1;33m)\u001b[0m\u001b[1;33m\u001b[0m\u001b[1;33m\u001b[0m\u001b[0m\n\u001b[0;32m      4\u001b[0m \u001b[0mprint\u001b[0m\u001b[1;33m(\u001b[0m\u001b[0mres\u001b[0m\u001b[1;33m.\u001b[0m\u001b[0mtext\u001b[0m\u001b[1;33m[\u001b[0m\u001b[1;33m:\u001b[0m\u001b[1;36m100\u001b[0m\u001b[1;33m]\u001b[0m\u001b[1;33m)\u001b[0m\u001b[1;33m\u001b[0m\u001b[1;33m\u001b[0m\u001b[0m\n\u001b[0;32m      5\u001b[0m \u001b[1;31m# this time it will be found in the temporary cache\u001b[0m\u001b[1;33m\u001b[0m\u001b[1;33m\u001b[0m\u001b[1;33m\u001b[0m\u001b[0m\n",
      "\u001b[1;31mModuleNotFoundError\u001b[0m: No module named 'requests_with_caching'"
     ]
    }
   ],
   "source": [
    "import requests_with_caching\n",
    "\n",
    "# it's not found in the permanent cache\n",
    "res = requests_with_caching.get(\"https://api.datamuse.com/words?rel_rhy=happy\", permanent_cache_file=\"datamuse_cache.txt\")\n",
    "print(res.text[:100])\n",
    "# this time it will be found in the temporary cache\n",
    "res = requests_with_caching.get(\"https://api.datamuse.com/words?rel_rhy=happy\", permanent_cache_file=\"datamuse_cache.txt\")\n",
    "# This one is in the permanent cache.\n",
    "res = requests_with_caching.get(\"https://api.datamuse.com/words?rel_rhy=funny\", permanent_cache_file=\"datamuse_cache.txt\")\n"
   ]
  },
  {
   "cell_type": "code",
   "execution_count": 5,
   "metadata": {
    "collapsed": true
   },
   "outputs": [
    {
     "ename": "JSONDecodeError",
     "evalue": "Expecting value: line 1 column 1 (char 0)",
     "output_type": "error",
     "traceback": [
      "\u001b[1;31m---------------------------------------------------------------------------\u001b[0m",
      "\u001b[1;31mJSONDecodeError\u001b[0m                           Traceback (most recent call last)",
      "\u001b[1;32m<ipython-input-5-5c88262bf7b4>\u001b[0m in \u001b[0;36m<module>\u001b[1;34m\u001b[0m\n\u001b[0;32m     11\u001b[0m     \u001b[1;32mreturn\u001b[0m \u001b[0mpage\u001b[0m\u001b[1;33m.\u001b[0m\u001b[0mjson\u001b[0m\u001b[1;33m(\u001b[0m\u001b[1;33m)\u001b[0m\u001b[1;33m\u001b[0m\u001b[1;33m\u001b[0m\u001b[0m\n\u001b[0;32m     12\u001b[0m \u001b[1;33m\u001b[0m\u001b[0m\n\u001b[1;32m---> 13\u001b[1;33m \u001b[0mprint\u001b[0m\u001b[1;33m(\u001b[0m\u001b[0mget_rhymes\u001b[0m\u001b[1;33m(\u001b[0m\u001b[1;34m''\u001b[0m\u001b[1;33m)\u001b[0m\u001b[1;33m)\u001b[0m\u001b[1;33m\u001b[0m\u001b[1;33m\u001b[0m\u001b[0m\n\u001b[0m",
      "\u001b[1;32m<ipython-input-5-5c88262bf7b4>\u001b[0m in \u001b[0;36mget_rhymes\u001b[1;34m(word)\u001b[0m\n\u001b[0;32m      7\u001b[0m \u001b[1;33m\u001b[0m\u001b[0m\n\u001b[0;32m      8\u001b[0m     \u001b[0mpage\u001b[0m \u001b[1;33m=\u001b[0m \u001b[0mrequests\u001b[0m\u001b[1;33m.\u001b[0m\u001b[0mget\u001b[0m\u001b[1;33m(\u001b[0m\u001b[0mbase_url\u001b[0m\u001b[1;33m,\u001b[0m \u001b[0mparams\u001b[0m\u001b[1;33m=\u001b[0m\u001b[0mpara\u001b[0m\u001b[1;33m)\u001b[0m\u001b[1;33m\u001b[0m\u001b[1;33m\u001b[0m\u001b[0m\n\u001b[1;32m----> 9\u001b[1;33m     \u001b[0mword_ds\u001b[0m \u001b[1;33m=\u001b[0m \u001b[0mpage\u001b[0m\u001b[1;33m.\u001b[0m\u001b[0mjson\u001b[0m\u001b[1;33m(\u001b[0m\u001b[1;33m)\u001b[0m\u001b[1;33m\u001b[0m\u001b[1;33m\u001b[0m\u001b[0m\n\u001b[0m\u001b[0;32m     10\u001b[0m     \u001b[1;32mreturn\u001b[0m \u001b[0mword_ds\u001b[0m\u001b[1;33m\u001b[0m\u001b[1;33m\u001b[0m\u001b[0m\n\u001b[0;32m     11\u001b[0m     \u001b[1;32mreturn\u001b[0m \u001b[0mpage\u001b[0m\u001b[1;33m.\u001b[0m\u001b[0mjson\u001b[0m\u001b[1;33m(\u001b[0m\u001b[1;33m)\u001b[0m\u001b[1;33m\u001b[0m\u001b[1;33m\u001b[0m\u001b[0m\n",
      "\u001b[1;32mE:\\Softwares\\Anaconda 3\\lib\\site-packages\\requests\\models.py\u001b[0m in \u001b[0;36mjson\u001b[1;34m(self, **kwargs)\u001b[0m\n\u001b[0;32m    896\u001b[0m                     \u001b[1;31m# used.\u001b[0m\u001b[1;33m\u001b[0m\u001b[1;33m\u001b[0m\u001b[1;33m\u001b[0m\u001b[0m\n\u001b[0;32m    897\u001b[0m                     \u001b[1;32mpass\u001b[0m\u001b[1;33m\u001b[0m\u001b[1;33m\u001b[0m\u001b[0m\n\u001b[1;32m--> 898\u001b[1;33m         \u001b[1;32mreturn\u001b[0m \u001b[0mcomplexjson\u001b[0m\u001b[1;33m.\u001b[0m\u001b[0mloads\u001b[0m\u001b[1;33m(\u001b[0m\u001b[0mself\u001b[0m\u001b[1;33m.\u001b[0m\u001b[0mtext\u001b[0m\u001b[1;33m,\u001b[0m \u001b[1;33m**\u001b[0m\u001b[0mkwargs\u001b[0m\u001b[1;33m)\u001b[0m\u001b[1;33m\u001b[0m\u001b[1;33m\u001b[0m\u001b[0m\n\u001b[0m\u001b[0;32m    899\u001b[0m \u001b[1;33m\u001b[0m\u001b[0m\n\u001b[0;32m    900\u001b[0m     \u001b[1;33m@\u001b[0m\u001b[0mproperty\u001b[0m\u001b[1;33m\u001b[0m\u001b[1;33m\u001b[0m\u001b[0m\n",
      "\u001b[1;32mE:\\Softwares\\Anaconda 3\\lib\\json\\__init__.py\u001b[0m in \u001b[0;36mloads\u001b[1;34m(s, encoding, cls, object_hook, parse_float, parse_int, parse_constant, object_pairs_hook, **kw)\u001b[0m\n\u001b[0;32m    346\u001b[0m             \u001b[0mparse_int\u001b[0m \u001b[1;32mis\u001b[0m \u001b[1;32mNone\u001b[0m \u001b[1;32mand\u001b[0m \u001b[0mparse_float\u001b[0m \u001b[1;32mis\u001b[0m \u001b[1;32mNone\u001b[0m \u001b[1;32mand\u001b[0m\u001b[1;33m\u001b[0m\u001b[1;33m\u001b[0m\u001b[0m\n\u001b[0;32m    347\u001b[0m             parse_constant is None and object_pairs_hook is None and not kw):\n\u001b[1;32m--> 348\u001b[1;33m         \u001b[1;32mreturn\u001b[0m \u001b[0m_default_decoder\u001b[0m\u001b[1;33m.\u001b[0m\u001b[0mdecode\u001b[0m\u001b[1;33m(\u001b[0m\u001b[0ms\u001b[0m\u001b[1;33m)\u001b[0m\u001b[1;33m\u001b[0m\u001b[1;33m\u001b[0m\u001b[0m\n\u001b[0m\u001b[0;32m    349\u001b[0m     \u001b[1;32mif\u001b[0m \u001b[0mcls\u001b[0m \u001b[1;32mis\u001b[0m \u001b[1;32mNone\u001b[0m\u001b[1;33m:\u001b[0m\u001b[1;33m\u001b[0m\u001b[1;33m\u001b[0m\u001b[0m\n\u001b[0;32m    350\u001b[0m         \u001b[0mcls\u001b[0m \u001b[1;33m=\u001b[0m \u001b[0mJSONDecoder\u001b[0m\u001b[1;33m\u001b[0m\u001b[1;33m\u001b[0m\u001b[0m\n",
      "\u001b[1;32mE:\\Softwares\\Anaconda 3\\lib\\json\\decoder.py\u001b[0m in \u001b[0;36mdecode\u001b[1;34m(self, s, _w)\u001b[0m\n\u001b[0;32m    335\u001b[0m \u001b[1;33m\u001b[0m\u001b[0m\n\u001b[0;32m    336\u001b[0m         \"\"\"\n\u001b[1;32m--> 337\u001b[1;33m         \u001b[0mobj\u001b[0m\u001b[1;33m,\u001b[0m \u001b[0mend\u001b[0m \u001b[1;33m=\u001b[0m \u001b[0mself\u001b[0m\u001b[1;33m.\u001b[0m\u001b[0mraw_decode\u001b[0m\u001b[1;33m(\u001b[0m\u001b[0ms\u001b[0m\u001b[1;33m,\u001b[0m \u001b[0midx\u001b[0m\u001b[1;33m=\u001b[0m\u001b[0m_w\u001b[0m\u001b[1;33m(\u001b[0m\u001b[0ms\u001b[0m\u001b[1;33m,\u001b[0m \u001b[1;36m0\u001b[0m\u001b[1;33m)\u001b[0m\u001b[1;33m.\u001b[0m\u001b[0mend\u001b[0m\u001b[1;33m(\u001b[0m\u001b[1;33m)\u001b[0m\u001b[1;33m)\u001b[0m\u001b[1;33m\u001b[0m\u001b[1;33m\u001b[0m\u001b[0m\n\u001b[0m\u001b[0;32m    338\u001b[0m         \u001b[0mend\u001b[0m \u001b[1;33m=\u001b[0m \u001b[0m_w\u001b[0m\u001b[1;33m(\u001b[0m\u001b[0ms\u001b[0m\u001b[1;33m,\u001b[0m \u001b[0mend\u001b[0m\u001b[1;33m)\u001b[0m\u001b[1;33m.\u001b[0m\u001b[0mend\u001b[0m\u001b[1;33m(\u001b[0m\u001b[1;33m)\u001b[0m\u001b[1;33m\u001b[0m\u001b[1;33m\u001b[0m\u001b[0m\n\u001b[0;32m    339\u001b[0m         \u001b[1;32mif\u001b[0m \u001b[0mend\u001b[0m \u001b[1;33m!=\u001b[0m \u001b[0mlen\u001b[0m\u001b[1;33m(\u001b[0m\u001b[0ms\u001b[0m\u001b[1;33m)\u001b[0m\u001b[1;33m:\u001b[0m\u001b[1;33m\u001b[0m\u001b[1;33m\u001b[0m\u001b[0m\n",
      "\u001b[1;32mE:\\Softwares\\Anaconda 3\\lib\\json\\decoder.py\u001b[0m in \u001b[0;36mraw_decode\u001b[1;34m(self, s, idx)\u001b[0m\n\u001b[0;32m    353\u001b[0m             \u001b[0mobj\u001b[0m\u001b[1;33m,\u001b[0m \u001b[0mend\u001b[0m \u001b[1;33m=\u001b[0m \u001b[0mself\u001b[0m\u001b[1;33m.\u001b[0m\u001b[0mscan_once\u001b[0m\u001b[1;33m(\u001b[0m\u001b[0ms\u001b[0m\u001b[1;33m,\u001b[0m \u001b[0midx\u001b[0m\u001b[1;33m)\u001b[0m\u001b[1;33m\u001b[0m\u001b[1;33m\u001b[0m\u001b[0m\n\u001b[0;32m    354\u001b[0m         \u001b[1;32mexcept\u001b[0m \u001b[0mStopIteration\u001b[0m \u001b[1;32mas\u001b[0m \u001b[0merr\u001b[0m\u001b[1;33m:\u001b[0m\u001b[1;33m\u001b[0m\u001b[1;33m\u001b[0m\u001b[0m\n\u001b[1;32m--> 355\u001b[1;33m             \u001b[1;32mraise\u001b[0m \u001b[0mJSONDecodeError\u001b[0m\u001b[1;33m(\u001b[0m\u001b[1;34m\"Expecting value\"\u001b[0m\u001b[1;33m,\u001b[0m \u001b[0ms\u001b[0m\u001b[1;33m,\u001b[0m \u001b[0merr\u001b[0m\u001b[1;33m.\u001b[0m\u001b[0mvalue\u001b[0m\u001b[1;33m)\u001b[0m \u001b[1;32mfrom\u001b[0m \u001b[1;32mNone\u001b[0m\u001b[1;33m\u001b[0m\u001b[1;33m\u001b[0m\u001b[0m\n\u001b[0m\u001b[0;32m    356\u001b[0m         \u001b[1;32mreturn\u001b[0m \u001b[0mobj\u001b[0m\u001b[1;33m,\u001b[0m \u001b[0mend\u001b[0m\u001b[1;33m\u001b[0m\u001b[1;33m\u001b[0m\u001b[0m\n",
      "\u001b[1;31mJSONDecodeError\u001b[0m: Expecting value: line 1 column 1 (char 0)"
     ]
    }
   ],
   "source": [
    "def get_rhymes(word):\n",
    "    base_url = \"https://icanhazdadjoke.com/\"\n",
    "    \n",
    "    para = {}\n",
    "    para['rel_rhy'] = word\n",
    "    para['max'] = '3'\n",
    "    \n",
    "    page = requests.get(base_url, params=para)\n",
    "    word_ds = page.json()\n",
    "    return word_ds\n",
    "    return page.json()\n",
    "    \n",
    "print(get_rhymes(''))"
   ]
  },
  {
   "cell_type": "code",
   "execution_count": 37,
   "metadata": {
    "collapsed": true
   },
   "outputs": [
    {
     "name": "stdout",
     "output_type": "stream",
     "text": [
      "{'resultCount': 41, 'results': [{'wrapperType': 'track', 'kind': 'podcast', 'collectionId': 1045184175, 'trackId': 1045184175, 'artistName': 'Cumulus Media Ann Arbor', 'collectionName': 'Michigan Insider', 'trackName': 'Michigan Insider', 'collectionCensoredName': 'Michigan Insider', 'trackCensoredName': 'Michigan Insider', 'collectionViewUrl': 'https://podcasts.apple.com/us/podcast/michigan-insider/id1045184175?uo=4', 'feedUrl': 'https://www.omnycontent.com/d/playlist/a7b0bd27-d748-4fbe-ab3b-a6fa0049bcf6/4e156636-4f50-4d02-8613-a88d0118334a/6d8e6f96-7456-4af2-b00a-a88d0118334f/podcast.rss', 'trackViewUrl': 'https://podcasts.apple.com/us/podcast/michigan-insider/id1045184175?uo=4', 'artworkUrl30': 'https://is3-ssl.mzstatic.com/image/thumb/Podcasts123/v4/3b/d2/56/3bd256b1-d13e-4d4e-00b5-d674ae9b5c72/mza_5443611793607478813.jpg/30x30bb.jpg', 'artworkUrl60': 'https://is3-ssl.mzstatic.com/image/thumb/Podcasts123/v4/3b/d2/56/3bd256b1-d13e-4d4e-00b5-d674ae9b5c72/mza_5443611793607478813.jpg/60x60bb.jpg', 'artworkUrl100': 'https://is3-ssl.mzstatic.com/image/thumb/Podcasts123/v4/3b/d2/56/3bd256b1-d13e-4d4e-00b5-d674ae9b5c72/mza_5443611793607478813.jpg/100x100bb.jpg', 'collectionPrice': 0.0, 'trackPrice': 0.0, 'trackRentalPrice': 0, 'collectionHdPrice': 0, 'trackHdPrice': 0, 'trackHdRentalPrice': 0, 'releaseDate': '2020-10-27T14:03:00Z', 'collectionExplicitness': 'cleaned', 'trackExplicitness': 'cleaned', 'trackCount': 100, 'country': 'USA', 'currency': 'USD', 'primaryGenreName': 'Sports', 'contentAdvisoryRating': 'Clean', 'artworkUrl600': 'https://is3-ssl.mzstatic.com/image/thumb/Podcasts123/v4/3b/d2/56/3bd256b1-d13e-4d4e-00b5-d674ae9b5c72/mza_5443611793607478813.jpg/600x600bb.jpg', 'genreIds': ['1545', '26'], 'genres': ['Sports', 'Podcasts']}, {'wrapperType': 'track', 'kind': 'podcast', 'collectionId': 1089272384, 'trackId': 1089272384, 'artistName': 'Ann Arbor District Library', 'collectionName': 'Ann Arbor Stories | Ann Arbor District Library', 'trackName': 'Ann Arbor Stories | Ann Arbor District Library', 'collectionCensoredName': 'Ann Arbor Stories | Ann Arbor District Library', 'trackCensoredName': 'Ann Arbor Stories | Ann Arbor District Library', 'collectionViewUrl': 'https://podcasts.apple.com/us/podcast/ann-arbor-stories-ann-arbor-district-library/id1089272384?uo=4', 'feedUrl': 'https://aadl.org/annarborstories/feed', 'trackViewUrl': 'https://podcasts.apple.com/us/podcast/ann-arbor-stories-ann-arbor-district-library/id1089272384?uo=4', 'artworkUrl30': 'https://is1-ssl.mzstatic.com/image/thumb/Podcasts123/v4/99/f1/b8/99f1b802-488d-7c1a-adbe-7751fd55d137/mza_4178168094661360298.png/30x30bb.jpg', 'artworkUrl60': 'https://is1-ssl.mzstatic.com/image/thumb/Podcasts123/v4/99/f1/b8/99f1b802-488d-7c1a-adbe-7751fd55d137/mza_4178168094661360298.png/60x60bb.jpg', 'artworkUrl100': 'https://is1-ssl.mzstatic.com/image/thumb/Podcasts123/v4/99/f1/b8/99f1b802-488d-7c1a-adbe-7751fd55d137/mza_4178168094661360298.png/100x100bb.jpg', 'collectionPrice': 0.0, 'trackPrice': 0.0, 'trackRentalPrice': 0, 'collectionHdPrice': 0, 'trackHdPrice': 0, 'trackHdRentalPrice': 0, 'releaseDate': '2018-04-12T10:30:00Z', 'collectionExplicitness': 'cleaned', 'trackExplicitness': 'cleaned', 'trackCount': 47, 'country': 'USA', 'currency': 'USD', 'primaryGenreName': 'Arts', 'contentAdvisoryRating': 'Clean', 'artworkUrl600': 'https://is1-ssl.mzstatic.com/image/thumb/Podcasts123/v4/99/f1/b8/99f1b802-488d-7c1a-adbe-7751fd55d137/mza_4178168094661360298.png/600x600bb.jpg', 'genreIds': ['1301', '26', '1511'], 'genres': ['Arts', 'Podcasts', 'Government']}, {'wrapperType': 'track', 'kind': 'podcast', 'collectionId': 1045185977, 'trackId': 1045185977, 'artistName': 'Cumulus Media Ann Arbor', 'collectionName': 'The M Zone - WTKA-AM', 'trackName': 'The M Zone - WTKA-AM', 'collectionCensoredName': 'The M Zone - WTKA-AM', 'trackCensoredName': 'The M Zone - WTKA-AM', 'collectionViewUrl': 'https://podcasts.apple.com/us/podcast/the-m-zone-wtka-am/id1045185977?uo=4', 'feedUrl': 'https://www.omnycontent.com/d/playlist/a7b0bd27-d748-4fbe-ab3b-a6fa0049bcf6/d7760490-00a6-4865-8710-a8a900e93cb2/ce371dc4-3dfd-46e0-961c-a8a900e93cb6/podcast.rss', 'trackViewUrl': 'https://podcasts.apple.com/us/podcast/the-m-zone-wtka-am/id1045185977?uo=4', 'artworkUrl30': 'https://is5-ssl.mzstatic.com/image/thumb/Podcasts113/v4/f9/e0/8d/f9e08d7b-2bb8-5a8f-59ff-bc0acb765677/mza_2136882620086562848.jpg/30x30bb.jpg', 'artworkUrl60': 'https://is5-ssl.mzstatic.com/image/thumb/Podcasts113/v4/f9/e0/8d/f9e08d7b-2bb8-5a8f-59ff-bc0acb765677/mza_2136882620086562848.jpg/60x60bb.jpg', 'artworkUrl100': 'https://is5-ssl.mzstatic.com/image/thumb/Podcasts113/v4/f9/e0/8d/f9e08d7b-2bb8-5a8f-59ff-bc0acb765677/mza_2136882620086562848.jpg/100x100bb.jpg', 'collectionPrice': 0.0, 'trackPrice': 0.0, 'trackRentalPrice': 0, 'collectionHdPrice': 0, 'trackHdPrice': 0, 'trackHdRentalPrice': 0, 'releaseDate': '2020-10-27T22:03:00Z', 'collectionExplicitness': 'cleaned', 'trackExplicitness': 'cleaned', 'trackCount': 100, 'country': 'USA', 'currency': 'USD', 'primaryGenreName': 'Sports', 'contentAdvisoryRating': 'Clean', 'artworkUrl600': 'https://is5-ssl.mzstatic.com/image/thumb/Podcasts113/v4/f9/e0/8d/f9e08d7b-2bb8-5a8f-59ff-bc0acb765677/mza_2136882620086562848.jpg/600x600bb.jpg', 'genreIds': ['1545', '26'], 'genres': ['Sports', 'Podcasts']}, {'wrapperType': 'track', 'kind': 'podcast', 'collectionId': 1369289846, 'trackId': 1369289846, 'artistName': 'Cumulus Media Ann Arbor', 'collectionName': 'Inside the Huddle', 'trackName': 'Inside the Huddle', 'collectionCensoredName': 'Inside the Huddle', 'trackCensoredName': 'Inside the Huddle', 'collectionViewUrl': 'https://podcasts.apple.com/us/podcast/inside-the-huddle/id1369289846?uo=4', 'feedUrl': 'https://www.omnycontent.com/d/playlist/a7b0bd27-d748-4fbe-ab3b-a6fa0049bcf6/25475af6-2630-46ea-b274-a8900152c723/9ce52802-3ff2-4b23-bd81-a89001540eb1/podcast.rss', 'trackViewUrl': 'https://podcasts.apple.com/us/podcast/inside-the-huddle/id1369289846?uo=4', 'artworkUrl30': 'https://is4-ssl.mzstatic.com/image/thumb/Podcasts123/v4/3c/5e/b9/3c5eb932-bf25-57ba-9a8d-493d324a7dd4/mza_4791770712193849517.jpg/30x30bb.jpg', 'artworkUrl60': 'https://is4-ssl.mzstatic.com/image/thumb/Podcasts123/v4/3c/5e/b9/3c5eb932-bf25-57ba-9a8d-493d324a7dd4/mza_4791770712193849517.jpg/60x60bb.jpg', 'artworkUrl100': 'https://is4-ssl.mzstatic.com/image/thumb/Podcasts123/v4/3c/5e/b9/3c5eb932-bf25-57ba-9a8d-493d324a7dd4/mza_4791770712193849517.jpg/100x100bb.jpg', 'collectionPrice': 0.0, 'trackPrice': 0.0, 'trackRentalPrice': 0, 'collectionHdPrice': 0, 'trackHdPrice': 0, 'trackHdRentalPrice': 0, 'releaseDate': '2020-08-20T14:46:00Z', 'collectionExplicitness': 'cleaned', 'trackExplicitness': 'cleaned', 'trackCount': 100, 'country': 'USA', 'currency': 'USD', 'primaryGenreName': 'Sports', 'contentAdvisoryRating': 'Clean', 'artworkUrl600': 'https://is4-ssl.mzstatic.com/image/thumb/Podcasts123/v4/3c/5e/b9/3c5eb932-bf25-57ba-9a8d-493d324a7dd4/mza_4791770712193849517.jpg/600x600bb.jpg', 'genreIds': ['1545', '26'], 'genres': ['Sports', 'Podcasts']}, {'wrapperType': 'track', 'kind': 'podcast', 'collectionId': 156621464, 'trackId': 156621464, 'artistName': 'Vineyard Church of Ann Arbor', 'collectionName': 'Vineyard Church of Ann Arbor Sermon Podcast', 'trackName': 'Vineyard Church of Ann Arbor Sermon Podcast', 'collectionCensoredName': 'Vineyard Church of Ann Arbor Sermon Podcast', 'trackCensoredName': 'Vineyard Church of Ann Arbor Sermon Podcast', 'collectionViewUrl': 'https://podcasts.apple.com/us/podcast/vineyard-church-of-ann-arbor-sermon-podcast/id156621464?uo=4', 'feedUrl': 'https://annarborvineyard.libsyn.com/rss', 'trackViewUrl': 'https://podcasts.apple.com/us/podcast/vineyard-church-of-ann-arbor-sermon-podcast/id156621464?uo=4', 'artworkUrl30': 'https://is2-ssl.mzstatic.com/image/thumb/Podcasts123/v4/be/b0/16/beb016f4-ea86-eff9-0ad3-ab99db0d2b72/mza_6045480872468285563.jpg/30x30bb.jpg', 'artworkUrl60': 'https://is2-ssl.mzstatic.com/image/thumb/Podcasts123/v4/be/b0/16/beb016f4-ea86-eff9-0ad3-ab99db0d2b72/mza_6045480872468285563.jpg/60x60bb.jpg', 'artworkUrl100': 'https://is2-ssl.mzstatic.com/image/thumb/Podcasts123/v4/be/b0/16/beb016f4-ea86-eff9-0ad3-ab99db0d2b72/mza_6045480872468285563.jpg/100x100bb.jpg', 'collectionPrice': 0.0, 'trackPrice': 0.0, 'trackRentalPrice': 0, 'collectionHdPrice': 0, 'trackHdPrice': 0, 'trackHdRentalPrice': 0, 'releaseDate': '2020-10-25T15:00:00Z', 'collectionExplicitness': 'cleaned', 'trackExplicitness': 'cleaned', 'trackCount': 740, 'country': 'USA', 'currency': 'USD', 'primaryGenreName': 'Christianity', 'contentAdvisoryRating': 'Clean', 'artworkUrl600': 'https://is2-ssl.mzstatic.com/image/thumb/Podcasts123/v4/be/b0/16/beb016f4-ea86-eff9-0ad3-ab99db0d2b72/mza_6045480872468285563.jpg/600x600bb.jpg', 'genreIds': ['1439', '26', '1314', '1444'], 'genres': ['Christianity', 'Podcasts', 'Religion & Spirituality', 'Spirituality']}, {'wrapperType': 'track', 'kind': 'podcast', 'collectionId': 1123046320, 'trackId': 1123046320, 'artistName': 'annarbor242', 'collectionName': '2|42 Community Church - Ann Arbor', 'trackName': '2|42 Community Church - Ann Arbor', 'collectionCensoredName': '2|42 Community Church - Ann Arbor', 'trackCensoredName': '2|42 Community Church - Ann Arbor', 'collectionViewUrl': 'https://podcasts.apple.com/us/podcast/2-42-community-church-ann-arbor/id1123046320?uo=4', 'feedUrl': 'http://annarborpodcast.242community.com/feed.xml', 'trackViewUrl': 'https://podcasts.apple.com/us/podcast/2-42-community-church-ann-arbor/id1123046320?uo=4', 'artworkUrl30': 'https://is5-ssl.mzstatic.com/image/thumb/Podcasts113/v4/df/ba/13/dfba13aa-ca15-7ca5-1202-71678994ecd3/mza_12701945405115195888.jpg/30x30bb.jpg', 'artworkUrl60': 'https://is5-ssl.mzstatic.com/image/thumb/Podcasts113/v4/df/ba/13/dfba13aa-ca15-7ca5-1202-71678994ecd3/mza_12701945405115195888.jpg/60x60bb.jpg', 'artworkUrl100': 'https://is5-ssl.mzstatic.com/image/thumb/Podcasts113/v4/df/ba/13/dfba13aa-ca15-7ca5-1202-71678994ecd3/mza_12701945405115195888.jpg/100x100bb.jpg', 'collectionPrice': 0.0, 'trackPrice': 0.0, 'trackRentalPrice': 0, 'collectionHdPrice': 0, 'trackHdPrice': 0, 'trackHdRentalPrice': 0, 'releaseDate': '2020-10-25T16:30:00Z', 'collectionExplicitness': 'cleaned', 'trackExplicitness': 'cleaned', 'trackCount': 100, 'country': 'USA', 'currency': 'USD', 'primaryGenreName': 'Christianity', 'contentAdvisoryRating': 'Clean', 'artworkUrl600': 'https://is5-ssl.mzstatic.com/image/thumb/Podcasts113/v4/df/ba/13/dfba13aa-ca15-7ca5-1202-71678994ecd3/mza_12701945405115195888.jpg/600x600bb.jpg', 'genreIds': ['1439', '26', '1314'], 'genres': ['Christianity', 'Podcasts', 'Religion & Spirituality']}, {'wrapperType': 'track', 'kind': 'podcast', 'collectionId': 1523880147, 'trackId': 1523880147, 'artistName': 'Derek Seidl', 'collectionName': \"Coach Speak: Greater Ann Arbor's Prep Hoops Podcast\", 'trackName': \"Coach Speak: Greater Ann Arbor's Prep Hoops Podcast\", 'collectionCensoredName': \"Coach Speak: Greater Ann Arbor's Prep Hoops Podcast\", 'trackCensoredName': \"Coach Speak: Greater Ann Arbor's Prep Hoops Podcast\", 'collectionViewUrl': 'https://podcasts.apple.com/us/podcast/coach-speak-greater-ann-arbors-prep-hoops-podcast/id1523880147?uo=4', 'feedUrl': 'https://anchor.fm/s/2afd8610/podcast/rss', 'trackViewUrl': 'https://podcasts.apple.com/us/podcast/coach-speak-greater-ann-arbors-prep-hoops-podcast/id1523880147?uo=4', 'artworkUrl30': 'https://is2-ssl.mzstatic.com/image/thumb/Podcasts114/v4/06/35/42/06354245-3446-bee4-e591-f43b39eb2d9d/mza_9167286005137551934.jpg/30x30bb.jpg', 'artworkUrl60': 'https://is2-ssl.mzstatic.com/image/thumb/Podcasts114/v4/06/35/42/06354245-3446-bee4-e591-f43b39eb2d9d/mza_9167286005137551934.jpg/60x60bb.jpg', 'artworkUrl100': 'https://is2-ssl.mzstatic.com/image/thumb/Podcasts114/v4/06/35/42/06354245-3446-bee4-e591-f43b39eb2d9d/mza_9167286005137551934.jpg/100x100bb.jpg', 'collectionPrice': 0.0, 'trackPrice': 0.0, 'trackRentalPrice': 0, 'collectionHdPrice': 0, 'trackHdPrice': 0, 'trackHdRentalPrice': 0, 'releaseDate': '2020-10-27T11:00:00Z', 'collectionExplicitness': 'cleaned', 'trackExplicitness': 'cleaned', 'trackCount': 25, 'country': 'USA', 'currency': 'USD', 'primaryGenreName': 'Basketball', 'contentAdvisoryRating': 'Clean', 'artworkUrl600': 'https://is2-ssl.mzstatic.com/image/thumb/Podcasts114/v4/06/35/42/06354245-3446-bee4-e591-f43b39eb2d9d/mza_9167286005137551934.jpg/600x600bb.jpg', 'genreIds': ['1548', '26', '1545'], 'genres': ['Basketball', 'Podcasts', 'Sports']}, {'wrapperType': 'track', 'kind': 'podcast', 'collectionId': 1425282628, 'trackId': 1425282628, 'artistName': 'Ann Arbor District Library', 'collectionName': 'Presenting Alfred Hitchcock Presents | Ann Arbor District Library', 'trackName': 'Presenting Alfred Hitchcock Presents | Ann Arbor District Library', 'collectionCensoredName': 'Presenting Alfred Hitchcock Presents | Ann Arbor District Library', 'trackCensoredName': 'Presenting Alfred Hitchcock Presents | Ann Arbor District Library', 'collectionViewUrl': 'https://podcasts.apple.com/us/podcast/presenting-alfred-hitchcock-presents-ann-arbor-district/id1425282628?uo=4', 'feedUrl': 'https://aadl.org/hitchcock/feed', 'trackViewUrl': 'https://podcasts.apple.com/us/podcast/presenting-alfred-hitchcock-presents-ann-arbor-district/id1425282628?uo=4', 'artworkUrl30': 'https://is5-ssl.mzstatic.com/image/thumb/Podcasts123/v4/2f/c3/fe/2fc3fe77-c4f1-04cd-42a9-bceb8234929e/mza_8007324102799298549.png/30x30bb.jpg', 'artworkUrl60': 'https://is5-ssl.mzstatic.com/image/thumb/Podcasts123/v4/2f/c3/fe/2fc3fe77-c4f1-04cd-42a9-bceb8234929e/mza_8007324102799298549.png/60x60bb.jpg', 'artworkUrl100': 'https://is5-ssl.mzstatic.com/image/thumb/Podcasts123/v4/2f/c3/fe/2fc3fe77-c4f1-04cd-42a9-bceb8234929e/mza_8007324102799298549.png/100x100bb.jpg', 'collectionPrice': 0.0, 'trackPrice': 0.0, 'trackRentalPrice': 0, 'collectionHdPrice': 0, 'trackHdPrice': 0, 'trackHdRentalPrice': 0, 'releaseDate': '2020-10-12T19:45:00Z', 'collectionExplicitness': 'cleaned', 'trackExplicitness': 'cleaned', 'trackCount': 28, 'country': 'USA', 'currency': 'USD', 'primaryGenreName': 'Books', 'contentAdvisoryRating': 'Clean', 'artworkUrl600': 'https://is5-ssl.mzstatic.com/image/thumb/Podcasts123/v4/2f/c3/fe/2fc3fe77-c4f1-04cd-42a9-bceb8234929e/mza_8007324102799298549.png/600x600bb.jpg', 'genreIds': ['1482', '26', '1301', '1405'], 'genres': ['Books', 'Podcasts', 'Arts', 'Performing Arts']}, {'wrapperType': 'track', 'kind': 'podcast', 'collectionId': 118253222, 'trackId': 118253222, 'artistName': 'New Life Church - Ann Arbor', 'collectionName': 'Sermons – NewLifeA2.org', 'trackName': 'Sermons – NewLifeA2.org', 'collectionCensoredName': 'Sermons – NewLifeA2.org', 'trackCensoredName': 'Sermons – NewLifeA2.org', 'collectionViewUrl': 'https://podcasts.apple.com/us/podcast/sermons-newlifea2-org/id118253222?uo=4', 'feedUrl': 'http://feeds.feedburner.com/newlifea2/', 'trackViewUrl': 'https://podcasts.apple.com/us/podcast/sermons-newlifea2-org/id118253222?uo=4', 'artworkUrl30': 'https://is1-ssl.mzstatic.com/image/thumb/Podcasts6/v4/29/b0/c9/29b0c99f-5d37-4c9e-0bcd-7642dadd07a7/mza_5771903614977892214.png/30x30bb.jpg', 'artworkUrl60': 'https://is1-ssl.mzstatic.com/image/thumb/Podcasts6/v4/29/b0/c9/29b0c99f-5d37-4c9e-0bcd-7642dadd07a7/mza_5771903614977892214.png/60x60bb.jpg', 'artworkUrl100': 'https://is1-ssl.mzstatic.com/image/thumb/Podcasts6/v4/29/b0/c9/29b0c99f-5d37-4c9e-0bcd-7642dadd07a7/mza_5771903614977892214.png/100x100bb.jpg', 'collectionPrice': 0.0, 'trackPrice': 0.0, 'trackRentalPrice': 0, 'collectionHdPrice': 0, 'trackHdPrice': 0, 'trackHdRentalPrice': 0, 'releaseDate': '2020-10-25T15:01:00Z', 'collectionExplicitness': 'cleaned', 'trackExplicitness': 'cleaned', 'trackCount': 296, 'country': 'USA', 'currency': 'USD', 'primaryGenreName': 'Christianity', 'contentAdvisoryRating': 'Clean', 'artworkUrl600': 'https://is1-ssl.mzstatic.com/image/thumb/Podcasts6/v4/29/b0/c9/29b0c99f-5d37-4c9e-0bcd-7642dadd07a7/mza_5771903614977892214.png/600x600bb.jpg', 'genreIds': ['1439', '26', '1314'], 'genres': ['Christianity', 'Podcasts', 'Religion & Spirituality']}, {'wrapperType': 'track', 'kind': 'podcast', 'collectionId': 1085131603, 'trackId': 1085131603, 'artistName': 'Blue Ocean Church Ann Arbor', 'collectionName': 'Blue Ocean Church Ann Arbor', 'trackName': 'Blue Ocean Church Ann Arbor', 'collectionCensoredName': 'Blue Ocean Church Ann Arbor', 'trackCensoredName': 'Blue Ocean Church Ann Arbor', 'collectionViewUrl': 'https://podcasts.apple.com/us/podcast/blue-ocean-church-ann-arbor/id1085131603?uo=4', 'feedUrl': 'http://www.a2blue.org/feed/podcast', 'trackViewUrl': 'https://podcasts.apple.com/us/podcast/blue-ocean-church-ann-arbor/id1085131603?uo=4', 'artworkUrl30': 'https://is2-ssl.mzstatic.com/image/thumb/Podcasts124/v4/c9/5e/5b/c95e5be7-76a1-0240-85d8-793e68177223/mza_15292617882995373068.jpg/30x30bb.jpg', 'artworkUrl60': 'https://is2-ssl.mzstatic.com/image/thumb/Podcasts124/v4/c9/5e/5b/c95e5be7-76a1-0240-85d8-793e68177223/mza_15292617882995373068.jpg/60x60bb.jpg', 'artworkUrl100': 'https://is2-ssl.mzstatic.com/image/thumb/Podcasts124/v4/c9/5e/5b/c95e5be7-76a1-0240-85d8-793e68177223/mza_15292617882995373068.jpg/100x100bb.jpg', 'collectionPrice': 0.0, 'trackPrice': 0.0, 'trackRentalPrice': 0, 'collectionHdPrice': 0, 'trackHdPrice': 0, 'trackHdRentalPrice': 0, 'releaseDate': '2020-10-27T06:00:00Z', 'collectionExplicitness': 'cleaned', 'trackExplicitness': 'cleaned', 'trackCount': 50, 'country': 'USA', 'currency': 'USD', 'primaryGenreName': 'Christianity', 'contentAdvisoryRating': 'Clean', 'artworkUrl600': 'https://is2-ssl.mzstatic.com/image/thumb/Podcasts124/v4/c9/5e/5b/c95e5be7-76a1-0240-85d8-793e68177223/mza_15292617882995373068.jpg/600x600bb.jpg', 'genreIds': ['1439', '26', '1314'], 'genres': ['Christianity', 'Podcasts', 'Religion & Spirituality']}, {'wrapperType': 'track', 'kind': 'podcast', 'collectionId': 719611936, 'trackId': 719611936, 'artistName': 'Grace Ann Arbor', 'collectionName': 'Grace Ann Arbor Church', 'trackName': 'Grace Ann Arbor Church', 'collectionCensoredName': 'Grace Ann Arbor Church', 'trackCensoredName': 'Grace Ann Arbor Church', 'collectionViewUrl': 'https://podcasts.apple.com/us/podcast/grace-ann-arbor-church/id719611936?uo=4', 'feedUrl': 'https://gracechurch.city/podcast/grace.xml', 'trackViewUrl': 'https://podcasts.apple.com/us/podcast/grace-ann-arbor-church/id719611936?uo=4', 'artworkUrl30': 'https://is4-ssl.mzstatic.com/image/thumb/Podcasts113/v4/cd/84/12/cd84125a-4edf-0900-21db-0e3a9fb80285/mza_16750190413090333288.jpg/30x30bb.jpg', 'artworkUrl60': 'https://is4-ssl.mzstatic.com/image/thumb/Podcasts113/v4/cd/84/12/cd84125a-4edf-0900-21db-0e3a9fb80285/mza_16750190413090333288.jpg/60x60bb.jpg', 'artworkUrl100': 'https://is4-ssl.mzstatic.com/image/thumb/Podcasts113/v4/cd/84/12/cd84125a-4edf-0900-21db-0e3a9fb80285/mza_16750190413090333288.jpg/100x100bb.jpg', 'collectionPrice': 0.0, 'trackPrice': 0.0, 'trackRentalPrice': 0, 'collectionHdPrice': 0, 'trackHdPrice': 0, 'trackHdRentalPrice': 0, 'releaseDate': '2020-10-25T11:00:00Z', 'collectionExplicitness': 'cleaned', 'trackExplicitness': 'cleaned', 'trackCount': 223, 'country': 'USA', 'currency': 'USD', 'primaryGenreName': 'Christianity', 'contentAdvisoryRating': 'Clean', 'artworkUrl600': 'https://is4-ssl.mzstatic.com/image/thumb/Podcasts113/v4/cd/84/12/cd84125a-4edf-0900-21db-0e3a9fb80285/mza_16750190413090333288.jpg/600x600bb.jpg', 'genreIds': ['1439', '26', '1314'], 'genres': ['Christianity', 'Podcasts', 'Religion & Spirituality']}, {'wrapperType': 'track', 'kind': 'podcast', 'collectionId': 79905145, 'trackId': 79905145, 'artistName': 'First Presbyterian Church of Ann Arbor', 'collectionName': 'Sermons from First Pres', 'trackName': 'Sermons from First Pres', 'collectionCensoredName': 'Sermons from First Pres', 'trackCensoredName': 'Sermons from First Pres', 'collectionViewUrl': 'https://podcasts.apple.com/us/podcast/sermons-from-first-pres/id79905145?uo=4', 'feedUrl': 'http://feeds.feedburner.com/sermonsfromfirstpres?q=podcasts.xml', 'trackViewUrl': 'https://podcasts.apple.com/us/podcast/sermons-from-first-pres/id79905145?uo=4', 'artworkUrl30': 'https://is1-ssl.mzstatic.com/image/thumb/Podcasts123/v4/73/5d/17/735d1770-aab0-15f8-45b1-4a6ddfad7495/mza_3947842964194107436.png/30x30bb.jpg', 'artworkUrl60': 'https://is1-ssl.mzstatic.com/image/thumb/Podcasts123/v4/73/5d/17/735d1770-aab0-15f8-45b1-4a6ddfad7495/mza_3947842964194107436.png/60x60bb.jpg', 'artworkUrl100': 'https://is1-ssl.mzstatic.com/image/thumb/Podcasts123/v4/73/5d/17/735d1770-aab0-15f8-45b1-4a6ddfad7495/mza_3947842964194107436.png/100x100bb.jpg', 'collectionPrice': 0.0, 'trackPrice': 0.0, 'trackRentalPrice': 0, 'collectionHdPrice': 0, 'trackHdPrice': 0, 'trackHdRentalPrice': 0, 'releaseDate': '2020-07-05T04:00:00Z', 'collectionExplicitness': 'cleaned', 'trackExplicitness': 'cleaned', 'trackCount': 161, 'country': 'USA', 'currency': 'USD', 'primaryGenreName': 'Christianity', 'contentAdvisoryRating': 'Clean', 'artworkUrl600': 'https://is1-ssl.mzstatic.com/image/thumb/Podcasts123/v4/73/5d/17/735d1770-aab0-15f8-45b1-4a6ddfad7495/mza_3947842964194107436.png/600x600bb.jpg', 'genreIds': ['1439', '26', '1314'], 'genres': ['Christianity', 'Podcasts', 'Religion & Spirituality']}, {'wrapperType': 'track', 'kind': 'podcast', 'collectionId': 1515185697, 'trackId': 1515185697, 'artistName': 'Ed Williams', 'collectionName': 'Ann Arbor Mentality', 'trackName': 'Ann Arbor Mentality', 'collectionCensoredName': 'Ann Arbor Mentality', 'trackCensoredName': 'Ann Arbor Mentality', 'collectionViewUrl': 'https://podcasts.apple.com/us/podcast/ann-arbor-mentality/id1515185697?uo=4', 'feedUrl': 'https://feeds.buzzsprout.com/1117394.rss', 'trackViewUrl': 'https://podcasts.apple.com/us/podcast/ann-arbor-mentality/id1515185697?uo=4', 'artworkUrl30': 'https://is5-ssl.mzstatic.com/image/thumb/Podcasts113/v4/a8/e5/ca/a8e5ca67-47ed-b2c5-4ce6-19a956817114/mza_6532260703614036148.jpeg/30x30bb.jpg', 'artworkUrl60': 'https://is5-ssl.mzstatic.com/image/thumb/Podcasts113/v4/a8/e5/ca/a8e5ca67-47ed-b2c5-4ce6-19a956817114/mza_6532260703614036148.jpeg/60x60bb.jpg', 'artworkUrl100': 'https://is5-ssl.mzstatic.com/image/thumb/Podcasts113/v4/a8/e5/ca/a8e5ca67-47ed-b2c5-4ce6-19a956817114/mza_6532260703614036148.jpeg/100x100bb.jpg', 'collectionPrice': 0.0, 'trackPrice': 0.0, 'trackRentalPrice': 0, 'collectionHdPrice': 0, 'trackHdPrice': 0, 'trackHdRentalPrice': 0, 'releaseDate': '2020-10-26T19:00:00Z', 'collectionExplicitness': 'explicit', 'trackExplicitness': 'explicit', 'trackCount': 16, 'country': 'USA', 'currency': 'USD', 'primaryGenreName': 'Philosophy', 'contentAdvisoryRating': 'Explicit', 'artworkUrl600': 'https://is5-ssl.mzstatic.com/image/thumb/Podcasts113/v4/a8/e5/ca/a8e5ca67-47ed-b2c5-4ce6-19a956817114/mza_6532260703614036148.jpeg/600x600bb.jpg', 'genreIds': ['1443', '26', '1324'], 'genres': ['Philosophy', 'Podcasts', 'Society & Culture']}, {'wrapperType': 'track', 'kind': 'podcast', 'collectionId': 704835029, 'trackId': 704835029, 'artistName': 'Antioch Community Church: Ann Arbor', 'collectionName': 'Antioch Ann Arbor', 'trackName': 'Antioch Ann Arbor', 'collectionCensoredName': 'Antioch Ann Arbor', 'trackCensoredName': 'Antioch Ann Arbor', 'collectionViewUrl': 'https://podcasts.apple.com/us/podcast/antioch-ann-arbor/id704835029?uo=4', 'feedUrl': 'https://antiocha2.libsyn.com/rss', 'trackViewUrl': 'https://podcasts.apple.com/us/podcast/antioch-ann-arbor/id704835029?uo=4', 'artworkUrl30': 'https://is4-ssl.mzstatic.com/image/thumb/Podcasts113/v4/89/e8/a1/89e8a1d8-7662-4724-2be9-cbce06efb67d/mza_4765028880196263527.png/30x30bb.jpg', 'artworkUrl60': 'https://is4-ssl.mzstatic.com/image/thumb/Podcasts113/v4/89/e8/a1/89e8a1d8-7662-4724-2be9-cbce06efb67d/mza_4765028880196263527.png/60x60bb.jpg', 'artworkUrl100': 'https://is4-ssl.mzstatic.com/image/thumb/Podcasts113/v4/89/e8/a1/89e8a1d8-7662-4724-2be9-cbce06efb67d/mza_4765028880196263527.png/100x100bb.jpg', 'collectionPrice': 0.0, 'trackPrice': 0.0, 'trackRentalPrice': 0, 'collectionHdPrice': 0, 'trackHdPrice': 0, 'trackHdRentalPrice': 0, 'releaseDate': '2020-09-07T21:26:00Z', 'collectionExplicitness': 'cleaned', 'trackExplicitness': 'cleaned', 'trackCount': 82, 'country': 'USA', 'currency': 'USD', 'primaryGenreName': 'Christianity', 'contentAdvisoryRating': 'Clean', 'artworkUrl600': 'https://is4-ssl.mzstatic.com/image/thumb/Podcasts113/v4/89/e8/a1/89e8a1d8-7662-4724-2be9-cbce06efb67d/mza_4765028880196263527.png/600x600bb.jpg', 'genreIds': ['1439', '26', '1314'], 'genres': ['Christianity', 'Podcasts', 'Religion & Spirituality']}, {'wrapperType': 'track', 'kind': 'podcast', 'collectionId': 1051188622, 'trackId': 1051188622, 'artistName': 'WCBN-FM Ann Arbor', 'collectionName': 'It’s Hot In Here', 'trackName': 'It’s Hot In Here', 'collectionCensoredName': 'It’s Hot In Here', 'trackCensoredName': 'It’s Hot In Here', 'collectionViewUrl': 'https://podcasts.apple.com/us/podcast/its-hot-in-here/id1051188622?uo=4', 'feedUrl': 'http://hotinhere.us/feed/podcast', 'trackViewUrl': 'https://podcasts.apple.com/us/podcast/its-hot-in-here/id1051188622?uo=4', 'artworkUrl30': 'https://is1-ssl.mzstatic.com/image/thumb/Podcasts113/v4/a6/2a/4a/a62a4a0d-fe94-7f35-5a56-4d3870cb53e1/mza_7942263565277242243.png/30x30bb.jpg', 'artworkUrl60': 'https://is1-ssl.mzstatic.com/image/thumb/Podcasts113/v4/a6/2a/4a/a62a4a0d-fe94-7f35-5a56-4d3870cb53e1/mza_7942263565277242243.png/60x60bb.jpg', 'artworkUrl100': 'https://is1-ssl.mzstatic.com/image/thumb/Podcasts113/v4/a6/2a/4a/a62a4a0d-fe94-7f35-5a56-4d3870cb53e1/mza_7942263565277242243.png/100x100bb.jpg', 'collectionPrice': 0.0, 'trackPrice': 0.0, 'trackRentalPrice': 0, 'collectionHdPrice': 0, 'trackHdPrice': 0, 'trackHdRentalPrice': 0, 'releaseDate': '2020-09-11T20:05:00Z', 'collectionExplicitness': 'cleaned', 'trackExplicitness': 'cleaned', 'trackCount': 98, 'country': 'USA', 'currency': 'USD', 'primaryGenreName': 'Science', 'contentAdvisoryRating': 'Clean', 'artworkUrl600': 'https://is1-ssl.mzstatic.com/image/thumb/Podcasts113/v4/a6/2a/4a/a62a4a0d-fe94-7f35-5a56-4d3870cb53e1/mza_7942263565277242243.png/600x600bb.jpg', 'genreIds': ['1533', '26'], 'genres': ['Science', 'Podcasts']}, {'wrapperType': 'track', 'kind': 'podcast', 'collectionId': 1476654953, 'trackId': 1476654953, 'artistName': 'St. Nicholas Greek Orthodox Church of Ann Arbor, Michigan', 'collectionName': 'St. Nick Podcasts', 'trackName': 'St. Nick Podcasts', 'collectionCensoredName': 'St. Nick Podcasts', 'trackCensoredName': 'St. Nick Podcasts', 'collectionViewUrl': 'https://podcasts.apple.com/us/podcast/st-nick-podcasts/id1476654953?uo=4', 'feedUrl': 'https://hearthis.at/stnickaa/podcast/?limit=500', 'trackViewUrl': 'https://podcasts.apple.com/us/podcast/st-nick-podcasts/id1476654953?uo=4', 'artworkUrl30': 'https://is5-ssl.mzstatic.com/image/thumb/Podcasts113/v4/92/3a/78/923a7868-9148-cb04-24a7-0be293ff3044/mza_2594169141197654481.jpg/30x30bb.jpg', 'artworkUrl60': 'https://is5-ssl.mzstatic.com/image/thumb/Podcasts113/v4/92/3a/78/923a7868-9148-cb04-24a7-0be293ff3044/mza_2594169141197654481.jpg/60x60bb.jpg', 'artworkUrl100': 'https://is5-ssl.mzstatic.com/image/thumb/Podcasts113/v4/92/3a/78/923a7868-9148-cb04-24a7-0be293ff3044/mza_2594169141197654481.jpg/100x100bb.jpg', 'collectionPrice': 0.0, 'trackPrice': 0.0, 'trackRentalPrice': 0, 'collectionHdPrice': 0, 'trackHdPrice': 0, 'trackHdRentalPrice': 0, 'releaseDate': '2020-10-04T21:44:00Z', 'collectionExplicitness': 'cleaned', 'trackExplicitness': 'cleaned', 'trackCount': 93, 'country': 'USA', 'currency': 'USD', 'primaryGenreName': 'Religion & Spirituality', 'contentAdvisoryRating': 'Clean', 'artworkUrl600': 'https://is5-ssl.mzstatic.com/image/thumb/Podcasts113/v4/92/3a/78/923a7868-9148-cb04-24a7-0be293ff3044/mza_2594169141197654481.jpg/600x600bb.jpg', 'genreIds': ['1314', '26'], 'genres': ['Religion & Spirituality', 'Podcasts']}, {'wrapperType': 'track', 'kind': 'podcast', 'collectionId': 1528229904, 'trackId': 1528229904, 'artistName': 'Blue Ocean Church Ann Arbor', 'collectionName': 'Blue Ocean Kids—Word of the Week', 'trackName': 'Blue Ocean Kids—Word of the Week', 'collectionCensoredName': 'Blue Ocean Kids—Word of the Week', 'trackCensoredName': 'Blue Ocean Kids—Word of the Week', 'collectionViewUrl': 'https://podcasts.apple.com/us/podcast/blue-ocean-kids-word-of-the-week/id1528229904?uo=4', 'feedUrl': 'https://www.a2blue.org/feed/podcast/blue-ocean-kids-word-of-the-week', 'trackViewUrl': 'https://podcasts.apple.com/us/podcast/blue-ocean-kids-word-of-the-week/id1528229904?uo=4', 'artworkUrl30': 'https://is4-ssl.mzstatic.com/image/thumb/Podcasts124/v4/3e/73/23/3e732336-a9a0-0176-f6b7-27c65b9500b1/mza_4786126466065236846.jpg/30x30bb.jpg', 'artworkUrl60': 'https://is4-ssl.mzstatic.com/image/thumb/Podcasts124/v4/3e/73/23/3e732336-a9a0-0176-f6b7-27c65b9500b1/mza_4786126466065236846.jpg/60x60bb.jpg', 'artworkUrl100': 'https://is4-ssl.mzstatic.com/image/thumb/Podcasts124/v4/3e/73/23/3e732336-a9a0-0176-f6b7-27c65b9500b1/mza_4786126466065236846.jpg/100x100bb.jpg', 'collectionPrice': 0.0, 'trackPrice': 0.0, 'trackRentalPrice': 0, 'collectionHdPrice': 0, 'trackHdPrice': 0, 'trackHdRentalPrice': 0, 'releaseDate': '2020-10-25T06:00:00Z', 'collectionExplicitness': 'cleaned', 'trackExplicitness': 'cleaned', 'trackCount': 32, 'country': 'USA', 'currency': 'USD', 'primaryGenreName': 'Christianity', 'contentAdvisoryRating': 'Clean', 'artworkUrl600': 'https://is4-ssl.mzstatic.com/image/thumb/Podcasts124/v4/3e/73/23/3e732336-a9a0-0176-f6b7-27c65b9500b1/mza_4786126466065236846.jpg/600x600bb.jpg', 'genreIds': ['1439', '26', '1314'], 'genres': ['Christianity', 'Podcasts', 'Religion & Spirituality']}, {'wrapperType': 'track', 'kind': 'podcast', 'collectionId': 288905801, 'trackId': 288905801, 'artistName': 'Calvary Bible Church of Ann Arbor / Ypsilanti', 'collectionName': 'Calvary Sunday Messages', 'trackName': 'Calvary Sunday Messages', 'collectionCensoredName': 'Calvary Sunday Messages', 'trackCensoredName': 'Calvary Sunday Messages', 'collectionViewUrl': 'https://podcasts.apple.com/us/podcast/calvary-sunday-messages/id288905801?uo=4', 'feedUrl': 'https://podcasts.subsplash.com/rw7sztf/podcast.rss', 'trackViewUrl': 'https://podcasts.apple.com/us/podcast/calvary-sunday-messages/id288905801?uo=4', 'artworkUrl30': 'https://is4-ssl.mzstatic.com/image/thumb/Podcasts123/v4/07/8e/7f/078e7f4c-af27-7f23-5d10-c392b8664b24/mza_4015905769764544053.jpg/30x30bb.jpg', 'artworkUrl60': 'https://is4-ssl.mzstatic.com/image/thumb/Podcasts123/v4/07/8e/7f/078e7f4c-af27-7f23-5d10-c392b8664b24/mza_4015905769764544053.jpg/60x60bb.jpg', 'artworkUrl100': 'https://is4-ssl.mzstatic.com/image/thumb/Podcasts123/v4/07/8e/7f/078e7f4c-af27-7f23-5d10-c392b8664b24/mza_4015905769764544053.jpg/100x100bb.jpg', 'collectionPrice': 0.0, 'trackPrice': 0.0, 'trackRentalPrice': 0, 'collectionHdPrice': 0, 'trackHdPrice': 0, 'trackHdRentalPrice': 0, 'releaseDate': '2020-10-11T10:00:00Z', 'collectionExplicitness': 'cleaned', 'trackExplicitness': 'cleaned', 'trackCount': 95, 'country': 'USA', 'currency': 'USD', 'primaryGenreName': 'Christianity', 'contentAdvisoryRating': 'Clean', 'artworkUrl600': 'https://is4-ssl.mzstatic.com/image/thumb/Podcasts123/v4/07/8e/7f/078e7f4c-af27-7f23-5d10-c392b8664b24/mza_4015905769764544053.jpg/600x600bb.jpg', 'genreIds': ['1439', '26', '1314'], 'genres': ['Christianity', 'Podcasts', 'Religion & Spirituality']}, {'wrapperType': 'track', 'kind': 'podcast', 'collectionId': 1526740398, 'trackId': 1526740398, 'artistName': 'Ann Arbor District Library', 'collectionName': 'The Gayest Generation | Ann Arbor District Library', 'trackName': 'The Gayest Generation | Ann Arbor District Library', 'collectionCensoredName': 'The Gayest Generation | Ann Arbor District Library', 'trackCensoredName': 'The Gayest Generation | Ann Arbor District Library', 'collectionViewUrl': 'https://podcasts.apple.com/us/podcast/the-gayest-generation-ann-arbor-district-library/id1526740398?uo=4', 'feedUrl': 'https://aadl.org/gayestgeneration/feed', 'trackViewUrl': 'https://podcasts.apple.com/us/podcast/the-gayest-generation-ann-arbor-district-library/id1526740398?uo=4', 'artworkUrl30': 'https://is4-ssl.mzstatic.com/image/thumb/Podcasts124/v4/42/4d/ea/424dea13-fbce-5bee-e2d2-2ddc1a5f6506/mza_13960750454721129830.jpg/30x30bb.jpg', 'artworkUrl60': 'https://is4-ssl.mzstatic.com/image/thumb/Podcasts124/v4/42/4d/ea/424dea13-fbce-5bee-e2d2-2ddc1a5f6506/mza_13960750454721129830.jpg/60x60bb.jpg', 'artworkUrl100': 'https://is4-ssl.mzstatic.com/image/thumb/Podcasts124/v4/42/4d/ea/424dea13-fbce-5bee-e2d2-2ddc1a5f6506/mza_13960750454721129830.jpg/100x100bb.jpg', 'collectionPrice': 0.0, 'trackPrice': 0.0, 'trackRentalPrice': 0, 'collectionHdPrice': 0, 'trackHdPrice': 0, 'trackHdRentalPrice': 0, 'releaseDate': '2020-10-15T10:30:00Z', 'collectionExplicitness': 'explicit', 'trackExplicitness': 'explicit', 'trackCount': 4, 'country': 'USA', 'currency': 'USD', 'primaryGenreName': 'News', 'contentAdvisoryRating': 'Explicit', 'artworkUrl600': 'https://is4-ssl.mzstatic.com/image/thumb/Podcasts124/v4/42/4d/ea/424dea13-fbce-5bee-e2d2-2ddc1a5f6506/mza_13960750454721129830.jpg/600x600bb.jpg', 'genreIds': ['1489', '26', '1487'], 'genres': ['News', 'Podcasts', 'History']}, {'wrapperType': 'track', 'kind': 'podcast', 'collectionId': 1142242316, 'trackId': 1142242316, 'artistName': 'Ann Arbor SPARK', 'collectionName': 'Ann Arbor SPARK CEO Podcast', 'trackName': 'Ann Arbor SPARK CEO Podcast', 'collectionCensoredName': 'Ann Arbor SPARK CEO Podcast', 'trackCensoredName': 'Ann Arbor SPARK CEO Podcast', 'collectionViewUrl': 'https://podcasts.apple.com/us/podcast/ann-arbor-spark-ceo-podcast/id1142242316?uo=4', 'feedUrl': 'http://feeds.soundcloud.com/users/soundcloud:users:58541313/sounds.rss', 'trackViewUrl': 'https://podcasts.apple.com/us/podcast/ann-arbor-spark-ceo-podcast/id1142242316?uo=4', 'artworkUrl30': 'https://is1-ssl.mzstatic.com/image/thumb/Podcasts71/v4/3d/01/ef/3d01efcb-498e-3ab1-d6c0-3e1952434dbd/mza_4324740679274772239.jpg/30x30bb.jpg', 'artworkUrl60': 'https://is1-ssl.mzstatic.com/image/thumb/Podcasts71/v4/3d/01/ef/3d01efcb-498e-3ab1-d6c0-3e1952434dbd/mza_4324740679274772239.jpg/60x60bb.jpg', 'artworkUrl100': 'https://is1-ssl.mzstatic.com/image/thumb/Podcasts71/v4/3d/01/ef/3d01efcb-498e-3ab1-d6c0-3e1952434dbd/mza_4324740679274772239.jpg/100x100bb.jpg', 'collectionPrice': 0.0, 'trackPrice': 0.0, 'trackRentalPrice': 0, 'collectionHdPrice': 0, 'trackHdPrice': 0, 'trackHdRentalPrice': 0, 'releaseDate': '2019-12-16T20:08:00Z', 'collectionExplicitness': 'cleaned', 'trackExplicitness': 'cleaned', 'trackCount': 60, 'country': 'USA', 'currency': 'USD', 'primaryGenreName': 'Business', 'contentAdvisoryRating': 'Clean', 'artworkUrl600': 'https://is1-ssl.mzstatic.com/image/thumb/Podcasts71/v4/3d/01/ef/3d01efcb-498e-3ab1-d6c0-3e1952434dbd/mza_4324740679274772239.jpg/600x600bb.jpg', 'genreIds': ['1321', '26'], 'genres': ['Business', 'Podcasts']}, {'wrapperType': 'track', 'kind': 'podcast', 'collectionId': 1233253932, 'trackId': 1233253932, 'artistName': 'Ann Arbor District Library', 'collectionName': 'Fellow Youths | Ann Arbor District Library', 'trackName': 'Fellow Youths | Ann Arbor District Library', 'collectionCensoredName': 'Fellow Youths | Ann Arbor District Library', 'trackCensoredName': 'Fellow Youths | Ann Arbor District Library', 'collectionViewUrl': 'https://podcasts.apple.com/us/podcast/fellow-youths-ann-arbor-district-library/id1233253932?uo=4', 'feedUrl': 'https://aadl.org/fellowyouths/feed', 'trackViewUrl': 'https://podcasts.apple.com/us/podcast/fellow-youths-ann-arbor-district-library/id1233253932?uo=4', 'artworkUrl30': 'https://is2-ssl.mzstatic.com/image/thumb/Podcasts113/v4/9d/d8/dd/9dd8dd2b-ce7f-1354-b5e9-3d36e63812c6/mza_18320891801104224314.png/30x30bb.jpg', 'artworkUrl60': 'https://is2-ssl.mzstatic.com/image/thumb/Podcasts113/v4/9d/d8/dd/9dd8dd2b-ce7f-1354-b5e9-3d36e63812c6/mza_18320891801104224314.png/60x60bb.jpg', 'artworkUrl100': 'https://is2-ssl.mzstatic.com/image/thumb/Podcasts113/v4/9d/d8/dd/9dd8dd2b-ce7f-1354-b5e9-3d36e63812c6/mza_18320891801104224314.png/100x100bb.jpg', 'collectionPrice': 0.0, 'trackPrice': 0.0, 'trackRentalPrice': 0, 'collectionHdPrice': 0, 'trackHdPrice': 0, 'trackHdRentalPrice': 0, 'releaseDate': '2020-02-19T10:30:00Z', 'collectionExplicitness': 'explicit', 'trackExplicitness': 'explicit', 'trackCount': 20, 'country': 'USA', 'currency': 'USD', 'primaryGenreName': 'Books', 'contentAdvisoryRating': 'Explicit', 'artworkUrl600': 'https://is2-ssl.mzstatic.com/image/thumb/Podcasts113/v4/9d/d8/dd/9dd8dd2b-ce7f-1354-b5e9-3d36e63812c6/mza_18320891801104224314.png/600x600bb.jpg', 'genreIds': ['1482', '26', '1301', '1511'], 'genres': ['Books', 'Podcasts', 'Arts', 'Government']}, {'wrapperType': 'track', 'kind': 'podcast', 'collectionId': 1359378554, 'trackId': 1359378554, 'artistName': 'Ann Arbor District Library', 'collectionName': 'Behind The Marquee | Ann Arbor District Library', 'trackName': 'Behind The Marquee | Ann Arbor District Library', 'collectionCensoredName': 'Behind The Marquee | Ann Arbor District Library', 'trackCensoredName': 'Behind The Marquee | Ann Arbor District Library', 'collectionViewUrl': 'https://podcasts.apple.com/us/podcast/behind-the-marquee-ann-arbor-district-library/id1359378554?uo=4', 'feedUrl': 'https://aadl.org/marquee/feed', 'trackViewUrl': 'https://podcasts.apple.com/us/podcast/behind-the-marquee-ann-arbor-district-library/id1359378554?uo=4', 'artworkUrl30': 'https://is1-ssl.mzstatic.com/image/thumb/Podcasts118/v4/44/35/5a/44355a22-5bfc-d0ec-00de-2245f17779ce/mza_4356732314757873648.jpg/30x30bb.jpg', 'artworkUrl60': 'https://is1-ssl.mzstatic.com/image/thumb/Podcasts118/v4/44/35/5a/44355a22-5bfc-d0ec-00de-2245f17779ce/mza_4356732314757873648.jpg/60x60bb.jpg', 'artworkUrl100': 'https://is1-ssl.mzstatic.com/image/thumb/Podcasts118/v4/44/35/5a/44355a22-5bfc-d0ec-00de-2245f17779ce/mza_4356732314757873648.jpg/100x100bb.jpg', 'collectionPrice': 0.0, 'trackPrice': 0.0, 'trackRentalPrice': 0, 'collectionHdPrice': 0, 'trackHdPrice': 0, 'trackHdRentalPrice': 0, 'releaseDate': '2020-10-16T10:30:00Z', 'collectionExplicitness': 'cleaned', 'trackExplicitness': 'cleaned', 'trackCount': 47, 'country': 'USA', 'currency': 'USD', 'primaryGenreName': 'Performing Arts', 'contentAdvisoryRating': 'Clean', 'artworkUrl600': 'https://is1-ssl.mzstatic.com/image/thumb/Podcasts118/v4/44/35/5a/44355a22-5bfc-d0ec-00de-2245f17779ce/mza_4356732314757873648.jpg/600x600bb.jpg', 'genreIds': ['1405', '26', '1301', '1406'], 'genres': ['Performing Arts', 'Podcasts', 'Arts', 'Visual Arts']}, {'wrapperType': 'track', 'kind': 'podcast', 'collectionId': 1451743455, 'trackId': 1451743455, 'artistName': 'AFC Ann Arbor', 'collectionName': 'Welcome to Tree Town', 'trackName': 'Welcome to Tree Town', 'collectionCensoredName': 'Welcome to Tree Town', 'trackCensoredName': 'Welcome to Tree Town', 'collectionViewUrl': 'https://podcasts.apple.com/us/podcast/welcome-to-tree-town/id1451743455?uo=4', 'feedUrl': 'https://feeds.simplecast.com/zut2_r9p', 'trackViewUrl': 'https://podcasts.apple.com/us/podcast/welcome-to-tree-town/id1451743455?uo=4', 'artworkUrl30': 'https://is1-ssl.mzstatic.com/image/thumb/Podcasts113/v4/66/54/2a/66542a17-3b8f-9161-10bd-f53af22b1a68/mza_7307312958054572235.jpg/30x30bb.jpg', 'artworkUrl60': 'https://is1-ssl.mzstatic.com/image/thumb/Podcasts113/v4/66/54/2a/66542a17-3b8f-9161-10bd-f53af22b1a68/mza_7307312958054572235.jpg/60x60bb.jpg', 'artworkUrl100': 'https://is1-ssl.mzstatic.com/image/thumb/Podcasts113/v4/66/54/2a/66542a17-3b8f-9161-10bd-f53af22b1a68/mza_7307312958054572235.jpg/100x100bb.jpg', 'collectionPrice': 0.0, 'trackPrice': 0.0, 'trackRentalPrice': 0, 'collectionHdPrice': 0, 'trackHdPrice': 0, 'trackHdRentalPrice': 0, 'releaseDate': '2019-10-10T19:00:00Z', 'collectionExplicitness': 'cleaned', 'trackExplicitness': 'cleaned', 'trackCount': 23, 'country': 'USA', 'currency': 'USD', 'primaryGenreName': 'Wilderness', 'contentAdvisoryRating': 'Clean', 'artworkUrl600': 'https://is1-ssl.mzstatic.com/image/thumb/Podcasts113/v4/66/54/2a/66542a17-3b8f-9161-10bd-f53af22b1a68/mza_7307312958054572235.jpg/600x600bb.jpg', 'genreIds': ['1559', '26', '1545'], 'genres': ['Wilderness', 'Podcasts', 'Sports']}, {'wrapperType': 'track', 'kind': 'podcast', 'collectionId': 1085248390, 'trackId': 1085248390, 'artistName': 'Ann Arbor District Library', 'collectionName': 'Martin Bandyke Under Covers | Ann Arbor District Library', 'trackName': 'Martin Bandyke Under Covers | Ann Arbor District Library', 'collectionCensoredName': 'Martin Bandyke Under Covers | Ann Arbor District Library', 'trackCensoredName': 'Martin Bandyke Under Covers | Ann Arbor District Library', 'collectionViewUrl': 'https://podcasts.apple.com/us/podcast/martin-bandyke-under-covers-ann-arbor-district-library/id1085248390?uo=4', 'feedUrl': 'https://aadl.org/undercovers/feed', 'trackViewUrl': 'https://podcasts.apple.com/us/podcast/martin-bandyke-under-covers-ann-arbor-district-library/id1085248390?uo=4', 'artworkUrl30': 'https://is5-ssl.mzstatic.com/image/thumb/Podcasts123/v4/45/35/4c/45354c38-03fd-8eed-ab15-10d20cb464c7/mza_6510707406561693187.jpg/30x30bb.jpg', 'artworkUrl60': 'https://is5-ssl.mzstatic.com/image/thumb/Podcasts123/v4/45/35/4c/45354c38-03fd-8eed-ab15-10d20cb464c7/mza_6510707406561693187.jpg/60x60bb.jpg', 'artworkUrl100': 'https://is5-ssl.mzstatic.com/image/thumb/Podcasts123/v4/45/35/4c/45354c38-03fd-8eed-ab15-10d20cb464c7/mza_6510707406561693187.jpg/100x100bb.jpg', 'collectionPrice': 0.0, 'trackPrice': 0.0, 'trackRentalPrice': 0, 'collectionHdPrice': 0, 'trackHdPrice': 0, 'trackHdRentalPrice': 0, 'releaseDate': '2020-10-05T20:00:00Z', 'collectionExplicitness': 'cleaned', 'trackExplicitness': 'cleaned', 'trackCount': 74, 'country': 'USA', 'currency': 'USD', 'primaryGenreName': 'Books', 'contentAdvisoryRating': 'Clean', 'artworkUrl600': 'https://is5-ssl.mzstatic.com/image/thumb/Podcasts123/v4/45/35/4c/45354c38-03fd-8eed-ab15-10d20cb464c7/mza_6510707406561693187.jpg/600x600bb.jpg', 'genreIds': ['1482', '26', '1301', '1405'], 'genres': ['Books', 'Podcasts', 'Arts', 'Performing Arts']}, {'wrapperType': 'track', 'kind': 'podcast', 'collectionId': 1434246896, 'trackId': 1434246896, 'artistName': 'Mosaic Church of Ann Arbor', 'collectionName': 'Mosaic Church of Ann Arbor', 'trackName': 'Mosaic Church of Ann Arbor', 'collectionCensoredName': 'Mosaic Church of Ann Arbor', 'trackCensoredName': 'Mosaic Church of Ann Arbor', 'collectionViewUrl': 'https://podcasts.apple.com/us/podcast/mosaic-church-of-ann-arbor/id1434246896?uo=4', 'feedUrl': 'https://mosaica2.squarespace.com/podcast?format=rss', 'trackViewUrl': 'https://podcasts.apple.com/us/podcast/mosaic-church-of-ann-arbor/id1434246896?uo=4', 'artworkUrl30': 'https://is4-ssl.mzstatic.com/image/thumb/Podcasts123/v4/eb/09/70/eb097031-69e6-aaca-cbb2-1e37036662f3/mza_6490194822678981822.png/30x30bb.jpg', 'artworkUrl60': 'https://is4-ssl.mzstatic.com/image/thumb/Podcasts123/v4/eb/09/70/eb097031-69e6-aaca-cbb2-1e37036662f3/mza_6490194822678981822.png/60x60bb.jpg', 'artworkUrl100': 'https://is4-ssl.mzstatic.com/image/thumb/Podcasts123/v4/eb/09/70/eb097031-69e6-aaca-cbb2-1e37036662f3/mza_6490194822678981822.png/100x100bb.jpg', 'collectionPrice': 0.0, 'trackPrice': 0.0, 'trackRentalPrice': 0, 'collectionHdPrice': 0, 'trackHdPrice': 0, 'trackHdRentalPrice': 0, 'releaseDate': '2020-04-12T18:08:00Z', 'collectionExplicitness': 'cleaned', 'trackExplicitness': 'cleaned', 'trackCount': 100, 'country': 'USA', 'currency': 'USD', 'primaryGenreName': 'Christianity', 'contentAdvisoryRating': 'Clean', 'artworkUrl600': 'https://is4-ssl.mzstatic.com/image/thumb/Podcasts123/v4/eb/09/70/eb097031-69e6-aaca-cbb2-1e37036662f3/mza_6490194822678981822.png/600x600bb.jpg', 'genreIds': ['1439', '26', '1314'], 'genres': ['Christianity', 'Podcasts', 'Religion & Spirituality']}, {'wrapperType': 'track', 'kind': 'podcast', 'collectionId': 1485578957, 'trackId': 1485578957, 'artistName': 'Ann Arbor District Library', 'collectionName': 'Body of Work | Ann Arbor District Library', 'trackName': 'Body of Work | Ann Arbor District Library', 'collectionCensoredName': 'Body of Work | Ann Arbor District Library', 'trackCensoredName': 'Body of Work | Ann Arbor District Library', 'collectionViewUrl': 'https://podcasts.apple.com/us/podcast/body-of-work-ann-arbor-district-library/id1485578957?uo=4', 'feedUrl': 'https://aadl.org/bodyofwork/feed', 'trackViewUrl': 'https://podcasts.apple.com/us/podcast/body-of-work-ann-arbor-district-library/id1485578957?uo=4', 'artworkUrl30': 'https://is3-ssl.mzstatic.com/image/thumb/Podcasts123/v4/6e/b5/cb/6eb5cb5a-60a6-bd4e-6693-038dbc09c58a/mza_6525210209609372921.png/30x30bb.jpg', 'artworkUrl60': 'https://is3-ssl.mzstatic.com/image/thumb/Podcasts123/v4/6e/b5/cb/6eb5cb5a-60a6-bd4e-6693-038dbc09c58a/mza_6525210209609372921.png/60x60bb.jpg', 'artworkUrl100': 'https://is3-ssl.mzstatic.com/image/thumb/Podcasts123/v4/6e/b5/cb/6eb5cb5a-60a6-bd4e-6693-038dbc09c58a/mza_6525210209609372921.png/100x100bb.jpg', 'collectionPrice': 0.0, 'trackPrice': 0.0, 'trackRentalPrice': 0, 'collectionHdPrice': 0, 'trackHdPrice': 0, 'trackHdRentalPrice': 0, 'releaseDate': '2020-02-05T10:30:00Z', 'collectionExplicitness': 'cleaned', 'trackExplicitness': 'cleaned', 'trackCount': 4, 'country': 'USA', 'currency': 'USD', 'primaryGenreName': 'Arts', 'contentAdvisoryRating': 'Clean', 'artworkUrl600': 'https://is3-ssl.mzstatic.com/image/thumb/Podcasts123/v4/6e/b5/cb/6eb5cb5a-60a6-bd4e-6693-038dbc09c58a/mza_6525210209609372921.png/600x600bb.jpg', 'genreIds': ['1301', '26', '1324'], 'genres': ['Arts', 'Podcasts', 'Society & Culture']}, {'wrapperType': 'track', 'kind': 'podcast', 'collectionId': 1156696806, 'trackId': 1156696806, 'artistName': 'Grace Bible Church Ann Arbor', 'collectionName': 'Grace Bible Church Ann Arbor', 'trackName': 'Grace Bible Church Ann Arbor', 'collectionCensoredName': 'Grace Bible Church Ann Arbor', 'trackCensoredName': 'Grace Bible Church Ann Arbor', 'collectionViewUrl': 'https://podcasts.apple.com/us/podcast/grace-bible-church-ann-arbor/id1156696806?uo=4', 'feedUrl': 'http://www.gracea2.org/mediafiles/sermons.xml', 'trackViewUrl': 'https://podcasts.apple.com/us/podcast/grace-bible-church-ann-arbor/id1156696806?uo=4', 'artworkUrl30': 'https://is3-ssl.mzstatic.com/image/thumb/Podcasts123/v4/c5/d0/ee/c5d0ee32-4f23-dfb2-472a-837c2bd0aac1/mza_6709894950279717379.jpg/30x30bb.jpg', 'artworkUrl60': 'https://is3-ssl.mzstatic.com/image/thumb/Podcasts123/v4/c5/d0/ee/c5d0ee32-4f23-dfb2-472a-837c2bd0aac1/mza_6709894950279717379.jpg/60x60bb.jpg', 'artworkUrl100': 'https://is3-ssl.mzstatic.com/image/thumb/Podcasts123/v4/c5/d0/ee/c5d0ee32-4f23-dfb2-472a-837c2bd0aac1/mza_6709894950279717379.jpg/100x100bb.jpg', 'collectionPrice': 0.0, 'trackPrice': 0.0, 'trackRentalPrice': 0, 'collectionHdPrice': 0, 'trackHdPrice': 0, 'trackHdRentalPrice': 0, 'releaseDate': '2020-10-25T19:04:00Z', 'collectionExplicitness': 'cleaned', 'trackExplicitness': 'cleaned', 'trackCount': 10, 'country': 'USA', 'currency': 'USD', 'primaryGenreName': 'Religion & Spirituality', 'contentAdvisoryRating': 'Clean', 'artworkUrl600': 'https://is3-ssl.mzstatic.com/image/thumb/Podcasts123/v4/c5/d0/ee/c5d0ee32-4f23-dfb2-472a-837c2bd0aac1/mza_6709894950279717379.jpg/600x600bb.jpg', 'genreIds': ['1314', '26'], 'genres': ['Religion & Spirituality', 'Podcasts']}, {'wrapperType': 'track', 'kind': 'podcast', 'collectionId': 434700786, 'trackId': 434700786, 'artistName': 'Rebecca Rhodes for the City of Ann Arbor', 'collectionName': 'A2 City News', 'trackName': 'A2 City News', 'collectionCensoredName': 'A2 City News', 'trackCensoredName': 'A2 City News', 'collectionViewUrl': 'https://podcasts.apple.com/us/podcast/a2-city-news/id434700786?uo=4', 'feedUrl': 'http://feeds.feedburner.com/A2CityNews', 'trackViewUrl': 'https://podcasts.apple.com/us/podcast/a2-city-news/id434700786?uo=4', 'artworkUrl30': 'https://is5-ssl.mzstatic.com/image/thumb/Podcasts6/v4/62/f7/1a/62f71a9c-b396-eef6-efde-9c9f13a49faf/mza_2400082980209965042.jpg/30x30bb.jpg', 'artworkUrl60': 'https://is5-ssl.mzstatic.com/image/thumb/Podcasts6/v4/62/f7/1a/62f71a9c-b396-eef6-efde-9c9f13a49faf/mza_2400082980209965042.jpg/60x60bb.jpg', 'artworkUrl100': 'https://is5-ssl.mzstatic.com/image/thumb/Podcasts6/v4/62/f7/1a/62f71a9c-b396-eef6-efde-9c9f13a49faf/mza_2400082980209965042.jpg/100x100bb.jpg', 'collectionPrice': 0.0, 'trackPrice': 0.0, 'trackRentalPrice': 0, 'collectionHdPrice': 0, 'trackHdPrice': 0, 'trackHdRentalPrice': 0, 'releaseDate': '2012-03-08T18:54:00Z', 'collectionExplicitness': 'cleaned', 'trackExplicitness': 'cleaned', 'trackCount': 13, 'country': 'USA', 'currency': 'USD', 'primaryGenreName': 'Government', 'contentAdvisoryRating': 'Clean', 'artworkUrl600': 'https://is5-ssl.mzstatic.com/image/thumb/Podcasts6/v4/62/f7/1a/62f71a9c-b396-eef6-efde-9c9f13a49faf/mza_2400082980209965042.jpg/600x600bb.jpg', 'genreIds': ['1511', '26'], 'genres': ['Government', 'Podcasts']}, {'wrapperType': 'track', 'kind': 'podcast', 'collectionId': 1462635734, 'trackId': 1462635734, 'artistName': 'Ann Arbor District Library', 'collectionName': 'AADL Reads | Ann Arbor District Library', 'trackName': 'AADL Reads | Ann Arbor District Library', 'collectionCensoredName': 'AADL Reads | Ann Arbor District Library', 'trackCensoredName': 'AADL Reads | Ann Arbor District Library', 'collectionViewUrl': 'https://podcasts.apple.com/us/podcast/aadl-reads-ann-arbor-district-library/id1462635734?uo=4', 'feedUrl': 'https://aadl.org/aadlreads/feed', 'trackViewUrl': 'https://podcasts.apple.com/us/podcast/aadl-reads-ann-arbor-district-library/id1462635734?uo=4', 'artworkUrl30': 'https://is5-ssl.mzstatic.com/image/thumb/Podcasts113/v4/2d/1c/58/2d1c589e-6339-7adc-6fef-ee598b418c20/mza_8836860647917615346.png/30x30bb.jpg', 'artworkUrl60': 'https://is5-ssl.mzstatic.com/image/thumb/Podcasts113/v4/2d/1c/58/2d1c589e-6339-7adc-6fef-ee598b418c20/mza_8836860647917615346.png/60x60bb.jpg', 'artworkUrl100': 'https://is5-ssl.mzstatic.com/image/thumb/Podcasts113/v4/2d/1c/58/2d1c589e-6339-7adc-6fef-ee598b418c20/mza_8836860647917615346.png/100x100bb.jpg', 'collectionPrice': 0.0, 'trackPrice': 0.0, 'trackRentalPrice': 0, 'collectionHdPrice': 0, 'trackHdPrice': 0, 'trackHdRentalPrice': 0, 'releaseDate': '2020-01-07T10:30:00Z', 'collectionExplicitness': 'cleaned', 'trackExplicitness': 'cleaned', 'trackCount': 6, 'country': 'USA', 'currency': 'USD', 'primaryGenreName': 'Arts', 'contentAdvisoryRating': 'Clean', 'artworkUrl600': 'https://is5-ssl.mzstatic.com/image/thumb/Podcasts113/v4/2d/1c/58/2d1c589e-6339-7adc-6fef-ee598b418c20/mza_8836860647917615346.png/600x600bb.jpg', 'genreIds': ['1301', '26', '1324'], 'genres': ['Arts', 'Podcasts', 'Society & Culture']}, {'wrapperType': 'track', 'kind': 'podcast', 'collectionId': 1508188703, 'trackId': 1508188703, 'artistName': 'Antioch Ann Arbor', 'collectionName': 'Antioch Ann Arbor Equipping Podcast', 'trackName': 'Antioch Ann Arbor Equipping Podcast', 'collectionCensoredName': 'Antioch Ann Arbor Equipping Podcast', 'trackCensoredName': 'Antioch Ann Arbor Equipping Podcast', 'collectionViewUrl': 'https://podcasts.apple.com/us/podcast/antioch-ann-arbor-equipping-podcast/id1508188703?uo=4', 'feedUrl': 'https://anchor.fm/s/1bd1d7cc/podcast/rss', 'trackViewUrl': 'https://podcasts.apple.com/us/podcast/antioch-ann-arbor-equipping-podcast/id1508188703?uo=4', 'artworkUrl30': 'https://is1-ssl.mzstatic.com/image/thumb/Podcasts113/v4/2e/e3/be/2ee3be9f-3475-1909-7e3a-9d53e29f1981/mza_4010141965650782562.jpg/30x30bb.jpg', 'artworkUrl60': 'https://is1-ssl.mzstatic.com/image/thumb/Podcasts113/v4/2e/e3/be/2ee3be9f-3475-1909-7e3a-9d53e29f1981/mza_4010141965650782562.jpg/60x60bb.jpg', 'artworkUrl100': 'https://is1-ssl.mzstatic.com/image/thumb/Podcasts113/v4/2e/e3/be/2ee3be9f-3475-1909-7e3a-9d53e29f1981/mza_4010141965650782562.jpg/100x100bb.jpg', 'collectionPrice': 0.0, 'trackPrice': 0.0, 'trackRentalPrice': 0, 'collectionHdPrice': 0, 'trackHdPrice': 0, 'trackHdRentalPrice': 0, 'releaseDate': '2020-05-28T00:01:00Z', 'collectionExplicitness': 'cleaned', 'trackExplicitness': 'cleaned', 'trackCount': 10, 'country': 'USA', 'currency': 'USD', 'primaryGenreName': 'Christianity', 'contentAdvisoryRating': 'Clean', 'artworkUrl600': 'https://is1-ssl.mzstatic.com/image/thumb/Podcasts113/v4/2e/e3/be/2ee3be9f-3475-1909-7e3a-9d53e29f1981/mza_4010141965650782562.jpg/600x600bb.jpg', 'genreIds': ['1439', '26', '1314'], 'genres': ['Christianity', 'Podcasts', 'Religion & Spirituality']}, {'wrapperType': 'track', 'kind': 'podcast', 'collectionId': 1105933828, 'trackId': 1105933828, 'artistName': 'Redeemer Ann Arbor', 'collectionName': 'Redeemer Ann Arbor', 'trackName': 'Redeemer Ann Arbor', 'collectionCensoredName': 'Redeemer Ann Arbor', 'trackCensoredName': 'Redeemer Ann Arbor', 'collectionViewUrl': 'https://podcasts.apple.com/us/podcast/redeemer-ann-arbor/id1105933828?uo=4', 'feedUrl': 'https://www.redeemera2.org/archive/feed/', 'trackViewUrl': 'https://podcasts.apple.com/us/podcast/redeemer-ann-arbor/id1105933828?uo=4', 'artworkUrl30': 'https://is2-ssl.mzstatic.com/image/thumb/Podcasts113/v4/f0/0b/68/f00b68e8-7abd-b252-7e03-6b36875be2da/mza_4385025820012450276.jpg/30x30bb.jpg', 'artworkUrl60': 'https://is2-ssl.mzstatic.com/image/thumb/Podcasts113/v4/f0/0b/68/f00b68e8-7abd-b252-7e03-6b36875be2da/mza_4385025820012450276.jpg/60x60bb.jpg', 'artworkUrl100': 'https://is2-ssl.mzstatic.com/image/thumb/Podcasts113/v4/f0/0b/68/f00b68e8-7abd-b252-7e03-6b36875be2da/mza_4385025820012450276.jpg/100x100bb.jpg', 'collectionPrice': 0.0, 'trackPrice': 0.0, 'trackRentalPrice': 0, 'collectionHdPrice': 0, 'trackHdPrice': 0, 'trackHdRentalPrice': 0, 'releaseDate': '2020-10-18T05:00:00Z', 'collectionExplicitness': 'cleaned', 'trackExplicitness': 'cleaned', 'trackCount': 10, 'country': 'USA', 'currency': 'USD', 'primaryGenreName': 'Christianity', 'contentAdvisoryRating': 'Clean', 'artworkUrl600': 'https://is2-ssl.mzstatic.com/image/thumb/Podcasts113/v4/f0/0b/68/f00b68e8-7abd-b252-7e03-6b36875be2da/mza_4385025820012450276.jpg/600x600bb.jpg', 'genreIds': ['1439', '26', '1314'], 'genres': ['Christianity', 'Podcasts', 'Religion & Spirituality']}, {'wrapperType': 'track', 'kind': 'podcast', 'collectionId': 1516522996, 'trackId': 1516522996, 'artistName': 'Ann Arbor Summer Festival', 'collectionName': 'Stories from The Top', 'trackName': 'Stories from The Top', 'collectionCensoredName': 'Stories from The Top', 'trackCensoredName': 'Stories from The Top', 'collectionViewUrl': 'https://podcasts.apple.com/us/podcast/stories-from-the-top/id1516522996?uo=4', 'feedUrl': 'https://feeds.buzzsprout.com/1083944.rss', 'trackViewUrl': 'https://podcasts.apple.com/us/podcast/stories-from-the-top/id1516522996?uo=4', 'artworkUrl30': 'https://is2-ssl.mzstatic.com/image/thumb/Podcasts113/v4/d2/61/df/d261dfa8-9030-85e6-0e1d-9691494085bc/mza_2868548850761328608.jpg/30x30bb.jpg', 'artworkUrl60': 'https://is2-ssl.mzstatic.com/image/thumb/Podcasts113/v4/d2/61/df/d261dfa8-9030-85e6-0e1d-9691494085bc/mza_2868548850761328608.jpg/60x60bb.jpg', 'artworkUrl100': 'https://is2-ssl.mzstatic.com/image/thumb/Podcasts113/v4/d2/61/df/d261dfa8-9030-85e6-0e1d-9691494085bc/mza_2868548850761328608.jpg/100x100bb.jpg', 'collectionPrice': 0.0, 'trackPrice': 0.0, 'trackRentalPrice': 0, 'collectionHdPrice': 0, 'trackHdPrice': 0, 'trackHdRentalPrice': 0, 'releaseDate': '2020-06-18T18:00:00Z', 'collectionExplicitness': 'cleaned', 'trackExplicitness': 'cleaned', 'trackCount': 4, 'country': 'USA', 'currency': 'USD', 'primaryGenreName': 'Arts', 'contentAdvisoryRating': 'Clean', 'artworkUrl600': 'https://is2-ssl.mzstatic.com/image/thumb/Podcasts113/v4/d2/61/df/d261dfa8-9030-85e6-0e1d-9691494085bc/mza_2868548850761328608.jpg/600x600bb.jpg', 'genreIds': ['1301', '26'], 'genres': ['Arts', 'Podcasts']}, {'wrapperType': 'track', 'kind': 'podcast', 'collectionId': 121092869, 'trackId': 121092869, 'artistName': 'WCBN-FM Ann Arbor; T Hetzel', 'collectionName': 'Living Writers', 'trackName': 'Living Writers', 'collectionCensoredName': 'Living Writers', 'trackCensoredName': 'Living Writers', 'collectionViewUrl': 'https://podcasts.apple.com/us/podcast/living-writers/id121092869?uo=4', 'feedUrl': 'http://beanball.wcbn.org/Living_Writers/', 'trackViewUrl': 'https://podcasts.apple.com/us/podcast/living-writers/id121092869?uo=4', 'artworkUrl30': 'https://is5-ssl.mzstatic.com/image/thumb/Podcasts123/v4/82/87/dc/8287dcb1-8aec-85a8-dfb9-cbec1324edd5/mza_4667432907478893037.png/30x30bb.jpg', 'artworkUrl60': 'https://is5-ssl.mzstatic.com/image/thumb/Podcasts123/v4/82/87/dc/8287dcb1-8aec-85a8-dfb9-cbec1324edd5/mza_4667432907478893037.png/60x60bb.jpg', 'artworkUrl100': 'https://is5-ssl.mzstatic.com/image/thumb/Podcasts123/v4/82/87/dc/8287dcb1-8aec-85a8-dfb9-cbec1324edd5/mza_4667432907478893037.png/100x100bb.jpg', 'collectionPrice': 0.0, 'trackPrice': 0.0, 'trackRentalPrice': 0, 'collectionHdPrice': 0, 'trackHdPrice': 0, 'trackHdRentalPrice': 0, 'releaseDate': '2020-10-21T22:02:00Z', 'collectionExplicitness': 'cleaned', 'trackExplicitness': 'cleaned', 'trackCount': 735, 'country': 'USA', 'currency': 'USD', 'primaryGenreName': 'Books', 'contentAdvisoryRating': 'Clean', 'artworkUrl600': 'https://is5-ssl.mzstatic.com/image/thumb/Podcasts123/v4/82/87/dc/8287dcb1-8aec-85a8-dfb9-cbec1324edd5/mza_4667432907478893037.png/600x600bb.jpg', 'genreIds': ['1482', '26', '1301'], 'genres': ['Books', 'Podcasts', 'Arts']}, {'wrapperType': 'track', 'kind': 'podcast', 'collectionId': 1482288362, 'trackId': 1482288362, 'artistName': 'Bryan Choi', 'collectionName': 'Jesus on Prophecy Ann Arbor', 'trackName': 'Jesus on Prophecy Ann Arbor', 'collectionCensoredName': 'Jesus on Prophecy Ann Arbor', 'trackCensoredName': 'Jesus on Prophecy Ann Arbor', 'collectionViewUrl': 'https://podcasts.apple.com/us/podcast/jesus-on-prophecy-ann-arbor/id1482288362?uo=4', 'feedUrl': 'https://anchor.fm/s/ea1e088/podcast/rss', 'trackViewUrl': 'https://podcasts.apple.com/us/podcast/jesus-on-prophecy-ann-arbor/id1482288362?uo=4', 'artworkUrl30': 'https://is5-ssl.mzstatic.com/image/thumb/Podcasts123/v4/70/7e/2e/707e2ee8-a599-7498-5934-b74332e9f431/mza_8464992344363543071.jpg/30x30bb.jpg', 'artworkUrl60': 'https://is5-ssl.mzstatic.com/image/thumb/Podcasts123/v4/70/7e/2e/707e2ee8-a599-7498-5934-b74332e9f431/mza_8464992344363543071.jpg/60x60bb.jpg', 'artworkUrl100': 'https://is5-ssl.mzstatic.com/image/thumb/Podcasts123/v4/70/7e/2e/707e2ee8-a599-7498-5934-b74332e9f431/mza_8464992344363543071.jpg/100x100bb.jpg', 'collectionPrice': 0.0, 'trackPrice': 0.0, 'trackRentalPrice': 0, 'collectionHdPrice': 0, 'trackHdPrice': 0, 'trackHdRentalPrice': 0, 'releaseDate': '2019-10-22T03:09:00Z', 'collectionExplicitness': 'cleaned', 'trackExplicitness': 'cleaned', 'trackCount': 23, 'country': 'USA', 'currency': 'USD', 'primaryGenreName': 'Religion', 'contentAdvisoryRating': 'Clean', 'artworkUrl600': 'https://is5-ssl.mzstatic.com/image/thumb/Podcasts123/v4/70/7e/2e/707e2ee8-a599-7498-5934-b74332e9f431/mza_8464992344363543071.jpg/600x600bb.jpg', 'genreIds': ['1532', '26', '1314'], 'genres': ['Religion', 'Podcasts', 'Religion & Spirituality']}, {'wrapperType': 'track', 'kind': 'podcast', 'collectionId': 1137457133, 'trackId': 1137457133, 'artistName': 'Unknown', 'collectionName': 'Zion Lutheran Ann Arbor', 'trackName': 'Zion Lutheran Ann Arbor', 'collectionCensoredName': 'Zion Lutheran Ann Arbor', 'trackCensoredName': 'Zion Lutheran Ann Arbor', 'collectionViewUrl': 'https://podcasts.apple.com/us/podcast/zion-lutheran-ann-arbor/id1137457133?uo=4', 'feedUrl': 'http://recordings.zlc-aa.org/rss.php', 'trackViewUrl': 'https://podcasts.apple.com/us/podcast/zion-lutheran-ann-arbor/id1137457133?uo=4', 'artworkUrl30': 'https://is5-ssl.mzstatic.com/image/thumb/Podcasts113/v4/85/46/8f/85468fe6-276d-ab18-945b-26e1f8c22d1b/mza_5092474716833381628.png/30x30bb.jpg', 'artworkUrl60': 'https://is5-ssl.mzstatic.com/image/thumb/Podcasts113/v4/85/46/8f/85468fe6-276d-ab18-945b-26e1f8c22d1b/mza_5092474716833381628.png/60x60bb.jpg', 'artworkUrl100': 'https://is5-ssl.mzstatic.com/image/thumb/Podcasts113/v4/85/46/8f/85468fe6-276d-ab18-945b-26e1f8c22d1b/mza_5092474716833381628.png/100x100bb.jpg', 'collectionPrice': 0.0, 'trackPrice': 0.0, 'trackRentalPrice': 0, 'collectionHdPrice': 0, 'trackHdPrice': 0, 'trackHdRentalPrice': 0, 'releaseDate': '2020-09-10T02:46:00Z', 'collectionExplicitness': 'cleaned', 'trackExplicitness': 'cleaned', 'trackCount': 7, 'country': 'USA', 'currency': 'USD', 'primaryGenreName': 'Christianity', 'contentAdvisoryRating': 'Clean', 'artworkUrl600': 'https://is5-ssl.mzstatic.com/image/thumb/Podcasts113/v4/85/46/8f/85468fe6-276d-ab18-945b-26e1f8c22d1b/mza_5092474716833381628.png/600x600bb.jpg', 'genreIds': ['1439', '26', '1314'], 'genres': ['Christianity', 'Podcasts', 'Religion & Spirituality']}, {'wrapperType': 'track', 'kind': 'podcast', 'collectionId': 1440591293, 'trackId': 1440591293, 'artistName': 'Rev. Jeremy Byrd', 'collectionName': 'Christ Church Ann Arbor', 'trackName': 'Christ Church Ann Arbor', 'collectionCensoredName': 'Christ Church Ann Arbor', 'trackCensoredName': 'Christ Church Ann Arbor', 'collectionViewUrl': 'https://podcasts.apple.com/us/podcast/christ-church-ann-arbor/id1440591293?uo=4', 'feedUrl': 'http://www.sermonaudio.com/rss_source.asp?sourceid=christchurcha2', 'trackViewUrl': 'https://podcasts.apple.com/us/podcast/christ-church-ann-arbor/id1440591293?uo=4', 'artworkUrl30': 'https://is5-ssl.mzstatic.com/image/thumb/Podcasts123/v4/9d/4c/d5/9d4cd532-6c11-8883-b52d-6dcb8b4076ac/mza_8727231591203609214.jpg/30x30bb.jpg', 'artworkUrl60': 'https://is5-ssl.mzstatic.com/image/thumb/Podcasts123/v4/9d/4c/d5/9d4cd532-6c11-8883-b52d-6dcb8b4076ac/mza_8727231591203609214.jpg/60x60bb.jpg', 'artworkUrl100': 'https://is5-ssl.mzstatic.com/image/thumb/Podcasts123/v4/9d/4c/d5/9d4cd532-6c11-8883-b52d-6dcb8b4076ac/mza_8727231591203609214.jpg/100x100bb.jpg', 'collectionPrice': 0.0, 'trackPrice': 0.0, 'trackRentalPrice': 0, 'collectionHdPrice': 0, 'trackHdPrice': 0, 'trackHdRentalPrice': 0, 'releaseDate': '2020-10-19T03:37:00Z', 'collectionExplicitness': 'cleaned', 'trackExplicitness': 'cleaned', 'trackCount': 98, 'country': 'USA', 'currency': 'USD', 'primaryGenreName': 'Christianity', 'contentAdvisoryRating': 'Clean', 'artworkUrl600': 'https://is5-ssl.mzstatic.com/image/thumb/Podcasts123/v4/9d/4c/d5/9d4cd532-6c11-8883-b52d-6dcb8b4076ac/mza_8727231591203609214.jpg/600x600bb.jpg', 'genreIds': ['1439', '26', '1314'], 'genres': ['Christianity', 'Podcasts', 'Religion & Spirituality']}, {'wrapperType': 'track', 'kind': 'podcast', 'collectionId': 1530698927, 'trackId': 1530698927, 'artistName': 'Blue Ocean Church Ann Arbor', 'collectionName': 'Blue Ocean Nature-Themed Meditation', 'trackName': 'Blue Ocean Nature-Themed Meditation', 'collectionCensoredName': 'Blue Ocean Nature-Themed Meditation', 'trackCensoredName': 'Blue Ocean Nature-Themed Meditation', 'collectionViewUrl': 'https://podcasts.apple.com/us/podcast/blue-ocean-nature-themed-meditation/id1530698927?uo=4', 'feedUrl': 'https://www.a2blue.org/feed/podcast/blue-ocean-nature-themed-meditation', 'trackViewUrl': 'https://podcasts.apple.com/us/podcast/blue-ocean-nature-themed-meditation/id1530698927?uo=4', 'artworkUrl30': 'https://is4-ssl.mzstatic.com/image/thumb/Podcasts124/v4/ef/04/d0/ef04d016-d8e9-64bf-d3c0-773c6a1f0179/mza_11513337642130184510.jpg/30x30bb.jpg', 'artworkUrl60': 'https://is4-ssl.mzstatic.com/image/thumb/Podcasts124/v4/ef/04/d0/ef04d016-d8e9-64bf-d3c0-773c6a1f0179/mza_11513337642130184510.jpg/60x60bb.jpg', 'artworkUrl100': 'https://is4-ssl.mzstatic.com/image/thumb/Podcasts124/v4/ef/04/d0/ef04d016-d8e9-64bf-d3c0-773c6a1f0179/mza_11513337642130184510.jpg/100x100bb.jpg', 'collectionPrice': 0.0, 'trackPrice': 0.0, 'trackRentalPrice': 0, 'collectionHdPrice': 0, 'trackHdPrice': 0, 'trackHdRentalPrice': 0, 'releaseDate': '2020-10-20T06:00:00Z', 'collectionExplicitness': 'cleaned', 'trackExplicitness': 'cleaned', 'trackCount': 7, 'country': 'USA', 'currency': 'USD', 'primaryGenreName': 'Christianity', 'contentAdvisoryRating': 'Clean', 'artworkUrl600': 'https://is4-ssl.mzstatic.com/image/thumb/Podcasts124/v4/ef/04/d0/ef04d016-d8e9-64bf-d3c0-773c6a1f0179/mza_11513337642130184510.jpg/600x600bb.jpg', 'genreIds': ['1439', '26', '1314'], 'genres': ['Christianity', 'Podcasts', 'Religion & Spirituality']}, {'wrapperType': 'track', 'kind': 'podcast', 'collectionId': 1528229837, 'trackId': 1528229837, 'artistName': 'Blue Ocean Church Ann Arbor', 'collectionName': 'Blue Ocean Daily Prayer', 'trackName': 'Blue Ocean Daily Prayer', 'collectionCensoredName': 'Blue Ocean Daily Prayer', 'trackCensoredName': 'Blue Ocean Daily Prayer', 'collectionViewUrl': 'https://podcasts.apple.com/us/podcast/blue-ocean-daily-prayer/id1528229837?uo=4', 'feedUrl': 'https://www.a2blue.org/feed/podcast/blue-ocean-daily-prayer', 'trackViewUrl': 'https://podcasts.apple.com/us/podcast/blue-ocean-daily-prayer/id1528229837?uo=4', 'artworkUrl30': 'https://is5-ssl.mzstatic.com/image/thumb/Podcasts114/v4/63/93/02/63930216-ac4b-65d2-4345-29c6eacecd5f/mza_17078838990253422852.jpg/30x30bb.jpg', 'artworkUrl60': 'https://is5-ssl.mzstatic.com/image/thumb/Podcasts114/v4/63/93/02/63930216-ac4b-65d2-4345-29c6eacecd5f/mza_17078838990253422852.jpg/60x60bb.jpg', 'artworkUrl100': 'https://is5-ssl.mzstatic.com/image/thumb/Podcasts114/v4/63/93/02/63930216-ac4b-65d2-4345-29c6eacecd5f/mza_17078838990253422852.jpg/100x100bb.jpg', 'collectionPrice': 0.0, 'trackPrice': 0.0, 'trackRentalPrice': 0, 'collectionHdPrice': 0, 'trackHdPrice': 0, 'trackHdRentalPrice': 0, 'releaseDate': '2020-10-27T06:00:00Z', 'collectionExplicitness': 'cleaned', 'trackExplicitness': 'cleaned', 'trackCount': 50, 'country': 'USA', 'currency': 'USD', 'primaryGenreName': 'Christianity', 'contentAdvisoryRating': 'Clean', 'artworkUrl600': 'https://is5-ssl.mzstatic.com/image/thumb/Podcasts114/v4/63/93/02/63930216-ac4b-65d2-4345-29c6eacecd5f/mza_17078838990253422852.jpg/600x600bb.jpg', 'genreIds': ['1439', '26', '1314'], 'genres': ['Christianity', 'Podcasts', 'Religion & Spirituality']}, {'wrapperType': 'track', 'kind': 'podcast', 'collectionId': 1528228130, 'trackId': 1528228130, 'artistName': 'Blue Ocean Church Ann Arbor', 'collectionName': 'Blue Ocean Church Ann Arbor Sunday Sermons', 'trackName': 'Blue Ocean Church Ann Arbor Sunday Sermons', 'collectionCensoredName': 'Blue Ocean Church Ann Arbor Sunday Sermons', 'trackCensoredName': 'Blue Ocean Church Ann Arbor Sunday Sermons', 'collectionViewUrl': 'https://podcasts.apple.com/us/podcast/blue-ocean-church-ann-arbor-sunday-sermons/id1528228130?uo=4', 'feedUrl': 'https://www.a2blue.org/feed/podcast/blue-ocean-faith-ann-arbor-sunday-sermons', 'trackViewUrl': 'https://podcasts.apple.com/us/podcast/blue-ocean-church-ann-arbor-sunday-sermons/id1528228130?uo=4', 'artworkUrl30': 'https://is2-ssl.mzstatic.com/image/thumb/Podcasts124/v4/75/27/1e/75271ed6-9b47-a12a-7b25-c7b330b2ae05/mza_12273182900145407338.jpg/30x30bb.jpg', 'artworkUrl60': 'https://is2-ssl.mzstatic.com/image/thumb/Podcasts124/v4/75/27/1e/75271ed6-9b47-a12a-7b25-c7b330b2ae05/mza_12273182900145407338.jpg/60x60bb.jpg', 'artworkUrl100': 'https://is2-ssl.mzstatic.com/image/thumb/Podcasts124/v4/75/27/1e/75271ed6-9b47-a12a-7b25-c7b330b2ae05/mza_12273182900145407338.jpg/100x100bb.jpg', 'collectionPrice': 0.0, 'trackPrice': 0.0, 'trackRentalPrice': 0, 'collectionHdPrice': 0, 'trackHdPrice': 0, 'trackHdRentalPrice': 0, 'releaseDate': '2020-10-25T19:21:00Z', 'collectionExplicitness': 'cleaned', 'trackExplicitness': 'cleaned', 'trackCount': 50, 'country': 'USA', 'currency': 'USD', 'primaryGenreName': 'Christianity', 'contentAdvisoryRating': 'Clean', 'artworkUrl600': 'https://is2-ssl.mzstatic.com/image/thumb/Podcasts124/v4/75/27/1e/75271ed6-9b47-a12a-7b25-c7b330b2ae05/mza_12273182900145407338.jpg/600x600bb.jpg', 'genreIds': ['1439', '26', '1314'], 'genres': ['Christianity', 'Podcasts', 'Religion & Spirituality']}, {'wrapperType': 'track', 'kind': 'podcast', 'collectionId': 1516096362, 'trackId': 1516096362, 'artistName': 'Antonio', 'collectionName': 'Straight outta Ann Arbor', 'trackName': 'Straight outta Ann Arbor', 'collectionCensoredName': 'Straight outta Ann Arbor', 'trackCensoredName': 'Straight outta Ann Arbor', 'collectionViewUrl': 'https://podcasts.apple.com/us/podcast/straight-outta-ann-arbor/id1516096362?uo=4', 'feedUrl': 'https://anchor.fm/s/22bff280/podcast/rss', 'trackViewUrl': 'https://podcasts.apple.com/us/podcast/straight-outta-ann-arbor/id1516096362?uo=4', 'artworkUrl30': 'https://is3-ssl.mzstatic.com/image/thumb/Podcasts113/v4/64/ec/fa/64ecfae0-6e78-f474-70af-7152bc09c0a8/mza_3508819254808850933.jpg/30x30bb.jpg', 'artworkUrl60': 'https://is3-ssl.mzstatic.com/image/thumb/Podcasts113/v4/64/ec/fa/64ecfae0-6e78-f474-70af-7152bc09c0a8/mza_3508819254808850933.jpg/60x60bb.jpg', 'artworkUrl100': 'https://is3-ssl.mzstatic.com/image/thumb/Podcasts113/v4/64/ec/fa/64ecfae0-6e78-f474-70af-7152bc09c0a8/mza_3508819254808850933.jpg/100x100bb.jpg', 'collectionPrice': 0.0, 'trackPrice': 0.0, 'trackRentalPrice': 0, 'collectionHdPrice': 0, 'trackHdPrice': 0, 'trackHdRentalPrice': 0, 'releaseDate': '2020-07-28T00:48:00Z', 'collectionExplicitness': 'cleaned', 'trackExplicitness': 'cleaned', 'trackCount': 10, 'country': 'USA', 'currency': 'USD', 'primaryGenreName': 'Sports', 'contentAdvisoryRating': 'Clean', 'artworkUrl600': 'https://is3-ssl.mzstatic.com/image/thumb/Podcasts113/v4/64/ec/fa/64ecfae0-6e78-f474-70af-7152bc09c0a8/mza_3508819254808850933.jpg/600x600bb.jpg', 'genreIds': ['1545', '26'], 'genres': ['Sports', 'Podcasts']}, {'wrapperType': 'track', 'kind': 'podcast', 'collectionId': 1046987958, 'trackId': 1046987958, 'artistName': 'Radiant Church - Ann Arbor', 'collectionName': 'Worship & Teachings from Radiant Church - Ann Arbor', 'trackName': 'Worship & Teachings from Radiant Church - Ann Arbor', 'collectionCensoredName': 'Worship & Teachings from Radiant Church - Ann Arbor', 'trackCensoredName': 'Worship & Teachings from Radiant Church - Ann Arbor', 'collectionViewUrl': 'https://podcasts.apple.com/us/podcast/worship-teachings-from-radiant-church-ann-arbor/id1046987958?uo=4', 'feedUrl': 'https://syndication.boxcast.com/podcasts/audio/wsbbhtk5masazsbvl2pe.rss', 'trackViewUrl': 'https://podcasts.apple.com/us/podcast/worship-teachings-from-radiant-church-ann-arbor/id1046987958?uo=4', 'artworkUrl30': 'https://is1-ssl.mzstatic.com/image/thumb/Podcasts113/v4/9d/c7/fa/9dc7fa29-4d54-219c-7c89-33b79ae42a15/mza_12888383634961494563.png/30x30bb.jpg', 'artworkUrl60': 'https://is1-ssl.mzstatic.com/image/thumb/Podcasts113/v4/9d/c7/fa/9dc7fa29-4d54-219c-7c89-33b79ae42a15/mza_12888383634961494563.png/60x60bb.jpg', 'artworkUrl100': 'https://is1-ssl.mzstatic.com/image/thumb/Podcasts113/v4/9d/c7/fa/9dc7fa29-4d54-219c-7c89-33b79ae42a15/mza_12888383634961494563.png/100x100bb.jpg', 'collectionPrice': 0.0, 'trackPrice': 0.0, 'trackRentalPrice': 0, 'collectionHdPrice': 0, 'trackHdPrice': 0, 'trackHdRentalPrice': 0, 'releaseDate': '2020-10-25T15:43:00Z', 'collectionExplicitness': 'cleaned', 'trackExplicitness': 'cleaned', 'trackCount': 26, 'country': 'USA', 'currency': 'USD', 'primaryGenreName': 'Christianity', 'contentAdvisoryRating': 'Clean', 'artworkUrl600': 'https://is1-ssl.mzstatic.com/image/thumb/Podcasts113/v4/9d/c7/fa/9dc7fa29-4d54-219c-7c89-33b79ae42a15/mza_12888383634961494563.png/600x600bb.jpg', 'genreIds': ['1439', '26', '1314'], 'genres': ['Christianity', 'Podcasts', 'Religion & Spirituality']}]}\n"
     ]
    }
   ],
   "source": [
    "\n",
    "import json\n",
    "parameters = {\"term\": \"Ann Arbor\",\"entity\": \"podcast\"}\n",
    "iTunes_response = requests.get(\"https://itunes.apple.com/search\", params = parameters)\n",
    "\n",
    "py_data = json.loads(iTunes_response.text)\n",
    "print(py_data)\n",
    "#print(iTunes_response.url)\n",
    "#print(type(py_data))\n",
    "#print(py_data.keys()) # dic hole ['key_name']\n",
    "#print(py_data['results'])\n",
    "#print(type(py_data['results'])) # list hole for loop\n",
    "#z = py_data['results']\n",
    "#for i in z:\n",
    "#    print(i['trackName'])"
   ]
  },
  {
   "cell_type": "code",
   "execution_count": 38,
   "metadata": {
    "collapsed": true
   },
   "outputs": [
    {
     "ename": "ModuleNotFoundError",
     "evalue": "No module named 'requests_with_caching'",
     "output_type": "error",
     "traceback": [
      "\u001b[1;31m---------------------------------------------------------------------------\u001b[0m",
      "\u001b[1;31mModuleNotFoundError\u001b[0m                       Traceback (most recent call last)",
      "\u001b[1;32m<ipython-input-38-fd849ff51cc8>\u001b[0m in \u001b[0;36m<module>\u001b[1;34m\u001b[0m\n\u001b[0;32m      1\u001b[0m \u001b[1;31m# import statements\u001b[0m\u001b[1;33m\u001b[0m\u001b[1;33m\u001b[0m\u001b[1;33m\u001b[0m\u001b[0m\n\u001b[1;32m----> 2\u001b[1;33m \u001b[1;32mimport\u001b[0m \u001b[0mrequests_with_caching\u001b[0m\u001b[1;33m\u001b[0m\u001b[1;33m\u001b[0m\u001b[0m\n\u001b[0m\u001b[0;32m      3\u001b[0m \u001b[1;32mimport\u001b[0m \u001b[0mjson\u001b[0m\u001b[1;33m\u001b[0m\u001b[1;33m\u001b[0m\u001b[0m\n\u001b[0;32m      4\u001b[0m \u001b[1;31m# import webbrowser\u001b[0m\u001b[1;33m\u001b[0m\u001b[1;33m\u001b[0m\u001b[1;33m\u001b[0m\u001b[0m\n\u001b[0;32m      5\u001b[0m \u001b[1;33m\u001b[0m\u001b[0m\n",
      "\u001b[1;31mModuleNotFoundError\u001b[0m: No module named 'requests_with_caching'"
     ]
    }
   ],
   "source": [
    "# import statements\n",
    "import requests_with_caching\n",
    "import json\n",
    "# import webbrowser\n",
    "\n",
    "# apply for a flickr authentication key at http://www.flickr.com/services/apps/create/apply/?\n",
    "# paste the key (not the secret) as the value of the variable flickr_key\n",
    "flickr_key = 'yourkeyhere'\n",
    "\n",
    "def get_flickr_data(tags_string):\n",
    "    baseurl = \"https://api.flickr.com/services/rest/\"\n",
    "    params_diction = {}\n",
    "    params_diction[\"api_key\"] = flickr_key # from the above global variable\n",
    "    params_diction[\"tags\"] = tags_string # must be a comma separated string to work correctly\n",
    "    params_diction[\"tag_mode\"] = \"all\"\n",
    "    params_diction[\"method\"] = \"flickr.photos.search\"\n",
    "    params_diction[\"per_page\"] = 5\n",
    "    params_diction[\"media\"] = \"photos\"\n",
    "    params_diction[\"format\"] = \"json\"\n",
    "    params_diction[\"nojsoncallback\"] = 1\n",
    "    flickr_resp = requests_with_caching.get(baseurl, params = params_diction, permanent_cache_file=\"flickr_cache.txt\")\n",
    "    # Useful for debugging: print the url! Uncomment the below line to do so.\n",
    "    print(flickr_resp.url) # Paste the result into the browser to check it out...\n",
    "    return flickr_resp.json()\n",
    "\n",
    "result_river_mts = get_flickr_data(\"river,mountains\")\n",
    "\n",
    "# Some code to open up a few photos that are tagged with the mountains and river tags...\n",
    "\n",
    "photos = result_river_mts['photos']['photo']\n",
    "for photo in photos:\n",
    "    owner = photo['owner']\n",
    "    photo_id = photo['id']\n",
    "    url = 'https://www.flickr.com/photos/{}/{}'.format(owner, photo_id)\n",
    "    print(url)\n",
    "    # webbrowser.open(url)\n"
   ]
  },
  {
   "cell_type": "code",
   "execution_count": null,
   "metadata": {},
   "outputs": [
    {
     "name": "stdout",
     "output_type": "stream",
     "text": [
      "Enter location: Ann Arbor, Mi, USA Ann Arbor, Mi, USA \n",
      "Retrieved http://py4e-data.dr-chuck.net/json?address=Ann+Arbor%2C+Mi%2C+USA+&key=42\n",
      "Retrieved 1736 characters\n",
      "lat 42.2808256 lng -83.7430378\n",
      "Ann Arbor, MI, USA\n",
      "Enter location: Ann Arbor, Mi, USA Ann Arbor, Mi, USA\n",
      "Retrieved http://py4e-data.dr-chuck.net/json?address=Ann+Arbor%2C+Mi%2C+USA&key=42\n",
      "Retrieved 1736 characters\n",
      "lat 42.2808256 lng -83.7430378\n",
      "Ann Arbor, MI, USA\n"
     ]
    }
   ],
   "source": [
    "import requests\n",
    "# You need to install the requests module to use this code\n",
    "import json\n",
    "\n",
    "api_key = False\n",
    "# If you have a Google Places API key, enter it here\n",
    "# api_key = 'AIzaSy___IDByT70'\n",
    "# https://developers.google.com/maps/documentation/geocoding/intro\n",
    "\n",
    "if api_key is False:\n",
    "    api_key = 42\n",
    "    serviceurl = 'http://py4e-data.dr-chuck.net/json'\n",
    "else :\n",
    "    serviceurl = 'https://maps.googleapis.com/maps/api/geocode/json'\n",
    "\n",
    "while True:\n",
    "    address = input('Enter location: Ann Arbor, Mi, USA ')\n",
    "    if len(address) < 1: break\n",
    "\n",
    "    payload = dict()\n",
    "    payload['address'] = address\n",
    "    if api_key is not False: payload['key'] = api_key\n",
    "\n",
    "    r = requests.get(serviceurl, params=payload)\n",
    "    print('Retrieved', r.url)\n",
    "    data = r.text\n",
    "    print('Retrieved', len(data), 'characters')\n",
    "\n",
    "    try:\n",
    "        js = json.loads(data)\n",
    "    except:\n",
    "        js = None\n",
    "\n",
    "    if not js or 'status' not in js or js['status'] != 'OK':\n",
    "        print('==== Failure To Retrieve ====')\n",
    "        print(data)\n",
    "        continue\n",
    "\n",
    "    #print(json.dumps(js, indent=4))\n",
    "\n",
    "    lat = js['results'][0]['geometry']['location']['lat']\n",
    "    lng = js['results'][0]['geometry']['location']['lng']\n",
    "    print('lat', lat, 'lng', lng)\n",
    "    location = js['results'][0]['formatted_address']\n",
    "    print(location)"
   ]
  },
  {
   "cell_type": "code",
   "execution_count": 10,
   "metadata": {},
   "outputs": [
    {
     "name": "stdout",
     "output_type": "stream",
     "text": [
      "https://api.datamuse.com/words?rel_rhy=funny&max=3\n",
      "[{'word': 'money', 'score': 4415, 'numSyllables': 2}, {'word': 'honey', 'score': 1206, 'numSyllables': 2}, {'word': 'sunny', 'score': 717, 'numSyllables': 2}]\n"
     ]
    }
   ],
   "source": [
    "def get_rhymes(word):\n",
    "    base_url = \"https://api.datamuse.com/words\"\n",
    "    \n",
    "    para = {}\n",
    "    para['rel_rhy'] = word\n",
    "    para['max'] = '3'\n",
    "    \n",
    "    page = requests.get(base_url, params=para)\n",
    "    print(page.url)\n",
    "    word_ds = page.json()\n",
    "    return word_ds\n",
    "    print(word_ds)\n",
    "    \n",
    "print(get_rhymes('funny'))"
   ]
  },
  {
   "cell_type": "markdown",
   "metadata": {},
   "source": [
    "This project will take you through the process of mashing up data from two different APIs to make movie recommendations. The TasteDive API lets you provide a movie (or bands, TV shows, etc.) as a query input, and returns a set of related items. The OMDB API lets you provide a movie title as a query input and get back data about the movie, including scores from various review sites (Rotten Tomatoes, IMDB, etc.).\n",
    "\n",
    "You will put those two together. You will use TasteDive to get related movies for a whole list of titles. You’ll combine the resulting lists of related movies, and sort them according to their Rotten Tomatoes scores (which will require making API calls to the OMDB API.)\n",
    "\n",
    "To avoid problems with rate limits and site accessibility, we have provided a cache file with results for all the queries you need to make to both OMDB and TasteDive. Just use requests_with_caching.get() rather than requests.get(). If you’re having trouble, you may not be formatting your queries properly, or you may not be asking for data that exists in our cache. We will try to provide as much information as we can to help guide you to form queries for which data exists in the cache.\n",
    "\n",
    "Your first task will be to fetch data from TasteDive. The documentation for the API is at https://tastedive.com/read/api.\n",
    "\n",
    "Define a function, called get_movies_from_tastedive. It should take one input parameter, a string that is the name of a movie or music artist. The function should return the 5 TasteDive results that are associated with that string; be sure to only get movies, not other kinds of media. It will be a python dictionary with just one key, ‘Similar’.\n",
    "\n",
    "Try invoking your function with the input “Black Panther”.\n",
    "\n",
    "HINT: Be sure to include only q, type, and limit as parameters in order to extract data from the cache. If any other parameters are included, then the function will not be able to recognize the data that you’re attempting to pull from the cache. Remember, you will not need an api key in order to complete the project, because all data will be found in the cache."
   ]
  },
  {
   "cell_type": "code",
   "execution_count": 50,
   "metadata": {},
   "outputs": [
    {
     "name": "stdout",
     "output_type": "stream",
     "text": [
      "keys are:  dict_keys(['Similar'])\n",
      "{'Similar': {'Info': [{'Name': 'Captain Marvel', 'Type': 'movie'}], 'Results': [{'Name': 'Spider-Man: Far From Home', 'Type': 'movie'}, {'Name': 'Aquaman', 'Type': 'movie'}, {'Name': 'Shazam!', 'Type': 'movie'}, {'Name': 'Avengers: Endgame', 'Type': 'movie'}, {'Name': 'Ant-Man And The Wasp', 'Type': 'movie'}]}}\n"
     ]
    }
   ],
   "source": [
    "# ----------------------------------------------------------------------------------------------------\n",
    "# -------------------------------------- PROJECT STARTDED------------------------------------------------\n",
    "# ----------------------------------------------------------------------------------------------------\n",
    "\n",
    "\n",
    "# Your first task will be to fetch data from TasteDive. The documentation for the API is at https://tastedive.com/read/api.\n",
    "# Define a function, called get_movies_from_tastedive. It should take one input parameter, \n",
    "# a string that is the name of a movie or music artist. \n",
    "# The function should return the 5 TasteDive results that are associated with that string; \n",
    "# be sure to only get movies, not other kinds of media. It will be a python dictionary with just one key, ‘Similar’.\n",
    "\n",
    "\n",
    "\n",
    "import requests\n",
    "import json\n",
    "\n",
    "def get_movies_from_tastedive(movie_name):\n",
    "    base_url = \"https://tastedive.com/api/similar\"\n",
    "    \n",
    "    para = {}\n",
    "    para['q'] = movie_name\n",
    "    para['type'] = 'movies'\n",
    "    para['limit'] = '5'\n",
    "    \n",
    "    page = requests.get(base_url, params=para)\n",
    "    #print(page.url)\n",
    "    \n",
    "    x = json.loads(page.text)\n",
    "    print('keys are: ',x.keys())\n",
    "    \n",
    "    # for checking the whole list I am using dumps\n",
    "    \n",
    "    #z = json.dumps(x, indent=2)\n",
    "    #print(z)\n",
    "    \n",
    "    return x\n",
    "    \n",
    "print(get_movies_from_tastedive('Captain Marvel'))"
   ]
  },
  {
   "cell_type": "markdown",
   "metadata": {},
   "source": [
    "Please copy the completed function from above into this active code window. Next, you will need to write a function that extracts just the list of movie titles from a dictionary returned by get_movies_from_tastedive. Call it extract_movie_titles."
   ]
  },
  {
   "cell_type": "code",
   "execution_count": 52,
   "metadata": {},
   "outputs": [
    {
     "name": "stdout",
     "output_type": "stream",
     "text": [
      "['Spider-Man: Far From Home', 'Aquaman', 'Shazam!', 'Avengers: Endgame', 'Ant-Man And The Wasp']\n"
     ]
    }
   ],
   "source": [
    "# Please copy the completed function from above into this active code window. \n",
    "# Next, you will need to write a function that extracts just the list of movie titles from a dictionary \n",
    "# returned by get_movies_from_tastedive. Call it extract_movie_titles.\n",
    "\n",
    "\n",
    "import requests\n",
    "import json\n",
    "\n",
    "\n",
    "def get_movies_from_tastedive(movie_name):\n",
    "    base_url = 'https://tastedive.com/api/similar'\n",
    "    param = {}\n",
    "    param['q'] = movie_name\n",
    "    param['limit'] = 5\n",
    "    param['type'] = 'movies'\n",
    "\n",
    "    page = requests.get(base_url, params=param)\n",
    "    x = json.loads(page.text)\n",
    "    return x\n",
    "\n",
    "def extract_movie_titles(dic):\n",
    "    k = dic['Similar']['Results']\n",
    "    #print(list((i['Name'] for i in k)))\n",
    "    return list((i['Name'] for i in k))\n",
    "\n",
    "print(extract_movie_titles(get_movies_from_tastedive('Captain Marvel')))\n"
   ]
  },
  {
   "cell_type": "markdown",
   "metadata": {},
   "source": [
    "Please copy the completed functions from the two code windows above into this active code window. Next, you’ll write a function, called get_related_titles. It takes a list of movie titles as input. It gets five related movies for each from TasteDive, extracts the titles for all of them, and combines them all into a single list. Don’t include the same movie twice."
   ]
  },
  {
   "cell_type": "code",
   "execution_count": 58,
   "metadata": {},
   "outputs": [
    {
     "name": "stdout",
     "output_type": "stream",
     "text": [
      "['Ready Player One', 'A Quiet Place', 'Tomb Raider', 'Thor: Ragnarok', 'Ant-Man And The Wasp', 'Spider-Man: Far From Home', 'Aquaman', 'Shazam!', 'Avengers: Endgame']\n"
     ]
    }
   ],
   "source": [
    "# Please copy the completed functions from the two code \n",
    "# windows above into this active code window. Next, you’ll write a function, called get_related_titles. \n",
    "# It takes a list of movie titles as input. It gets five related movies for each from TasteDive, \n",
    "# extracts the titles for all of them, \n",
    "# and combines them all into a single list. Don’t include the same movie twice.\n",
    "\n",
    "\n",
    "import requests\n",
    "import json\n",
    "\n",
    "\n",
    "def get_movies_from_tastedive(movie_name):\n",
    "    base_url = 'https://tastedive.com/api/similar'\n",
    "    param = {}\n",
    "    param['q'] = movie_name\n",
    "    param['limit'] = 5\n",
    "    param['type'] = 'movies'\n",
    "\n",
    "    page = requests.get(base_url, params=param)\n",
    "    x = json.loads(page.text)\n",
    "    return x\n",
    "\n",
    "def extract_movie_titles(dic):\n",
    "    k = dic['Similar']['Results']\n",
    "    #print(list((i['Name'] for i in k)))\n",
    "    return list((i['Name'] for i in k))\n",
    "\n",
    "def get_related_titles(given_movie_list):\n",
    "    main_list = []\n",
    "    getting_from_up = []\n",
    "    \n",
    "    for movie in given_movie_list:\n",
    "        getting_from_up = extract_movie_titles(get_movies_from_tastedive(movie))\n",
    "        for related_movie in getting_from_up:\n",
    "            if related_movie not in main_list:\n",
    "                main_list.append(related_movie)\n",
    "            \n",
    "    #print(main_list)\n",
    "    return main_list\n",
    "    \n",
    "print(get_related_titles([\"Black Panther\", \"Captain Marvel\"]))\n",
    "#print(get_related_titles(extract_movie_titles(get_movies_from_tastedive('Captain Marvel'))))\n"
   ]
  },
  {
   "cell_type": "markdown",
   "metadata": {},
   "source": [
    "Your next task will be to fetch data from OMDB. The documentation for the API is at https://www.omdbapi.com/\n",
    "\n",
    "Define a function called get_movie_data. It takes in one parameter which is a string that should represent the title of a movie you want to search. The function should return a dictionary with information about that movie.\n",
    "\n",
    "Again, use requests_with_caching.get(). For the queries on movies that are already in the cache, you won’t need an api key. You will need to provide the following keys: t and r. As with the TasteDive cache, be sure to only include those two parameters in order to extract existing data from the cache."
   ]
  },
  {
   "cell_type": "code",
   "execution_count": 72,
   "metadata": {},
   "outputs": [
    {
     "name": "stdout",
     "output_type": "stream",
     "text": [
      "[{'Source': 'Internet Movie Database', 'Value': '6.7/10'}, {'Source': 'Rotten Tomatoes', 'Value': '30%'}, {'Source': 'Metacritic', 'Value': '35/100'}]\n",
      "information 1:  {'Title': 'Venom', 'Year': '2018', 'Rated': 'PG-13', 'Released': '05 Oct 2018', 'Runtime': '112 min', 'Genre': 'Action, Adventure, Sci-Fi', 'Director': 'Ruben Fleischer', 'Writer': \"Jeff Pinkner (screenplay by), Scott Rosenberg (screenplay by), Kelly Marcel (screenplay by), Jeff Pinkner (screen story by), Scott Rosenberg (screen story by), Todd McFarlane (Marvel's Venom Character created by), David Michelinie (Marvel's Venom Character created by)\", 'Actors': 'Tom Hardy, Michelle Williams, Riz Ahmed, Scott Haze', 'Plot': 'A failed reporter is bonded to an alien entity, one of many symbiotes who have invaded Earth. But the being takes a liking to Earth and decides to protect it.', 'Language': 'English, Mandarin, Malay', 'Country': 'China, USA', 'Awards': '3 wins & 9 nominations.', 'Poster': 'https://m.media-amazon.com/images/M/MV5BNzAwNzUzNjY4MV5BMl5BanBnXkFtZTgwMTQ5MzM0NjM@._V1_SX300.jpg', 'Ratings': [{'Source': 'Internet Movie Database', 'Value': '6.7/10'}, {'Source': 'Rotten Tomatoes', 'Value': '30%'}, {'Source': 'Metacritic', 'Value': '35/100'}], 'Metascore': '35', 'imdbRating': '6.7', 'imdbVotes': '348,897', 'imdbID': 'tt1270797', 'Type': 'movie', 'DVD': 'N/A', 'BoxOffice': 'N/A', 'Production': 'Pascal Pictures, Columbia Pictures, Tencent Pictures, Marvel Entertainment', 'Website': 'N/A', 'Response': 'True'}\n",
      "[{'Source': 'Internet Movie Database', 'Value': '6.0/10'}, {'Source': 'Rotten Tomatoes', 'Value': '64%'}, {'Source': 'Metacritic', 'Value': '55/100'}]\n",
      "information 2:  {'Title': 'Baby Mama', 'Year': '2008', 'Rated': 'PG-13', 'Released': '25 Apr 2008', 'Runtime': '99 min', 'Genre': 'Comedy, Romance', 'Director': 'Michael McCullers', 'Writer': 'Michael McCullers', 'Actors': 'Amy Poehler, Tina Fey, Greg Kinnear, Dax Shepard', 'Plot': 'A successful, single businesswoman who dreams of having a baby discovers she is infertile and hires a working class woman to be her unlikely surrogate.', 'Language': 'English', 'Country': 'USA', 'Awards': '1 win & 5 nominations.', 'Poster': 'https://m.media-amazon.com/images/M/MV5BMTYwNTc1Nzk1N15BMl5BanBnXkFtZTcwNjE4OTI2MQ@@._V1_SX300.jpg', 'Ratings': [{'Source': 'Internet Movie Database', 'Value': '6.0/10'}, {'Source': 'Rotten Tomatoes', 'Value': '64%'}, {'Source': 'Metacritic', 'Value': '55/100'}], 'Metascore': '55', 'imdbRating': '6.0', 'imdbVotes': '41,776', 'imdbID': 'tt0871426', 'Type': 'movie', 'DVD': 'N/A', 'BoxOffice': 'N/A', 'Production': 'Michaels/Goldwyn', 'Website': 'N/A', 'Response': 'True'}\n"
     ]
    }
   ],
   "source": [
    "# Your next task will be to fetch data from OMDB. The documentation for the API is at https://www.omdbapi.com/\n",
    "# Define a function called get_movie_data. It takes in one parameter \n",
    "# which is a string that should represent the title of a movie you want to search. \n",
    "# The function should return a dictionary with information about that movie.\n",
    "# Again, use requests_with_caching.get(). For the queries on movies that are already in the cache, \n",
    "# you won’t need an api key. You will need to provide the following keys: t and r. \n",
    "#     As with the TasteDive cache, be sure to only include those two parameters in order to \n",
    "#     extract existing data from the cache.\n",
    "\n",
    "\n",
    "\n",
    "\n",
    "import requests\n",
    "import json\n",
    "\n",
    "def get_movie_data(seach_movie, key = '55ef2e6'):\n",
    "    base_url = 'http://www.omdbapi.com/'\n",
    "    para = {}\n",
    "    para['t'] = seach_movie\n",
    "    para['r'] = 'json'\n",
    "    para['apikey'] = key\n",
    "    page = requests.get(base_url, params=para)\n",
    "\n",
    "    x = json.loads(page.text)\n",
    "    #z = json.dumps(x, indent=2)\n",
    "    #print(z)\n",
    "    print(x['Ratings'])\n",
    "    return x\n",
    "\n",
    "print('information 1: ',get_movie_data(\"Venom\"))\n",
    "print('information 2: ',get_movie_data(\"Baby Mama\"))\n"
   ]
  },
  {
   "cell_type": "markdown",
   "metadata": {},
   "source": [
    "Please copy the completed function from above into this active code window. Now write a function called get_movie_rating. It takes an OMDB dictionary result for one movie and extracts the Rotten Tomatoes rating as an integer. For example, if given the OMDB dictionary for “Black Panther”, it would return 97. If there is no Rotten Tomatoes rating, return 0."
   ]
  },
  {
   "cell_type": "code",
   "execution_count": 88,
   "metadata": {},
   "outputs": [
    {
     "data": {
      "text/plain": [
       "83"
      ]
     },
     "execution_count": 88,
     "metadata": {},
     "output_type": "execute_result"
    }
   ],
   "source": [
    "# Please copy the completed function from above into this active code window. \n",
    "# Now write a function called get_movie_rating. It takes an OMDB dictionary result for \n",
    "# one movie and extracts the Rotten Tomatoes rating as an integer. For example, \n",
    "# if given the OMDB dictionary for “Black Panther”, it would return 97.\n",
    "#  If there is no Rotten Tomatoes rating, return 0.\n",
    "\n",
    "\n",
    "\n",
    "import requests\n",
    "import json\n",
    "\n",
    "def get_movie_data(seach_movie, key = '55ef2e6'):\n",
    "    base_url = 'http://www.omdbapi.com/'\n",
    "    para = {}\n",
    "    para['t'] = seach_movie\n",
    "    para['r'] = 'json'\n",
    "    para['apikey'] = key\n",
    "    page = requests.get(base_url, params=para)\n",
    "\n",
    "    x = json.loads(page.text)\n",
    "    #z = json.dumps(x, indent=2)\n",
    "    #print(z)\n",
    "    #print(x['Ratings'])\n",
    "    return x\n",
    "\n",
    "def get_movie_rating(dic):\n",
    "    k = dic['Ratings']\n",
    "    #print(k)\n",
    "    for i in k:\n",
    "        if i['Source'] == 'Rotten Tomatoes':\n",
    "            rating_percentage = i['Value']\n",
    "    if rating_percentage != '':\n",
    "        rating_movie = int(rating_percentage[:-1]) # length joto tar cheye 1 kom porjonto run hobe\n",
    "        #print(rating_movie)\n",
    "    else:\n",
    "        rating_movie = 0\n",
    "    return rating_movie\n",
    "\n",
    "get_movie_rating(get_movie_data(\"Deadpool 2\"))\n"
   ]
  },
  {
   "cell_type": "markdown",
   "metadata": {},
   "source": [
    "Now, you’ll put it all together. Don’t forget to copy all of the functions that you have previously defined into this code window. Define a function get_sorted_recommendations. It takes a list of movie titles as an input. It returns a sorted list of related movie titles as output, up to five related movies for each input movie title. The movies should be sorted in descending order by their Rotten Tomatoes rating, as returned by the get_movie_rating function. Break ties in reverse alphabetic order, so that ‘Yahşi Batı’ comes before ‘Eyyvah Eyvah’."
   ]
  },
  {
   "cell_type": "code",
   "execution_count": 2,
   "metadata": {},
   "outputs": [
    {
     "name": "stdout",
     "output_type": "stream",
     "text": [
      "Enter list of movie: Captain America\n"
     ]
    },
    {
     "data": {
      "text/plain": [
       "{'Winnie The Pooh': 91,\n",
       " 'Tron': 72,\n",
       " 'Sherlock Holmes': 69,\n",
       " 'The Lord Of The Rings': 52,\n",
       " \"The Making Of Dr. Horrible's Sing-Along Blog\": 0}"
      ]
     },
     "execution_count": 2,
     "metadata": {},
     "output_type": "execute_result"
    }
   ],
   "source": [
    "# Now, you’ll put it all together. Don’t forget to copy all of the functions that \n",
    "# you have previously defined into this code window. Define a function get_sorted_recommendations. \n",
    "# It takes a list of movie titles as an input. It returns a sorted list of related movie titles as output, \n",
    "# up to five related movies for each input movie title. The movies should be sorted in \n",
    "# descending order by their Rotten Tomatoes rating, as returned by the get_movie_rating function. \n",
    "# Break ties in reverse alphabetic order, so that ‘Yahşi Batı’ comes before ‘Eyyvah Eyvah’.\n",
    "\n",
    "\n",
    "\n",
    "import requests\n",
    "import json\n",
    "\n",
    "def get_movies_from_tastedive(movie_name):\n",
    "    base_url = \"https://tastedive.com/api/similar\"\n",
    "    \n",
    "    para = {}\n",
    "    para['q'] = movie_name\n",
    "    para['type'] = 'movies'\n",
    "    para['limit'] = '5'\n",
    "    \n",
    "    page = requests.get(base_url, params=para)\n",
    "    #print(page.url)\n",
    "    \n",
    "    x = json.loads(page.text)\n",
    "    print('keys are: ',x.keys())\n",
    "    \n",
    "    # for checking the whole list I am using dumps\n",
    "    \n",
    "    #z = json.dumps(x, indent=2)\n",
    "    #print(z)\n",
    "    \n",
    "    return x\n",
    "    \n",
    "# print(get_movies_from_tastedive('Captain Marvel'))\n",
    "\n",
    "import requests\n",
    "import json\n",
    "\n",
    "\n",
    "def get_movies_from_tastedive(movie_name):\n",
    "    base_url = 'https://tastedive.com/api/similar'\n",
    "    param = {}\n",
    "    param['q'] = movie_name\n",
    "    param['limit'] = 5\n",
    "    param['type'] = 'movies'\n",
    "\n",
    "    page = requests.get(base_url, params=param)\n",
    "    x = json.loads(page.text)\n",
    "    return x\n",
    "\n",
    "def extract_movie_titles(dic):\n",
    "    k = dic['Similar']['Results']\n",
    "    #print(list((i['Name'] for i in k)))\n",
    "    return list((i['Name'] for i in k))\n",
    "\n",
    "#print(extract_movie_titles(get_movies_from_tastedive('Captain Marvel')))\n",
    "\n",
    "\n",
    "import requests\n",
    "import json\n",
    "\n",
    "\n",
    "def get_movies_from_tastedive(movie_name):\n",
    "    base_url = 'https://tastedive.com/api/similar'\n",
    "    param = {}\n",
    "    param['q'] = movie_name\n",
    "    param['limit'] = 5\n",
    "    param['type'] = 'movies'\n",
    "\n",
    "    page = requests.get(base_url, params=param)\n",
    "    x = json.loads(page.text)\n",
    "    return x\n",
    "\n",
    "def extract_movie_titles(dic):\n",
    "    k = dic['Similar']['Results']\n",
    "    #print(list((i['Name'] for i in k)))\n",
    "    return list((i['Name'] for i in k))\n",
    "\n",
    "def get_related_titles(given_movie_list):\n",
    "    main_list = []\n",
    "    getting_from_up = []\n",
    "    \n",
    "    for movie in given_movie_list:\n",
    "        getting_from_up = extract_movie_titles(get_movies_from_tastedive(movie))\n",
    "        for related_movie in getting_from_up:\n",
    "            if related_movie not in main_list:\n",
    "                main_list.append(related_movie)\n",
    "            \n",
    "    #print(main_list)\n",
    "    return main_list\n",
    "    \n",
    "#print(get_related_titles([\"Black Panther\", \"Captain Marvel\"]))\n",
    "#print(get_related_titles(extract_movie_titles(get_movies_from_tastedive('Captain Marvel'))))\n",
    "\n",
    "import requests\n",
    "import json\n",
    "\n",
    "def get_movie_data(seach_movie, key = '55ef2e6'):\n",
    "    base_url = 'http://www.omdbapi.com/'\n",
    "    para = {}\n",
    "    para['t'] = seach_movie\n",
    "    para['r'] = 'json'\n",
    "    para['apikey'] = key\n",
    "    page = requests.get(base_url, params=para)\n",
    "\n",
    "    x = json.loads(page.text)\n",
    "    #z = json.dumps(x, indent=2)\n",
    "    #print(z)\n",
    "    print(x['Ratings'])\n",
    "    return x\n",
    "\n",
    "#print('information 1: ',get_movie_data(\"Venom\"))\n",
    "#print('information 2: ',get_movie_data(\"Baby Mama\"))\n",
    "\n",
    "\n",
    "import requests\n",
    "import json\n",
    "\n",
    "def get_movie_data(seach_movie, key = '55ef2e6'):\n",
    "    base_url = 'http://www.omdbapi.com/'\n",
    "    para = {}\n",
    "    para['t'] = seach_movie\n",
    "    para['r'] = 'json'\n",
    "    para['apikey'] = key\n",
    "    page = requests.get(base_url, params=para)\n",
    "\n",
    "    x = json.loads(page.text)\n",
    "    #z = json.dumps(x, indent=2)\n",
    "    #print(z)\n",
    "    #print(x['Ratings'])\n",
    "    return x\n",
    "\n",
    "def get_movie_rating(dic):\n",
    "    k = dic['Ratings']\n",
    "    rating_percentage = ''\n",
    "    #print(k)\n",
    "    for i in k:\n",
    "        if i['Source'] == 'Rotten Tomatoes':\n",
    "            rating_percentage = i['Value']\n",
    "    if rating_percentage != '':\n",
    "        rating_movie = int(rating_percentage[:-1]) # length joto tar cheye 1 kom porjonto run hobe\n",
    "        #print(rating_movie)\n",
    "    else:\n",
    "        rating_movie = 0\n",
    "    return rating_movie\n",
    "\n",
    "#get_movie_rating(get_movie_data(\"Deadpool 2\"))\n",
    "\n",
    "def get_sorted_recommendations(movie_list):\n",
    "    new_list = get_related_titles(movie_list)\n",
    "    #print(new_list)\n",
    "    new_rating_movie = {}\n",
    "    \n",
    "    for new_movie in new_list:\n",
    "        new_rating = get_movie_rating(get_movie_data(new_movie))\n",
    "        new_rating_movie[new_movie] = new_rating\n",
    "    #print(new_rating_movie)\n",
    "     \n",
    "    lst = []\n",
    "    for k,v in new_rating_movie.items():\n",
    "        newtup = (v,k)\n",
    "        lst.append(newtup)\n",
    "    \n",
    "    lst=sorted(lst,reverse = True)\n",
    "    sorted_new_rating_movie = {}\n",
    "    for v,k in lst:\n",
    "        sorted_new_rating_movie[k] = v\n",
    "    return sorted_new_rating_movie\n",
    "\n",
    "\n",
    "address = []\n",
    "address.append(input('Enter list of movie: '))\n",
    "\n",
    "get_sorted_recommendations(address)"
   ]
  }
 ],
 "metadata": {
  "kernelspec": {
   "display_name": "Python 3",
   "language": "python",
   "name": "python3"
  },
  "language_info": {
   "codemirror_mode": {
    "name": "ipython",
    "version": 3
   },
   "file_extension": ".py",
   "mimetype": "text/x-python",
   "name": "python",
   "nbconvert_exporter": "python",
   "pygments_lexer": "ipython3",
   "version": "3.7.6"
  }
 },
 "nbformat": 4,
 "nbformat_minor": 4
}
