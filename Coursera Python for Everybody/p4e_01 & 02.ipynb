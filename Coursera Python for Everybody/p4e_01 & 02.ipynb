{
 "cells": [
  {
   "cell_type": "code",
   "execution_count": null,
   "metadata": {
    "scrolled": true
   },
   "outputs": [],
   "source": [
    "print ('the boys')"
   ]
  },
  {
   "cell_type": "code",
   "execution_count": null,
   "metadata": {},
   "outputs": [],
   "source": [
    "x = 45\n",
    "type(x)"
   ]
  },
  {
   "cell_type": "code",
   "execution_count": null,
   "metadata": {},
   "outputs": [],
   "source": [
    "x = float (45)\n",
    "type(x)"
   ]
  },
  {
   "cell_type": "code",
   "execution_count": null,
   "metadata": {},
   "outputs": [],
   "source": [
    "x = str (45)\n",
    "type (x)"
   ]
  },
  {
   "cell_type": "code",
   "execution_count": null,
   "metadata": {},
   "outputs": [],
   "source": [
    "y= '1' + x\n",
    "print (y)"
   ]
  },
  {
   "cell_type": "code",
   "execution_count": null,
   "metadata": {},
   "outputs": [],
   "source": [
    "y = 'dj'\n",
    "type(y)"
   ]
  },
  {
   "cell_type": "code",
   "execution_count": null,
   "metadata": {},
   "outputs": [],
   "source": [
    "int (y)"
   ]
  },
  {
   "cell_type": "code",
   "execution_count": null,
   "metadata": {},
   "outputs": [],
   "source": [
    "z= 10/2\n",
    "print (z)\n",
    "type (z)"
   ]
  },
  {
   "cell_type": "code",
   "execution_count": null,
   "metadata": {},
   "outputs": [],
   "source": [
    "k = input ('who are you')\n",
    "print ( int(k) , 1)\n",
    "print ( int (k) + 1)"
   ]
  },
  {
   "cell_type": "code",
   "execution_count": null,
   "metadata": {},
   "outputs": [],
   "source": [
    "a = input ('who are you')\n",
    "type (a)\n",
    "print (a , 'hello')"
   ]
  },
  {
   "cell_type": "code",
   "execution_count": null,
   "metadata": {},
   "outputs": [],
   "source": [
    "# convert floor number \n",
    "\n",
    "a = input ('Eupore er floor number daw') \n",
    "b = int (a) + 1\n",
    "print ('usa er floor number holo' , b)"
   ]
  },
  {
   "cell_type": "code",
   "execution_count": null,
   "metadata": {},
   "outputs": [],
   "source": [
    "print (33.4)\n",
    "type (33.4)"
   ]
  },
  {
   "cell_type": "code",
   "execution_count": null,
   "metadata": {},
   "outputs": [],
   "source": [
    "x = 1 + 2 * 3 - 8 / 4\n",
    "print (x)"
   ]
  },
  {
   "cell_type": "code",
   "execution_count": null,
   "metadata": {},
   "outputs": [],
   "source": [
    "# This first line is provided for you\n",
    "\n",
    "\n",
    "hrs = int(input (\"Enter Hours:\"))\n",
    "rate = float (input (\"Enter payment hour:\"))\n",
    "print (\"Pay:\" , hrs * rate)"
   ]
  },
  {
   "cell_type": "code",
   "execution_count": null,
   "metadata": {},
   "outputs": [],
   "source": [
    "x = 5\n",
    "if x>2:\n",
    "    print (\"boro\")\n",
    "else:\n",
    "    print (\"choto\")\n",
    "    "
   ]
  },
  {
   "cell_type": "code",
   "execution_count": null,
   "metadata": {},
   "outputs": [],
   "source": [
    "y = input('do tishan is single?')\n",
    "try:\n",
    "    if y=='yes':\n",
    "        x = int(y)\n",
    "except:\n",
    "    x = 'he is not single. tole tole tempu chalai'\n",
    "print (\"never\" , x)"
   ]
  },
  {
   "cell_type": "code",
   "execution_count": null,
   "metadata": {},
   "outputs": [],
   "source": [
    "a = input ('positive num dey')\n",
    "try:\n",
    "    num = int(a)\n",
    "except:\n",
    "    num = -1\n",
    "\n",
    "if num > 0:\n",
    "    print('good job')\n",
    "else:\n",
    "    print('bara, num dite bolsilam')"
   ]
  },
  {
   "cell_type": "code",
   "execution_count": null,
   "metadata": {},
   "outputs": [],
   "source": [
    "x=6\n",
    "if x == 6 :\n",
    "    print('Is 6')\n",
    "    print('Is Still 6')\n",
    "    print('Third 6')"
   ]
  },
  {
   "cell_type": "code",
   "execution_count": null,
   "metadata": {},
   "outputs": [],
   "source": [
    "hrs = float(input(\"Enter Hours:\"))\n",
    "rate = float(input('enter rate per hour'))\n",
    "\n",
    "if hrs>40:\n",
    "    x= hrs*rate\n",
    "    extra= (hrs-40) * (rate * 0.5)\n",
    "    gross_pay= x + extra\n",
    "    print (gross_pay)\n",
    "else:\n",
    "    x= hrs*rate\n",
    "    print(x)"
   ]
  },
  {
   "cell_type": "code",
   "execution_count": null,
   "metadata": {},
   "outputs": [],
   "source": [
    "try:\n",
    "    hrs = float(input(\"Enter Hours:\"))\n",
    "    rate = float(input('enter rate per hour:'))\n",
    "except:\n",
    "    print(\"Please give number\")\n",
    "    quit()\n",
    "    \n",
    "if hrs>40:\n",
    "    x= hrs*rate\n",
    "    extra= (hrs-40) * (rate * 0.5)\n",
    "    gross_pay= x + extra\n",
    "    print (gross_pay)\n",
    "else:\n",
    "    x= hrs*rate\n",
    "    print(x)"
   ]
  },
  {
   "cell_type": "code",
   "execution_count": null,
   "metadata": {},
   "outputs": [],
   "source": [
    "score = float(input(\"Enter Score: \"))\n",
    "if score>=0.9:\n",
    "    print('A')\n",
    "\n",
    "elif score>=0.8:\n",
    "    print('B')\n",
    "\n",
    "elif score>=0.7:\n",
    "    print('C')\n",
    "\n",
    "elif score>=0.6:\n",
    "    print('D')\n",
    "\n",
    "elif score<0.6:\n",
    "    print('F')\n",
    "\n",
    "else:\n",
    "    print('number out of range')\n",
    "\n",
    "\n",
    "    "
   ]
  },
  {
   "cell_type": "code",
   "execution_count": null,
   "metadata": {},
   "outputs": [],
   "source": [
    "def dj():\n",
    "    print('dj baba')\n",
    "    print('dj mama')\n",
    "\n",
    "print('hello')\n",
    "dj()"
   ]
  },
  {
   "cell_type": "code",
   "execution_count": null,
   "metadata": {},
   "outputs": [],
   "source": [
    "def fr_greet():\n",
    "    return 'bonjour'\n",
    "def chn_greet():\n",
    "    return 'ni hao'\n",
    "\n",
    "print(fr_greet(), 'moin')\n",
    "print(chn_greet(),'shawon')"
   ]
  },
  {
   "cell_type": "code",
   "execution_count": null,
   "metadata": {},
   "outputs": [],
   "source": [
    "def greet(lang):\n",
    "    if lang=='fr':\n",
    "        print('bonjour')\n",
    "    elif lang=='chn':\n",
    "        print('ni hao')\n",
    "    else:\n",
    "        print('ki obosta')\n",
    "        \n",
    "greet('fr')\n",
    "greet('chn')\n",
    "greet('sgsgsg')"
   ]
  },
  {
   "cell_type": "code",
   "execution_count": null,
   "metadata": {},
   "outputs": [],
   "source": [
    "def add(a,b):\n",
    "    return (a+b)\n",
    "\n",
    "x=add(2,2)\n",
    "print(x)"
   ]
  },
  {
   "cell_type": "code",
   "execution_count": null,
   "metadata": {},
   "outputs": [],
   "source": [
    "def stuff():\n",
    "    print('Hello')\n",
    "    return\n",
    "    print('World')\n",
    "\n",
    "stuff()"
   ]
  },
  {
   "cell_type": "code",
   "execution_count": null,
   "metadata": {},
   "outputs": [],
   "source": [
    "def greet(lang):\n",
    "    if lang == 'es':\n",
    "        return 'Hola'\n",
    "    elif lang == 'fr':\n",
    "        return 'Bonjour'\n",
    "    else:\n",
    "        return 'Hello'\n",
    "\n",
    "print(greet('fr'),'Michael')"
   ]
  },
  {
   "cell_type": "code",
   "execution_count": null,
   "metadata": {},
   "outputs": [],
   "source": [
    "def addtwo(a, b):\n",
    "    added = a + b\n",
    "    return a\n",
    "\n",
    "x = addtwo(2, 7)\n",
    "print(x)"
   ]
  },
  {
   "cell_type": "code",
   "execution_count": null,
   "metadata": {},
   "outputs": [],
   "source": [
    "def computepay(h,r):\n",
    "    if hrs>40:\n",
    "        p = 40*rate + rate*1.5*(hrs-40)\n",
    "        return p\n",
    "    else:\n",
    "        p=hrs*rate\n",
    "        return p\n",
    "\n",
    "hrs = float(input(\"Enter Hours:\"))\n",
    "rate = float(input(\"give rate per hour\"))\n",
    "\n",
    "p = computepay(hrs,rate)\n",
    "print(\"Pay\",p)"
   ]
  },
  {
   "cell_type": "code",
   "execution_count": null,
   "metadata": {},
   "outputs": [],
   "source": [
    "while True:\n",
    "    line = input('>')\n",
    "    if line == 'done':\n",
    "        break\n",
    "    print('line')\n",
    "    \n",
    "print('done')"
   ]
  },
  {
   "cell_type": "code",
   "execution_count": null,
   "metadata": {},
   "outputs": [],
   "source": [
    "while True:\n",
    "    line = input('>')\n",
    "    if line[0] == '#':\n",
    "        continue\n",
    "    if line == 'done':\n",
    "        break\n",
    "    \n",
    "    print('line')\n",
    "    \n",
    "print('done')"
   ]
  },
  {
   "cell_type": "code",
   "execution_count": null,
   "metadata": {},
   "outputs": [],
   "source": [
    "a=[3,4,5,6]\n",
    "for i in a:\n",
    "    print (i,a[0])\n",
    "print('blastoff')"
   ]
  },
  {
   "cell_type": "code",
   "execution_count": null,
   "metadata": {},
   "outputs": [],
   "source": [
    "a=['moin','rifat','raihan']\n",
    "for i in a:\n",
    "    print(i)\n",
    "print('blast')"
   ]
  },
  {
   "cell_type": "code",
   "execution_count": null,
   "metadata": {},
   "outputs": [],
   "source": [
    "a = -1\n",
    "print('before',a)\n",
    "b = [3,12,45,41,23,74]\n",
    "for i in b:\n",
    "    if i>a:\n",
    "        a = i\n",
    "    print('largest value:', a,'the num we checked:', i)\n",
    "\n",
    "print('after',a)"
   ]
  },
  {
   "cell_type": "code",
   "execution_count": null,
   "metadata": {},
   "outputs": [],
   "source": [
    "count = 0\n",
    "a=[1,34,21,442,12,134,94]\n",
    "for i in a:\n",
    "    count=count+1\n",
    "    print (count,i)\n",
    "print('after', zork)"
   ]
  },
  {
   "cell_type": "code",
   "execution_count": null,
   "metadata": {},
   "outputs": [],
   "source": [
    "zork = 0\n",
    "a=[1,34,21,442,12,134,94]\n",
    "for i in a:\n",
    "    zork=zork+i\n",
    "    print ('add korsi list theke niye:', i , 'result hoiche:' , zork)\n",
    "print('after', zork)"
   ]
  },
  {
   "cell_type": "code",
   "execution_count": null,
   "metadata": {},
   "outputs": [],
   "source": [
    "count = 0\n",
    "sum = 0\n",
    "a=[1,34,21,442,12,134,94]\n",
    "for i in a:\n",
    "    count=count+1\n",
    "    sum=sum+i\n",
    "    print ('count kortesi:',count,'add korsi list theke niye:', i , 'result hoiche:' , zork)\n",
    "print('avg:', sum/count)"
   ]
  },
  {
   "cell_type": "code",
   "execution_count": null,
   "metadata": {},
   "outputs": [],
   "source": [
    "bol = False\n",
    "a=[2,3,53,13,35,131,12]\n",
    "for i in a:\n",
    "    if i==131:\n",
    "        bol=True\n",
    "    print(bol,'for:',i)\n",
    "print ('after', bol)"
   ]
  },
  {
   "cell_type": "code",
   "execution_count": null,
   "metadata": {},
   "outputs": [],
   "source": [
    "a = -1\n",
    "print('before',a)\n",
    "b = [3,12,45,41,23,74]\n",
    "for i in b:\n",
    "    if i<a:\n",
    "        a = i\n",
    "    print('lowest value:', a,'the num we checked:', i)\n",
    "\n",
    "print('after',a)"
   ]
  },
  {
   "cell_type": "code",
   "execution_count": null,
   "metadata": {},
   "outputs": [],
   "source": [
    "#smallest = None\n",
    "print('before')\n",
    "b = [13,3,45,41,23,74]\n",
    "smallest=b[0]\n",
    "for i in b:\n",
    "    if i < smallest:\n",
    "        smallest = i\n",
    "\n",
    "print('after',smallest)"
   ]
  },
  {
   "cell_type": "code",
   "execution_count": null,
   "metadata": {},
   "outputs": [],
   "source": [
    "\n",
    "# Python program to find smallest  \n",
    "# number in a list \n",
    "  \n",
    "# list of numbers \n",
    "list1 = [10, 20, 4, 45, 99] \n",
    "  \n",
    "# sorting the list \n",
    "list1.sort() \n",
    "  \n",
    "# printing the first element \n",
    "print(\"Smallest element is:\", *list1[:1]) "
   ]
  },
  {
   "cell_type": "code",
   "execution_count": null,
   "metadata": {},
   "outputs": [],
   "source": [
    "# Python program to find smallest \n",
    "# number in a list \n",
    "\n",
    "# list of numbers \n",
    "list1 = [10, 20, 1, 45, 99] \n",
    "\n",
    "\n",
    "# printing the maximum element \n",
    "print(\"Smallest element is:\", min(list1)) \n"
   ]
  },
  {
   "cell_type": "code",
   "execution_count": null,
   "metadata": {},
   "outputs": [],
   "source": [
    "# Python program to find smallest \n",
    "# number in a list \n",
    "\n",
    "# creating empty list \n",
    "list1 = [] \n",
    "\n",
    "# asking number of elements to put in list \n",
    "num = int(input(\"Enter number of elements in list: \")) \n",
    "\n",
    "# iterating till num to append elements in list \n",
    "for i in range(1, num + 1): \n",
    "    ele= int(input(\"Enter elements: \")) \n",
    "    list1.append(ele) \n",
    "    \n",
    "# print maximum element \n",
    "print(\"Smallest element is:\", min(list1)) \n"
   ]
  },
  {
   "cell_type": "code",
   "execution_count": null,
   "metadata": {},
   "outputs": [],
   "source": [
    "count = 0\n",
    "sum = 0.0\n",
    "while True:\n",
    "    a = input('enter number')\n",
    "    if a=='done':\n",
    "        break\n",
    "    try:\n",
    "        b = float(a)\n",
    "    except:\n",
    "        print('invalid input')\n",
    "        continue\n",
    "    count = count+1\n",
    "    sum = sum+b\n",
    "        \n",
    "        \n",
    "print(sum,count,sum/count)"
   ]
  },
  {
   "cell_type": "code",
   "execution_count": null,
   "metadata": {},
   "outputs": [],
   "source": [
    "smallest = 0\n",
    "sum = 0.0\n",
    "list1=[]\n",
    "while True:\n",
    "    a = input('enter number:')\n",
    "    if a=='done':\n",
    "        break\n",
    "    try:\n",
    "        list1.append(int(a))\n",
    "        smallest = list1[0]\n",
    "        largest = list1[0]\n",
    "    except:\n",
    "        print('Invalid input')\n",
    "        continue\n",
    "    \n",
    "    for i in list1:\n",
    "        if i<smallest:\n",
    "            smallest = i\n",
    "    for i in list1:\n",
    "        if i>largest:\n",
    "            largest=i\n",
    "            \n",
    "#7, 2, bob, 10, and 4\n",
    "print('Maximum is',largest)\n",
    "print('Minimum is',smallest)"
   ]
  },
  {
   "cell_type": "code",
   "execution_count": null,
   "metadata": {},
   "outputs": [],
   "source": [
    "largest = None\n",
    "smallest = None\n",
    "\n",
    "while True:\n",
    "    inp = input(\"Enter a number: \")\n",
    "    if inp == \"done\" : break\n",
    "    try:\n",
    "        num = float(inp)\n",
    "    except:\n",
    "        print (\"Invalid input\")\n",
    "        continue\n",
    "    if smallest is None:\n",
    "        smallest = num \n",
    "    if num > largest :\n",
    "        largest = num\n",
    "    elif num < smallest :\n",
    "        smallest = num\n",
    "\n",
    "def done(largest,smallest):\n",
    "    print (\"Maximum is\", int(largest))  \n",
    "    print (\"Minimum is\", int(smallest))\n",
    "\n",
    "done(largest,smallest)"
   ]
  },
  {
   "cell_type": "markdown",
   "metadata": {},
   "source": [
    " "
   ]
  },
  {
   "cell_type": "code",
   "execution_count": null,
   "metadata": {},
   "outputs": [],
   "source": [
    "x = input('num daw')\n",
    "print (x[1])"
   ]
  },
  {
   "cell_type": "code",
   "execution_count": null,
   "metadata": {},
   "outputs": [],
   "source": [
    "print(len(x))"
   ]
  },
  {
   "cell_type": "code",
   "execution_count": null,
   "metadata": {},
   "outputs": [],
   "source": [
    "index = 0\n",
    "while index < len(x):\n",
    "    print (index, x[index])\n",
    "    index = index + 1"
   ]
  },
  {
   "cell_type": "code",
   "execution_count": null,
   "metadata": {},
   "outputs": [],
   "source": [
    "count = 0\n",
    "for i in x:\n",
    "    print(count,i)\n",
    "    count = count+1"
   ]
  },
  {
   "cell_type": "code",
   "execution_count": null,
   "metadata": {},
   "outputs": [],
   "source": [
    "x = 'b anannn'\n",
    "count = 0\n",
    "for i in x:\n",
    "    if i == 'a':\n",
    "        count=count+1\n",
    "print(count)"
   ]
  },
  {
   "cell_type": "code",
   "execution_count": null,
   "metadata": {},
   "outputs": [],
   "source": [
    "x = 'b ananana'\n",
    "print (x[0:2])"
   ]
  },
  {
   "cell_type": "code",
   "execution_count": null,
   "metadata": {},
   "outputs": [],
   "source": [
    "x = 'bananana'\n",
    "'a' in x\n",
    "'c' in x\n",
    "if 'x' in x:\n",
    "    print('found')\n",
    "else:\n",
    "    print('not found')"
   ]
  },
  {
   "cell_type": "code",
   "execution_count": null,
   "metadata": {},
   "outputs": [],
   "source": [
    "x = 'banana'\n",
    "y = 'khabo'\n",
    "print( x + '        ' + y)"
   ]
  },
  {
   "cell_type": "code",
   "execution_count": null,
   "metadata": {},
   "outputs": [],
   "source": [
    "x = 'b'\n",
    "y = input('enter name')\n",
    "if x < y:\n",
    "    print('your word ' + y + ' comes before banana')\n",
    "else:\n",
    "    print('your word ' + y + ' comes after banana')"
   ]
  },
  {
   "cell_type": "code",
   "execution_count": null,
   "metadata": {},
   "outputs": [],
   "source": [
    "x = 'BAnana'\n",
    "print(x.lower(),x)"
   ]
  },
  {
   "cell_type": "code",
   "execution_count": 111,
   "metadata": {},
   "outputs": [
    {
     "data": {
      "text/plain": [
       "['__add__',\n",
       " '__class__',\n",
       " '__contains__',\n",
       " '__delattr__',\n",
       " '__dir__',\n",
       " '__doc__',\n",
       " '__eq__',\n",
       " '__format__',\n",
       " '__ge__',\n",
       " '__getattribute__',\n",
       " '__getitem__',\n",
       " '__getnewargs__',\n",
       " '__gt__',\n",
       " '__hash__',\n",
       " '__init__',\n",
       " '__init_subclass__',\n",
       " '__iter__',\n",
       " '__le__',\n",
       " '__len__',\n",
       " '__lt__',\n",
       " '__mod__',\n",
       " '__mul__',\n",
       " '__ne__',\n",
       " '__new__',\n",
       " '__reduce__',\n",
       " '__reduce_ex__',\n",
       " '__repr__',\n",
       " '__rmod__',\n",
       " '__rmul__',\n",
       " '__setattr__',\n",
       " '__sizeof__',\n",
       " '__str__',\n",
       " '__subclasshook__',\n",
       " 'capitalize',\n",
       " 'casefold',\n",
       " 'center',\n",
       " 'count',\n",
       " 'encode',\n",
       " 'endswith',\n",
       " 'expandtabs',\n",
       " 'find',\n",
       " 'format',\n",
       " 'format_map',\n",
       " 'index',\n",
       " 'isalnum',\n",
       " 'isalpha',\n",
       " 'isascii',\n",
       " 'isdecimal',\n",
       " 'isdigit',\n",
       " 'isidentifier',\n",
       " 'islower',\n",
       " 'isnumeric',\n",
       " 'isprintable',\n",
       " 'isspace',\n",
       " 'istitle',\n",
       " 'isupper',\n",
       " 'join',\n",
       " 'ljust',\n",
       " 'lower',\n",
       " 'lstrip',\n",
       " 'maketrans',\n",
       " 'partition',\n",
       " 'replace',\n",
       " 'rfind',\n",
       " 'rindex',\n",
       " 'rjust',\n",
       " 'rpartition',\n",
       " 'rsplit',\n",
       " 'rstrip',\n",
       " 'split',\n",
       " 'splitlines',\n",
       " 'startswith',\n",
       " 'strip',\n",
       " 'swapcase',\n",
       " 'title',\n",
       " 'translate',\n",
       " 'upper',\n",
       " 'zfill']"
      ]
     },
     "execution_count": 111,
     "metadata": {},
     "output_type": "execute_result"
    }
   ],
   "source": [
    "x = 'banana'\n",
    "type(x)\n",
    "dir(x)"
   ]
  },
  {
   "cell_type": "code",
   "execution_count": 97,
   "metadata": {},
   "outputs": [
    {
     "name": "stdout",
     "output_type": "stream",
     "text": [
      "4\n",
      " PLEASE BANANA  \n",
      " please banana  \n",
      " plekse bknknk  \n",
      " please banana\n",
      "please banana  \n",
      "please banana\n",
      "True\n",
      " please banana  \n"
     ]
    }
   ],
   "source": [
    "x = ' please banana  '\n",
    "print(x.count ('a'))\n",
    "print(x.upper())\n",
    "print(x.lower())\n",
    "print(x.replace ('a','k'))\n",
    "print(x.rstrip())\n",
    "print(x.lstrip())\n",
    "print(x.strip())\n",
    "print(x.startswith (' please'))\n",
    "print(x)"
   ]
  },
  {
   "cell_type": "code",
   "execution_count": 30,
   "metadata": {},
   "outputs": [
    {
     "name": "stdout",
     "output_type": "stream",
     "text": [
      "16.0\n"
     ]
    },
    {
     "ename": "TypeError",
     "evalue": "slice indices must be integers or None or have an __index__ method",
     "output_type": "error",
     "traceback": [
      "\u001b[1;31m---------------------------------------------------------------------------\u001b[0m",
      "\u001b[1;31mTypeError\u001b[0m                                 Traceback (most recent call last)",
      "\u001b[1;32m<ipython-input-30-b8dac52b9fca>\u001b[0m in \u001b[0;36m<module>\u001b[1;34m\u001b[0m\n\u001b[0;32m      3\u001b[0m \u001b[0mfinding1\u001b[0m \u001b[1;33m=\u001b[0m \u001b[0mfloat\u001b[0m\u001b[1;33m(\u001b[0m\u001b[0mx\u001b[0m\u001b[1;33m.\u001b[0m\u001b[0mfind\u001b[0m\u001b[1;33m(\u001b[0m\u001b[1;34m'@'\u001b[0m\u001b[1;33m)\u001b[0m\u001b[1;33m)\u001b[0m\u001b[1;33m\u001b[0m\u001b[1;33m\u001b[0m\u001b[0m\n\u001b[0;32m      4\u001b[0m \u001b[0mprint\u001b[0m \u001b[1;33m(\u001b[0m\u001b[0mfinding1\u001b[0m\u001b[1;33m)\u001b[0m\u001b[1;33m\u001b[0m\u001b[1;33m\u001b[0m\u001b[0m\n\u001b[1;32m----> 5\u001b[1;33m \u001b[0mfinding2\u001b[0m \u001b[1;33m=\u001b[0m \u001b[0mx\u001b[0m\u001b[1;33m.\u001b[0m\u001b[0mfind\u001b[0m\u001b[1;33m(\u001b[0m\u001b[1;34m' '\u001b[0m \u001b[1;33m,\u001b[0m \u001b[0mfinding1\u001b[0m\u001b[1;33m)\u001b[0m\u001b[1;33m\u001b[0m\u001b[1;33m\u001b[0m\u001b[0m\n\u001b[0m\u001b[0;32m      6\u001b[0m \u001b[0mprint\u001b[0m\u001b[1;33m(\u001b[0m\u001b[0mfinding2\u001b[0m\u001b[1;33m)\u001b[0m\u001b[1;33m\u001b[0m\u001b[1;33m\u001b[0m\u001b[0m\n\u001b[0;32m      7\u001b[0m \u001b[0memail\u001b[0m \u001b[1;33m=\u001b[0m \u001b[0mx\u001b[0m\u001b[1;33m[\u001b[0m\u001b[0mfinding1\u001b[0m\u001b[1;33m+\u001b[0m\u001b[1;36m1\u001b[0m \u001b[1;33m:\u001b[0m \u001b[0mfinding2\u001b[0m\u001b[1;33m]\u001b[0m\u001b[1;33m\u001b[0m\u001b[1;33m\u001b[0m\u001b[0m\n",
      "\u001b[1;31mTypeError\u001b[0m: slice indices must be integers or None or have an __index__ method"
     ]
    }
   ],
   "source": [
    "x = 'moin.islamshawon@gmail.com '\n",
    "\n",
    "finding1 = x.find('@')\n",
    "print (finding1)\n",
    "finding2 = x.find(' ' , finding1)\n",
    "print(finding2)\n",
    "email = x[finding1+1 : finding2]\n",
    "print(email)"
   ]
  },
  {
   "cell_type": "code",
   "execution_count": null,
   "metadata": {},
   "outputs": [],
   "source": [
    "x = 'From marquard@uct.ac.za' \n",
    "print(x[14:17])"
   ]
  },
  {
   "cell_type": "code",
   "execution_count": null,
   "metadata": {},
   "outputs": [],
   "source": [
    "print(len('banana')*7)"
   ]
  },
  {
   "cell_type": "code",
   "execution_count": null,
   "metadata": {},
   "outputs": [],
   "source": [
    "data = 'From stephen.marquard@uct.ac.za Sat Jan  5 09:14:16 2008'\n",
    "pos = data.find('.')\n",
    "print(data[pos:pos+3])"
   ]
  },
  {
   "cell_type": "code",
   "execution_count": null,
   "metadata": {},
   "outputs": [],
   "source": [
    "x = 'From marquard@uct.ac.za'\n",
    "print(x[8])"
   ]
  },
  {
   "cell_type": "code",
   "execution_count": 33,
   "metadata": {},
   "outputs": [
    {
     "name": "stdout",
     "output_type": "stream",
     "text": [
      "0.8475\n"
     ]
    }
   ],
   "source": [
    "text = \"X-DSPAM-Confidence:    0.8475\"\n",
    "p=(text.find('0.8475'))\n",
    "print(float(text[p:29]))"
   ]
  },
  {
   "cell_type": "code",
   "execution_count": 11,
   "metadata": {},
   "outputs": [
    {
     "name": "stdout",
     "output_type": "stream",
     "text": [
      "hello world\n",
      "\n",
      "one plus 8t\n",
      "\n",
      "realme buds q\n",
      "\n",
      "qcy t5\n",
      "\n",
      "one plus bullet\n",
      "\n",
      "crush\n",
      "\n",
      "\n",
      "\n",
      "from: wgm@mwgw.com\n",
      "\n",
      "form: ewgjngl@gmai.com\n",
      "\n",
      "from: wgng@gmail.com\n",
      "\n",
      "from: gkmklw@yahoo.com\n",
      "\n",
      "from: gjregj@hotline.com\n",
      "12\n"
     ]
    }
   ],
   "source": [
    "x = open('python for everybody.txt')\n",
    "count=0\n",
    "\n",
    "for i in x:\n",
    "    print(i)\n",
    "    \n",
    "    count=count+1\n",
    "print(count)\n",
    "\n",
    "for b in x:\n",
    "    print(b.rstrip())"
   ]
  },
  {
   "cell_type": "code",
   "execution_count": 1,
   "metadata": {},
   "outputs": [
    {
     "name": "stdout",
     "output_type": "stream",
     "text": [
      "hello world\n",
      "one plus 8t\n",
      "realme buds q\n",
      "qcy t5\n",
      "one plus bullet\n",
      "crush\n",
      "\n",
      "from: wgm@mwgw.com\n",
      "form: ewgjngl@gmai.com\n",
      "from: wgng@gmail.com\n",
      "from: gkmklw@yahoo.com\n",
      "from: gjregj@hotline.com\n",
      "178\n"
     ]
    }
   ],
   "source": [
    "x = open('python for everybody.txt')\n",
    "k=x.read()\n",
    "print(k)\n",
    "print(len(k))"
   ]
  },
  {
   "cell_type": "code",
   "execution_count": 2,
   "metadata": {},
   "outputs": [
    {
     "name": "stdout",
     "output_type": "stream",
     "text": [
      "file name daw: aff fe\n",
      "cant open file: aff fe\n",
      "0\n"
     ]
    }
   ],
   "source": [
    "fname = input('file name daw: ')\n",
    "try:\n",
    "    x=open(fname)\n",
    "except:\n",
    "    print('cant open file:', fname)\n",
    "    quit()\n",
    "    \n",
    "count=0\n",
    "for i in x:\n",
    "    if i.startswith('from:'):\n",
    "        i=i.rstrip()\n",
    "        print(i)\n",
    "        count = count + 1\n",
    "print(count)"
   ]
  },
  {
   "cell_type": "code",
   "execution_count": 14,
   "metadata": {},
   "outputs": [
    {
     "name": "stdout",
     "output_type": "stream",
     "text": [
      "file name daw: python for everybody.txt\n",
      "WRITING PROGRAMS OR PROGRAMMING IS A VERY CREATIVE\n",
      "AND REWARDING ACTIVITY  YOU CAN WRITE PROGRAMS FOR\n",
      "MANY REASONS RANGING FROM MAKING YOUR LIVING TO SOLVING\n",
      "A DIFFICULT DATA ANALYSIS PROBLEM TO HAVING FUN TO HELPING\n",
      "SOMEONE ELSE SOLVE A PROBLEM  THIS BOOK ASSUMES THAT\n",
      "{\\EM EVERYONE} NEEDS TO KNOW HOW TO PROGRAM AND THAT ONCE\n",
      "YOU KNOW HOW TO PROGRAM, YOU WILL FIGURE OUT WHAT YOU WANT\n",
      "TO DO WITH YOUR NEWFOUND SKILLS\n",
      "\n",
      "WE ARE SURROUNDED IN OUR DAILY LIVES WITH COMPUTERS RANGING\n",
      "FROM LAPTOPS TO CELL PHONES  WE CAN THINK OF THESE COMPUTERS\n",
      "AS OUR PERSONAL ASSISTANTS WHO CAN TAKE CARE OF MANY THINGS\n",
      "ON OUR BEHALF  THE HARDWARE IN OUR CURRENT-DAY COMPUTERS\n",
      "IS ESSENTIALLY BUILT TO CONTINUOUSLY ASK US THE QUESTION\n",
      "WHAT WOULD YOU LIKE ME TO DO NEXT\n",
      "\n",
      "OUR COMPUTERS ARE FAST AND HAVE VASTS AMOUNTS OF MEMORY AND\n",
      "COULD BE VERY HELPFUL TO US IF WE ONLY KNEW THE LANGUAGE TO\n",
      "SPEAK TO EXPLAIN TO THE COMPUTER WHAT WE WOULD LIKE IT TO\n",
      "DO NEXT IF WE KNEW THIS LANGUAGE WE COULD TELL THE\n",
      "COMPUTER TO DO TASKS ON OUR BEHALF THAT WERE REPTITIVE\n",
      "INTERESTINGLY, THE KINDS OF THINGS COMPUTERS CAN DO BEST\n",
      "ARE OFTEN THE KINDS OF THINGS THAT WE HUMANS FIND BORING\n",
      "AND MIND-NUMBING\n"
     ]
    }
   ],
   "source": [
    "fname = input('file name daw: ')\n",
    "try:\n",
    "    x=open(fname)\n",
    "except:\n",
    "    print('cant open file:', fname)\n",
    "    quit()\n",
    "    \n",
    "\n",
    "for i in x:\n",
    "    i=i.rstrip()\n",
    "    i=i.upper()\n",
    "    print(i)\n",
    "        "
   ]
  },
  {
   "cell_type": "code",
   "execution_count": 34,
   "metadata": {},
   "outputs": [
    {
     "name": "stdout",
     "output_type": "stream",
     "text": [
      " file name: word.txt\n",
      "Average spam confidence: 0.7507185185185187\n"
     ]
    }
   ],
   "source": [
    "# Use the file name mbox-short.txt as the file name\n",
    "fname = input(\" file name: \")\n",
    "fh = open(fname)\n",
    "count = 0\n",
    "total = 0\n",
    "for line in fh:\n",
    "    if not line.startswith(\"X-DSPAM-Confidence:\") : continue\n",
    "    t=line.find(\"0\")\n",
    "    number= float(line[t:])\n",
    "    count = count + 1\n",
    "    total = total + number\n",
    "\n",
    "average = total/count\n",
    "print (\"Average spam confidence:\",average)"
   ]
  },
  {
   "cell_type": "code",
   "execution_count": 118,
   "metadata": {},
   "outputs": [
    {
     "name": "stdout",
     "output_type": "stream",
     "text": [
      "raihan\n",
      "dj\n"
     ]
    }
   ],
   "source": [
    "# //////////////////////////// LIST STARTED //////////////////////////////////////////////////\n",
    "\n",
    "x = ['moin','raihan',['rifat', 'saif','bruno'],'ragib','raihan']\n",
    "print(x[1])\n",
    "x[1]='dj'\n",
    "print(x[1])"
   ]
  },
  {
   "cell_type": "code",
   "execution_count": 119,
   "metadata": {},
   "outputs": [
    {
     "name": "stdout",
     "output_type": "stream",
     "text": [
      "range(0, 3)\n",
      "5\n",
      "range(0, 5)\n"
     ]
    },
    {
     "data": {
      "text/plain": [
       "range"
      ]
     },
     "execution_count": 119,
     "metadata": {},
     "output_type": "execute_result"
    }
   ],
   "source": [
    "print(range(3))\n",
    "print(len(x))\n",
    "x=(range(len(x)))\n",
    "print(x)\n",
    "type(x)"
   ]
  },
  {
   "cell_type": "code",
   "execution_count": 48,
   "metadata": {},
   "outputs": [
    {
     "name": "stdout",
     "output_type": "stream",
     "text": [
      "happy birthday  moin\n",
      "happy birthday  dj\n",
      "happy birthday  ['rifat', 'saif', 'bruno']\n",
      "happy birthday  ragib\n",
      "happy birthday  raihan\n"
     ]
    }
   ],
   "source": [
    "for i in range(len(x)):\n",
    "    friend = x[i]\n",
    "    print('happy birthday ' , friend)"
   ]
  },
  {
   "cell_type": "code",
   "execution_count": 61,
   "metadata": {},
   "outputs": [
    {
     "data": {
      "text/plain": [
       "['__add__',\n",
       " '__class__',\n",
       " '__contains__',\n",
       " '__delattr__',\n",
       " '__delitem__',\n",
       " '__dir__',\n",
       " '__doc__',\n",
       " '__eq__',\n",
       " '__format__',\n",
       " '__ge__',\n",
       " '__getattribute__',\n",
       " '__getitem__',\n",
       " '__gt__',\n",
       " '__hash__',\n",
       " '__iadd__',\n",
       " '__imul__',\n",
       " '__init__',\n",
       " '__init_subclass__',\n",
       " '__iter__',\n",
       " '__le__',\n",
       " '__len__',\n",
       " '__lt__',\n",
       " '__mul__',\n",
       " '__ne__',\n",
       " '__new__',\n",
       " '__reduce__',\n",
       " '__reduce_ex__',\n",
       " '__repr__',\n",
       " '__reversed__',\n",
       " '__rmul__',\n",
       " '__setattr__',\n",
       " '__setitem__',\n",
       " '__sizeof__',\n",
       " '__str__',\n",
       " '__subclasshook__',\n",
       " 'append',\n",
       " 'clear',\n",
       " 'copy',\n",
       " 'count',\n",
       " 'extend',\n",
       " 'index',\n",
       " 'insert',\n",
       " 'pop',\n",
       " 'remove',\n",
       " 'reverse',\n",
       " 'sort']"
      ]
     },
     "execution_count": 61,
     "metadata": {},
     "output_type": "execute_result"
    }
   ],
   "source": [
    "x =[1,2,3,4,5,6,7]\n",
    "dir(x)"
   ]
  },
  {
   "cell_type": "code",
   "execution_count": 13,
   "metadata": {},
   "outputs": [
    {
     "name": "stdout",
     "output_type": "stream",
     "text": [
      "[2, 4, 12, 1, 54, 3, 2, 'dj']\n",
      "[2, 4, 12, 54, 3, 2, 'dj']\n",
      "[2, 4, 12, 54, 3, 2, 'dj', 54]\n",
      "[4, 12, 54, 3, 2, 'dj', 54]\n"
     ]
    }
   ],
   "source": [
    "x=[2,4,12,1,54,3,2]\n",
    "x.append ('dj')\n",
    "print(x)\n",
    "x.remove(x[3])\n",
    "print(x)\n",
    "x.append(x[3])\n",
    "print(x)\n",
    "x.remove(2)\n",
    "print (x)"
   ]
  },
  {
   "cell_type": "code",
   "execution_count": 89,
   "metadata": {},
   "outputs": [
    {
     "name": "stdout",
     "output_type": "stream",
     "text": [
      "6\n",
      "54\n",
      "2\n",
      "77\n",
      "12.833333333333334\n"
     ]
    }
   ],
   "source": [
    "'dj' in x\n",
    "\n",
    "print(len(x))\n",
    "print(max(x))\n",
    "print(min(x))\n",
    "print(sum(x))\n",
    "print(sum(x)/len(x))"
   ]
  },
  {
   "cell_type": "code",
   "execution_count": 2,
   "metadata": {},
   "outputs": [
    {
     "name": "stdout",
     "output_type": "stream",
     "text": [
      "enter num4\n",
      "enter num3\n",
      "enter num2\n",
      "enter numdone\n",
      "3.0\n"
     ]
    }
   ],
   "source": [
    "x=list()\n",
    "while True:\n",
    "    y=input ('enter num')\n",
    "    if y == 'done':\n",
    "        break\n",
    "    z=float(y)\n",
    "    x.append(z)\n",
    "print(sum(x)/len(x))"
   ]
  },
  {
   "cell_type": "code",
   "execution_count": 1,
   "metadata": {},
   "outputs": [
    {
     "name": "stdout",
     "output_type": "stream",
     "text": [
      "['dj', 'baba', 'wiz']\n",
      "3\n",
      "dj\n",
      "baba\n",
      "wiz\n"
     ]
    }
   ],
   "source": [
    "abc = 'dj baba wiz'\n",
    "kutta = abc.split()\n",
    "print(kutta)\n",
    "print(len(kutta))\n",
    "for i in kutta:\n",
    "    print(i)"
   ]
  },
  {
   "cell_type": "code",
   "execution_count": 2,
   "metadata": {},
   "outputs": [
    {
     "name": "stdout",
     "output_type": "stream",
     "text": [
      "word.txtword.txt\n",
      "['From', 'cwen@iupui.edu', 'Thu', 'Jan', '3', '16:23:48', '2008']\n",
      "cwen@iupui.edu\n",
      "['cwen', 'iupui.edu']\n"
     ]
    }
   ],
   "source": [
    "x=input('word.txt')\n",
    "y=open(x)\n",
    "\n",
    "for i in y:\n",
    "    i = i.rstrip()\n",
    "    if not i.startswith('From '):\n",
    "        continue\n",
    "    z = i.split()\n",
    "print(z)\n",
    "print(z[1])\n",
    "print(z[1].split('@'))"
   ]
  },
  {
   "cell_type": "code",
   "execution_count": 120,
   "metadata": {},
   "outputs": [
    {
     "ename": "TypeError",
     "evalue": "'str' object does not support item assignment",
     "output_type": "error",
     "traceback": [
      "\u001b[1;31m---------------------------------------------------------------------------\u001b[0m",
      "\u001b[1;31mTypeError\u001b[0m                                 Traceback (most recent call last)",
      "\u001b[1;32m<ipython-input-120-947d10fd42e9>\u001b[0m in \u001b[0;36m<module>\u001b[1;34m\u001b[0m\n\u001b[0;32m      1\u001b[0m \u001b[0mfruit\u001b[0m \u001b[1;33m=\u001b[0m \u001b[1;34m'Banana'\u001b[0m\u001b[1;33m\u001b[0m\u001b[1;33m\u001b[0m\u001b[0m\n\u001b[1;32m----> 2\u001b[1;33m \u001b[0mfruit\u001b[0m\u001b[1;33m[\u001b[0m\u001b[1;36m0\u001b[0m\u001b[1;33m]\u001b[0m \u001b[1;33m=\u001b[0m \u001b[1;34m'b'\u001b[0m\u001b[1;33m\u001b[0m\u001b[1;33m\u001b[0m\u001b[0m\n\u001b[0m\u001b[0;32m      3\u001b[0m \u001b[0mprint\u001b[0m\u001b[1;33m(\u001b[0m\u001b[0mfruit\u001b[0m\u001b[1;33m)\u001b[0m\u001b[1;33m\u001b[0m\u001b[1;33m\u001b[0m\u001b[0m\n",
      "\u001b[1;31mTypeError\u001b[0m: 'str' object does not support item assignment"
     ]
    }
   ],
   "source": [
    "fruit = 'Banana'\n",
    "fruit[0] = 'b'\n",
    "print(fruit)"
   ]
  },
  {
   "cell_type": "code",
   "execution_count": null,
   "metadata": {},
   "outputs": [],
   "source": [
    "fname = input(\"Enter file name: \")\n",
    "fh = open(fname)\n",
    "lst = list()                    \n",
    "for line in fh:                    \n",
    "    word= line.rstrip().split()    \n",
    "    print(word)\n",
    "    for element in word:        \n",
    "        if element in lst:         \n",
    "            continue    \n",
    "        else :                     \n",
    "            lst.append(element)   \n",
    "            \n",
    "\n",
    "lst.sort()                 \n",
    "print(lst)      "
   ]
  },
  {
   "cell_type": "code",
   "execution_count": 2,
   "metadata": {},
   "outputs": [
    {
     "name": "stdout",
     "output_type": "stream",
     "text": [
      "word.txtword.txt\n",
      "From stephen.marquard@uct.ac.za Sat Jan  5 09:14:16 2008\n",
      "stephen.marquard@uct.ac.za\n",
      "From louis@media.berkeley.edu Fri Jan  4 18:10:48 2008\n",
      "louis@media.berkeley.edu\n",
      "From zqian@umich.edu Fri Jan  4 16:10:39 2008\n",
      "zqian@umich.edu\n",
      "From rjlowe@iupui.edu Fri Jan  4 15:46:24 2008\n",
      "rjlowe@iupui.edu\n",
      "From zqian@umich.edu Fri Jan  4 15:03:18 2008\n",
      "zqian@umich.edu\n",
      "From rjlowe@iupui.edu Fri Jan  4 14:50:18 2008\n",
      "rjlowe@iupui.edu\n",
      "From cwen@iupui.edu Fri Jan  4 11:37:30 2008\n",
      "cwen@iupui.edu\n",
      "From cwen@iupui.edu Fri Jan  4 11:35:08 2008\n",
      "cwen@iupui.edu\n",
      "From gsilver@umich.edu Fri Jan  4 11:12:37 2008\n",
      "gsilver@umich.edu\n",
      "From gsilver@umich.edu Fri Jan  4 11:11:52 2008\n",
      "gsilver@umich.edu\n",
      "From zqian@umich.edu Fri Jan  4 11:11:03 2008\n",
      "zqian@umich.edu\n",
      "From gsilver@umich.edu Fri Jan  4 11:10:22 2008\n",
      "gsilver@umich.edu\n",
      "From wagnermr@iupui.edu Fri Jan  4 10:38:42 2008\n",
      "wagnermr@iupui.edu\n",
      "From zqian@umich.edu Fri Jan  4 10:17:43 2008\n",
      "zqian@umich.edu\n",
      "From antranig@caret.cam.ac.uk Fri Jan  4 10:04:14 2008\n",
      "antranig@caret.cam.ac.uk\n",
      "From gopal.ramasammycook@gmail.com Fri Jan  4 09:05:31 2008\n",
      "gopal.ramasammycook@gmail.com\n",
      "From david.horwitz@uct.ac.za Fri Jan  4 07:02:32 2008\n",
      "david.horwitz@uct.ac.za\n",
      "From david.horwitz@uct.ac.za Fri Jan  4 06:08:27 2008\n",
      "david.horwitz@uct.ac.za\n",
      "From david.horwitz@uct.ac.za Fri Jan  4 04:49:08 2008\n",
      "david.horwitz@uct.ac.za\n",
      "From david.horwitz@uct.ac.za Fri Jan  4 04:33:44 2008\n",
      "david.horwitz@uct.ac.za\n",
      "From stephen.marquard@uct.ac.za Fri Jan  4 04:07:34 2008\n",
      "stephen.marquard@uct.ac.za\n",
      "From louis@media.berkeley.edu Thu Jan  3 19:51:21 2008\n",
      "louis@media.berkeley.edu\n",
      "From louis@media.berkeley.edu Thu Jan  3 17:18:23 2008\n",
      "louis@media.berkeley.edu\n",
      "From ray@media.berkeley.edu Thu Jan  3 17:07:00 2008\n",
      "ray@media.berkeley.edu\n",
      "From cwen@iupui.edu Thu Jan  3 16:34:40 2008\n",
      "cwen@iupui.edu\n",
      "From cwen@iupui.edu Thu Jan  3 16:29:07 2008\n",
      "cwen@iupui.edu\n",
      "From cwen@iupui.edu Thu Jan  3 16:23:48 2008\n",
      "cwen@iupui.edu\n",
      "There were 27 lines in the file with From as the first word\n"
     ]
    }
   ],
   "source": [
    "x=input('word.txt')\n",
    "y=open(x)\n",
    "count=0\n",
    "\n",
    "for i in y:\n",
    "    i = i.rstrip()\n",
    "    if not i.startswith('From'):\n",
    "        continue\n",
    "    if i.startswith('From:'):\n",
    "        continue\n",
    "    else:\n",
    "        print(i)\n",
    "        z = i.split()\n",
    "        print(z[1])\n",
    "        count=count+1\n",
    "print(\"There were\", count, \"lines in the file with From as the first word\")"
   ]
  },
  {
   "cell_type": "code",
   "execution_count": 21,
   "metadata": {
    "scrolled": false
   },
   "outputs": [
    {
     "name": "stdout",
     "output_type": "stream",
     "text": [
      "{'money': 12, 'candy': 75, 'guns': 69}\n",
      "69\n",
      "169\n",
      "{'money': 12, 'candy': 75, 'guns': 169, 'dj': 59}\n",
      "{'money': 12, 'candy': 75, 'guns': 169, 'dj': 59, 'baba': 12}\n",
      "{'money': 12, 'candy': 75, 'guns': 169, 'dj': 59, 'baba': 12, 'kutta': 1}\n"
     ]
    },
    {
     "data": {
      "text/plain": [
       "['__class__',\n",
       " '__contains__',\n",
       " '__delattr__',\n",
       " '__delitem__',\n",
       " '__dir__',\n",
       " '__doc__',\n",
       " '__eq__',\n",
       " '__format__',\n",
       " '__ge__',\n",
       " '__getattribute__',\n",
       " '__getitem__',\n",
       " '__gt__',\n",
       " '__hash__',\n",
       " '__init__',\n",
       " '__init_subclass__',\n",
       " '__iter__',\n",
       " '__le__',\n",
       " '__len__',\n",
       " '__lt__',\n",
       " '__ne__',\n",
       " '__new__',\n",
       " '__reduce__',\n",
       " '__reduce_ex__',\n",
       " '__repr__',\n",
       " '__setattr__',\n",
       " '__setitem__',\n",
       " '__sizeof__',\n",
       " '__str__',\n",
       " '__subclasshook__',\n",
       " 'clear',\n",
       " 'copy',\n",
       " 'fromkeys',\n",
       " 'get',\n",
       " 'items',\n",
       " 'keys',\n",
       " 'pop',\n",
       " 'popitem',\n",
       " 'setdefault',\n",
       " 'update',\n",
       " 'values']"
      ]
     },
     "execution_count": 21,
     "metadata": {},
     "output_type": "execute_result"
    }
   ],
   "source": [
    "# //////////////// ******************** ///////////////////////////\n",
    "# /////////////// dictionaries stated  ///////////////////////////\n",
    "# ////////////// ******************** ///////////////////////////\n",
    "\n",
    "x = dict()\n",
    "x['money'] = 12\n",
    "x['candy'] = 75\n",
    "x['guns'] = 69\n",
    "print(x)\n",
    "print(x['guns'])\n",
    "\n",
    "x['guns'] = x['guns'] + 100\n",
    "print(x['guns'])\n",
    "x['dj'] = 59\n",
    "print(x)\n",
    "x['baba'] = 12\n",
    "print(x)\n",
    "x['kutta'] = 1\n",
    "print(x)\n",
    "dir(x)"
   ]
  },
  {
   "cell_type": "code",
   "execution_count": 13,
   "metadata": {},
   "outputs": [
    {
     "name": "stdout",
     "output_type": "stream",
     "text": [
      "{'money': 5, 'candy': 3, 'guns': 3}\n"
     ]
    }
   ],
   "source": [
    "x = {'money' : 5, 'candy' : 3, 'guns': 3}\n",
    "\n",
    "print(x)"
   ]
  },
  {
   "cell_type": "code",
   "execution_count": 5,
   "metadata": {},
   "outputs": [
    {
     "name": "stdout",
     "output_type": "stream",
     "text": [
      "{'jon': 3, 'deny': 1, 'tyrion': 1, 'jaime': 1, 'arya': 2}\n"
     ]
    },
    {
     "data": {
      "text/plain": [
       "int"
      ]
     },
     "execution_count": 5,
     "metadata": {},
     "output_type": "execute_result"
    }
   ],
   "source": [
    "x = dict()\n",
    "names = ['jon','deny','tyrion','jaime','arya','jon','jon','arya']\n",
    "for i in names:\n",
    "    if i not in x:\n",
    "        x[i] = 1\n",
    "    else:\n",
    "        x[i]=x[i]+1\n",
    "print(x)\n",
    "type(x['jon'])\n"
   ]
  },
  {
   "cell_type": "code",
   "execution_count": 4,
   "metadata": {},
   "outputs": [
    {
     "name": "stdout",
     "output_type": "stream",
     "text": [
      "{'jon': 3, 'deny': 1, 'tyrion': 1, 'jaime': 1, 'arya': 2}\n"
     ]
    }
   ],
   "source": [
    "x = dict()\n",
    "names = ['jon','deny','tyrion','jaime','arya','jon','jon','arya']\n",
    "for i in names:\n",
    "    x[i] = x.get(i,0) + 1\n",
    "print(x)"
   ]
  },
  {
   "cell_type": "code",
   "execution_count": 28,
   "metadata": {},
   "outputs": [
    {
     "name": "stdout",
     "output_type": "stream",
     "text": [
      "enter line of texrhey hey dude whats up dude \n",
      "['hey', 'hey', 'dude', 'whats', 'up', 'dude']\n",
      "{'hey': 2, 'dude': 2, 'whats': 1, 'up': 1}\n"
     ]
    }
   ],
   "source": [
    "x = input('enter line of texr')\n",
    "y = dict()\n",
    "\n",
    "words = x.split()\n",
    "print(words)\n",
    "\n",
    "for i in words:\n",
    "    y[i] = y.get(i,0) + 1\n",
    "print(y)"
   ]
  },
  {
   "cell_type": "code",
   "execution_count": 7,
   "metadata": {},
   "outputs": [
    {
     "name": "stdout",
     "output_type": "stream",
     "text": [
      "deny\n",
      "dict_keys(['arya', 'deny', 'tyrion', 'robb', 'jon'])\n",
      "dict_values([2, 5, 1, 1, 2])\n",
      "dict_items([('arya', 2), ('deny', 5), ('tyrion', 1), ('robb', 1), ('jon', 2)])\n"
     ]
    }
   ],
   "source": [
    "names = {'arya': 2, 'deny': 5, 'tyrion': 1, 'robb': 1, 'jon': 2}\n",
    "x=list(names)\n",
    "print(x[1])\n",
    "print(names.keys())\n",
    "print(names.values())\n",
    "print(names.items()) # tuple result ashbe"
   ]
  },
  {
   "cell_type": "code",
   "execution_count": 43,
   "metadata": {},
   "outputs": [
    {
     "name": "stdout",
     "output_type": "stream",
     "text": [
      "arya 2\n",
      "deny 5\n",
      "tyrion 1\n",
      "robb 1\n",
      "jon 2\n"
     ]
    }
   ],
   "source": [
    "for key,value in names.items():\n",
    "    print(key,value)"
   ]
  },
  {
   "cell_type": "code",
   "execution_count": 53,
   "metadata": {},
   "outputs": [
    {
     "name": "stdout",
     "output_type": "stream",
     "text": [
      "enter file nameromeo.txt\n",
      "{'But': 1, 'soft': 1, 'what': 1, 'light': 1, 'through': 1, 'yonder': 1, 'window': 1, 'breaks': 1, 'It': 1, 'is': 3, 'the': 3, 'east': 1, 'and': 3, 'Juliet': 1, 'sun': 2, 'Arise': 1, 'fair': 1, 'kill': 1, 'envious': 1, 'moon': 1, 'Who': 1, 'already': 1, 'sick': 1, 'pale': 1, 'with': 1, 'grief': 1}\n",
      "is 3\n"
     ]
    }
   ],
   "source": [
    "x = input('enter file name')\n",
    "y = open(x)\n",
    "count = dict()\n",
    "\n",
    "for i in y:\n",
    "    words=i.split()\n",
    "    for word in words:\n",
    "        count[word] = count.get(word,0) + 1\n",
    "print(count)\n",
    "\n",
    "bigword = None\n",
    "bigcount = None\n",
    "\n",
    "for k,v in count.items():\n",
    "    if bigcount is None or v > bigcount:\n",
    "        bigcount = v\n",
    "        bigword = k\n",
    "print(bigword,bigcount)"
   ]
  },
  {
   "cell_type": "code",
   "execution_count": 55,
   "metadata": {},
   "outputs": [
    {
     "name": "stdout",
     "output_type": "stream",
     "text": [
      "-1\n"
     ]
    }
   ],
   "source": [
    "stuff = dict()\n",
    "print(stuff.get('candy',-1))"
   ]
  },
  {
   "cell_type": "code",
   "execution_count": 1,
   "metadata": {},
   "outputs": [
    {
     "name": "stdout",
     "output_type": "stream",
     "text": [
      "word.txt dawword.txt\n",
      "['stephen.marquard@uct.ac.za', 'louis@media.berkeley.edu', 'zqian@umich.edu', 'rjlowe@iupui.edu', 'zqian@umich.edu', 'rjlowe@iupui.edu', 'cwen@iupui.edu', 'cwen@iupui.edu', 'gsilver@umich.edu', 'gsilver@umich.edu', 'zqian@umich.edu', 'gsilver@umich.edu', 'wagnermr@iupui.edu', 'zqian@umich.edu', 'antranig@caret.cam.ac.uk', 'gopal.ramasammycook@gmail.com', 'david.horwitz@uct.ac.za', 'david.horwitz@uct.ac.za', 'david.horwitz@uct.ac.za', 'david.horwitz@uct.ac.za', 'stephen.marquard@uct.ac.za', 'louis@media.berkeley.edu', 'louis@media.berkeley.edu', 'ray@media.berkeley.edu', 'cwen@iupui.edu', 'cwen@iupui.edu', 'cwen@iupui.edu']\n",
      "&&&&& ['stephen.marquard@uct.ac.za']\n",
      "&&&&& ['louis@media.berkeley.edu']\n",
      "&&&&& ['zqian@umich.edu']\n",
      "&&&&& ['rjlowe@iupui.edu']\n",
      "&&&&& ['zqian@umich.edu']\n",
      "&&&&& ['rjlowe@iupui.edu']\n",
      "&&&&& ['cwen@iupui.edu']\n",
      "&&&&& ['cwen@iupui.edu']\n",
      "&&&&& ['gsilver@umich.edu']\n",
      "&&&&& ['gsilver@umich.edu']\n",
      "&&&&& ['zqian@umich.edu']\n",
      "&&&&& ['gsilver@umich.edu']\n",
      "&&&&& ['wagnermr@iupui.edu']\n",
      "&&&&& ['zqian@umich.edu']\n",
      "&&&&& ['antranig@caret.cam.ac.uk']\n",
      "&&&&& ['gopal.ramasammycook@gmail.com']\n",
      "&&&&& ['david.horwitz@uct.ac.za']\n",
      "&&&&& ['david.horwitz@uct.ac.za']\n",
      "&&&&& ['david.horwitz@uct.ac.za']\n",
      "&&&&& ['david.horwitz@uct.ac.za']\n",
      "&&&&& ['stephen.marquard@uct.ac.za']\n",
      "&&&&& ['louis@media.berkeley.edu']\n",
      "&&&&& ['louis@media.berkeley.edu']\n",
      "&&&&& ['ray@media.berkeley.edu']\n",
      "&&&&& ['cwen@iupui.edu']\n",
      "&&&&& ['cwen@iupui.edu']\n",
      "&&&&& ['cwen@iupui.edu']\n",
      "{'stephen.marquard@uct.ac.za': 2, 'louis@media.berkeley.edu': 3, 'zqian@umich.edu': 4, 'rjlowe@iupui.edu': 2, 'cwen@iupui.edu': 5, 'gsilver@umich.edu': 3, 'wagnermr@iupui.edu': 1, 'antranig@caret.cam.ac.uk': 1, 'gopal.ramasammycook@gmail.com': 1, 'david.horwitz@uct.ac.za': 4, 'ray@media.berkeley.edu': 1}\n",
      "cwen@iupui.edu 5\n"
     ]
    }
   ],
   "source": [
    "# ////////////////////// ********************** ////////////////////////////\n",
    "# /////////////////////      assignment        ////////////////////////////\n",
    "# //////////////////// ********************** ////////////////////////////\n",
    "\n",
    "x=input('word.txt daw')\n",
    "y=open(x)\n",
    "count = dict()\n",
    "lst=list()\n",
    "\n",
    "for i in y:\n",
    "    i = i.rstrip()\n",
    "    if not i.startswith('From'):\n",
    "        continue\n",
    "    if i.startswith('From:'):\n",
    "        continue\n",
    "    else:\n",
    "        z = i.split()\n",
    "        lst.append(z[1])\n",
    "print(lst)\n",
    "\n",
    "for i in lst:\n",
    "    words=i.split()\n",
    "    print('&&&&&',words)\n",
    "    for word in words:\n",
    "        count[word] = count.get(word,0) + 1\n",
    "print(count)\n",
    "\n",
    "\n",
    "bigword = None\n",
    "bigcount = None\n",
    "\n",
    "for k,v in count.items():\n",
    "    if bigcount is None or v > bigcount:\n",
    "        bigcount = v\n",
    "        bigword = k\n",
    "print(bigword,bigcount)\n"
   ]
  },
  {
   "cell_type": "code",
   "execution_count": 92,
   "metadata": {},
   "outputs": [
    {
     "name": "stdout",
     "output_type": "stream",
     "text": [
      "('df', 'ww', 3, 4, 5)\n",
      "4\n"
     ]
    },
    {
     "data": {
      "text/plain": [
       "['__add__',\n",
       " '__class__',\n",
       " '__contains__',\n",
       " '__delattr__',\n",
       " '__dir__',\n",
       " '__doc__',\n",
       " '__eq__',\n",
       " '__format__',\n",
       " '__ge__',\n",
       " '__getattribute__',\n",
       " '__getitem__',\n",
       " '__getnewargs__',\n",
       " '__gt__',\n",
       " '__hash__',\n",
       " '__init__',\n",
       " '__init_subclass__',\n",
       " '__iter__',\n",
       " '__le__',\n",
       " '__len__',\n",
       " '__lt__',\n",
       " '__mul__',\n",
       " '__ne__',\n",
       " '__new__',\n",
       " '__reduce__',\n",
       " '__reduce_ex__',\n",
       " '__repr__',\n",
       " '__rmul__',\n",
       " '__setattr__',\n",
       " '__sizeof__',\n",
       " '__str__',\n",
       " '__subclasshook__',\n",
       " 'count',\n",
       " 'index']"
      ]
     },
     "execution_count": 92,
     "metadata": {},
     "output_type": "execute_result"
    }
   ],
   "source": [
    "# ////////////////////// ********************** ////////////////////////////\n",
    "# /////////////////////        tuples          ////////////////////////////\n",
    "# //////////////////// ********************** ////////////////////////////\n",
    "\n",
    "\n",
    "tup = ('df','ww',3,4,5)\n",
    "print(tup)\n",
    "print(tup[3])\n",
    "type(tup)\n",
    "dir(tup)"
   ]
  },
  {
   "cell_type": "code",
   "execution_count": 93,
   "metadata": {},
   "outputs": [
    {
     "name": "stdout",
     "output_type": "stream",
     "text": [
      "3 5 4\n"
     ]
    },
    {
     "data": {
      "text/plain": [
       "int"
      ]
     },
     "execution_count": 93,
     "metadata": {},
     "output_type": "execute_result"
    }
   ],
   "source": [
    "(a,b,c) = (3,5,4)\n",
    "print(a,b,c)\n",
    "type(a)"
   ]
  },
  {
   "cell_type": "code",
   "execution_count": 94,
   "metadata": {},
   "outputs": [
    {
     "name": "stdout",
     "output_type": "stream",
     "text": [
      "stephen.marquard@uct.ac.za 2\n",
      "louis@media.berkeley.edu 3\n",
      "zqian@umich.edu 4\n",
      "rjlowe@iupui.edu 2\n",
      "cwen@iupui.edu 5\n",
      "gsilver@umich.edu 3\n",
      "wagnermr@iupui.edu 1\n",
      "antranig@caret.cam.ac.uk 1\n",
      "gopal.ramasammycook@gmail.com 1\n",
      "david.horwitz@uct.ac.za 4\n",
      "ray@media.berkeley.edu 1\n",
      "dict_items([('stephen.marquard@uct.ac.za', 2), ('louis@media.berkeley.edu', 3), ('zqian@umich.edu', 4), ('rjlowe@iupui.edu', 2), ('cwen@iupui.edu', 5), ('gsilver@umich.edu', 3), ('wagnermr@iupui.edu', 1), ('antranig@caret.cam.ac.uk', 1), ('gopal.ramasammycook@gmail.com', 1), ('david.horwitz@uct.ac.za', 4), ('ray@media.berkeley.edu', 1)])\n"
     ]
    }
   ],
   "source": [
    "for k,v in count.items():\n",
    "    print(k,v)\n",
    "\n",
    "tups=count.items()\n",
    "print(tups)"
   ]
  },
  {
   "cell_type": "code",
   "execution_count": 99,
   "metadata": {},
   "outputs": [
    {
     "name": "stdout",
     "output_type": "stream",
     "text": [
      "dict_items([('jon', 2), ('arya', 2), ('tyrion', 4)])\n",
      "arya 2\n",
      "jon 2\n",
      "tyrion 4\n"
     ]
    }
   ],
   "source": [
    "# ///////////////// sorted by keys //////////////////////////\n",
    "\n",
    "d = {'jon':5, 'arya':2, 'tyrion':4, 'jon':2}\n",
    "print(d.items())\n",
    "t=sorted(d.items())\n",
    "for k,v in t:\n",
    "    print(k,v)"
   ]
  },
  {
   "cell_type": "code",
   "execution_count": 109,
   "metadata": {},
   "outputs": [
    {
     "name": "stdout",
     "output_type": "stream",
     "text": [
      "dict_items([('jon', 5), ('arya', 2), ('tyrion', 4), ('jaime', 9)])\n",
      "[(5, 'jon'), (2, 'arya'), (4, 'tyrion'), (9, 'jaime')]\n",
      "[(9, 'jaime'), (5, 'jon'), (4, 'tyrion'), (2, 'arya')]\n"
     ]
    }
   ],
   "source": [
    "# ////////////////////// sorted by value ////////////////////\n",
    "\n",
    "d = {'jon':5, 'arya':2, 'tyrion':4, 'jaime':9}\n",
    "print(d.items())\n",
    "lst=list()\n",
    "\n",
    "for k,v in d.items():\n",
    "    lst.append((v,k))\n",
    "print(lst)\n",
    "\n",
    "lst=sorted(lst, reverse=True)\n",
    "print(lst)"
   ]
  },
  {
   "cell_type": "code",
   "execution_count": 118,
   "metadata": {},
   "outputs": [
    {
     "name": "stdout",
     "output_type": "stream",
     "text": [
      "enter list nameromeo.txt\n",
      "{'But': 1, 'soft': 1, 'what': 1, 'light': 1, 'through': 1, 'yonder': 1, 'window': 1, 'breaks': 1, 'It': 1, 'is': 3, 'the': 3, 'east': 1, 'and': 3, 'Juliet': 1, 'sun': 2, 'Arise': 1, 'fair': 1, 'kill': 1, 'envious': 1, 'moon': 1, 'Who': 1, 'already': 1, 'sick': 1, 'pale': 1, 'with': 1, 'grief': 1}\n",
      "[(1, 'But'), (1, 'soft'), (1, 'what'), (1, 'light'), (1, 'through'), (1, 'yonder'), (1, 'window'), (1, 'breaks'), (1, 'It'), (3, 'is'), (3, 'the'), (1, 'east'), (3, 'and'), (1, 'Juliet'), (2, 'sun'), (1, 'Arise'), (1, 'fair'), (1, 'kill'), (1, 'envious'), (1, 'moon'), (1, 'Who'), (1, 'already'), (1, 'sick'), (1, 'pale'), (1, 'with'), (1, 'grief')]\n",
      "the 3\n",
      "is 3\n",
      "and 3\n",
      "sun 2\n",
      "yonder 1\n",
      "with 1\n",
      "window 1\n",
      "what 1\n",
      "through 1\n",
      "soft 1\n"
     ]
    }
   ],
   "source": [
    "# /////////////// sort the counting words of the file ////////////////\n",
    "\n",
    "x=input('enter list name')\n",
    "y=open(x)\n",
    "count=dict()\n",
    "\n",
    "for line in y:\n",
    "    words = line.split()\n",
    "    for word in words:\n",
    "        count[word]= count.get(word,0)+1\n",
    "print(count)      \n",
    "\n",
    "lst=list()\n",
    "for k,v in count.items():\n",
    "    newtup = (v,k)\n",
    "    lst.append(newtup)\n",
    "print(lst)\n",
    "\n",
    "lst=sorted(lst, reverse=True)\n",
    "\n",
    "for v,k in lst[:10]:\n",
    "    print(k,v)"
   ]
  },
  {
   "cell_type": "code",
   "execution_count": 123,
   "metadata": {},
   "outputs": [
    {
     "name": "stdout",
     "output_type": "stream",
     "text": [
      "enter list nameromeo.txt\n",
      "{'But': 1, 'soft': 1, 'what': 1, 'light': 1, 'through': 1, 'yonder': 1, 'window': 1, 'breaks': 1, 'It': 1, 'is': 3, 'the': 3, 'east': 1, 'and': 3, 'Juliet': 1, 'sun': 2, 'Arise': 1, 'fair': 1, 'kill': 1, 'envious': 1, 'moon': 1, 'Who': 1, 'already': 1, 'sick': 1, 'pale': 1, 'with': 1, 'grief': 1}\n",
      "[(3, 'the'), (3, 'is'), (3, 'and'), (2, 'sun'), (1, 'yonder'), (1, 'with'), (1, 'window'), (1, 'what'), (1, 'through'), (1, 'soft'), (1, 'sick'), (1, 'pale'), (1, 'moon'), (1, 'light'), (1, 'kill'), (1, 'grief'), (1, 'fair'), (1, 'envious'), (1, 'east'), (1, 'breaks'), (1, 'already'), (1, 'Who'), (1, 'Juliet'), (1, 'It'), (1, 'But'), (1, 'Arise')]\n"
     ]
    }
   ],
   "source": [
    "# /////////////// sort the counting words of the file ////////////////\n",
    "\n",
    "x=input('enter list name')\n",
    "y=open(x)\n",
    "count=dict()\n",
    "\n",
    "for line in y:\n",
    "    words = line.split()\n",
    "    for word in words:\n",
    "        count[word]= count.get(word,0)+1\n",
    "print(count)      \n",
    "\n",
    "print( sorted( [ (v,k) for k,v in count.items() ], reverse=True ))"
   ]
  },
  {
   "cell_type": "raw",
   "metadata": {},
   "source": []
  },
  {
   "cell_type": "code",
   "execution_count": 127,
   "metadata": {},
   "outputs": [
    {
     "name": "stdout",
     "output_type": "stream",
     "text": [
      "Wed\n"
     ]
    }
   ],
   "source": [
    "days = ('Mon', 'Tue', 'Wed', 'Thu', 'Fri', 'Sat', 'Sun')\n",
    "print(days[2])"
   ]
  },
  {
   "cell_type": "code",
   "execution_count": 17,
   "metadata": {},
   "outputs": [
    {
     "name": "stdout",
     "output_type": "stream",
     "text": [
      "word.txt dawword.txt\n",
      "09:14:16\n",
      "18:10:48\n",
      "16:10:39\n",
      "15:46:24\n",
      "15:03:18\n",
      "14:50:18\n",
      "11:37:30\n",
      "11:35:08\n",
      "11:12:37\n",
      "11:11:52\n",
      "11:11:03\n",
      "11:10:22\n",
      "10:38:42\n",
      "10:17:43\n",
      "10:04:14\n",
      "09:05:31\n",
      "07:02:32\n",
      "06:08:27\n",
      "04:49:08\n",
      "04:33:44\n",
      "04:07:34\n",
      "19:51:21\n",
      "17:18:23\n",
      "17:07:00\n",
      "16:34:40\n",
      "16:29:07\n",
      "16:23:48\n",
      "{'09': 2, '18': 1, '16': 4, '15': 2, '14': 1, '11': 6, '10': 3, '07': 1, '06': 1, '04': 3, '19': 1, '17': 2}\n",
      "[('09', 2), ('18', 1), ('16', 4), ('15', 2), ('14', 1), ('11', 6), ('10', 3), ('07', 1), ('06', 1), ('04', 3), ('19', 1), ('17', 2)]\n",
      "04 3\n",
      "06 1\n",
      "07 1\n",
      "09 2\n",
      "10 3\n",
      "11 6\n",
      "14 1\n",
      "15 2\n",
      "16 4\n",
      "17 2\n",
      "18 1\n",
      "19 1\n"
     ]
    }
   ],
   "source": [
    "# ////////////////////// ********************** ////////////////////////////\n",
    "# /////////////////////      assignment        ////////////////////////////\n",
    "# //////////////////// ********************** ////////////////////////////\n",
    "\n",
    "x=input('word.txt daw')\n",
    "y=open(x)\n",
    "count = dict()\n",
    "\n",
    "for i in y:\n",
    "    i = i.rstrip()\n",
    "    if not i.startswith('From'):\n",
    "        continue\n",
    "    if i.startswith('From:'):\n",
    "        continue\n",
    "    else:\n",
    "        z = i.split()\n",
    "        z = z[5]\n",
    "        print(z)\n",
    "        z = z[0:2]\n",
    "        count[z] = count.get(z,0) + 1\n",
    "        \n",
    "print(count)\n",
    "\n",
    "lst2=list()\n",
    "for k,v in count.items():\n",
    "    newtup = (k,v)\n",
    "    lst2.append(newtup)\n",
    "print(lst2)\n",
    "\n",
    "\n",
    "lst2.sort()\n",
    "\n",
    "for k,v in lst2:\n",
    "    print(k,v)\n"
   ]
  },
  {
   "cell_type": "code",
   "execution_count": 3,
   "metadata": {},
   "outputs": [
    {
     "name": "stdout",
     "output_type": "stream",
     "text": [
      "[4, 6, 8]\n"
     ]
    }
   ],
   "source": []
  },
  {
   "cell_type": "code",
   "execution_count": 13,
   "metadata": {},
   "outputs": [
    {
     "name": "stdout",
     "output_type": "stream",
     "text": [
      "[(3, 1), (4, 2), (5, 3)]\n",
      "[4, 6, 8]\n"
     ]
    }
   ],
   "source": []
  },
  {
   "cell_type": "code",
   "execution_count": null,
   "metadata": {},
   "outputs": [],
   "source": []
  }
 ],
 "metadata": {
  "kernelspec": {
   "display_name": "Python 3",
   "language": "python",
   "name": "python3"
  },
  "language_info": {
   "codemirror_mode": {
    "name": "ipython",
    "version": 3
   },
   "file_extension": ".py",
   "mimetype": "text/x-python",
   "name": "python",
   "nbconvert_exporter": "python",
   "pygments_lexer": "ipython3",
   "version": "3.7.6"
  }
 },
 "nbformat": 4,
 "nbformat_minor": 4
}
